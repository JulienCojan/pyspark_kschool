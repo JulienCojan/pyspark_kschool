{
 "cells": [
  {
   "cell_type": "markdown",
   "metadata": {},
   "source": [
    "## SQL vs Spark\n",
    "\n",
    "Examples borrowed from:\n",
    "    * https://github.com/sbartek/intro-to-pyspark\n",
    "    * https://github.com/carloapp2/SparkPOT.git\n",
    "    \n",
    "See doc on: http://spark.apache.org/docs/latest/api/python/pyspark.sql.html#\n",
    "\n",
    "Data comes from \n",
    "<https://www.kaggle.com/c/competitive-data-science-predict-future-sales/data>"
   ]
  },
  {
   "cell_type": "code",
   "execution_count": 2,
   "metadata": {},
   "outputs": [
    {
     "data": {
      "text/html": [
       "\n",
       "            <div>\n",
       "                <p><b>SparkSession - hive</b></p>\n",
       "                \n",
       "        <div>\n",
       "            <p><b>SparkContext</b></p>\n",
       "\n",
       "            <p><a href=\"http://10.46.251.64:47883\">Spark UI</a></p>\n",
       "\n",
       "            <dl>\n",
       "              <dt>Version</dt>\n",
       "                <dd><code>v2.4.5</code></dd>\n",
       "              <dt>Master</dt>\n",
       "                <dd><code>spark://10.46.251.64:7077</code></dd>\n",
       "              <dt>AppName</dt>\n",
       "                <dd><code>Databricks Shell</code></dd>\n",
       "            </dl>\n",
       "        </div>\n",
       "        \n",
       "            </div>\n",
       "        "
      ]
     },
     "metadata": {},
     "output_type": "display_data"
    }
   ],
   "source": [
    "## Check if spark session is defined\n",
    "## Otherwise create one with\n",
    "#from pyspark.sql import SparkSession\n",
    "# spark = SparkSession.builder.appName(\"PySparkShell\").getOrCreate()\n",
    "spark"
   ]
  },
  {
   "cell_type": "code",
   "execution_count": 3,
   "metadata": {},
   "outputs": [],
   "source": [
    "!wget https://raw.githubusercontent.com/JulienCojan/pyspark_kschool/master/data/competitive-data-science-predict-future-sales/sales_train.csv.gz -P data/competitive-data-science-predict-future-sales/"
   ]
  },
  {
   "cell_type": "markdown",
   "metadata": {},
   "source": [
    "# Dataframe"
   ]
  },
  {
   "cell_type": "code",
   "execution_count": 5,
   "metadata": {},
   "outputs": [
    {
     "data": {
      "text/html": [
       "<style scoped>\n",
       "  .ansiout {\n",
       "    display: block;\n",
       "    unicode-bidi: embed;\n",
       "    white-space: pre-wrap;\n",
       "    word-wrap: break-word;\n",
       "    word-break: break-all;\n",
       "    font-family: \"Source Code Pro\", \"Menlo\", monospace;;\n",
       "    font-size: 13px;\n",
       "    color: #555;\n",
       "    margin-left: 4px;\n",
       "    line-height: 19px;\n",
       "  }\n",
       "</style>\n",
       "<div class=\"ansiout\">Out[15]: [(&#39;MAD&#39;, &#39;Madrid&#39;, &#39;ES&#39;, 40.4165, -3.70256),\n",
       " (&#39;BCN&#39;, &#39;Barcelona&#39;, &#39;ES&#39;, 41.297078, 2.078464),\n",
       " (&#39;PAR&#39;, &#39;Paris&#39;, &#39;FR&#39;, 48.85341, 2.3488),\n",
       " (&#39;ROM&#39;, &#39;Rome&#39;, &#39;IT&#39;, 41.89193, 12.51133)]</div>"
      ]
     },
     "metadata": {},
     "output_type": "display_data"
    }
   ],
   "source": [
    "cities_rdd = sc.parallelize([\n",
    "    (\"MAD\", \"Madrid\", \"ES\", 40.4165, -3.70256),\n",
    "    (\"BCN\", \"Barcelona\", \"ES\", 41.297078, 2.078464),\n",
    "    (\"PAR\", \"Paris\", \"FR\", 48.85341, 2.3488),\n",
    "    (\"ROM\", \"Rome\", \"IT\", 41.89193, 12.51133)])\n",
    "cities_rdd.collect()"
   ]
  },
  {
   "cell_type": "code",
   "execution_count": 6,
   "metadata": {},
   "outputs": [
    {
     "data": {
      "text/html": [
       "<style scoped>\n",
       "  .ansiout {\n",
       "    display: block;\n",
       "    unicode-bidi: embed;\n",
       "    white-space: pre-wrap;\n",
       "    word-wrap: break-word;\n",
       "    word-break: break-all;\n",
       "    font-family: \"Source Code Pro\", \"Menlo\", monospace;;\n",
       "    font-size: 13px;\n",
       "    color: #555;\n",
       "    margin-left: 4px;\n",
       "    line-height: 19px;\n",
       "  }\n",
       "</style>\n",
       "<div class=\"ansiout\">Out[16]: DataFrame[city_code: string, city_name: string, country_code: string, latitude: double, longitude: double]</div>"
      ]
     },
     "metadata": {},
     "output_type": "display_data"
    }
   ],
   "source": [
    "cities_df = cities_rdd.toDF([\"city_code\",\"city_name\",\"country_code\",\"latitude\",\"longitude\"])\n",
    "cities_df"
   ]
  },
  {
   "cell_type": "code",
   "execution_count": 7,
   "metadata": {},
   "outputs": [
    {
     "data": {
      "text/html": [
       "<style scoped>\n",
       "  .ansiout {\n",
       "    display: block;\n",
       "    unicode-bidi: embed;\n",
       "    white-space: pre-wrap;\n",
       "    word-wrap: break-word;\n",
       "    word-break: break-all;\n",
       "    font-family: \"Source Code Pro\", \"Menlo\", monospace;;\n",
       "    font-size: 13px;\n",
       "    color: #555;\n",
       "    margin-left: 4px;\n",
       "    line-height: 19px;\n",
       "  }\n",
       "</style>\n",
       "<div class=\"ansiout\">+---------+---------+------------+---------+---------+\n",
       "city_code|city_name|country_code| latitude|longitude|\n",
       "+---------+---------+------------+---------+---------+\n",
       "      MAD|   Madrid|          ES|  40.4165| -3.70256|\n",
       "      BCN|Barcelona|          ES|41.297078| 2.078464|\n",
       "      PAR|    Paris|          FR| 48.85341|   2.3488|\n",
       "      ROM|     Rome|          IT| 41.89193| 12.51133|\n",
       "+---------+---------+------------+---------+---------+\n",
       "\n",
       "</div>"
      ]
     },
     "metadata": {},
     "output_type": "display_data"
    }
   ],
   "source": [
    "cities_df.show()"
   ]
  },
  {
   "cell_type": "code",
   "execution_count": 3,
   "metadata": {},
   "outputs": [],
   "source": [
    "import pyspark.sql.functions as F"
   ]
  },
  {
   "cell_type": "code",
   "execution_count": 9,
   "metadata": {},
   "outputs": [
    {
     "data": {
      "text/html": [
       "<style scoped>\n",
       "  .ansiout {\n",
       "    display: block;\n",
       "    unicode-bidi: embed;\n",
       "    white-space: pre-wrap;\n",
       "    word-wrap: break-word;\n",
       "    word-break: break-all;\n",
       "    font-family: \"Source Code Pro\", \"Menlo\", monospace;;\n",
       "    font-size: 13px;\n",
       "    color: #555;\n",
       "    margin-left: 4px;\n",
       "    line-height: 19px;\n",
       "  }\n",
       "</style>\n",
       "<div class=\"ansiout\">+---------+---------+---------+\n",
       "city_code|city_name| latitude|\n",
       "+---------+---------+---------+\n",
       "      MAD|   Madrid|  40.4165|\n",
       "      BCN|Barcelona|41.297078|\n",
       "      PAR|    Paris| 48.85341|\n",
       "      ROM|     Rome| 41.89193|\n",
       "+---------+---------+---------+\n",
       "\n",
       "</div>"
      ]
     },
     "metadata": {},
     "output_type": "display_data"
    }
   ],
   "source": [
    "cities_df.select(cities_df.city_code,F.col('city_name'),'latitude').show()"
   ]
  },
  {
   "cell_type": "code",
   "execution_count": 10,
   "metadata": {},
   "outputs": [
    {
     "data": {
      "text/html": [
       "<style scoped>\n",
       "  .ansiout {\n",
       "    display: block;\n",
       "    unicode-bidi: embed;\n",
       "    white-space: pre-wrap;\n",
       "    word-wrap: break-word;\n",
       "    word-break: break-all;\n",
       "    font-family: \"Source Code Pro\", \"Menlo\", monospace;;\n",
       "    font-size: 13px;\n",
       "    color: #555;\n",
       "    margin-left: 4px;\n",
       "    line-height: 19px;\n",
       "  }\n",
       "</style>\n",
       "<div class=\"ansiout\">Out[21]: DataFrame[lower(city_code): string, city_name: string]</div>"
      ]
     },
     "metadata": {},
     "output_type": "display_data"
    }
   ],
   "source": [
    "cities_df.select(F.lower(cities_df.city_code),F.col('city_name'))"
   ]
  },
  {
   "cell_type": "code",
   "execution_count": 11,
   "metadata": {
    "scrolled": true
   },
   "outputs": [],
   "source": [
    "cities_df.select(F.lower(cities_df.city_code),F.col('city_name')).toPandas()"
   ]
  },
  {
   "cell_type": "code",
   "execution_count": 1,
   "metadata": {},
   "outputs": [],
   "source": [
    "sales_path=\"data/competitive-data-science-predict-future-sales/sales_train.csv.gz\"\n",
    "#sales_path=\"/FileStore/tables/sales_train_csv.gz\""
   ]
  },
  {
   "cell_type": "code",
   "execution_count": 2,
   "metadata": {},
   "outputs": [],
   "source": [
    "sales_sdf = spark\\\n",
    "    .read\\\n",
    "    .option(\"header\", \"true\")\\\n",
    "    .option(\"sep\", \",\")\\\n",
    "    .csv(sales_path)"
   ]
  },
  {
   "cell_type": "code",
   "execution_count": 14,
   "metadata": {},
   "outputs": [
    {
     "data": {
      "text/html": [
       "<style scoped>\n",
       "  .ansiout {\n",
       "    display: block;\n",
       "    unicode-bidi: embed;\n",
       "    white-space: pre-wrap;\n",
       "    word-wrap: break-word;\n",
       "    word-break: break-all;\n",
       "    font-family: \"Source Code Pro\", \"Menlo\", monospace;;\n",
       "    font-size: 13px;\n",
       "    color: #555;\n",
       "    margin-left: 4px;\n",
       "    line-height: 19px;\n",
       "  }\n",
       "</style>\n",
       "<div class=\"ansiout\">root\n",
       "-- date: string (nullable = true)\n",
       "-- date_block_num: string (nullable = true)\n",
       "-- shop_id: string (nullable = true)\n",
       "-- item_id: string (nullable = true)\n",
       "-- item_price: string (nullable = true)\n",
       "-- item_cnt_day: string (nullable = true)\n",
       "\n",
       "</div>"
      ]
     },
     "metadata": {},
     "output_type": "display_data"
    }
   ],
   "source": [
    "sales_sdf.printSchema()"
   ]
  },
  {
   "cell_type": "code",
   "execution_count": 15,
   "metadata": {
    "scrolled": true
   },
   "outputs": [
    {
     "data": {
      "text/html": [
       "<style scoped>\n",
       "  .ansiout {\n",
       "    display: block;\n",
       "    unicode-bidi: embed;\n",
       "    white-space: pre-wrap;\n",
       "    word-wrap: break-word;\n",
       "    word-break: break-all;\n",
       "    font-family: \"Source Code Pro\", \"Menlo\", monospace;;\n",
       "    font-size: 13px;\n",
       "    color: #555;\n",
       "    margin-left: 4px;\n",
       "    line-height: 19px;\n",
       "  }\n",
       "</style>\n",
       "<div class=\"ansiout\">+----------+--------------+-------+-------+----------+------------+\n",
       "date      |date_block_num|shop_id|item_id|item_price|item_cnt_day|\n",
       "+----------+--------------+-------+-------+----------+------------+\n",
       "02.01.2013|0             |59     |22154  |999.0     |1.0         |\n",
       "03.01.2013|0             |25     |2552   |899.0     |1.0         |\n",
       "05.01.2013|0             |25     |2552   |899.0     |-1.0        |\n",
       "06.01.2013|0             |25     |2554   |1709.05   |1.0         |\n",
       "15.01.2013|0             |25     |2555   |1099.0    |1.0         |\n",
       "10.01.2013|0             |25     |2564   |349.0     |1.0         |\n",
       "02.01.2013|0             |25     |2565   |549.0     |1.0         |\n",
       "04.01.2013|0             |25     |2572   |239.0     |1.0         |\n",
       "11.01.2013|0             |25     |2572   |299.0     |1.0         |\n",
       "03.01.2013|0             |25     |2573   |299.0     |3.0         |\n",
       "03.01.2013|0             |25     |2574   |399.0     |2.0         |\n",
       "05.01.2013|0             |25     |2574   |399.0     |1.0         |\n",
       "07.01.2013|0             |25     |2574   |399.0     |1.0         |\n",
       "08.01.2013|0             |25     |2574   |399.0     |2.0         |\n",
       "10.01.2013|0             |25     |2574   |399.0     |1.0         |\n",
       "11.01.2013|0             |25     |2574   |399.0     |2.0         |\n",
       "13.01.2013|0             |25     |2574   |399.0     |1.0         |\n",
       "16.01.2013|0             |25     |2574   |399.0     |1.0         |\n",
       "26.01.2013|0             |25     |2574   |399.0     |1.0         |\n",
       "27.01.2013|0             |25     |2574   |399.0     |1.0         |\n",
       "09.01.2013|0             |25     |2593   |279.0     |1.0         |\n",
       "16.01.2013|0             |25     |2604   |299.0     |1.0         |\n",
       "27.01.2013|0             |25     |2604   |299.0     |1.0         |\n",
       "27.01.2013|0             |25     |2607   |279.0     |1.0         |\n",
       "29.01.2013|0             |25     |2607   |279.0     |1.0         |\n",
       "27.01.2013|0             |25     |2609   |1699.0    |1.0         |\n",
       "06.01.2013|0             |25     |2548   |1708.95   |1.0         |\n",
       "26.01.2013|0             |25     |2611   |299.0     |1.0         |\n",
       "02.01.2013|0             |25     |2546   |299.0     |1.0         |\n",
       "06.01.2013|0             |25     |2515   |1649.0    |1.0         |\n",
       "+----------+--------------+-------+-------+----------+------------+\n",
       "only showing top 30 rows\n",
       "\n",
       "</div>"
      ]
     },
     "metadata": {},
     "output_type": "display_data"
    }
   ],
   "source": [
    "sales_sdf.show(30,truncate=False)"
   ]
  },
  {
   "cell_type": "code",
   "execution_count": 16,
   "metadata": {},
   "outputs": [
    {
     "data": {
      "text/html": [
       "<style scoped>\n",
       "  .ansiout {\n",
       "    display: block;\n",
       "    unicode-bidi: embed;\n",
       "    white-space: pre-wrap;\n",
       "    word-wrap: break-word;\n",
       "    word-break: break-all;\n",
       "    font-family: \"Source Code Pro\", \"Menlo\", monospace;;\n",
       "    font-size: 13px;\n",
       "    color: #555;\n",
       "    margin-left: 4px;\n",
       "    line-height: 19px;\n",
       "  }\n",
       "</style>\n",
       "<div class=\"ansiout\">Out[41]: 2935849</div>"
      ]
     },
     "metadata": {},
     "output_type": "display_data"
    }
   ],
   "source": [
    "sales_sdf.count()"
   ]
  },
  {
   "cell_type": "code",
   "execution_count": 17,
   "metadata": {},
   "outputs": [
    {
     "data": {
      "text/html": [
       "<style scoped>\n",
       "  .ansiout {\n",
       "    display: block;\n",
       "    unicode-bidi: embed;\n",
       "    white-space: pre-wrap;\n",
       "    word-wrap: break-word;\n",
       "    word-break: break-all;\n",
       "    font-family: \"Source Code Pro\", \"Menlo\", monospace;;\n",
       "    font-size: 13px;\n",
       "    color: #555;\n",
       "    margin-left: 4px;\n",
       "    line-height: 19px;\n",
       "  }\n",
       "</style>\n",
       "<div class=\"ansiout\"></div>"
      ]
     },
     "metadata": {},
     "output_type": "display_data"
    }
   ],
   "source": [
    "v = sales_sdf.select(sales_sdf.date,sales_sdf.item_price).limit(20).collect()"
   ]
  },
  {
   "cell_type": "code",
   "execution_count": 18,
   "metadata": {},
   "outputs": [
    {
     "data": {
      "text/html": [
       "<style scoped>\n",
       "  .ansiout {\n",
       "    display: block;\n",
       "    unicode-bidi: embed;\n",
       "    white-space: pre-wrap;\n",
       "    word-wrap: break-word;\n",
       "    word-break: break-all;\n",
       "    font-family: \"Source Code Pro\", \"Menlo\", monospace;;\n",
       "    font-size: 13px;\n",
       "    color: #555;\n",
       "    margin-left: 4px;\n",
       "    line-height: 19px;\n",
       "  }\n",
       "</style>\n",
       "<div class=\"ansiout\">Out[37]: [Row(date=&#39;02.01.2013&#39;, item_price=&#39;999.0&#39;),\n",
       " Row(date=&#39;03.01.2013&#39;, item_price=&#39;899.0&#39;),\n",
       " Row(date=&#39;05.01.2013&#39;, item_price=&#39;899.0&#39;),\n",
       " Row(date=&#39;06.01.2013&#39;, item_price=&#39;1709.05&#39;),\n",
       " Row(date=&#39;15.01.2013&#39;, item_price=&#39;1099.0&#39;),\n",
       " Row(date=&#39;10.01.2013&#39;, item_price=&#39;349.0&#39;),\n",
       " Row(date=&#39;02.01.2013&#39;, item_price=&#39;549.0&#39;),\n",
       " Row(date=&#39;04.01.2013&#39;, item_price=&#39;239.0&#39;),\n",
       " Row(date=&#39;11.01.2013&#39;, item_price=&#39;299.0&#39;),\n",
       " Row(date=&#39;03.01.2013&#39;, item_price=&#39;299.0&#39;),\n",
       " Row(date=&#39;03.01.2013&#39;, item_price=&#39;399.0&#39;),\n",
       " Row(date=&#39;05.01.2013&#39;, item_price=&#39;399.0&#39;),\n",
       " Row(date=&#39;07.01.2013&#39;, item_price=&#39;399.0&#39;),\n",
       " Row(date=&#39;08.01.2013&#39;, item_price=&#39;399.0&#39;),\n",
       " Row(date=&#39;10.01.2013&#39;, item_price=&#39;399.0&#39;),\n",
       " Row(date=&#39;11.01.2013&#39;, item_price=&#39;399.0&#39;),\n",
       " Row(date=&#39;13.01.2013&#39;, item_price=&#39;399.0&#39;),\n",
       " Row(date=&#39;16.01.2013&#39;, item_price=&#39;399.0&#39;),\n",
       " Row(date=&#39;26.01.2013&#39;, item_price=&#39;399.0&#39;),\n",
       " Row(date=&#39;27.01.2013&#39;, item_price=&#39;399.0&#39;)]</div>"
      ]
     },
     "metadata": {},
     "output_type": "display_data"
    }
   ],
   "source": [
    "v"
   ]
  },
  {
   "cell_type": "code",
   "execution_count": 19,
   "metadata": {
    "scrolled": true
   },
   "outputs": [
    {
     "data": {
      "text/html": [
       "<div>\n",
       "<style scoped>\n",
       "    .dataframe tbody tr th:only-of-type {\n",
       "        vertical-align: middle;\n",
       "    }\n",
       "\n",
       "    .dataframe tbody tr th {\n",
       "        vertical-align: top;\n",
       "    }\n",
       "\n",
       "    .dataframe thead th {\n",
       "        text-align: right;\n",
       "    }\n",
       "</style>\n",
       "<table border=\"1\" class=\"dataframe\">\n",
       "  <thead>\n",
       "    <tr style=\"text-align: right;\">\n",
       "      <th></th>\n",
       "      <th>date</th>\n",
       "      <th>item_price</th>\n",
       "    </tr>\n",
       "  </thead>\n",
       "  <tbody>\n",
       "    <tr>\n",
       "      <th>0</th>\n",
       "      <td>02.01.2013</td>\n",
       "      <td>999.0</td>\n",
       "    </tr>\n",
       "    <tr>\n",
       "      <th>1</th>\n",
       "      <td>03.01.2013</td>\n",
       "      <td>899.0</td>\n",
       "    </tr>\n",
       "    <tr>\n",
       "      <th>2</th>\n",
       "      <td>05.01.2013</td>\n",
       "      <td>899.0</td>\n",
       "    </tr>\n",
       "    <tr>\n",
       "      <th>3</th>\n",
       "      <td>06.01.2013</td>\n",
       "      <td>1709.05</td>\n",
       "    </tr>\n",
       "    <tr>\n",
       "      <th>4</th>\n",
       "      <td>15.01.2013</td>\n",
       "      <td>1099.0</td>\n",
       "    </tr>\n",
       "    <tr>\n",
       "      <th>5</th>\n",
       "      <td>10.01.2013</td>\n",
       "      <td>349.0</td>\n",
       "    </tr>\n",
       "    <tr>\n",
       "      <th>6</th>\n",
       "      <td>02.01.2013</td>\n",
       "      <td>549.0</td>\n",
       "    </tr>\n",
       "    <tr>\n",
       "      <th>7</th>\n",
       "      <td>04.01.2013</td>\n",
       "      <td>239.0</td>\n",
       "    </tr>\n",
       "    <tr>\n",
       "      <th>8</th>\n",
       "      <td>11.01.2013</td>\n",
       "      <td>299.0</td>\n",
       "    </tr>\n",
       "    <tr>\n",
       "      <th>9</th>\n",
       "      <td>03.01.2013</td>\n",
       "      <td>299.0</td>\n",
       "    </tr>\n",
       "    <tr>\n",
       "      <th>10</th>\n",
       "      <td>03.01.2013</td>\n",
       "      <td>399.0</td>\n",
       "    </tr>\n",
       "    <tr>\n",
       "      <th>11</th>\n",
       "      <td>05.01.2013</td>\n",
       "      <td>399.0</td>\n",
       "    </tr>\n",
       "    <tr>\n",
       "      <th>12</th>\n",
       "      <td>07.01.2013</td>\n",
       "      <td>399.0</td>\n",
       "    </tr>\n",
       "    <tr>\n",
       "      <th>13</th>\n",
       "      <td>08.01.2013</td>\n",
       "      <td>399.0</td>\n",
       "    </tr>\n",
       "    <tr>\n",
       "      <th>14</th>\n",
       "      <td>10.01.2013</td>\n",
       "      <td>399.0</td>\n",
       "    </tr>\n",
       "    <tr>\n",
       "      <th>15</th>\n",
       "      <td>11.01.2013</td>\n",
       "      <td>399.0</td>\n",
       "    </tr>\n",
       "    <tr>\n",
       "      <th>16</th>\n",
       "      <td>13.01.2013</td>\n",
       "      <td>399.0</td>\n",
       "    </tr>\n",
       "    <tr>\n",
       "      <th>17</th>\n",
       "      <td>16.01.2013</td>\n",
       "      <td>399.0</td>\n",
       "    </tr>\n",
       "    <tr>\n",
       "      <th>18</th>\n",
       "      <td>26.01.2013</td>\n",
       "      <td>399.0</td>\n",
       "    </tr>\n",
       "    <tr>\n",
       "      <th>19</th>\n",
       "      <td>27.01.2013</td>\n",
       "      <td>399.0</td>\n",
       "    </tr>\n",
       "  </tbody>\n",
       "</table>\n",
       "</div>"
      ]
     },
     "metadata": {},
     "output_type": "display_data"
    }
   ],
   "source": [
    "pdf = sales_sdf.select(sales_sdf.date,sales_sdf.item_price).limit(20).toPandas()\n",
    "pdf"
   ]
  },
  {
   "cell_type": "code",
   "execution_count": 20,
   "metadata": {},
   "outputs": [
    {
     "data": {
      "text/html": [
       "<style scoped>\n",
       "  .ansiout {\n",
       "    display: block;\n",
       "    unicode-bidi: embed;\n",
       "    white-space: pre-wrap;\n",
       "    word-wrap: break-word;\n",
       "    word-break: break-all;\n",
       "    font-family: \"Source Code Pro\", \"Menlo\", monospace;;\n",
       "    font-size: 13px;\n",
       "    color: #555;\n",
       "    margin-left: 4px;\n",
       "    line-height: 19px;\n",
       "  }\n",
       "</style>\n",
       "<div class=\"ansiout\">Out[40]: pandas.core.frame.DataFrame</div>"
      ]
     },
     "metadata": {},
     "output_type": "display_data"
    }
   ],
   "source": [
    "type(pdf)"
   ]
  },
  {
   "cell_type": "code",
   "execution_count": 21,
   "metadata": {
    "scrolled": false
   },
   "outputs": [
    {
     "data": {
      "text/html": [
       "<style scoped>\n",
       "  .ansiout {\n",
       "    display: block;\n",
       "    unicode-bidi: embed;\n",
       "    white-space: pre-wrap;\n",
       "    word-wrap: break-word;\n",
       "    word-break: break-all;\n",
       "    font-family: \"Source Code Pro\", \"Menlo\", monospace;;\n",
       "    font-size: 13px;\n",
       "    color: #555;\n",
       "    margin-left: 4px;\n",
       "    line-height: 19px;\n",
       "  }\n",
       "</style>\n",
       "<div class=\"ansiout\">Out[39]: Row(shop_id=&#39;59&#39;, item_id=&#39;22154&#39;)</div>"
      ]
     },
     "metadata": {},
     "output_type": "display_data"
    }
   ],
   "source": [
    "sales_sdf[['shop_id','item_id']].head()"
   ]
  },
  {
   "cell_type": "code",
   "execution_count": 5,
   "metadata": {},
   "outputs": [],
   "source": [
    "sales_sdf.createOrReplaceTempView(\"sales\")"
   ]
  },
  {
   "cell_type": "code",
   "execution_count": 23,
   "metadata": {},
   "outputs": [
    {
     "data": {
      "text/html": [
       "<style scoped>\n",
       "  .ansiout {\n",
       "    display: block;\n",
       "    unicode-bidi: embed;\n",
       "    white-space: pre-wrap;\n",
       "    word-wrap: break-word;\n",
       "    word-break: break-all;\n",
       "    font-family: \"Source Code Pro\", \"Menlo\", monospace;;\n",
       "    font-size: 13px;\n",
       "    color: #555;\n",
       "    margin-left: 4px;\n",
       "    line-height: 19px;\n",
       "  }\n",
       "</style>\n",
       "<div class=\"ansiout\">Out[47]: DataFrame[date: string, date_block_num: string, shop_id: string, item_id: string, item_price: string, item_cnt_day: string]</div>"
      ]
     },
     "metadata": {},
     "output_type": "display_data"
    }
   ],
   "source": [
    "sales_10 = spark.sql(\n",
    "\"\"\"\n",
    "SELECT *\n",
    "FROM sales\n",
    "LIMIT 10\n",
    "\"\"\")\n",
    "sales_10"
   ]
  },
  {
   "cell_type": "code",
   "execution_count": 24,
   "metadata": {},
   "outputs": [
    {
     "data": {
      "text/html": [
       "<style scoped>\n",
       "  .ansiout {\n",
       "    display: block;\n",
       "    unicode-bidi: embed;\n",
       "    white-space: pre-wrap;\n",
       "    word-wrap: break-word;\n",
       "    word-break: break-all;\n",
       "    font-family: \"Source Code Pro\", \"Menlo\", monospace;;\n",
       "    font-size: 13px;\n",
       "    color: #555;\n",
       "    margin-left: 4px;\n",
       "    line-height: 19px;\n",
       "  }\n",
       "</style>\n",
       "<div class=\"ansiout\">+----------+--------------+-------+-------+----------+------------+\n",
       "      date|date_block_num|shop_id|item_id|item_price|item_cnt_day|\n",
       "+----------+--------------+-------+-------+----------+------------+\n",
       "02.01.2013|             0|     59|  22154|     999.0|         1.0|\n",
       "03.01.2013|             0|     25|   2552|     899.0|         1.0|\n",
       "05.01.2013|             0|     25|   2552|     899.0|        -1.0|\n",
       "06.01.2013|             0|     25|   2554|   1709.05|         1.0|\n",
       "15.01.2013|             0|     25|   2555|    1099.0|         1.0|\n",
       "10.01.2013|             0|     25|   2564|     349.0|         1.0|\n",
       "02.01.2013|             0|     25|   2565|     549.0|         1.0|\n",
       "04.01.2013|             0|     25|   2572|     239.0|         1.0|\n",
       "11.01.2013|             0|     25|   2572|     299.0|         1.0|\n",
       "03.01.2013|             0|     25|   2573|     299.0|         3.0|\n",
       "+----------+--------------+-------+-------+----------+------------+\n",
       "\n",
       "</div>"
      ]
     },
     "metadata": {},
     "output_type": "display_data"
    }
   ],
   "source": [
    "sales_10.show()"
   ]
  },
  {
   "cell_type": "code",
   "execution_count": 25,
   "metadata": {},
   "outputs": [
    {
     "data": {
      "text/html": [
       "<style scoped>\n",
       "  .ansiout {\n",
       "    display: block;\n",
       "    unicode-bidi: embed;\n",
       "    white-space: pre-wrap;\n",
       "    word-wrap: break-word;\n",
       "    word-break: break-all;\n",
       "    font-family: \"Source Code Pro\", \"Menlo\", monospace;;\n",
       "    font-size: 13px;\n",
       "    color: #555;\n",
       "    margin-left: 4px;\n",
       "    line-height: 19px;\n",
       "  }\n",
       "</style>\n",
       "<div class=\"ansiout\">+----------+\n",
       "year(date)|\n",
       "+----------+\n",
       "      null|\n",
       "      null|\n",
       "      null|\n",
       "      null|\n",
       "      null|\n",
       "      null|\n",
       "      null|\n",
       "      null|\n",
       "      null|\n",
       "      null|\n",
       "      null|\n",
       "      null|\n",
       "      null|\n",
       "      null|\n",
       "      null|\n",
       "      null|\n",
       "      null|\n",
       "      null|\n",
       "      null|\n",
       "      null|\n",
       "+----------+\n",
       "only showing top 20 rows\n",
       "\n",
       "</div>"
      ]
     },
     "metadata": {},
     "output_type": "display_data"
    }
   ],
   "source": [
    "sales_sdf.select(F.year(F.col('date'))).show()"
   ]
  },
  {
   "cell_type": "code",
   "execution_count": 8,
   "metadata": {},
   "outputs": [],
   "source": [
    "from pyspark.sql.types import DateType"
   ]
  },
  {
   "cell_type": "code",
   "execution_count": 9,
   "metadata": {},
   "outputs": [
    {
     "name": "stdout",
     "output_type": "stream",
     "text": [
      "+-------------------+--------------+-------+-------+----------+------------+----------+\n",
      "|           date_str|date_block_num|shop_id|item_id|item_price|item_cnt_day|      date|\n",
      "+-------------------+--------------+-------+-------+----------+------------+----------+\n",
      "|2013-01-02 00:00:00|             0|     59|  22154|     999.0|         1.0|2013-01-02|\n",
      "|2013-01-03 00:00:00|             0|     25|   2552|     899.0|         1.0|2013-01-03|\n",
      "|2013-01-05 00:00:00|             0|     25|   2552|     899.0|        -1.0|2013-01-05|\n",
      "|2013-01-06 00:00:00|             0|     25|   2554|   1709.05|         1.0|2013-01-06|\n",
      "|2013-01-15 00:00:00|             0|     25|   2555|    1099.0|         1.0|2013-01-15|\n",
      "|2013-01-10 00:00:00|             0|     25|   2564|     349.0|         1.0|2013-01-10|\n",
      "|2013-01-02 00:00:00|             0|     25|   2565|     549.0|         1.0|2013-01-02|\n",
      "|2013-01-04 00:00:00|             0|     25|   2572|     239.0|         1.0|2013-01-04|\n",
      "|2013-01-11 00:00:00|             0|     25|   2572|     299.0|         1.0|2013-01-11|\n",
      "|2013-01-03 00:00:00|             0|     25|   2573|     299.0|         3.0|2013-01-03|\n",
      "|2013-01-03 00:00:00|             0|     25|   2574|     399.0|         2.0|2013-01-03|\n",
      "|2013-01-05 00:00:00|             0|     25|   2574|     399.0|         1.0|2013-01-05|\n",
      "|2013-01-07 00:00:00|             0|     25|   2574|     399.0|         1.0|2013-01-07|\n",
      "|2013-01-08 00:00:00|             0|     25|   2574|     399.0|         2.0|2013-01-08|\n",
      "|2013-01-10 00:00:00|             0|     25|   2574|     399.0|         1.0|2013-01-10|\n",
      "|2013-01-11 00:00:00|             0|     25|   2574|     399.0|         2.0|2013-01-11|\n",
      "|2013-01-13 00:00:00|             0|     25|   2574|     399.0|         1.0|2013-01-13|\n",
      "|2013-01-16 00:00:00|             0|     25|   2574|     399.0|         1.0|2013-01-16|\n",
      "|2013-01-26 00:00:00|             0|     25|   2574|     399.0|         1.0|2013-01-26|\n",
      "|2013-01-27 00:00:00|             0|     25|   2574|     399.0|         1.0|2013-01-27|\n",
      "+-------------------+--------------+-------+-------+----------+------------+----------+\n",
      "only showing top 20 rows\n",
      "\n"
     ]
    }
   ],
   "source": [
    "sales_sdf2 = sales_sdf\\\n",
    "    .withColumnRenamed('date', 'date_str')\\\n",
    "    .withColumn('date', (F.from_unixtime(F.unix_timestamp(F.col('date_str'), 'dd.MM.yyyy'))).cast(DateType()))\\\n",
    "    .withColumn('date_str', F.from_unixtime(F.unix_timestamp(F.col('date_str'), 'dd.MM.yyyy')))\n",
    "sales_sdf2.show()"
   ]
  },
  {
   "cell_type": "code",
   "execution_count": 28,
   "metadata": {},
   "outputs": [
    {
     "data": {
      "text/html": [
       "<style scoped>\n",
       "  .ansiout {\n",
       "    display: block;\n",
       "    unicode-bidi: embed;\n",
       "    white-space: pre-wrap;\n",
       "    word-wrap: break-word;\n",
       "    word-break: break-all;\n",
       "    font-family: \"Source Code Pro\", \"Menlo\", monospace;;\n",
       "    font-size: 13px;\n",
       "    color: #555;\n",
       "    margin-left: 4px;\n",
       "    line-height: 19px;\n",
       "  }\n",
       "</style>\n",
       "<div class=\"ansiout\">root\n",
       "-- date_str: string (nullable = true)\n",
       "-- date_block_num: string (nullable = true)\n",
       "-- shop_id: string (nullable = true)\n",
       "-- item_id: string (nullable = true)\n",
       "-- item_price: string (nullable = true)\n",
       "-- item_cnt_day: string (nullable = true)\n",
       "-- date: date (nullable = true)\n",
       "\n",
       "</div>"
      ]
     },
     "metadata": {},
     "output_type": "display_data"
    }
   ],
   "source": [
    "sales_sdf2.printSchema()"
   ]
  },
  {
   "cell_type": "code",
   "execution_count": 29,
   "metadata": {},
   "outputs": [
    {
     "data": {
      "text/html": [
       "<style scoped>\n",
       "  .ansiout {\n",
       "    display: block;\n",
       "    unicode-bidi: embed;\n",
       "    white-space: pre-wrap;\n",
       "    word-wrap: break-word;\n",
       "    word-break: break-all;\n",
       "    font-family: \"Source Code Pro\", \"Menlo\", monospace;;\n",
       "    font-size: 13px;\n",
       "    color: #555;\n",
       "    margin-left: 4px;\n",
       "    line-height: 19px;\n",
       "  }\n",
       "</style>\n",
       "<div class=\"ansiout\">+--------------+\n",
       "year(date_str)|\n",
       "+--------------+\n",
       "          2013|\n",
       "          2013|\n",
       "          2013|\n",
       "          2013|\n",
       "          2013|\n",
       "          2013|\n",
       "          2013|\n",
       "          2013|\n",
       "          2013|\n",
       "          2013|\n",
       "          2013|\n",
       "          2013|\n",
       "          2013|\n",
       "          2013|\n",
       "          2013|\n",
       "          2013|\n",
       "          2013|\n",
       "          2013|\n",
       "          2013|\n",
       "          2013|\n",
       "+--------------+\n",
       "only showing top 20 rows\n",
       "\n",
       "</div>"
      ]
     },
     "metadata": {},
     "output_type": "display_data"
    }
   ],
   "source": [
    "sales_sdf2.select(F.year(F.col('date_str'))).show()"
   ]
  },
  {
   "cell_type": "code",
   "execution_count": 10,
   "metadata": {},
   "outputs": [],
   "source": [
    "sales_sdf2.createOrReplaceTempView(\"sales2\")"
   ]
  },
  {
   "cell_type": "markdown",
   "metadata": {},
   "source": [
    "## SELECT ~ select"
   ]
  },
  {
   "cell_type": "code",
   "execution_count": 32,
   "metadata": {},
   "outputs": [],
   "source": [
    "spark.sql(\"\"\"\n",
    "SELECT shop_id, item_id\n",
    "FROM sales\n",
    "\"\"\").show()"
   ]
  },
  {
   "cell_type": "code",
   "execution_count": 33,
   "metadata": {},
   "outputs": [],
   "source": [
    "sales_sdf\\\n",
    "   .select(\"shop_id\", \"item_id\")\\\n",
    "   .head()"
   ]
  },
  {
   "cell_type": "code",
   "execution_count": 34,
   "metadata": {},
   "outputs": [],
   "source": [
    "spark.sql(\"\"\"\n",
    "SELECT DISTINCT shop_id\n",
    "FROM sales\n",
    "\"\"\").show()"
   ]
  },
  {
   "cell_type": "code",
   "execution_count": 35,
   "metadata": {},
   "outputs": [
    {
     "data": {
      "text/html": [
       "<style scoped>\n",
       "  .ansiout {\n",
       "    display: block;\n",
       "    unicode-bidi: embed;\n",
       "    white-space: pre-wrap;\n",
       "    word-wrap: break-word;\n",
       "    word-break: break-all;\n",
       "    font-family: \"Source Code Pro\", \"Menlo\", monospace;;\n",
       "    font-size: 13px;\n",
       "    color: #555;\n",
       "    margin-left: 4px;\n",
       "    line-height: 19px;\n",
       "  }\n",
       "</style>\n",
       "<div class=\"ansiout\">+-------+-------+\n",
       "shop_id|item_id|\n",
       "+-------+-------+\n",
       "     25|   2462|\n",
       "     25|   5274|\n",
       "     25|   4910|\n",
       "     25|   5592|\n",
       "     24|   5848|\n",
       "     23|  21336|\n",
       "     24|   3158|\n",
       "     25|  13903|\n",
       "     25|  16890|\n",
       "     25|  16644|\n",
       "     25|  16562|\n",
       "     25|  16457|\n",
       "     25|  15701|\n",
       "     25|   8034|\n",
       "     25|   8831|\n",
       "     25|   7276|\n",
       "     25|  11236|\n",
       "     25|  12133|\n",
       "     19|  15100|\n",
       "     19|  14939|\n",
       "+-------+-------+\n",
       "only showing top 20 rows\n",
       "\n",
       "</div>"
      ]
     },
     "metadata": {},
     "output_type": "display_data"
    }
   ],
   "source": [
    "spark.sql(\"\"\"\n",
    "SELECT DISTINCT shop_id, item_id\n",
    "FROM sales\n",
    "\"\"\").show()"
   ]
  },
  {
   "cell_type": "code",
   "execution_count": 36,
   "metadata": {},
   "outputs": [],
   "source": [
    "sales_sdf\\\n",
    "    .select(\"shop_id\",\"item_id\")\\\n",
    "    .distinct()\\\n",
    "    .show()"
   ]
  },
  {
   "cell_type": "markdown",
   "metadata": {},
   "source": [
    "__Exercise__ List distinct values for `date` and `date_block_num`."
   ]
  },
  {
   "cell_type": "code",
   "execution_count": 38,
   "metadata": {},
   "outputs": [],
   "source": [
    "sales_sdf\\\n",
    "    .select(\"date\",\"date_block_num\")\\\n",
    "    .distinct()\\\n",
    "    .show()"
   ]
  },
  {
   "cell_type": "markdown",
   "metadata": {},
   "source": [
    "## WHERE ~ filter"
   ]
  },
  {
   "cell_type": "code",
   "execution_count": 40,
   "metadata": {},
   "outputs": [],
   "source": [
    "spark.sql(\"\"\"\n",
    "SELECT *\n",
    "FROM sales\n",
    "WHERE shop_id = 25\n",
    "\"\"\").show(truncate=False)"
   ]
  },
  {
   "cell_type": "code",
   "execution_count": 41,
   "metadata": {},
   "outputs": [
    {
     "data": {
      "text/html": [
       "<style scoped>\n",
       "  .ansiout {\n",
       "    display: block;\n",
       "    unicode-bidi: embed;\n",
       "    white-space: pre-wrap;\n",
       "    word-wrap: break-word;\n",
       "    word-break: break-all;\n",
       "    font-family: \"Source Code Pro\", \"Menlo\", monospace;;\n",
       "    font-size: 13px;\n",
       "    color: #555;\n",
       "    margin-left: 4px;\n",
       "    line-height: 19px;\n",
       "  }\n",
       "</style>\n",
       "<div class=\"ansiout\">+----------+--------------+-------+-------+----------+------------+\n",
       "      date|date_block_num|shop_id|item_id|item_price|item_cnt_day|\n",
       "+----------+--------------+-------+-------+----------+------------+\n",
       "03.01.2013|             0|     25|   2552|     899.0|         1.0|\n",
       "05.01.2013|             0|     25|   2552|     899.0|        -1.0|\n",
       "06.01.2013|             0|     25|   2554|   1709.05|         1.0|\n",
       "15.01.2013|             0|     25|   2555|    1099.0|         1.0|\n",
       "10.01.2013|             0|     25|   2564|     349.0|         1.0|\n",
       "02.01.2013|             0|     25|   2565|     549.0|         1.0|\n",
       "04.01.2013|             0|     25|   2572|     239.0|         1.0|\n",
       "11.01.2013|             0|     25|   2572|     299.0|         1.0|\n",
       "03.01.2013|             0|     25|   2573|     299.0|         3.0|\n",
       "03.01.2013|             0|     25|   2574|     399.0|         2.0|\n",
       "05.01.2013|             0|     25|   2574|     399.0|         1.0|\n",
       "07.01.2013|             0|     25|   2574|     399.0|         1.0|\n",
       "08.01.2013|             0|     25|   2574|     399.0|         2.0|\n",
       "10.01.2013|             0|     25|   2574|     399.0|         1.0|\n",
       "11.01.2013|             0|     25|   2574|     399.0|         2.0|\n",
       "13.01.2013|             0|     25|   2574|     399.0|         1.0|\n",
       "16.01.2013|             0|     25|   2574|     399.0|         1.0|\n",
       "26.01.2013|             0|     25|   2574|     399.0|         1.0|\n",
       "27.01.2013|             0|     25|   2574|     399.0|         1.0|\n",
       "09.01.2013|             0|     25|   2593|     279.0|         1.0|\n",
       "+----------+--------------+-------+-------+----------+------------+\n",
       "only showing top 20 rows\n",
       "\n",
       "</div>"
      ]
     },
     "metadata": {},
     "output_type": "display_data"
    }
   ],
   "source": [
    "sales_sdf\\\n",
    "   .filter(F.col(\"shop_id\") == 25)\\\n",
    "   .show()"
   ]
  },
  {
   "cell_type": "markdown",
   "metadata": {},
   "source": [
    "__Exercise__ List different items from shop 25."
   ]
  },
  {
   "cell_type": "code",
   "execution_count": 43,
   "metadata": {
    "scrolled": true
   },
   "outputs": [],
   "source": [
    "spark.sql(\"\"\"\n",
    "SELECT DISTINCT item_id\n",
    "FROM sales\n",
    "WHERE shop_id = 25\n",
    "\"\"\").show(truncate=False)"
   ]
  },
  {
   "cell_type": "code",
   "execution_count": 44,
   "metadata": {},
   "outputs": [
    {
     "data": {
      "text/html": [
       "<style scoped>\n",
       "  .ansiout {\n",
       "    display: block;\n",
       "    unicode-bidi: embed;\n",
       "    white-space: pre-wrap;\n",
       "    word-wrap: break-word;\n",
       "    word-break: break-all;\n",
       "    font-family: \"Source Code Pro\", \"Menlo\", monospace;;\n",
       "    font-size: 13px;\n",
       "    color: #555;\n",
       "    margin-left: 4px;\n",
       "    line-height: 19px;\n",
       "  }\n",
       "</style>\n",
       "<div class=\"ansiout\">+----------+--------------+-------+-------+----------+------------+\n",
       "      date|date_block_num|shop_id|item_id|item_price|item_cnt_day|\n",
       "+----------+--------------+-------+-------+----------+------------+\n",
       "03.01.2013|             0|     25|   2552|     899.0|         1.0|\n",
       "05.01.2013|             0|     25|   2552|     899.0|        -1.0|\n",
       "06.01.2013|             0|     25|   2554|   1709.05|         1.0|\n",
       "15.01.2013|             0|     25|   2555|    1099.0|         1.0|\n",
       "10.01.2013|             0|     25|   2564|     349.0|         1.0|\n",
       "02.01.2013|             0|     25|   2565|     549.0|         1.0|\n",
       "04.01.2013|             0|     25|   2572|     239.0|         1.0|\n",
       "11.01.2013|             0|     25|   2572|     299.0|         1.0|\n",
       "03.01.2013|             0|     25|   2573|     299.0|         3.0|\n",
       "03.01.2013|             0|     25|   2574|     399.0|         2.0|\n",
       "05.01.2013|             0|     25|   2574|     399.0|         1.0|\n",
       "07.01.2013|             0|     25|   2574|     399.0|         1.0|\n",
       "08.01.2013|             0|     25|   2574|     399.0|         2.0|\n",
       "10.01.2013|             0|     25|   2574|     399.0|         1.0|\n",
       "11.01.2013|             0|     25|   2574|     399.0|         2.0|\n",
       "13.01.2013|             0|     25|   2574|     399.0|         1.0|\n",
       "16.01.2013|             0|     25|   2574|     399.0|         1.0|\n",
       "26.01.2013|             0|     25|   2574|     399.0|         1.0|\n",
       "27.01.2013|             0|     25|   2574|     399.0|         1.0|\n",
       "09.01.2013|             0|     25|   2593|     279.0|         1.0|\n",
       "+----------+--------------+-------+-------+----------+------------+\n",
       "only showing top 20 rows\n",
       "\n",
       "</div>"
      ]
     },
     "metadata": {},
     "output_type": "display_data"
    }
   ],
   "source": [
    "tmp_df = sales_sdf[(sales_sdf[\"shop_id\"] == 25)]\n",
    "tmp_df.show()"
   ]
  },
  {
   "cell_type": "code",
   "execution_count": 45,
   "metadata": {
    "scrolled": true
   },
   "outputs": [
    {
     "data": {
      "text/html": [
       "<style scoped>\n",
       "  .ansiout {\n",
       "    display: block;\n",
       "    unicode-bidi: embed;\n",
       "    white-space: pre-wrap;\n",
       "    word-wrap: break-word;\n",
       "    word-break: break-all;\n",
       "    font-family: \"Source Code Pro\", \"Menlo\", monospace;;\n",
       "    font-size: 13px;\n",
       "    color: #555;\n",
       "    margin-left: 4px;\n",
       "    line-height: 19px;\n",
       "  }\n",
       "</style>\n",
       "<div class=\"ansiout\">+-------+\n",
       "item_id|\n",
       "+-------+\n",
       "   2088|\n",
       "   3210|\n",
       "    829|\n",
       "  14899|\n",
       "  13610|\n",
       "  17506|\n",
       "   6613|\n",
       "  10096|\n",
       "  11332|\n",
       "  20158|\n",
       "  18130|\n",
       "  18947|\n",
       "   6194|\n",
       "  18634|\n",
       "  19338|\n",
       "  21331|\n",
       "  15555|\n",
       "  17401|\n",
       "   6240|\n",
       "   3959|\n",
       "+-------+\n",
       "only showing top 20 rows\n",
       "\n",
       "== Physical Plan ==\n",
       "*(2) HashAggregate(keys=[item_id#1715], functions=[])\n",
       "+- Exchange hashpartitioning(item_id#1715, 200), [id=#5652]\n",
       "   +- *(1) HashAggregate(keys=[item_id#1715], functions=[])\n",
       "      +- *(1) Project [item_id#1715]\n",
       "         +- *(1) Filter (isnotnull(shop_id#1714) &amp;&amp; (cast(shop_id#1714 as int) = 25))\n",
       "            +- *(1) FileScan csv [shop_id#1714,item_id#1715] Batched: false, DataFilters: [isnotnull(shop_id#1714), (cast(shop_id#1714 as int) = 25)], Format: CSV, Location: InMemoryFileIndex[dbfs:/FileStore/tables/sales_train_csv.gz], PartitionFilters: [], PushedFilters: [IsNotNull(shop_id)], ReadSchema: struct&lt;shop_id:string,item_id:string&gt;\n",
       "</div>"
      ]
     },
     "metadata": {},
     "output_type": "display_data"
    }
   ],
   "source": [
    "tmp_df = sales_sdf\\\n",
    "   .filter(sales_sdf[\"shop_id\"] == 25)\\\n",
    "   .select('item_id')\\\n",
    "   .distinct()\n",
    "tmp_df.show()\n",
    "tmp_df.explain()"
   ]
  },
  {
   "cell_type": "code",
   "execution_count": 46,
   "metadata": {
    "scrolled": true
   },
   "outputs": [
    {
     "data": {
      "text/html": [
       "<style scoped>\n",
       "  .ansiout {\n",
       "    display: block;\n",
       "    unicode-bidi: embed;\n",
       "    white-space: pre-wrap;\n",
       "    word-wrap: break-word;\n",
       "    word-break: break-all;\n",
       "    font-family: \"Source Code Pro\", \"Menlo\", monospace;;\n",
       "    font-size: 13px;\n",
       "    color: #555;\n",
       "    margin-left: 4px;\n",
       "    line-height: 19px;\n",
       "  }\n",
       "</style>\n",
       "<div class=\"ansiout\">+-------+\n",
       "item_id|\n",
       "+-------+\n",
       "  10096|\n",
       "  11332|\n",
       "  11563|\n",
       "  13610|\n",
       "  14899|\n",
       "  16576|\n",
       "  17506|\n",
       "  20428|\n",
       "  20512|\n",
       "   2088|\n",
       "   2136|\n",
       "   3210|\n",
       "   6613|\n",
       "    829|\n",
       "  10272|\n",
       "  10309|\n",
       "  10603|\n",
       "  11236|\n",
       "  12542|\n",
       "  14218|\n",
       "+-------+\n",
       "only showing top 20 rows\n",
       "\n",
       "== Physical Plan ==\n",
       "*(2) Project [item_id#1715]\n",
       "+- *(2) Filter (isnotnull(shop_id#1714) &amp;&amp; (cast(shop_id#1714 as int) = 25))\n",
       "   +- SortAggregate(key=[item_id#1715], functions=[finalmerge_first(merge first#4790, valueSet#4791) AS first(shop_id#1714)()#4787])\n",
       "      +- Sort [item_id#1715 ASC NULLS FIRST], false, 0\n",
       "         +- Exchange hashpartitioning(item_id#1715, 200), [id=#6058]\n",
       "            +- SortAggregate(key=[item_id#1715], functions=[partial_first(shop_id#1714, false) AS (first#4790, valueSet#4791)])\n",
       "               +- *(1) Sort [item_id#1715 ASC NULLS FIRST], false, 0\n",
       "                  +- *(1) Project [item_id#1715, shop_id#1714]\n",
       "                     +- *(1) FileScan csv [shop_id#1714,item_id#1715] Batched: false, DataFilters: [], Format: CSV, Location: InMemoryFileIndex[dbfs:/FileStore/tables/sales_train_csv.gz], PartitionFilters: [], PushedFilters: [], ReadSchema: struct&lt;shop_id:string,item_id:string&gt;\n",
       "</div>"
      ]
     },
     "metadata": {},
     "output_type": "display_data"
    }
   ],
   "source": [
    "tmp_df2 = sales_sdf\\\n",
    "    .select(F.col('item_id'))\\\n",
    "    .distinct()\\\n",
    "    .filter(F.col(\"shop_id\") == 25)\n",
    "tmp_df2.show()\n",
    "tmp_df2.explain()"
   ]
  },
  {
   "cell_type": "code",
   "execution_count": 47,
   "metadata": {},
   "outputs": [],
   "source": [
    "tmp_df2.show()"
   ]
  },
  {
   "cell_type": "markdown",
   "metadata": {},
   "source": [
    "## ORDER BY ~ orderBy"
   ]
  },
  {
   "cell_type": "code",
   "execution_count": 49,
   "metadata": {},
   "outputs": [],
   "source": [
    "spark.sql(\"\"\"\n",
    "SELECT *\n",
    "FROM sales\n",
    "WHERE shop_id = 25 AND item_id = 2252\n",
    "ORDER BY date desc\n",
    "\"\"\").show()"
   ]
  },
  {
   "cell_type": "code",
   "execution_count": 50,
   "metadata": {},
   "outputs": [],
   "source": [
    "sales_sdf\\\n",
    "   .filter((F.col(\"shop_id\") == 25) & (F.col(\"item_id\") == 2252))\\\n",
    "   .orderBy(\"date\")\\\n",
    "   .show()"
   ]
  },
  {
   "cell_type": "code",
   "execution_count": 51,
   "metadata": {},
   "outputs": [],
   "source": [
    "sales_sdf\\\n",
    "   .filter((F.col(\"shop_id\") == 25) & (F.col(\"item_id\") == 2252))\\\n",
    "   .orderBy(F.desc(\"item_cnt_day\"))\\\n",
    "   .show()"
   ]
  },
  {
   "cell_type": "markdown",
   "metadata": {},
   "source": [
    "__Exercise__ List different items and its price that were sold on 20th or 21st of August 2015 ordered by price starting from the most expensive."
   ]
  },
  {
   "cell_type": "code",
   "execution_count": 53,
   "metadata": {},
   "outputs": [],
   "source": [
    "sales_sdf\\\n",
    "   .filter((F.col(\"date\") == \"21.08.2015\") | (F.col(\"date\") == \"22.08.2015\"))\\\n",
    "   .orderBy(F.desc(\"item_price\"))\\\n",
    "   .show()"
   ]
  },
  {
   "cell_type": "code",
   "execution_count": 54,
   "metadata": {
    "scrolled": true
   },
   "outputs": [],
   "source": [
    "sales_sdf\\\n",
    "   .filter(F.col(\"date\").isin([\"21.08.2015\",\"22.08.2015\"]))\\\n",
    "   .orderBy(F.desc(\"item_price\"))\\\n",
    "   .show()"
   ]
  },
  {
   "cell_type": "code",
   "execution_count": 55,
   "metadata": {},
   "outputs": [],
   "source": [
    "sales_sdf2\\\n",
    "   .filter(F.col(\"date\").isin([\"2015-08-21\",\"2015-08-22\"]))\\\n",
    "   .orderBy(F.desc(\"item_price\"))\\\n",
    "   .show()"
   ]
  },
  {
   "cell_type": "code",
   "execution_count": 56,
   "metadata": {
    "scrolled": true
   },
   "outputs": [],
   "source": [
    "sales_sdf2\\\n",
    "   .filter((F.year(F.col(\"date\"))==2015) & (F.month(F.col(\"date\"))==8))\\\n",
    "   .orderBy(F.desc(\"item_price\"))\\\n",
    "   .show()"
   ]
  },
  {
   "cell_type": "code",
   "execution_count": 57,
   "metadata": {},
   "outputs": [],
   "source": [
    "spark.sql(\n",
    "\"\"\"\n",
    "select *\n",
    "from sales2\n",
    "where year(date)=2015 and month(date)=8\n",
    "\"\"\"\n",
    ").show()"
   ]
  },
  {
   "cell_type": "markdown",
   "metadata": {},
   "source": [
    "## AS ~ alias"
   ]
  },
  {
   "cell_type": "code",
   "execution_count": 59,
   "metadata": {},
   "outputs": [],
   "source": [
    "spark.sql(\"\"\"\n",
    "SELECT item_cnt_day\n",
    ",   item_price\n",
    ",   item_cnt_day * item_price AS revenue\n",
    "FROM sales\n",
    "\"\"\").show()"
   ]
  },
  {
   "cell_type": "code",
   "execution_count": 60,
   "metadata": {},
   "outputs": [
    {
     "data": {
      "text/html": [
       "<style scoped>\n",
       "  .ansiout {\n",
       "    display: block;\n",
       "    unicode-bidi: embed;\n",
       "    white-space: pre-wrap;\n",
       "    word-wrap: break-word;\n",
       "    word-break: break-all;\n",
       "    font-family: \"Source Code Pro\", \"Menlo\", monospace;;\n",
       "    font-size: 13px;\n",
       "    color: #555;\n",
       "    margin-left: 4px;\n",
       "    line-height: 19px;\n",
       "  }\n",
       "</style>\n",
       "<div class=\"ansiout\">+------------+----------+-------+\n",
       "item_cnt_day|item_price|revenue|\n",
       "+------------+----------+-------+\n",
       "         1.0|     999.0|  999.0|\n",
       "         1.0|     899.0|  899.0|\n",
       "        -1.0|     899.0| -899.0|\n",
       "         1.0|   1709.05|1709.05|\n",
       "         1.0|    1099.0| 1099.0|\n",
       "         1.0|     349.0|  349.0|\n",
       "         1.0|     549.0|  549.0|\n",
       "         1.0|     239.0|  239.0|\n",
       "         1.0|     299.0|  299.0|\n",
       "         3.0|     299.0|  897.0|\n",
       "         2.0|     399.0|  798.0|\n",
       "         1.0|     399.0|  399.0|\n",
       "         1.0|     399.0|  399.0|\n",
       "         2.0|     399.0|  798.0|\n",
       "         1.0|     399.0|  399.0|\n",
       "         2.0|     399.0|  798.0|\n",
       "         1.0|     399.0|  399.0|\n",
       "         1.0|     399.0|  399.0|\n",
       "         1.0|     399.0|  399.0|\n",
       "         1.0|     399.0|  399.0|\n",
       "+------------+----------+-------+\n",
       "only showing top 20 rows\n",
       "\n",
       "</div>"
      ]
     },
     "metadata": {},
     "output_type": "display_data"
    }
   ],
   "source": [
    "sales_sdf\\\n",
    "    .select(\n",
    "        F.col(\"item_cnt_day\"),\n",
    "        F.col(\"item_price\"),\n",
    "        (F.col(\"item_cnt_day\") * F.col(\"item_price\")).alias(\"revenue\")\n",
    "    ).show()"
   ]
  },
  {
   "cell_type": "markdown",
   "metadata": {},
   "source": [
    "## aggregators"
   ]
  },
  {
   "cell_type": "code",
   "execution_count": 11,
   "metadata": {},
   "outputs": [
    {
     "name": "stdout",
     "output_type": "stream",
     "text": [
      "+-----------------+------------------+---------+-------+\n",
      "|        mean_sale|          sd_sales|sum_sales| nitems|\n",
      "+-----------------+------------------+---------+-------+\n",
      "|1.242640885140891|2.6188344308954035|3648206.0|2935849|\n",
      "+-----------------+------------------+---------+-------+\n",
      "\n"
     ]
    }
   ],
   "source": [
    "spark.sql(\"\"\"\n",
    "SELECT AVG(item_cnt_day) AS mean_sale\n",
    ",   STDDEV(item_cnt_day) AS sd_sales\n",
    ",   SUM(item_cnt_day) AS sum_sales\n",
    ",   COUNT(*) AS nitems\n",
    "FROM sales\n",
    "\"\"\").show()"
   ]
  },
  {
   "cell_type": "code",
   "execution_count": 63,
   "metadata": {},
   "outputs": [
    {
     "data": {
      "text/html": [
       "<style scoped>\n",
       "  .ansiout {\n",
       "    display: block;\n",
       "    unicode-bidi: embed;\n",
       "    white-space: pre-wrap;\n",
       "    word-wrap: break-word;\n",
       "    word-break: break-all;\n",
       "    font-family: \"Source Code Pro\", \"Menlo\", monospace;;\n",
       "    font-size: 13px;\n",
       "    color: #555;\n",
       "    margin-left: 4px;\n",
       "    line-height: 19px;\n",
       "  }\n",
       "</style>\n",
       "<div class=\"ansiout\">+-----------------+------------------+---------+-------+\n",
       "       mean_sales|          sd_sales|sum_sales|n_items|\n",
       "+-----------------+------------------+---------+-------+\n",
       "1.242640885140891|2.6188344308954035|3648206.0|2935849|\n",
       "+-----------------+------------------+---------+-------+\n",
       "\n",
       "</div>"
      ]
     },
     "metadata": {},
     "output_type": "display_data"
    }
   ],
   "source": [
    "sales_sdf\\\n",
    "    .select(\n",
    "        F.mean(F.col(\"item_cnt_day\")).alias(\"mean_sales\"),\n",
    "        F.stddev(F.col(\"item_cnt_day\")).alias(\"sd_sales\"),\n",
    "        F.sum(F.col(\"item_cnt_day\")).alias(\"sum_sales\"),\n",
    "        F.count(F.col(\"item_cnt_day\")).alias(\"n_items\")\n",
    "    ).show()"
   ]
  },
  {
   "cell_type": "markdown",
   "metadata": {},
   "source": [
    "__Exercise__ What is mean, standard deviation and median of the number of sold items?"
   ]
  },
  {
   "cell_type": "code",
   "execution_count": 65,
   "metadata": {},
   "outputs": [
    {
     "data": {
      "text/html": [
       "<style scoped>\n",
       "  .ansiout {\n",
       "    display: block;\n",
       "    unicode-bidi: embed;\n",
       "    white-space: pre-wrap;\n",
       "    word-wrap: break-word;\n",
       "    word-break: break-all;\n",
       "    font-family: \"Source Code Pro\", \"Menlo\", monospace;;\n",
       "    font-size: 13px;\n",
       "    color: #555;\n",
       "    margin-left: 4px;\n",
       "    line-height: 19px;\n",
       "  }\n",
       "</style>\n",
       "<div class=\"ansiout\">+-----------------+------------------+---------+-------+------+\n",
       "        mean_sale|          sd_sales|sum_sales| nitems|median|\n",
       "+-----------------+------------------+---------+-------+------+\n",
       "1.242640885140891|2.6188344308954035|3648206.0|2935849|   1.0|\n",
       "+-----------------+------------------+---------+-------+------+\n",
       "\n",
       "</div>"
      ]
     },
     "metadata": {},
     "output_type": "display_data"
    }
   ],
   "source": [
    "spark.sql(\"\"\"\n",
    "SELECT AVG(item_cnt_day) AS mean_sale\n",
    ",   STDDEV(item_cnt_day) AS sd_sales\n",
    ",   SUM(item_cnt_day) AS sum_sales\n",
    ",   COUNT(*) AS nitems\n",
    ",   PERCENTILE(item_cnt_day, 0.5) as median\n",
    "FROM sales\n",
    "\"\"\").show()"
   ]
  },
  {
   "cell_type": "code",
   "execution_count": 66,
   "metadata": {},
   "outputs": [
    {
     "data": {
      "text/html": [
       "<style scoped>\n",
       "  .ansiout {\n",
       "    display: block;\n",
       "    unicode-bidi: embed;\n",
       "    white-space: pre-wrap;\n",
       "    word-wrap: break-word;\n",
       "    word-break: break-all;\n",
       "    font-family: \"Source Code Pro\", \"Menlo\", monospace;;\n",
       "    font-size: 13px;\n",
       "    color: #555;\n",
       "    margin-left: 4px;\n",
       "    line-height: 19px;\n",
       "  }\n",
       "</style>\n",
       "<div class=\"ansiout\">+----------+--------------+-------+-------+----------+------------+\n",
       "      date|date_block_num|shop_id|item_id|item_price|item_cnt_day|\n",
       "+----------+--------------+-------+-------+----------+------------+\n",
       "02.01.2013|             0|     59|  22154|     999.0|         1.0|\n",
       "03.01.2013|             0|     25|   2552|     899.0|         1.0|\n",
       "05.01.2013|             0|     25|   2552|     899.0|        -1.0|\n",
       "06.01.2013|             0|     25|   2554|   1709.05|         1.0|\n",
       "15.01.2013|             0|     25|   2555|    1099.0|         1.0|\n",
       "10.01.2013|             0|     25|   2564|     349.0|         1.0|\n",
       "02.01.2013|             0|     25|   2565|     549.0|         1.0|\n",
       "04.01.2013|             0|     25|   2572|     239.0|         1.0|\n",
       "11.01.2013|             0|     25|   2572|     299.0|         1.0|\n",
       "03.01.2013|             0|     25|   2573|     299.0|         3.0|\n",
       "03.01.2013|             0|     25|   2574|     399.0|         2.0|\n",
       "05.01.2013|             0|     25|   2574|     399.0|         1.0|\n",
       "07.01.2013|             0|     25|   2574|     399.0|         1.0|\n",
       "08.01.2013|             0|     25|   2574|     399.0|         2.0|\n",
       "10.01.2013|             0|     25|   2574|     399.0|         1.0|\n",
       "11.01.2013|             0|     25|   2574|     399.0|         2.0|\n",
       "13.01.2013|             0|     25|   2574|     399.0|         1.0|\n",
       "16.01.2013|             0|     25|   2574|     399.0|         1.0|\n",
       "26.01.2013|             0|     25|   2574|     399.0|         1.0|\n",
       "27.01.2013|             0|     25|   2574|     399.0|         1.0|\n",
       "09.01.2013|             0|     25|   2593|     279.0|         1.0|\n",
       "16.01.2013|             0|     25|   2604|     299.0|         1.0|\n",
       "27.01.2013|             0|     25|   2604|     299.0|         1.0|\n",
       "27.01.2013|             0|     25|   2607|     279.0|         1.0|\n",
       "29.01.2013|             0|     25|   2607|     279.0|         1.0|\n",
       "27.01.2013|             0|     25|   2609|    1699.0|         1.0|\n",
       "06.01.2013|             0|     25|   2548|   1708.95|         1.0|\n",
       "26.01.2013|             0|     25|   2611|     299.0|         1.0|\n",
       "02.01.2013|             0|     25|   2546|     299.0|         1.0|\n",
       "06.01.2013|             0|     25|   2515|    1649.0|         1.0|\n",
       "07.01.2013|             0|     25|   2705|    1799.0|         1.0|\n",
       "11.01.2013|             0|     25|   2705|    1799.0|         1.0|\n",
       "26.01.2013|             0|     25|   2705|    1799.0|         1.0|\n",
       "02.01.2013|             0|     25|   2715|     899.0|         1.0|\n",
       "12.01.2013|             0|     25|   2715|     898.5|         1.0|\n",
       "02.01.2013|             0|     25|   2716|     149.0|         1.0|\n",
       "23.01.2013|             0|     25|   2716|     149.0|         1.0|\n",
       "02.01.2013|             0|     25|   2719|    2699.0|         1.0|\n",
       "12.01.2013|             0|     25|   2719|    2699.0|         1.0|\n",
       "25.01.2013|             0|     25|   2719|    1699.0|         1.0|\n",
       "30.01.2013|             0|     25|   2720|    1699.0|         1.0|\n",
       "05.01.2013|             0|     25|   2473|     899.0|         1.0|\n",
       "02.01.2013|             0|     25|   2480|      58.0|         1.0|\n",
       "02.01.2013|             0|     25|   2731|     599.0|         1.0|\n",
       "19.01.2013|             0|     25|   2731|     599.0|         1.0|\n",
       "06.01.2013|             0|     25|   2746|     299.0|         1.0|\n",
       "07.01.2013|             0|     25|   2746|     299.0|         1.0|\n",
       "10.01.2013|             0|     25|   2746|     299.0|         2.0|\n",
       "12.01.2013|             0|     25|   2746|     299.0|         1.0|\n",
       "20.01.2013|             0|     25|   2746|     299.0|         1.0|\n",
       "+----------+--------------+-------+-------+----------+------------+\n",
       "only showing top 50 rows\n",
       "\n",
       "</div>"
      ]
     },
     "metadata": {},
     "output_type": "display_data"
    }
   ],
   "source": [
    "sales_sdf.show(50)"
   ]
  },
  {
   "cell_type": "markdown",
   "metadata": {},
   "source": [
    "## GROUP BY"
   ]
  },
  {
   "cell_type": "code",
   "execution_count": 68,
   "metadata": {},
   "outputs": [
    {
     "data": {
      "text/html": [
       "<style scoped>\n",
       "  .ansiout {\n",
       "    display: block;\n",
       "    unicode-bidi: embed;\n",
       "    white-space: pre-wrap;\n",
       "    word-wrap: break-word;\n",
       "    word-break: break-all;\n",
       "    font-family: \"Source Code Pro\", \"Menlo\", monospace;;\n",
       "    font-size: 13px;\n",
       "    color: #555;\n",
       "    margin-left: 4px;\n",
       "    line-height: 19px;\n",
       "  }\n",
       "</style>\n",
       "<div class=\"ansiout\">+----------+-------+----------+------------------+\n",
       "      date|shop_id|items_sold|    avg_items_sold|\n",
       "+----------+-------+----------+------------------+\n",
       "01.02.2013|      0|     228.0|1.2127659574468086|\n",
       "02.02.2013|      0|     317.0|1.3045267489711934|\n",
       "03.01.2013|      0|     203.0|1.1666666666666667|\n",
       "03.02.2013|      0|     200.0|1.2195121951219512|\n",
       "04.01.2013|      0|     352.0|1.2941176470588236|\n",
       "04.02.2013|      0|     121.0|1.1634615384615385|\n",
       "05.01.2013|      0|     292.0|1.2372881355932204|\n",
       "05.02.2013|      0|     173.0|1.1161290322580646|\n",
       "06.01.2013|      0|     209.0|1.1807909604519775|\n",
       "06.02.2013|      0|     194.0|1.1757575757575758|\n",
       "07.01.2013|      0|     132.0|1.1379310344827587|\n",
       "07.02.2013|      0|     135.0| 1.115702479338843|\n",
       "08.01.2013|      0|     263.0|1.2464454976303319|\n",
       "08.02.2013|      0|     287.0|1.2370689655172413|\n",
       "09.01.2013|      0|     181.0|           1.13125|\n",
       "09.02.2013|      0|     313.0|1.2620967741935485|\n",
       "10.01.2013|      0|     184.0|1.1870967741935483|\n",
       "10.02.2013|      0|     205.0|1.2349397590361446|\n",
       "11.01.2013|      0|     139.0|1.1583333333333334|\n",
       "11.02.2013|      0|     162.0|               1.2|\n",
       "+----------+-------+----------+------------------+\n",
       "only showing top 20 rows\n",
       "\n",
       "</div>"
      ]
     },
     "metadata": {},
     "output_type": "display_data"
    }
   ],
   "source": [
    "sales_sdf\\\n",
    "  .groupby(\"date\", \"shop_id\")\\\n",
    "  .agg(\n",
    "    F.sum(sales_sdf.item_cnt_day).alias(\"items_sold\"),\n",
    "    F.avg(sales_sdf.item_cnt_day).alias(\"avg_items_sold\"))\\\n",
    "  .orderBy(\"shop_id\",\"date\")\\\n",
    "  .show()"
   ]
  },
  {
   "cell_type": "code",
   "execution_count": 69,
   "metadata": {},
   "outputs": [
    {
     "data": {
      "text/html": [
       "<style scoped>\n",
       "  .ansiout {\n",
       "    display: block;\n",
       "    unicode-bidi: embed;\n",
       "    white-space: pre-wrap;\n",
       "    word-wrap: break-word;\n",
       "    word-break: break-all;\n",
       "    font-family: \"Source Code Pro\", \"Menlo\", monospace;;\n",
       "    font-size: 13px;\n",
       "    color: #555;\n",
       "    margin-left: 4px;\n",
       "    line-height: 19px;\n",
       "  }\n",
       "</style>\n",
       "<div class=\"ansiout\">+----------+----------+\n",
       "      date|items_sold|\n",
       "+----------+----------+\n",
       "2013-02-16|    6643.0|\n",
       "2014-02-09|    4646.0|\n",
       "2014-09-01|    2887.0|\n",
       "2014-10-18|    5001.0|\n",
       "2015-06-27|    2563.0|\n",
       "2015-09-17|    1887.0|\n",
       "2013-04-29|    2771.0|\n",
       "2013-04-12|    3947.0|\n",
       "2014-09-18|    2441.0|\n",
       "2015-08-15|    2201.0|\n",
       "2015-10-28|    3593.0|\n",
       "2013-02-05|    3302.0|\n",
       "2013-09-21|    6698.0|\n",
       "2014-05-31|    5395.0|\n",
       "2014-11-02|    4390.0|\n",
       "2015-07-08|    1905.0|\n",
       "2015-09-13|    2660.0|\n",
       "2015-10-06|    1343.0|\n",
       "2013-06-13|    3399.0|\n",
       "2014-02-22|    8472.0|\n",
       "+----------+----------+\n",
       "only showing top 20 rows\n",
       "\n",
       "</div>"
      ]
     },
     "metadata": {},
     "output_type": "display_data"
    }
   ],
   "source": [
    "spark.sql(\"\"\"\n",
    "SELECT \n",
    "    date_format(from_unixtime(unix_timestamp(date, 'dd.MM.yyyy')), \"yyyy-MM-dd\") AS date\n",
    ",   SUM(item_cnt_day) AS items_sold\n",
    "FROM sales\n",
    "GROUP BY date\n",
    "\"\"\").show()"
   ]
  },
  {
   "cell_type": "code",
   "execution_count": 13,
   "metadata": {},
   "outputs": [
    {
     "name": "stdout",
     "output_type": "stream",
     "text": [
      "+----------+-------+----------+\n",
      "|      date|shop_id|items_sold|\n",
      "+----------+-------+----------+\n",
      "|01.02.2013|      0|     228.0|\n",
      "|02.02.2013|      0|     317.0|\n",
      "|03.01.2013|      0|     203.0|\n",
      "|03.02.2013|      0|     200.0|\n",
      "|04.01.2013|      0|     352.0|\n",
      "|04.02.2013|      0|     121.0|\n",
      "|05.01.2013|      0|     292.0|\n",
      "|05.02.2013|      0|     173.0|\n",
      "|06.01.2013|      0|     209.0|\n",
      "|06.02.2013|      0|     194.0|\n",
      "|07.01.2013|      0|     132.0|\n",
      "|07.02.2013|      0|     135.0|\n",
      "|08.01.2013|      0|     263.0|\n",
      "|08.02.2013|      0|     287.0|\n",
      "|09.01.2013|      0|     181.0|\n",
      "|09.02.2013|      0|     313.0|\n",
      "|10.01.2013|      0|     184.0|\n",
      "|10.02.2013|      0|     205.0|\n",
      "|11.01.2013|      0|     139.0|\n",
      "|11.02.2013|      0|     162.0|\n",
      "+----------+-------+----------+\n",
      "only showing top 20 rows\n",
      "\n"
     ]
    }
   ],
   "source": [
    "sales_sdf\\\n",
    "  .groupby(\"date\", \"shop_id\")\\\n",
    "  .agg(F.sum(sales_sdf.item_cnt_day).alias(\"items_sold\"))\\\n",
    "  .orderBy(\"shop_id\",\"date\")\\\n",
    "  .show()"
   ]
  },
  {
   "cell_type": "code",
   "execution_count": 71,
   "metadata": {},
   "outputs": [
    {
     "data": {
      "text/html": [
       "<style scoped>\n",
       "  .ansiout {\n",
       "    display: block;\n",
       "    unicode-bidi: embed;\n",
       "    white-space: pre-wrap;\n",
       "    word-wrap: break-word;\n",
       "    word-break: break-all;\n",
       "    font-family: \"Source Code Pro\", \"Menlo\", monospace;;\n",
       "    font-size: 13px;\n",
       "    color: #555;\n",
       "    margin-left: 4px;\n",
       "    line-height: 19px;\n",
       "  }\n",
       "</style>\n",
       "<div class=\"ansiout\"></div>"
      ]
     },
     "metadata": {},
     "output_type": "display_data"
    }
   ],
   "source": [
    "import matplotlib.pyplot as plt\n",
    "import matplotlib\n",
    "%matplotlib inline"
   ]
  },
  {
   "cell_type": "code",
   "execution_count": 72,
   "metadata": {},
   "outputs": [
    {
     "data": {
      "text/html": [
       "<style scoped>\n",
       "  .ansiout {\n",
       "    display: block;\n",
       "    unicode-bidi: embed;\n",
       "    white-space: pre-wrap;\n",
       "    word-wrap: break-word;\n",
       "    word-break: break-all;\n",
       "    font-family: \"Source Code Pro\", \"Menlo\", monospace;;\n",
       "    font-size: 13px;\n",
       "    color: #555;\n",
       "    margin-left: 4px;\n",
       "    line-height: 19px;\n",
       "  }\n",
       "</style>\n",
       "<div class=\"ansiout\"></div>"
      ]
     },
     "metadata": {},
     "output_type": "display_data"
    }
   ],
   "source": [
    "matplotlib.rcParams['figure.figsize'] = [20, 10]\n",
    "matplotlib.rcParams['font.size'] = 20"
   ]
  },
  {
   "cell_type": "code",
   "execution_count": 73,
   "metadata": {},
   "outputs": [],
   "source": [
    "pdf = spark.sql(\"\"\"\n",
    "SELECT date_format(from_unixtime(unix_timestamp(date, 'dd.MM.yyyy')), \"yyyy-MM-dd\") AS date\n",
    ",   SUM(item_cnt_day) AS items_sold\n",
    "FROM sales\n",
    "GROUP BY date\n",
    "\"\"\").toPandas()\n",
    "pdf.set_index(\"date\")['items_sold'].plot()\n",
    "plt.show()"
   ]
  },
  {
   "cell_type": "code",
   "execution_count": 74,
   "metadata": {},
   "outputs": [
    {
     "data": {
      "text/html": [
       "<style scoped>\n",
       "  .ansiout {\n",
       "    display: block;\n",
       "    unicode-bidi: embed;\n",
       "    white-space: pre-wrap;\n",
       "    word-wrap: break-word;\n",
       "    word-break: break-all;\n",
       "    font-family: \"Source Code Pro\", \"Menlo\", monospace;;\n",
       "    font-size: 13px;\n",
       "    color: #555;\n",
       "    margin-left: 4px;\n",
       "    line-height: 19px;\n",
       "  }\n",
       "</style>\n",
       "<div class=\"ansiout\"></div>"
      ]
     },
     "metadata": {},
     "output_type": "display_data"
    }
   ],
   "source": [
    "import pandas as pd"
   ]
  },
  {
   "cell_type": "code",
   "execution_count": 75,
   "metadata": {},
   "outputs": [],
   "source": [
    "#pdf.head()\n",
    "#pdf['date'] = pd.to_datetime(pdf.date)\n",
    "#pdf.date.dt.year.head()\n",
    "pdf = pdf[pdf.date.dt.year==2014] #.head()\n",
    "pdf.sort_values(\"date\").set_index(\"date\")['items_sold'].plot()\n",
    "plt.show()"
   ]
  },
  {
   "cell_type": "code",
   "execution_count": 76,
   "metadata": {},
   "outputs": [],
   "source": [
    "sales_sdf\\\n",
    "    .withColumn(\"date\", F.unix_timestamp(F.col(\"date\"), 'dd.MM.yyyy'))\\\n",
    "    .groupBy(F.col(\"date\"))\\\n",
    "    .agg(F.sum(F.col(\"item_cnt_day\")).alias(\"items_sold\"))\\\n",
    "    .show()"
   ]
  },
  {
   "cell_type": "markdown",
   "metadata": {},
   "source": [
    "__Exercise__ For each day what is total daily revenue? Output table should have columns `date`, `total_revenue`."
   ]
  },
  {
   "cell_type": "code",
   "execution_count": 78,
   "metadata": {},
   "outputs": [
    {
     "data": {
      "text/html": [
       "<style scoped>\n",
       "  .ansiout {\n",
       "    display: block;\n",
       "    unicode-bidi: embed;\n",
       "    white-space: pre-wrap;\n",
       "    word-wrap: break-word;\n",
       "    word-break: break-all;\n",
       "    font-family: \"Source Code Pro\", \"Menlo\", monospace;;\n",
       "    font-size: 13px;\n",
       "    color: #555;\n",
       "    margin-left: 4px;\n",
       "    line-height: 19px;\n",
       "  }\n",
       "</style>\n",
       "<div class=\"ansiout\">+----------+------------------+\n",
       "      date|     total_revenue|\n",
       "+----------+------------------+\n",
       "16.02.2013| 4464531.999999987|\n",
       "09.02.2014| 5148573.430000014|\n",
       "01.09.2014| 2204969.260000013|\n",
       "18.10.2014| 4852348.199999985|\n",
       "27.06.2015|2387698.9800000004|\n",
       "17.09.2015| 2522768.519999858|\n",
       "29.04.2013| 1737224.999999997|\n",
       "12.04.2013| 2497766.499999993|\n",
       "18.09.2014|         2295228.0|\n",
       "15.08.2015| 2045987.389999992|\n",
       "28.10.2015|1722150.0999999908|\n",
       "05.02.2013|2729662.2000001506|\n",
       "21.09.2013| 5911155.490000767|\n",
       "31.05.2014|5310957.9999999935|\n",
       "02.11.2014| 3850449.230000004|\n",
       "08.07.2015|2107555.7100000004|\n",
       "13.09.2015|2637602.3900000174|\n",
       "06.10.2015|         1339565.1|\n",
       "13.06.2013| 1984354.390000003|\n",
       "22.02.2014| 7644851.999999972|\n",
       "+----------+------------------+\n",
       "only showing top 20 rows\n",
       "\n",
       "</div>"
      ]
     },
     "metadata": {},
     "output_type": "display_data"
    }
   ],
   "source": [
    "sales_sdf\\\n",
    "  .groupBy(F.col(\"date\"))\\\n",
    "  .agg(F.sum(F.col(\"item_cnt_day\") * F.col('item_price')).alias(\"total_revenue\"))\\\n",
    "  .show()"
   ]
  },
  {
   "cell_type": "markdown",
   "metadata": {},
   "source": [
    "## Joins"
   ]
  },
  {
   "cell_type": "code",
   "execution_count": 80,
   "metadata": {},
   "outputs": [
    {
     "data": {
      "text/html": [
       "<style scoped>\n",
       "  .ansiout {\n",
       "    display: block;\n",
       "    unicode-bidi: embed;\n",
       "    white-space: pre-wrap;\n",
       "    word-wrap: break-word;\n",
       "    word-break: break-all;\n",
       "    font-family: \"Source Code Pro\", \"Menlo\", monospace;;\n",
       "    font-size: 13px;\n",
       "    color: #555;\n",
       "    margin-left: 4px;\n",
       "    line-height: 19px;\n",
       "  }\n",
       "</style>\n",
       "<div class=\"ansiout\">+----------+--------------+-------+-------+----------+------------+\n",
       "      date|date_block_num|shop_id|item_id|item_price|item_cnt_day|\n",
       "+----------+--------------+-------+-------+----------+------------+\n",
       "02.01.2013|             0|     59|  22154|     999.0|         1.0|\n",
       "03.01.2013|             0|     25|   2552|     899.0|         1.0|\n",
       "05.01.2013|             0|     25|   2552|     899.0|        -1.0|\n",
       "06.01.2013|             0|     25|   2554|   1709.05|         1.0|\n",
       "15.01.2013|             0|     25|   2555|    1099.0|         1.0|\n",
       "10.01.2013|             0|     25|   2564|     349.0|         1.0|\n",
       "02.01.2013|             0|     25|   2565|     549.0|         1.0|\n",
       "04.01.2013|             0|     25|   2572|     239.0|         1.0|\n",
       "11.01.2013|             0|     25|   2572|     299.0|         1.0|\n",
       "03.01.2013|             0|     25|   2573|     299.0|         3.0|\n",
       "03.01.2013|             0|     25|   2574|     399.0|         2.0|\n",
       "05.01.2013|             0|     25|   2574|     399.0|         1.0|\n",
       "07.01.2013|             0|     25|   2574|     399.0|         1.0|\n",
       "08.01.2013|             0|     25|   2574|     399.0|         2.0|\n",
       "10.01.2013|             0|     25|   2574|     399.0|         1.0|\n",
       "11.01.2013|             0|     25|   2574|     399.0|         2.0|\n",
       "13.01.2013|             0|     25|   2574|     399.0|         1.0|\n",
       "16.01.2013|             0|     25|   2574|     399.0|         1.0|\n",
       "26.01.2013|             0|     25|   2574|     399.0|         1.0|\n",
       "27.01.2013|             0|     25|   2574|     399.0|         1.0|\n",
       "+----------+--------------+-------+-------+----------+------------+\n",
       "only showing top 20 rows\n",
       "\n",
       "</div>"
      ]
     },
     "metadata": {},
     "output_type": "display_data"
    }
   ],
   "source": [
    "sales_sdf.show()"
   ]
  },
  {
   "cell_type": "code",
   "execution_count": 81,
   "metadata": {},
   "outputs": [
    {
     "data": {
      "text/html": [
       "<style scoped>\n",
       "  .ansiout {\n",
       "    display: block;\n",
       "    unicode-bidi: embed;\n",
       "    white-space: pre-wrap;\n",
       "    word-wrap: break-word;\n",
       "    word-break: break-all;\n",
       "    font-family: \"Source Code Pro\", \"Menlo\", monospace;;\n",
       "    font-size: 13px;\n",
       "    color: #555;\n",
       "    margin-left: 4px;\n",
       "    line-height: 19px;\n",
       "  }\n",
       "</style>\n",
       "<div class=\"ansiout\"></div>"
      ]
     },
     "metadata": {},
     "output_type": "display_data"
    }
   ],
   "source": [
    "shops_sdf = spark.read.option(\"header\", \"true\").csv(\"/FileStore/tables/shops.csv\")"
   ]
  },
  {
   "cell_type": "code",
   "execution_count": 82,
   "metadata": {},
   "outputs": [
    {
     "data": {
      "text/html": [
       "<style scoped>\n",
       "  .ansiout {\n",
       "    display: block;\n",
       "    unicode-bidi: embed;\n",
       "    white-space: pre-wrap;\n",
       "    word-wrap: break-word;\n",
       "    word-break: break-all;\n",
       "    font-family: \"Source Code Pro\", \"Menlo\", monospace;;\n",
       "    font-size: 13px;\n",
       "    color: #555;\n",
       "    margin-left: 4px;\n",
       "    line-height: 19px;\n",
       "  }\n",
       "</style>\n",
       "<div class=\"ansiout\">+----------------------------------+-------+\n",
       "shop_name                         |shop_id|\n",
       "+----------------------------------+-------+\n",
       "!Якутск Орджоникидзе, 56 фран     |0      |\n",
       "&#34;!Якутск ТЦ &#34;&#34;Центральный&#34;&#34; фран&#34; |1      |\n",
       "&#34;Адыгея ТЦ &#34;&#34;Мега&#34;&#34;&#34;              |2      |\n",
       "&#34;Балашиха ТРК &#34;&#34;Октябрь-Киномир&#34;&#34;&#34;|3      |\n",
       "&#34;Волжский ТЦ &#34;&#34;Волга Молл&#34;&#34;&#34;      |4      |\n",
       "&#34;Вологда ТРЦ &#34;&#34;Мармелад&#34;&#34;&#34;        |5      |\n",
       "Воронеж (Плехановская, 13)        |6      |\n",
       "&#34;Воронеж ТРЦ &#34;&#34;Максимир&#34;&#34;&#34;        |7      |\n",
       "&#34;Воронеж ТРЦ Сити-Парк &#34;&#34;Град&#34;&#34;&#34;  |8      |\n",
       "Выездная Торговля                 |9      |\n",
       "Жуковский ул. Чкалова 39м?        |10     |\n",
       "Жуковский ул. Чкалова 39м²        |11     |\n",
       "Интернет-магазин ЧС               |12     |\n",
       "&#34;Казань ТЦ &#34;&#34;Бехетле&#34;&#34;&#34;           |13     |\n",
       "&#34;Казань ТЦ &#34;&#34;ПаркХаус&#34;&#34; II&#34;       |14     |\n",
       "&#34;Калуга ТРЦ &#34;&#34;XXI век&#34;&#34;&#34;          |15     |\n",
       "&#34;Коломна ТЦ &#34;&#34;Рио&#34;&#34;&#34;              |16     |\n",
       "&#34;Красноярск ТЦ &#34;&#34;Взлетка Плаза&#34;&#34;&#34; |17     |\n",
       "&#34;Красноярск ТЦ &#34;&#34;Июнь&#34;&#34;&#34;          |18     |\n",
       "&#34;Курск ТЦ &#34;&#34;Пушкинский&#34;&#34;&#34;         |19     |\n",
       "+----------------------------------+-------+\n",
       "only showing top 20 rows\n",
       "\n",
       "</div>"
      ]
     },
     "metadata": {},
     "output_type": "display_data"
    }
   ],
   "source": [
    "shops_sdf.show(truncate=False)"
   ]
  },
  {
   "cell_type": "code",
   "execution_count": 83,
   "metadata": {},
   "outputs": [
    {
     "data": {
      "text/html": [
       "<style scoped>\n",
       "  .ansiout {\n",
       "    display: block;\n",
       "    unicode-bidi: embed;\n",
       "    white-space: pre-wrap;\n",
       "    word-wrap: break-word;\n",
       "    word-break: break-all;\n",
       "    font-family: \"Source Code Pro\", \"Menlo\", monospace;;\n",
       "    font-size: 13px;\n",
       "    color: #555;\n",
       "    margin-left: 4px;\n",
       "    line-height: 19px;\n",
       "  }\n",
       "</style>\n",
       "<div class=\"ansiout\"></div>"
      ]
     },
     "metadata": {},
     "output_type": "display_data"
    }
   ],
   "source": [
    "shops_sdf.createOrReplaceTempView(\"shops\")"
   ]
  },
  {
   "cell_type": "code",
   "execution_count": 84,
   "metadata": {},
   "outputs": [],
   "source": [
    "spark.sql(\"\"\"\n",
    "SELECT sales.shop_id\n",
    ",   shops.shop_name\n",
    "FROM (\n",
    "    SELECT DISTINCT shop_id\n",
    "    FROM sales)  sales\n",
    "LEFT JOIN shops\n",
    "ON sales.shop_id == shops.shop_id\n",
    "\"\"\").show(truncate=False)"
   ]
  },
  {
   "cell_type": "code",
   "execution_count": 85,
   "metadata": {},
   "outputs": [
    {
     "data": {
      "text/html": [
       "<style scoped>\n",
       "  .ansiout {\n",
       "    display: block;\n",
       "    unicode-bidi: embed;\n",
       "    white-space: pre-wrap;\n",
       "    word-wrap: break-word;\n",
       "    word-break: break-all;\n",
       "    font-family: \"Source Code Pro\", \"Menlo\", monospace;;\n",
       "    font-size: 13px;\n",
       "    color: #555;\n",
       "    margin-left: 4px;\n",
       "    line-height: 19px;\n",
       "  }\n",
       "</style>\n",
       "<div class=\"ansiout\">+-------+---+\n",
       "shop_id| nb|\n",
       "+-------+---+\n",
       "+-------+---+\n",
       "\n",
       "</div>"
      ]
     },
     "metadata": {},
     "output_type": "display_data"
    }
   ],
   "source": [
    "spark.sql(\"\"\"\n",
    "select\n",
    "  shop_id,\n",
    "  count(*) as nb\n",
    "from shops\n",
    "group by shop_id\n",
    "having nb > 1\n",
    "order by nb desc\n",
    "limit 10\n",
    "\"\"\"\n",
    ").show()"
   ]
  },
  {
   "cell_type": "code",
   "execution_count": 86,
   "metadata": {},
   "outputs": [],
   "source": [
    "spark.sql(\"\"\"\n",
    "SELECT \n",
    "    sales.shop_id\n",
    ",   shops.shop_name\n",
    ",   sum(sales.item_cnt_day)\n",
    "FROM sales\n",
    "LEFT JOIN shops\n",
    "ON sales.shop_id = shops.shop_id\n",
    "GROUP BY sales.shop_id, shops.shop_name\n",
    "\"\"\").show(truncate=False)"
   ]
  },
  {
   "cell_type": "code",
   "execution_count": 87,
   "metadata": {},
   "outputs": [
    {
     "data": {
      "text/html": [
       "<style scoped>\n",
       "  .ansiout {\n",
       "    display: block;\n",
       "    unicode-bidi: embed;\n",
       "    white-space: pre-wrap;\n",
       "    word-wrap: break-word;\n",
       "    word-break: break-all;\n",
       "    font-family: \"Source Code Pro\", \"Menlo\", monospace;;\n",
       "    font-size: 13px;\n",
       "    color: #555;\n",
       "    margin-left: 4px;\n",
       "    line-height: 19px;\n",
       "  }\n",
       "</style>\n",
       "<div class=\"ansiout\">+-------+-----------------------------------------+---------------------------------+\n",
       "shop_id|shop_name                                |sum(CAST(item_cnt_day AS DOUBLE))|\n",
       "+-------+-----------------------------------------+---------------------------------+\n",
       "52     |&#34;Уфа ТК &#34;&#34;Центральный&#34;&#34;&#34;                 |49744.0                          |\n",
       "23     |&#34;Москва ТК &#34;&#34;Буденовский&#34;&#34; (пав.А2)&#34;     |7705.0                           |\n",
       "49     |&#34;Тюмень ТРЦ &#34;&#34;Кристалл&#34;&#34;&#34;                |17090.0                          |\n",
       "29     |&#34;Москва ТЦ &#34;&#34;Новый век&#34;&#34; (Новокосино)&#34;   |58713.0                          |\n",
       "2      |&#34;Адыгея ТЦ &#34;&#34;Мега&#34;&#34;&#34;                     |30620.0                          |\n",
       "9      |Выездная Торговля                        |15866.0                          |\n",
       "39     |&#34;РостовНаДону ТРК &#34;&#34;Мегацентр Горизонт&#34;&#34;&#34;|16617.0                          |\n",
       "6      |Воронеж (Плехановская, 13)               |100489.0                         |\n",
       "5      |&#34;Вологда ТРЦ &#34;&#34;Мармелад&#34;&#34;&#34;               |42762.0                          |\n",
       "14     |&#34;Казань ТЦ &#34;&#34;ПаркХаус&#34;&#34; II&#34;              |46375.0                          |\n",
       "1      |&#34;!Якутск ТЦ &#34;&#34;Центральный&#34;&#34; фран&#34;        |6311.0                           |\n",
       "19     |&#34;Курск ТЦ &#34;&#34;Пушкинский&#34;&#34;&#34;                |73455.0                          |\n",
       "13     |&#34;Казань ТЦ &#34;&#34;Бехетле&#34;&#34;&#34;                  |19763.0                          |\n",
       "51     |&#34;Тюмень ТЦ &#34;&#34;Зеленый Берег&#34;&#34;&#34;            |48767.0                          |\n",
       "4      |&#34;Волжский ТЦ &#34;&#34;Волга Молл&#34;&#34;&#34;             |43942.0                          |\n",
       "16     |&#34;Коломна ТЦ &#34;&#34;Рио&#34;&#34;&#34;                     |61633.0                          |\n",
       "53     |&#34;Уфа ТЦ &#34;&#34;Семья&#34;&#34; 2&#34;                     |61657.0                          |\n",
       "38     |&#34;Омск ТЦ &#34;&#34;Мега&#34;&#34;&#34;                       |53886.0                          |\n",
       "11     |Жуковский ул. Чкалова 39м²               |572.0                            |\n",
       "37     |&#34;Новосибирск ТЦ &#34;&#34;Мега&#34;&#34;&#34;                |46256.0                          |\n",
       "+-------+-----------------------------------------+---------------------------------+\n",
       "only showing top 20 rows\n",
       "\n",
       "</div>"
      ]
     },
     "metadata": {},
     "output_type": "display_data"
    }
   ],
   "source": [
    "spark.sql(\"\"\"\n",
    "SELECT \n",
    "    sales.shop_id\n",
    ",   shops.shop_name\n",
    ",   sum(sales.item_cnt_day)\n",
    "FROM sales\n",
    "LEFT JOIN shops\n",
    "USING (shop_id)\n",
    "GROUP BY sales.shop_id, shops.shop_name\n",
    "\"\"\").show(truncate=False)"
   ]
  },
  {
   "cell_type": "code",
   "execution_count": 88,
   "metadata": {},
   "outputs": [
    {
     "data": {
      "text/html": [
       "<style scoped>\n",
       "  .ansiout {\n",
       "    display: block;\n",
       "    unicode-bidi: embed;\n",
       "    white-space: pre-wrap;\n",
       "    word-wrap: break-word;\n",
       "    word-break: break-all;\n",
       "    font-family: \"Source Code Pro\", \"Menlo\", monospace;;\n",
       "    font-size: 13px;\n",
       "    color: #555;\n",
       "    margin-left: 4px;\n",
       "    line-height: 19px;\n",
       "  }\n",
       "</style>\n",
       "<div class=\"ansiout\">+-------+--------------------+-----------------+\n",
       "shop_id|           shop_name|sum(item_cnt_day)|\n",
       "+-------+--------------------+-----------------+\n",
       "     52|&#34;Уфа ТК &#34;&#34;Централ...|          49744.0|\n",
       "     23|&#34;Москва ТК &#34;&#34;Буде...|           7705.0|\n",
       "     49|&#34;Тюмень ТРЦ &#34;&#34;Кри...|          17090.0|\n",
       "     29|&#34;Москва ТЦ &#34;&#34;Новы...|          58713.0|\n",
       "      2|&#34;Адыгея ТЦ &#34;&#34;Мега&#34;&#34;&#34;|          30620.0|\n",
       "      9|   Выездная Торговля|          15866.0|\n",
       "     39|&#34;РостовНаДону ТРК...|          16617.0|\n",
       "      6|Воронеж (Плеханов...|         100489.0|\n",
       "      5|&#34;Вологда ТРЦ &#34;&#34;Ма...|          42762.0|\n",
       "     14|&#34;Казань ТЦ &#34;&#34;Парк...|          46375.0|\n",
       "      1|&#34;!Якутск ТЦ &#34;&#34;Цен...|           6311.0|\n",
       "     19|&#34;Курск ТЦ &#34;&#34;Пушки...|          73455.0|\n",
       "     13|&#34;Казань ТЦ &#34;&#34;Бехе...|          19763.0|\n",
       "     51|&#34;Тюмень ТЦ &#34;&#34;Зеле...|          48767.0|\n",
       "      4|&#34;Волжский ТЦ &#34;&#34;Во...|          43942.0|\n",
       "     16|&#34;Коломна ТЦ &#34;&#34;Рио&#34;&#34;&#34;|          61633.0|\n",
       "     53|&#34;Уфа ТЦ &#34;&#34;Семья&#34;&#34; 2&#34;|          61657.0|\n",
       "     38|  &#34;Омск ТЦ &#34;&#34;Мега&#34;&#34;&#34;|          53886.0|\n",
       "     11|Жуковский ул. Чка...|            572.0|\n",
       "     37|&#34;Новосибирск ТЦ &#34;...|          46256.0|\n",
       "+-------+--------------------+-----------------+\n",
       "only showing top 20 rows\n",
       "\n",
       "</div>"
      ]
     },
     "metadata": {},
     "output_type": "display_data"
    }
   ],
   "source": [
    "sales_sdf\\\n",
    "  .join(shops_sdf, \"shop_id\", how=\"left\")\\\n",
    "  .groupBy(\"shop_id\", \"shop_name\")\\\n",
    "  .agg(F.sum(sales_sdf.item_cnt_day))\\\n",
    "  .show()"
   ]
  },
  {
   "cell_type": "code",
   "execution_count": 89,
   "metadata": {},
   "outputs": [],
   "source": [
    "sales_sdf\\\n",
    "    .select(\"shop_id\")\\\n",
    "    .distinct()\\\n",
    "    .join(shops_sdf, \"shop_id\", how=\"left\")\\\n",
    "    .select(\"shop_id\", \"shop_name\")\\\n",
    "    .show(truncate=False)"
   ]
  },
  {
   "cell_type": "markdown",
   "metadata": {},
   "source": [
    "__Exercise__ Find a product with highest sell."
   ]
  },
  {
   "cell_type": "code",
   "execution_count": 91,
   "metadata": {},
   "outputs": [],
   "source": [
    "# example with cache\n",
    "# example using struct data\n",
    "# example using subqueries (explicit or as two dataframes)"
   ]
  },
  {
   "cell_type": "code",
   "execution_count": 41,
   "metadata": {},
   "outputs": [
    {
     "name": "stdout",
     "output_type": "stream",
     "text": [
      "+----------+-------+------------+\n",
      "|      date|item_id|item_cnt_day|\n",
      "+----------+-------+------------+\n",
      "|2013-01-02|   3193|         6.0|\n",
      "|2013-01-12|   1924|         1.0|\n",
      "|2013-01-03|   1802|         4.0|\n",
      "|2013-01-03|   5198|         5.0|\n",
      "|2013-01-09|   3686|         6.0|\n",
      "|2013-01-31|   3686|         4.0|\n",
      "|2013-01-23|   3320|         8.0|\n",
      "|2013-01-11|   4443|         2.0|\n",
      "|2013-01-23|   5822|         4.0|\n",
      "|2013-01-20|   3468|         7.0|\n",
      "|2013-01-11|  16594|         1.0|\n",
      "|2013-01-22|    482|         6.0|\n",
      "|2013-01-20|     32|         7.0|\n",
      "|2013-01-03|  10774|         1.0|\n",
      "|2013-01-21|   9043|         7.0|\n",
      "|2013-01-02|  12829|         2.0|\n",
      "|2013-01-13|  14217|         3.0|\n",
      "|2013-01-21|  13418|         3.0|\n",
      "|2013-01-04|  14164|         2.0|\n",
      "|2013-01-14|  12874|         2.0|\n",
      "+----------+-------+------------+\n",
      "only showing top 20 rows\n",
      "\n"
     ]
    }
   ],
   "source": [
    "item_daily_sales = sales_sdf2\\\n",
    "  .groupBy(\"date\",\"item_id\")\\\n",
    "  .agg(F.sum(F.col(\"item_cnt_day\")).alias(\"item_cnt_day\")).cache()\n",
    "item_daily_sales.show()"
   ]
  },
  {
   "cell_type": "code",
   "execution_count": 42,
   "metadata": {},
   "outputs": [
    {
     "name": "stdout",
     "output_type": "stream",
     "text": [
      "+----------+----------------+\n",
      "|      date|max_item_cnt_day|\n",
      "+----------+----------------+\n",
      "|2013-01-22|            32.0|\n",
      "|2013-03-26|           527.0|\n",
      "|2013-05-21|           140.0|\n",
      "|2013-09-09|           155.0|\n",
      "|2014-09-26|           288.0|\n",
      "|2014-11-12|           133.0|\n",
      "|2015-03-09|           134.0|\n",
      "|2015-05-19|          2005.0|\n",
      "|2013-09-19|           452.0|\n",
      "|2015-03-06|           101.0|\n",
      "|2013-02-02|           112.0|\n",
      "|2014-08-01|           228.0|\n",
      "|2015-04-09|           100.0|\n",
      "|2015-09-02|            87.0|\n",
      "|2014-06-03|           140.0|\n",
      "|2013-02-04|            37.0|\n",
      "|2013-09-12|           181.0|\n",
      "|2014-01-24|           231.0|\n",
      "|2014-02-16|           316.0|\n",
      "|2014-06-11|           207.0|\n",
      "+----------+----------------+\n",
      "only showing top 20 rows\n",
      "\n"
     ]
    }
   ],
   "source": [
    "max_daily_sale = item_daily_sales\\\n",
    "  .groupBy(\"date\")\\\n",
    "  .agg(F.max(\"item_cnt_day\").alias(\"max_item_cnt_day\"))\n",
    "max_daily_sale.show()"
   ]
  },
  {
   "cell_type": "code",
   "execution_count": 43,
   "metadata": {},
   "outputs": [
    {
     "name": "stdout",
     "output_type": "stream",
     "text": [
      "+----------+-------+------------+\n",
      "|      date|item_id|item_cnt_day|\n",
      "+----------+-------+------------+\n",
      "|2013-01-01|  16450|        39.0|\n",
      "|2013-01-02|  16450|       120.0|\n",
      "|2013-01-03|  16450|       103.0|\n",
      "|2013-01-04|  16450|        91.0|\n",
      "|2013-01-05|  16450|        83.0|\n",
      "|2013-01-06|  16450|        77.0|\n",
      "|2013-01-07|  16450|        57.0|\n",
      "|2013-01-08|  16450|        53.0|\n",
      "|2013-01-09|   3432|        31.0|\n",
      "|2013-01-10|   2808|        23.0|\n",
      "|2013-01-11|   2808|        50.0|\n",
      "|2013-01-12|   2808|        65.0|\n",
      "|2013-01-12|  16450|        65.0|\n",
      "|2013-01-13|   3432|        47.0|\n",
      "|2013-01-14|   3432|        34.0|\n",
      "|2013-01-15|   2973|       134.0|\n",
      "|2013-01-16|   2973|        80.0|\n",
      "|2013-01-17|   2973|        43.0|\n",
      "|2013-01-18|   2973|        41.0|\n",
      "|2013-01-19|  14346|        79.0|\n",
      "+----------+-------+------------+\n",
      "only showing top 20 rows\n",
      "\n"
     ]
    }
   ],
   "source": [
    "max_daily_sale.alias(\"ms\")\\\n",
    "  .join(item_daily_sales.alias(\"ds\"), F.expr(\"(ms.date = ds.date) AND (ms.max_item_cnt_day = ds.item_cnt_day)\"))\\\n",
    "  .select(\"ds.date\",\"item_id\",\"item_cnt_day\")\\\n",
    "  .orderBy(\"date\")\\\n",
    "  .show()"
   ]
  },
  {
   "cell_type": "code",
   "execution_count": 44,
   "metadata": {},
   "outputs": [
    {
     "name": "stdout",
     "output_type": "stream",
     "text": [
      "+----------+------------+-------+\n",
      "|      date|item_cnt_day|item_id|\n",
      "+----------+------------+-------+\n",
      "|2013-01-01|        39.0|  16450|\n",
      "|2013-01-02|       120.0|  16450|\n",
      "|2013-01-03|       103.0|  16450|\n",
      "|2013-01-04|        91.0|  16450|\n",
      "|2013-01-05|        83.0|  16450|\n",
      "|2013-01-06|        77.0|  16450|\n",
      "|2013-01-07|        57.0|  16450|\n",
      "|2013-01-08|        53.0|  16450|\n",
      "|2013-01-09|        31.0|   3432|\n",
      "|2013-01-10|        23.0|   2808|\n",
      "|2013-01-11|        50.0|   2808|\n",
      "|2013-01-12|        65.0|   2808|\n",
      "|2013-01-13|        47.0|   3432|\n",
      "|2013-01-14|        34.0|   3432|\n",
      "|2013-01-15|       134.0|   2973|\n",
      "|2013-01-16|        80.0|   2973|\n",
      "|2013-01-17|        43.0|   2973|\n",
      "|2013-01-18|        41.0|   2973|\n",
      "|2013-01-19|        79.0|  14346|\n",
      "|2013-01-20|        78.0|  14346|\n",
      "+----------+------------+-------+\n",
      "only showing top 20 rows\n",
      "\n"
     ]
    }
   ],
   "source": [
    "item_and_sales = item_daily_sales\\\n",
    "  .select(\"date\", F.struct(F.col(\"item_cnt_day\"),F.col(\"item_id\")).alias(\"par\"))\\\n",
    "  .groupBy(\"date\")\\\n",
    "  .agg(F.max(\"par\").alias(\"best_sale\"))\\\n",
    "  .select(\"date\",\"best_sale.item_cnt_day\",\"best_sale.item_id\")\\\n",
    "  .orderBy(\"date\")\n",
    "item_and_sales.show()"
   ]
  },
  {
   "cell_type": "code",
   "execution_count": 96,
   "metadata": {},
   "outputs": [
    {
     "data": {
      "text/html": [
       "<style scoped>\n",
       "  .ansiout {\n",
       "    display: block;\n",
       "    unicode-bidi: embed;\n",
       "    white-space: pre-wrap;\n",
       "    word-wrap: break-word;\n",
       "    word-break: break-all;\n",
       "    font-family: \"Source Code Pro\", \"Menlo\", monospace;;\n",
       "    font-size: 13px;\n",
       "    color: #555;\n",
       "    margin-left: 4px;\n",
       "    line-height: 19px;\n",
       "  }\n",
       "</style>\n",
       "<div class=\"ansiout\">root\n",
       "-- date: string (nullable = true)\n",
       "-- best_sale: struct (nullable = true)\n",
       "    |-- item_cnt_day: double (nullable = true)\n",
       "    |-- item_id: string (nullable = true)\n",
       "\n",
       "</div>"
      ]
     },
     "metadata": {},
     "output_type": "display_data"
    }
   ],
   "source": [
    "item_and_sales.printSchema()"
   ]
  },
  {
   "cell_type": "markdown",
   "metadata": {},
   "source": [
    "Bonus: anadir el nombre del producto ? (indice `items.csv`)"
   ]
  },
  {
   "cell_type": "markdown",
   "metadata": {},
   "source": [
    "__Exercise__ For each day in August 2015 find shop name with maximal sales."
   ]
  },
  {
   "cell_type": "code",
   "execution_count": 99,
   "metadata": {},
   "outputs": [],
   "source": []
  },
  {
   "cell_type": "markdown",
   "metadata": {},
   "source": [
    "## Window functions\n",
    "\n",
    "First let's correct the date."
   ]
  },
  {
   "cell_type": "code",
   "execution_count": 19,
   "metadata": {},
   "outputs": [],
   "source": [
    "from pyspark.sql import Window"
   ]
  },
  {
   "cell_type": "code",
   "execution_count": 18,
   "metadata": {},
   "outputs": [],
   "source": [
    "df = spark.createDataFrame([(\"a\", 1), (\"b\",1), (\"b\", 2), (\"c\",  3)], [\"Col1\", \"Col2\"])"
   ]
  },
  {
   "cell_type": "code",
   "execution_count": 26,
   "metadata": {},
   "outputs": [
    {
     "name": "stdout",
     "output_type": "stream",
     "text": [
      "+----+----+----------------------------------------------------------------------------------------------+\n",
      "|Col1|Col2|lead(Col2, 1, NULL) OVER (PARTITION BY Col1 ORDER BY Col2 ASC NULLS FIRST unspecifiedframe$())|\n",
      "+----+----+----------------------------------------------------------------------------------------------+\n",
      "|   c|   3|                                                                                          null|\n",
      "|   b|   1|                                                                                             2|\n",
      "|   b|   2|                                                                                          null|\n",
      "|   a|   1|                                                                                          null|\n",
      "+----+----+----------------------------------------------------------------------------------------------+\n",
      "\n"
     ]
    }
   ],
   "source": [
    "w = Window.partitionBy(\"Col1\").orderBy('Col2')\n",
    "df.select(\"Col1\",\"Col2\",F.rank(\"Col2\",1).over(w)).show()"
   ]
  },
  {
   "cell_type": "code",
   "execution_count": 28,
   "metadata": {},
   "outputs": [
    {
     "name": "stdout",
     "output_type": "stream",
     "text": [
      "+----+----+---------------------------------------------------------------------------------+\n",
      "|Col1|Col2|RANK() OVER (PARTITION BY Col1 ORDER BY Col2 ASC NULLS FIRST unspecifiedframe$())|\n",
      "+----+----+---------------------------------------------------------------------------------+\n",
      "|   c|   3|                                                                                1|\n",
      "|   b|   1|                                                                                1|\n",
      "|   b|   2|                                                                                2|\n",
      "|   a|   1|                                                                                1|\n",
      "+----+----+---------------------------------------------------------------------------------+\n",
      "\n"
     ]
    }
   ],
   "source": [
    "w = Window.partitionBy(\"Col1\").orderBy('Col2')\n",
    "df.select(\"Col1\",\"Col2\",F.rank().over(w)).show()"
   ]
  },
  {
   "cell_type": "code",
   "execution_count": 31,
   "metadata": {},
   "outputs": [
    {
     "name": "stdout",
     "output_type": "stream",
     "text": [
      "+----+----+----+\n",
      "|Col1|Col2|rank|\n",
      "+----+----+----+\n",
      "|   c|   3|   1|\n",
      "|   b|   1|   1|\n",
      "|   a|   1|   1|\n",
      "+----+----+----+\n",
      "\n"
     ]
    }
   ],
   "source": [
    "w = Window.partitionBy(\"Col1\").orderBy('Col2')\n",
    "df\\\n",
    "    .select(\"Col1\",\"Col2\",F.rank().over(w).alias(\"rank\"))\\\n",
    "    .filter(F.col(\"rank\")==1).show()"
   ]
  },
  {
   "cell_type": "code",
   "execution_count": 46,
   "metadata": {},
   "outputs": [],
   "source": [
    "item_daily_sales.createOrReplaceTempView(\"item_daily_sales\")"
   ]
  },
  {
   "cell_type": "code",
   "execution_count": 45,
   "metadata": {},
   "outputs": [
    {
     "name": "stdout",
     "output_type": "stream",
     "text": [
      "+----------+-------+------------+\n",
      "|      date|item_id|item_cnt_day|\n",
      "+----------+-------+------------+\n",
      "|2013-01-02|   3193|         6.0|\n",
      "|2013-01-12|   1924|         1.0|\n",
      "|2013-01-03|   1802|         4.0|\n",
      "|2013-01-03|   5198|         5.0|\n",
      "|2013-01-09|   3686|         6.0|\n",
      "|2013-01-31|   3686|         4.0|\n",
      "|2013-01-23|   3320|         8.0|\n",
      "|2013-01-11|   4443|         2.0|\n",
      "|2013-01-23|   5822|         4.0|\n",
      "|2013-01-20|   3468|         7.0|\n",
      "|2013-01-11|  16594|         1.0|\n",
      "|2013-01-22|    482|         6.0|\n",
      "|2013-01-20|     32|         7.0|\n",
      "|2013-01-03|  10774|         1.0|\n",
      "|2013-01-21|   9043|         7.0|\n",
      "|2013-01-02|  12829|         2.0|\n",
      "|2013-01-13|  14217|         3.0|\n",
      "|2013-01-21|  13418|         3.0|\n",
      "|2013-01-04|  14164|         2.0|\n",
      "|2013-01-14|  12874|         2.0|\n",
      "+----------+-------+------------+\n",
      "only showing top 20 rows\n",
      "\n"
     ]
    }
   ],
   "source": [
    "item_daily_sales.show()"
   ]
  },
  {
   "cell_type": "code",
   "execution_count": 47,
   "metadata": {},
   "outputs": [
    {
     "name": "stdout",
     "output_type": "stream",
     "text": [
      "+----------+-------+------------+\n",
      "|      date|item_id|item_cnt_day|\n",
      "+----------+-------+------------+\n",
      "|2013-01-01|  16450|        39.0|\n",
      "|2013-01-02|  16450|       120.0|\n",
      "|2013-01-03|  16450|       103.0|\n",
      "|2013-01-04|  16450|        91.0|\n",
      "|2013-01-05|  16450|        83.0|\n",
      "|2013-01-06|  16450|        77.0|\n",
      "|2013-01-07|  16450|        57.0|\n",
      "|2013-01-08|  16450|        53.0|\n",
      "|2013-01-09|   3432|        31.0|\n",
      "|2013-01-10|   2808|        23.0|\n",
      "|2013-01-11|   2808|        50.0|\n",
      "|2013-01-12|  16450|        65.0|\n",
      "|2013-01-12|   2808|        65.0|\n",
      "|2013-01-13|   3432|        47.0|\n",
      "|2013-01-14|   3432|        34.0|\n",
      "|2013-01-15|   2973|       134.0|\n",
      "|2013-01-16|   2973|        80.0|\n",
      "|2013-01-17|   2973|        43.0|\n",
      "|2013-01-18|   2973|        41.0|\n",
      "|2013-01-19|  14346|        79.0|\n",
      "+----------+-------+------------+\n",
      "only showing top 20 rows\n",
      "\n"
     ]
    }
   ],
   "source": [
    "spark.sql(\"\"\"\n",
    "SELECT\n",
    "    date,\n",
    "    item_id,\n",
    "    item_cnt_day\n",
    "FROM(\n",
    "SELECT\n",
    "    date,\n",
    "    item_id,\n",
    "    item_cnt_day,\n",
    "    RANK() OVER (partition by date order by item_cnt_day desc) as rank\n",
    "FROM item_daily_sales)\n",
    "WHERE rank=1\n",
    "ORDER BY date\n",
    "\"\"\").show()"
   ]
  },
  {
   "cell_type": "code",
   "execution_count": 51,
   "metadata": {},
   "outputs": [
    {
     "name": "stdout",
     "output_type": "stream",
     "text": [
      "+-------+-------+----------+------------+-----------------+\n",
      "|shop_id|item_id|      date|item_cnt_day|lead_item_cnt_day|\n",
      "+-------+-------+----------+------------+-----------------+\n",
      "|      0|   1000|2013-01-03|         1.0|              1.0|\n",
      "|      0|   1000|2013-01-08|         1.0|              1.0|\n",
      "|      0|   1000|2013-01-09|         1.0|              1.0|\n",
      "|      0|   1000|2013-01-10|         1.0|              1.0|\n",
      "|      0|   1000|2013-01-20|         1.0|              1.0|\n",
      "|      0|   1000|2013-02-15|         1.0|              1.0|\n",
      "|      0|   1000|2013-02-16|         1.0|              1.0|\n",
      "|      0|   1000|2013-02-17|         1.0|              1.0|\n",
      "|      0|   1000|2013-02-27|         1.0|             null|\n",
      "|      0|  10004|2013-02-09|         1.0|             null|\n",
      "|      0|   1001|2013-01-03|         1.0|              1.0|\n",
      "|      0|   1001|2013-01-12|         1.0|             null|\n",
      "|      0|  10012|2013-01-22|         1.0|              1.0|\n",
      "|      0|  10012|2013-02-14|         1.0|              1.0|\n",
      "|      0|  10012|2013-02-19|         1.0|             null|\n",
      "|      0|   1002|2013-01-09|         1.0|              1.0|\n",
      "|      0|   1002|2013-01-28|         1.0|             null|\n",
      "|      0|   1003|2013-01-09|         1.0|              1.0|\n",
      "|      0|   1003|2013-01-17|         1.0|             null|\n",
      "|      0|  10033|2013-02-26|         1.0|             null|\n",
      "+-------+-------+----------+------------+-----------------+\n",
      "only showing top 20 rows\n",
      "\n"
     ]
    }
   ],
   "source": [
    "spark.sql(\"\"\"\n",
    "SELECT shop_id\n",
    ",   item_id\n",
    ",   date\n",
    ",   item_cnt_day\n",
    ",   LEAD(item_cnt_day) OVER \n",
    "        (PARTITION BY shop_id, item_id ORDER BY date) as lead_item_cnt_day\n",
    "FROM sales2\n",
    "ORDER BY shop_id\n",
    ",   item_id\n",
    ",   date\n",
    "\"\"\").show()"
   ]
  },
  {
   "cell_type": "code",
   "execution_count": 52,
   "metadata": {},
   "outputs": [
    {
     "name": "stdout",
     "output_type": "stream",
     "text": [
      "+-------+-------+----------+------------+-----------------+\n",
      "|shop_id|item_id|      date|item_cnt_day|lead_item_cnt_day|\n",
      "+-------+-------+----------+------------+-----------------+\n",
      "|      0|   1000|2013-01-03|         1.0|              1.0|\n",
      "|      0|   1000|2013-01-08|         1.0|              1.0|\n",
      "|      0|   1000|2013-01-09|         1.0|              1.0|\n",
      "|      0|   1000|2013-01-10|         1.0|              1.0|\n",
      "|      0|   1000|2013-01-20|         1.0|              1.0|\n",
      "|      0|   1000|2013-02-15|         1.0|              1.0|\n",
      "|      0|   1000|2013-02-16|         1.0|              1.0|\n",
      "|      0|   1000|2013-02-17|         1.0|              1.0|\n",
      "|      0|   1000|2013-02-27|         1.0|             null|\n",
      "|      0|  10004|2013-02-09|         1.0|             null|\n",
      "|      0|   1001|2013-01-03|         1.0|              1.0|\n",
      "|      0|   1001|2013-01-12|         1.0|             null|\n",
      "|      0|  10012|2013-01-22|         1.0|              1.0|\n",
      "|      0|  10012|2013-02-14|         1.0|              1.0|\n",
      "|      0|  10012|2013-02-19|         1.0|             null|\n",
      "|      0|   1002|2013-01-09|         1.0|              1.0|\n",
      "|      0|   1002|2013-01-28|         1.0|             null|\n",
      "|      0|   1003|2013-01-09|         1.0|              1.0|\n",
      "|      0|   1003|2013-01-17|         1.0|             null|\n",
      "|      0|  10033|2013-02-26|         1.0|             null|\n",
      "+-------+-------+----------+------------+-----------------+\n",
      "only showing top 20 rows\n",
      "\n"
     ]
    }
   ],
   "source": [
    "from pyspark.sql import Window\n",
    "\n",
    "sales_sdf2.select(\n",
    "    F.col(\"shop_id\"),   \n",
    "    F.col(\"item_id\"),   \n",
    "    F.col(\"date\"),   \n",
    "    F.col(\"item_cnt_day\"),   \n",
    "    F.lead(F.col(\"item_cnt_day\"))\\\n",
    "        .over(Window.partitionBy(\"shop_id\", \"item_id\").orderBy('date'))\\\n",
    "        .alias(\"lead_item_cnt_day\")\n",
    ").orderBy(\"shop_id\", \"item_id\", \"date\").show()\n"
   ]
  },
  {
   "cell_type": "code",
   "execution_count": 54,
   "metadata": {},
   "outputs": [
    {
     "name": "stdout",
     "output_type": "stream",
     "text": [
      "+-------+-------+----------+------------+-----------------+\n",
      "|shop_id|item_id|      date|item_cnt_day|lead_item_cnt_day|\n",
      "+-------+-------+----------+------------+-----------------+\n",
      "|      0|   1000|2013-01-03|         1.0|              1.0|\n",
      "|      0|   1000|2013-01-08|         1.0|              1.0|\n",
      "|      0|   1000|2013-01-09|         1.0|              1.0|\n",
      "|      0|   1000|2013-01-10|         1.0|              1.0|\n",
      "|      0|   1000|2013-01-20|         1.0|              1.0|\n",
      "|      0|   1000|2013-02-15|         1.0|              1.0|\n",
      "|      0|   1000|2013-02-16|         1.0|              1.0|\n",
      "|      0|   1000|2013-02-17|         1.0|              1.0|\n",
      "|      0|   1000|2013-02-27|         1.0|             null|\n",
      "|      0|  10004|2013-02-09|         1.0|             null|\n",
      "|      0|   1001|2013-01-03|         1.0|              1.0|\n",
      "|      0|   1001|2013-01-12|         1.0|             null|\n",
      "|      0|  10012|2013-01-22|         1.0|              1.0|\n",
      "|      0|  10012|2013-02-14|         1.0|              1.0|\n",
      "|      0|  10012|2013-02-19|         1.0|             null|\n",
      "|      0|   1002|2013-01-09|         1.0|              1.0|\n",
      "|      0|   1002|2013-01-28|         1.0|             null|\n",
      "|      0|   1003|2013-01-09|         1.0|              1.0|\n",
      "|      0|   1003|2013-01-17|         1.0|             null|\n",
      "|      0|  10033|2013-02-26|         1.0|             null|\n",
      "+-------+-------+----------+------------+-----------------+\n",
      "only showing top 20 rows\n",
      "\n"
     ]
    }
   ],
   "source": [
    "window = Window.partitionBy(\"shop_id\", \"item_id\").orderBy('date')\n",
    "\n",
    "sales_sdf2.select(\n",
    "    F.col(\"shop_id\"),   \n",
    "    F.col(\"item_id\"),   \n",
    "    F.col(\"date\"),   \n",
    "    F.col(\"item_cnt_day\"),   \n",
    "    F.lead(F.col(\"item_cnt_day\"))\\\n",
    "        .over(window)\\\n",
    "        .alias(\"lead_item_cnt_day\")\n",
    ").orderBy(\"shop_id\", \"item_id\", \"date\").show()\n"
   ]
  },
  {
   "cell_type": "markdown",
   "metadata": {},
   "source": [
    "__Exercise__ What is moving average (+-3 days) of total daily revenue?"
   ]
  },
  {
   "cell_type": "code",
   "execution_count": null,
   "metadata": {},
   "outputs": [],
   "source": []
  },
  {
   "cell_type": "markdown",
   "metadata": {},
   "source": [
    "## Extra Exercises\n",
    "\n",
    "* Which shop had the highest sells in August 2015. What was his name?\n",
    "* What is the name of category of with the highest monthly sells."
   ]
  },
  {
   "cell_type": "markdown",
   "metadata": {},
   "source": [
    "# DataFrame as an RDD of Rows"
   ]
  },
  {
   "cell_type": "code",
   "execution_count": 113,
   "metadata": {},
   "outputs": [],
   "source": [
    "type(sales_sdf)"
   ]
  },
  {
   "cell_type": "code",
   "execution_count": 114,
   "metadata": {},
   "outputs": [],
   "source": [
    "row = sales_sdf.first()\n",
    "row"
   ]
  },
  {
   "cell_type": "code",
   "execution_count": 115,
   "metadata": {},
   "outputs": [],
   "source": [
    "print(row.date)\n",
    "print(row['date_block_num'])\n",
    "row.asDict()"
   ]
  },
  {
   "cell_type": "code",
   "execution_count": 116,
   "metadata": {},
   "outputs": [],
   "source": [
    "sales_sdf.rdd.take(5)"
   ]
  },
  {
   "cell_type": "code",
   "execution_count": 117,
   "metadata": {},
   "outputs": [],
   "source": [
    "print(sales_sdf.rdd.toDebugString().decode())"
   ]
  },
  {
   "cell_type": "code",
   "execution_count": 118,
   "metadata": {},
   "outputs": [],
   "source": [
    "sales_per_day = sales_sdf\\\n",
    "    .groupBy(F.col(\"date\"))\\\n",
    "    .agg(F.sum(F.col(\"item_cnt_day\")))\n",
    "\n",
    "print(sales_per_day.rdd.toDebugString().decode())"
   ]
  },
  {
   "cell_type": "code",
   "execution_count": 119,
   "metadata": {},
   "outputs": [],
   "source": []
  }
 ],
 "metadata": {
  "kernelspec": {
   "display_name": "Python 3",
   "language": "python",
   "name": "python3"
  },
  "language_info": {
   "codemirror_mode": {
    "name": "ipython",
    "version": 3
   },
   "file_extension": ".py",
   "mimetype": "text/x-python",
   "name": "python",
   "nbconvert_exporter": "python",
   "pygments_lexer": "ipython3",
   "version": "3.7.5"
  },
  "name": "DataFrames_SQL",
  "notebookId": 68
 },
 "nbformat": 4,
 "nbformat_minor": 1
}
