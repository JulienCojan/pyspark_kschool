{
 "cells": [
  {
   "cell_type": "markdown",
   "metadata": {},
   "source": [
    "## SQL vs Spark\n",
    "\n",
    "Examples borrowed from:\n",
    "    * https://github.com/sbartek/intro-to-pyspark\n",
    "    * https://github.com/carloapp2/SparkPOT.git\n",
    "    \n",
    "See doc on: http://spark.apache.org/docs/latest/api/python/pyspark.sql.html#\n",
    "\n",
    "Data comes from \n",
    "<https://www.kaggle.com/c/competitive-data-science-predict-future-sales/data>"
   ]
  },
  {
   "cell_type": "code",
   "execution_count": 4,
   "metadata": {},
   "outputs": [
    {
     "data": {
      "text/html": [
       "\n",
       "            <div>\n",
       "                <p><b>SparkSession - hive</b></p>\n",
       "                \n",
       "        <div>\n",
       "            <p><b>SparkContext</b></p>\n",
       "\n",
       "            <p><a href=\"http://192.168.56.1:4040\">Spark UI</a></p>\n",
       "\n",
       "            <dl>\n",
       "              <dt>Version</dt>\n",
       "                <dd><code>v3.0.0</code></dd>\n",
       "              <dt>Master</dt>\n",
       "                <dd><code>local[*]</code></dd>\n",
       "              <dt>AppName</dt>\n",
       "                <dd><code>PySparkShell</code></dd>\n",
       "            </dl>\n",
       "        </div>\n",
       "        \n",
       "            </div>\n",
       "        "
      ],
      "text/plain": [
       "<pyspark.sql.session.SparkSession at 0x7f7274481490>"
      ]
     },
     "execution_count": 4,
     "metadata": {},
     "output_type": "execute_result"
    }
   ],
   "source": [
    "## Check if spark session is defined\n",
    "## Otherwise create one with\n",
    "#from pyspark.sql import SparkSession\n",
    "# spark = SparkSession.builder.appName(\"PySparkShell\").getOrCreate()\n",
    "spark"
   ]
  },
  {
   "cell_type": "code",
   "execution_count": null,
   "metadata": {},
   "outputs": [],
   "source": [
    "!wget https://raw.githubusercontent.com/JulienCojan/pyspark_kschool/master/data/competitive-data-science-predict-future-sales/sales_train.csv.gz -P data/"
   ]
  },
  {
   "cell_type": "markdown",
   "metadata": {},
   "source": [
    "# Dataframe"
   ]
  },
  {
   "cell_type": "code",
   "execution_count": 5,
   "metadata": {},
   "outputs": [],
   "source": [
    "sales_sdf = spark\\\n",
    "    .read\\\n",
    "    .option(\"header\", \"true\")\\\n",
    "    .csv(\"data/sales_train.csv.gz\")"
   ]
  },
  {
   "cell_type": "code",
   "execution_count": 6,
   "metadata": {},
   "outputs": [
    {
     "name": "stdout",
     "output_type": "stream",
     "text": [
      "root\n",
      " |-- date: string (nullable = true)\n",
      " |-- date_block_num: string (nullable = true)\n",
      " |-- shop_id: string (nullable = true)\n",
      " |-- item_id: string (nullable = true)\n",
      " |-- item_price: string (nullable = true)\n",
      " |-- item_cnt_day: string (nullable = true)\n",
      "\n"
     ]
    }
   ],
   "source": [
    "sales_sdf.printSchema()"
   ]
  },
  {
   "cell_type": "code",
   "execution_count": 3,
   "metadata": {},
   "outputs": [
    {
     "name": "stdout",
     "output_type": "stream",
     "text": [
      "+----------+--------------+-------+-------+----------+------------+\n",
      "|date      |date_block_num|shop_id|item_id|item_price|item_cnt_day|\n",
      "+----------+--------------+-------+-------+----------+------------+\n",
      "|02.01.2013|0             |59     |22154  |999.0     |1.0         |\n",
      "|03.01.2013|0             |25     |2552   |899.0     |1.0         |\n",
      "|05.01.2013|0             |25     |2552   |899.0     |-1.0        |\n",
      "|06.01.2013|0             |25     |2554   |1709.05   |1.0         |\n",
      "|15.01.2013|0             |25     |2555   |1099.0    |1.0         |\n",
      "|10.01.2013|0             |25     |2564   |349.0     |1.0         |\n",
      "|02.01.2013|0             |25     |2565   |549.0     |1.0         |\n",
      "|04.01.2013|0             |25     |2572   |239.0     |1.0         |\n",
      "|11.01.2013|0             |25     |2572   |299.0     |1.0         |\n",
      "|03.01.2013|0             |25     |2573   |299.0     |3.0         |\n",
      "|03.01.2013|0             |25     |2574   |399.0     |2.0         |\n",
      "|05.01.2013|0             |25     |2574   |399.0     |1.0         |\n",
      "|07.01.2013|0             |25     |2574   |399.0     |1.0         |\n",
      "|08.01.2013|0             |25     |2574   |399.0     |2.0         |\n",
      "|10.01.2013|0             |25     |2574   |399.0     |1.0         |\n",
      "|11.01.2013|0             |25     |2574   |399.0     |2.0         |\n",
      "|13.01.2013|0             |25     |2574   |399.0     |1.0         |\n",
      "|16.01.2013|0             |25     |2574   |399.0     |1.0         |\n",
      "|26.01.2013|0             |25     |2574   |399.0     |1.0         |\n",
      "|27.01.2013|0             |25     |2574   |399.0     |1.0         |\n",
      "+----------+--------------+-------+-------+----------+------------+\n",
      "only showing top 20 rows\n",
      "\n"
     ]
    }
   ],
   "source": [
    "sales_sdf.show(truncate=False)"
   ]
  },
  {
   "cell_type": "code",
   "execution_count": 4,
   "metadata": {},
   "outputs": [],
   "source": [
    "sales_sdf.createOrReplaceTempView(\"sales\")"
   ]
  },
  {
   "cell_type": "code",
   "execution_count": 5,
   "metadata": {},
   "outputs": [
    {
     "data": {
      "text/plain": [
       "pyspark.sql.dataframe.DataFrame"
      ]
     },
     "execution_count": 5,
     "metadata": {},
     "output_type": "execute_result"
    }
   ],
   "source": [
    "sales_10 = spark.sql(\n",
    "\"\"\"\n",
    "SELECT *\n",
    "FROM sales\n",
    "LIMIT 10\n",
    "\"\"\")\n",
    "type(sales_10)"
   ]
  },
  {
   "cell_type": "code",
   "execution_count": 6,
   "metadata": {},
   "outputs": [
    {
     "name": "stdout",
     "output_type": "stream",
     "text": [
      "+----------+--------------+-------+-------+----------+------------+\n",
      "|      date|date_block_num|shop_id|item_id|item_price|item_cnt_day|\n",
      "+----------+--------------+-------+-------+----------+------------+\n",
      "|02.01.2013|             0|     59|  22154|     999.0|         1.0|\n",
      "|03.01.2013|             0|     25|   2552|     899.0|         1.0|\n",
      "|05.01.2013|             0|     25|   2552|     899.0|        -1.0|\n",
      "|06.01.2013|             0|     25|   2554|   1709.05|         1.0|\n",
      "|15.01.2013|             0|     25|   2555|    1099.0|         1.0|\n",
      "|10.01.2013|             0|     25|   2564|     349.0|         1.0|\n",
      "|02.01.2013|             0|     25|   2565|     549.0|         1.0|\n",
      "|04.01.2013|             0|     25|   2572|     239.0|         1.0|\n",
      "|11.01.2013|             0|     25|   2572|     299.0|         1.0|\n",
      "|03.01.2013|             0|     25|   2573|     299.0|         3.0|\n",
      "+----------+--------------+-------+-------+----------+------------+\n",
      "\n"
     ]
    }
   ],
   "source": [
    "sales_10.show()"
   ]
  },
  {
   "cell_type": "code",
   "execution_count": 7,
   "metadata": {},
   "outputs": [
    {
     "data": {
      "text/html": [
       "<div>\n",
       "<style scoped>\n",
       "    .dataframe tbody tr th:only-of-type {\n",
       "        vertical-align: middle;\n",
       "    }\n",
       "\n",
       "    .dataframe tbody tr th {\n",
       "        vertical-align: top;\n",
       "    }\n",
       "\n",
       "    .dataframe thead th {\n",
       "        text-align: right;\n",
       "    }\n",
       "</style>\n",
       "<table border=\"1\" class=\"dataframe\">\n",
       "  <thead>\n",
       "    <tr style=\"text-align: right;\">\n",
       "      <th></th>\n",
       "      <th>date</th>\n",
       "      <th>date_block_num</th>\n",
       "      <th>shop_id</th>\n",
       "      <th>item_id</th>\n",
       "      <th>item_price</th>\n",
       "      <th>item_cnt_day</th>\n",
       "    </tr>\n",
       "  </thead>\n",
       "  <tbody>\n",
       "    <tr>\n",
       "      <th>0</th>\n",
       "      <td>02.01.2013</td>\n",
       "      <td>0</td>\n",
       "      <td>59</td>\n",
       "      <td>22154</td>\n",
       "      <td>999.0</td>\n",
       "      <td>1.0</td>\n",
       "    </tr>\n",
       "    <tr>\n",
       "      <th>1</th>\n",
       "      <td>03.01.2013</td>\n",
       "      <td>0</td>\n",
       "      <td>25</td>\n",
       "      <td>2552</td>\n",
       "      <td>899.0</td>\n",
       "      <td>1.0</td>\n",
       "    </tr>\n",
       "    <tr>\n",
       "      <th>2</th>\n",
       "      <td>05.01.2013</td>\n",
       "      <td>0</td>\n",
       "      <td>25</td>\n",
       "      <td>2552</td>\n",
       "      <td>899.0</td>\n",
       "      <td>-1.0</td>\n",
       "    </tr>\n",
       "    <tr>\n",
       "      <th>3</th>\n",
       "      <td>06.01.2013</td>\n",
       "      <td>0</td>\n",
       "      <td>25</td>\n",
       "      <td>2554</td>\n",
       "      <td>1709.05</td>\n",
       "      <td>1.0</td>\n",
       "    </tr>\n",
       "    <tr>\n",
       "      <th>4</th>\n",
       "      <td>15.01.2013</td>\n",
       "      <td>0</td>\n",
       "      <td>25</td>\n",
       "      <td>2555</td>\n",
       "      <td>1099.0</td>\n",
       "      <td>1.0</td>\n",
       "    </tr>\n",
       "    <tr>\n",
       "      <th>5</th>\n",
       "      <td>10.01.2013</td>\n",
       "      <td>0</td>\n",
       "      <td>25</td>\n",
       "      <td>2564</td>\n",
       "      <td>349.0</td>\n",
       "      <td>1.0</td>\n",
       "    </tr>\n",
       "    <tr>\n",
       "      <th>6</th>\n",
       "      <td>02.01.2013</td>\n",
       "      <td>0</td>\n",
       "      <td>25</td>\n",
       "      <td>2565</td>\n",
       "      <td>549.0</td>\n",
       "      <td>1.0</td>\n",
       "    </tr>\n",
       "    <tr>\n",
       "      <th>7</th>\n",
       "      <td>04.01.2013</td>\n",
       "      <td>0</td>\n",
       "      <td>25</td>\n",
       "      <td>2572</td>\n",
       "      <td>239.0</td>\n",
       "      <td>1.0</td>\n",
       "    </tr>\n",
       "    <tr>\n",
       "      <th>8</th>\n",
       "      <td>11.01.2013</td>\n",
       "      <td>0</td>\n",
       "      <td>25</td>\n",
       "      <td>2572</td>\n",
       "      <td>299.0</td>\n",
       "      <td>1.0</td>\n",
       "    </tr>\n",
       "    <tr>\n",
       "      <th>9</th>\n",
       "      <td>03.01.2013</td>\n",
       "      <td>0</td>\n",
       "      <td>25</td>\n",
       "      <td>2573</td>\n",
       "      <td>299.0</td>\n",
       "      <td>3.0</td>\n",
       "    </tr>\n",
       "  </tbody>\n",
       "</table>\n",
       "</div>"
      ],
      "text/plain": [
       "         date date_block_num shop_id item_id item_price item_cnt_day\n",
       "0  02.01.2013              0      59   22154      999.0          1.0\n",
       "1  03.01.2013              0      25    2552      899.0          1.0\n",
       "2  05.01.2013              0      25    2552      899.0         -1.0\n",
       "3  06.01.2013              0      25    2554    1709.05          1.0\n",
       "4  15.01.2013              0      25    2555     1099.0          1.0\n",
       "5  10.01.2013              0      25    2564      349.0          1.0\n",
       "6  02.01.2013              0      25    2565      549.0          1.0\n",
       "7  04.01.2013              0      25    2572      239.0          1.0\n",
       "8  11.01.2013              0      25    2572      299.0          1.0\n",
       "9  03.01.2013              0      25    2573      299.0          3.0"
      ]
     },
     "execution_count": 7,
     "metadata": {},
     "output_type": "execute_result"
    }
   ],
   "source": [
    "sales_10.toPandas()"
   ]
  },
  {
   "cell_type": "markdown",
   "metadata": {},
   "source": [
    "## SELECT ~ select"
   ]
  },
  {
   "cell_type": "code",
   "execution_count": 13,
   "metadata": {},
   "outputs": [
    {
     "data": {
      "text/plain": [
       "Row(shop_id='59', item_id='22154')"
      ]
     },
     "execution_count": 13,
     "metadata": {},
     "output_type": "execute_result"
    }
   ],
   "source": [
    "spark.sql(\"\"\"\n",
    "SELECT shop_id, item_id\n",
    "FROM sales\n",
    "\"\"\").head()"
   ]
  },
  {
   "cell_type": "code",
   "execution_count": 15,
   "metadata": {},
   "outputs": [
    {
     "data": {
      "text/plain": [
       "Row(shop_id='59', item_id='22154')"
      ]
     },
     "execution_count": 15,
     "metadata": {},
     "output_type": "execute_result"
    }
   ],
   "source": [
    "sales_sdf\\\n",
    "   .select(\"shop_id\", \"item_id\")\\\n",
    "   .head()"
   ]
  },
  {
   "cell_type": "code",
   "execution_count": 17,
   "metadata": {
    "scrolled": false
   },
   "outputs": [
    {
     "data": {
      "text/plain": [
       "Row(shop_id='59', item_id='22154')"
      ]
     },
     "execution_count": 17,
     "metadata": {},
     "output_type": "execute_result"
    }
   ],
   "source": [
    "sales_sdf[['shop_id','item_id']].head()"
   ]
  },
  {
   "cell_type": "code",
   "execution_count": 12,
   "metadata": {},
   "outputs": [
    {
     "name": "stdout",
     "output_type": "stream",
     "text": [
      "+-------+\n",
      "|shop_id|\n",
      "+-------+\n",
      "|      7|\n",
      "|     51|\n",
      "|     15|\n",
      "|     54|\n",
      "|     11|\n",
      "|     29|\n",
      "|     42|\n",
      "|      3|\n",
      "|     30|\n",
      "|     34|\n",
      "|     59|\n",
      "|      8|\n",
      "|     22|\n",
      "|     28|\n",
      "|     16|\n",
      "|     35|\n",
      "|     52|\n",
      "|      0|\n",
      "|     47|\n",
      "|     43|\n",
      "+-------+\n",
      "only showing top 20 rows\n",
      "\n"
     ]
    }
   ],
   "source": [
    "spark.sql(\"\"\"\n",
    "SELECT DISTINCT shop_id\n",
    "FROM sales\n",
    "\"\"\").show()"
   ]
  },
  {
   "cell_type": "code",
   "execution_count": 15,
   "metadata": {},
   "outputs": [
    {
     "name": "stdout",
     "output_type": "stream",
     "text": [
      "+-------+\n",
      "|shop_id|\n",
      "+-------+\n",
      "|      7|\n",
      "|     51|\n",
      "|     15|\n",
      "|     54|\n",
      "|     11|\n",
      "|     29|\n",
      "|     42|\n",
      "|      3|\n",
      "|     30|\n",
      "|     34|\n",
      "|     59|\n",
      "|      8|\n",
      "|     22|\n",
      "|     28|\n",
      "|     16|\n",
      "|     35|\n",
      "|     52|\n",
      "|      0|\n",
      "|     47|\n",
      "|     43|\n",
      "+-------+\n",
      "only showing top 20 rows\n",
      "\n"
     ]
    }
   ],
   "source": [
    "sales_sdf\\\n",
    "    .select(\"shop_id\")\\\n",
    "    .distinct()\\\n",
    "    .show()"
   ]
  },
  {
   "cell_type": "markdown",
   "metadata": {},
   "source": [
    "__Exercise__ List distinct values for `date` and `date_block_num`."
   ]
  },
  {
   "cell_type": "code",
   "execution_count": null,
   "metadata": {},
   "outputs": [],
   "source": []
  },
  {
   "cell_type": "markdown",
   "metadata": {},
   "source": [
    "## WHERE ~ filter"
   ]
  },
  {
   "cell_type": "code",
   "execution_count": 18,
   "metadata": {},
   "outputs": [
    {
     "name": "stdout",
     "output_type": "stream",
     "text": [
      "+----------+--------------+-------+-------+----------+------------+\n",
      "|date      |date_block_num|shop_id|item_id|item_price|item_cnt_day|\n",
      "+----------+--------------+-------+-------+----------+------------+\n",
      "|03.01.2013|0             |25     |2552   |899.0     |1.0         |\n",
      "|05.01.2013|0             |25     |2552   |899.0     |-1.0        |\n",
      "|06.01.2013|0             |25     |2554   |1709.05   |1.0         |\n",
      "|15.01.2013|0             |25     |2555   |1099.0    |1.0         |\n",
      "|10.01.2013|0             |25     |2564   |349.0     |1.0         |\n",
      "|02.01.2013|0             |25     |2565   |549.0     |1.0         |\n",
      "|04.01.2013|0             |25     |2572   |239.0     |1.0         |\n",
      "|11.01.2013|0             |25     |2572   |299.0     |1.0         |\n",
      "|03.01.2013|0             |25     |2573   |299.0     |3.0         |\n",
      "|03.01.2013|0             |25     |2574   |399.0     |2.0         |\n",
      "|05.01.2013|0             |25     |2574   |399.0     |1.0         |\n",
      "|07.01.2013|0             |25     |2574   |399.0     |1.0         |\n",
      "|08.01.2013|0             |25     |2574   |399.0     |2.0         |\n",
      "|10.01.2013|0             |25     |2574   |399.0     |1.0         |\n",
      "|11.01.2013|0             |25     |2574   |399.0     |2.0         |\n",
      "|13.01.2013|0             |25     |2574   |399.0     |1.0         |\n",
      "|16.01.2013|0             |25     |2574   |399.0     |1.0         |\n",
      "|26.01.2013|0             |25     |2574   |399.0     |1.0         |\n",
      "|27.01.2013|0             |25     |2574   |399.0     |1.0         |\n",
      "|09.01.2013|0             |25     |2593   |279.0     |1.0         |\n",
      "+----------+--------------+-------+-------+----------+------------+\n",
      "only showing top 20 rows\n",
      "\n"
     ]
    }
   ],
   "source": [
    "spark.sql(\"\"\"\n",
    "SELECT *\n",
    "FROM sales\n",
    "WHERE shop_id = 25\n",
    "\"\"\").show(truncate=False)"
   ]
  },
  {
   "cell_type": "code",
   "execution_count": 15,
   "metadata": {},
   "outputs": [],
   "source": [
    "import pyspark.sql.functions as F"
   ]
  },
  {
   "cell_type": "code",
   "execution_count": 19,
   "metadata": {},
   "outputs": [
    {
     "name": "stdout",
     "output_type": "stream",
     "text": [
      "+----------+--------------+-------+-------+----------+------------+\n",
      "|      date|date_block_num|shop_id|item_id|item_price|item_cnt_day|\n",
      "+----------+--------------+-------+-------+----------+------------+\n",
      "|03.01.2013|             0|     25|   2552|     899.0|         1.0|\n",
      "|05.01.2013|             0|     25|   2552|     899.0|        -1.0|\n",
      "|06.01.2013|             0|     25|   2554|   1709.05|         1.0|\n",
      "|15.01.2013|             0|     25|   2555|    1099.0|         1.0|\n",
      "|10.01.2013|             0|     25|   2564|     349.0|         1.0|\n",
      "|02.01.2013|             0|     25|   2565|     549.0|         1.0|\n",
      "|04.01.2013|             0|     25|   2572|     239.0|         1.0|\n",
      "|11.01.2013|             0|     25|   2572|     299.0|         1.0|\n",
      "|03.01.2013|             0|     25|   2573|     299.0|         3.0|\n",
      "|03.01.2013|             0|     25|   2574|     399.0|         2.0|\n",
      "|05.01.2013|             0|     25|   2574|     399.0|         1.0|\n",
      "|07.01.2013|             0|     25|   2574|     399.0|         1.0|\n",
      "|08.01.2013|             0|     25|   2574|     399.0|         2.0|\n",
      "|10.01.2013|             0|     25|   2574|     399.0|         1.0|\n",
      "|11.01.2013|             0|     25|   2574|     399.0|         2.0|\n",
      "|13.01.2013|             0|     25|   2574|     399.0|         1.0|\n",
      "|16.01.2013|             0|     25|   2574|     399.0|         1.0|\n",
      "|26.01.2013|             0|     25|   2574|     399.0|         1.0|\n",
      "|27.01.2013|             0|     25|   2574|     399.0|         1.0|\n",
      "|09.01.2013|             0|     25|   2593|     279.0|         1.0|\n",
      "+----------+--------------+-------+-------+----------+------------+\n",
      "only showing top 20 rows\n",
      "\n"
     ]
    }
   ],
   "source": [
    "sales_sdf\\\n",
    "   .filter(F.col(\"shop_id\") == 25)\\\n",
    "   .show()"
   ]
  },
  {
   "cell_type": "markdown",
   "metadata": {},
   "source": [
    "__Exercise__ List different items from shop 25."
   ]
  },
  {
   "cell_type": "code",
   "execution_count": null,
   "metadata": {},
   "outputs": [],
   "source": []
  },
  {
   "cell_type": "markdown",
   "metadata": {},
   "source": [
    "## ORDER BY ~ orderBy"
   ]
  },
  {
   "cell_type": "code",
   "execution_count": 24,
   "metadata": {},
   "outputs": [
    {
     "name": "stdout",
     "output_type": "stream",
     "text": [
      "+----------+--------------+-------+-------+----------+------------+\n",
      "|      date|date_block_num|shop_id|item_id|item_price|item_cnt_day|\n",
      "+----------+--------------+-------+-------+----------+------------+\n",
      "|01.02.2013|             1|     25|   2252|     599.0|         1.0|\n",
      "|01.04.2013|             3|     25|   2252|     598.5|         1.0|\n",
      "|01.07.2013|             6|     25|   2252|     599.0|         1.0|\n",
      "|01.07.2015|            30|     25|   2252|     399.0|         1.0|\n",
      "|01.08.2013|             7|     25|   2252|     599.0|         1.0|\n",
      "|02.01.2015|            24|     25|   2252|     399.0|         1.0|\n",
      "|02.05.2013|             4|     25|   2252|     599.0|         1.0|\n",
      "|02.06.2014|            17|     25|   2252|     419.0|         1.0|\n",
      "|02.09.2013|             8|     25|   2252|     599.0|         1.0|\n",
      "|02.11.2013|            10|     25|   2252|     599.0|         1.0|\n",
      "|02.12.2014|            23|     25|   2252|     279.0|         1.0|\n",
      "|03.03.2013|             2|     25|   2252|     599.0|         2.0|\n",
      "|03.05.2013|             4|     25|   2252|     599.0|         1.0|\n",
      "|03.09.2013|             8|     25|   2252|     599.0|         1.0|\n",
      "|03.10.2013|             9|     25|   2252|     599.0|         1.0|\n",
      "|04.01.2015|            24|     25|   2252|     399.0|         1.0|\n",
      "|04.03.2013|             2|     25|   2252|     599.0|         1.0|\n",
      "|04.05.2015|            28|     25|   2252|     399.0|         1.0|\n",
      "|04.10.2014|            21|     25|   2252|     419.0|         1.0|\n",
      "|05.03.2013|             2|     25|   2252|     599.0|         1.0|\n",
      "+----------+--------------+-------+-------+----------+------------+\n",
      "only showing top 20 rows\n",
      "\n"
     ]
    }
   ],
   "source": [
    "spark.sql(\"\"\"\n",
    "SELECT *\n",
    "FROM sales\n",
    "WHERE shop_id = 25\n",
    "AND item_id = 2252\n",
    "ORDER BY date\n",
    "\"\"\").show()"
   ]
  },
  {
   "cell_type": "code",
   "execution_count": 25,
   "metadata": {},
   "outputs": [
    {
     "name": "stdout",
     "output_type": "stream",
     "text": [
      "+----------+--------------+-------+-------+----------+------------+\n",
      "|      date|date_block_num|shop_id|item_id|item_price|item_cnt_day|\n",
      "+----------+--------------+-------+-------+----------+------------+\n",
      "|01.02.2013|             1|     25|   2252|     599.0|         1.0|\n",
      "|01.04.2013|             3|     25|   2252|     598.5|         1.0|\n",
      "|01.07.2013|             6|     25|   2252|     599.0|         1.0|\n",
      "|01.07.2015|            30|     25|   2252|     399.0|         1.0|\n",
      "|01.08.2013|             7|     25|   2252|     599.0|         1.0|\n",
      "|02.01.2015|            24|     25|   2252|     399.0|         1.0|\n",
      "|02.05.2013|             4|     25|   2252|     599.0|         1.0|\n",
      "|02.06.2014|            17|     25|   2252|     419.0|         1.0|\n",
      "|02.09.2013|             8|     25|   2252|     599.0|         1.0|\n",
      "|02.11.2013|            10|     25|   2252|     599.0|         1.0|\n",
      "|02.12.2014|            23|     25|   2252|     279.0|         1.0|\n",
      "|03.03.2013|             2|     25|   2252|     599.0|         2.0|\n",
      "|03.05.2013|             4|     25|   2252|     599.0|         1.0|\n",
      "|03.09.2013|             8|     25|   2252|     599.0|         1.0|\n",
      "|03.10.2013|             9|     25|   2252|     599.0|         1.0|\n",
      "|04.01.2015|            24|     25|   2252|     399.0|         1.0|\n",
      "|04.03.2013|             2|     25|   2252|     599.0|         1.0|\n",
      "|04.05.2015|            28|     25|   2252|     399.0|         1.0|\n",
      "|04.10.2014|            21|     25|   2252|     419.0|         1.0|\n",
      "|05.03.2013|             2|     25|   2252|     599.0|         1.0|\n",
      "+----------+--------------+-------+-------+----------+------------+\n",
      "only showing top 20 rows\n",
      "\n"
     ]
    }
   ],
   "source": [
    "sales_sdf\\\n",
    "   .filter((F.col(\"shop_id\") == 25) & (F.col(\"item_id\") == 2252))\\\n",
    "   .orderBy(\"date\")\\\n",
    "   .show()"
   ]
  },
  {
   "cell_type": "code",
   "execution_count": 26,
   "metadata": {},
   "outputs": [
    {
     "name": "stdout",
     "output_type": "stream",
     "text": [
      "+----------+--------------+-------+-------+----------+------------+\n",
      "|      date|date_block_num|shop_id|item_id|item_price|item_cnt_day|\n",
      "+----------+--------------+-------+-------+----------+------------+\n",
      "|30.12.2013|            11|     25|   2252|     599.0|         3.0|\n",
      "|29.03.2015|            26|     25|   2252|     399.0|         3.0|\n",
      "|30.03.2013|             2|     25|   2252|     599.0|         3.0|\n",
      "|26.05.2013|             4|     25|   2252|     599.0|         3.0|\n",
      "|16.11.2014|            22|     25|   2252|     419.0|         2.0|\n",
      "|15.03.2013|             2|     25|   2252|     599.0|         2.0|\n",
      "|05.10.2013|             9|     25|   2252|     599.0|         2.0|\n",
      "|10.10.2014|            21|     25|   2252|     419.0|         2.0|\n",
      "|16.08.2015|            31|     25|   2252|     399.0|         2.0|\n",
      "|21.07.2013|             6|     25|   2252|     599.0|         2.0|\n",
      "|03.03.2013|             2|     25|   2252|     599.0|         2.0|\n",
      "|18.04.2014|            15|     25|   2252|     599.0|         2.0|\n",
      "|22.05.2014|            16|     25|   2252|     419.0|         2.0|\n",
      "|07.01.2013|             0|     25|   2252|     599.0|         1.0|\n",
      "|18.01.2013|             0|     25|   2252|     599.0|         1.0|\n",
      "|12.01.2013|             0|     25|   2252|     599.0|         1.0|\n",
      "|21.01.2013|             0|     25|   2252|     599.0|         1.0|\n",
      "|30.01.2013|             0|     25|   2252|     599.0|         1.0|\n",
      "|23.01.2013|             0|     25|   2252|     599.0|         1.0|\n",
      "|01.02.2013|             1|     25|   2252|     599.0|         1.0|\n",
      "+----------+--------------+-------+-------+----------+------------+\n",
      "only showing top 20 rows\n",
      "\n"
     ]
    }
   ],
   "source": [
    "sales_sdf\\\n",
    "   .filter((F.col(\"shop_id\") == 25) & (F.col(\"item_id\") == 2252))\\\n",
    "   .orderBy(F.desc(\"item_cnt_day\"))\\\n",
    "   .show()"
   ]
  },
  {
   "cell_type": "markdown",
   "metadata": {},
   "source": [
    "__Exercise__ List different items and its price that were sold on 20th or 21st of August 2015 ordered by price starting from the most expensive."
   ]
  },
  {
   "cell_type": "code",
   "execution_count": null,
   "metadata": {},
   "outputs": [],
   "source": []
  },
  {
   "cell_type": "markdown",
   "metadata": {},
   "source": [
    "## AS ~ alias"
   ]
  },
  {
   "cell_type": "code",
   "execution_count": 28,
   "metadata": {},
   "outputs": [
    {
     "name": "stdout",
     "output_type": "stream",
     "text": [
      "+------------+----------+-------+\n",
      "|item_cnt_day|item_price|revenue|\n",
      "+------------+----------+-------+\n",
      "|         1.0|     999.0|  999.0|\n",
      "|         1.0|     899.0|  899.0|\n",
      "|        -1.0|     899.0| -899.0|\n",
      "|         1.0|   1709.05|1709.05|\n",
      "|         1.0|    1099.0| 1099.0|\n",
      "|         1.0|     349.0|  349.0|\n",
      "|         1.0|     549.0|  549.0|\n",
      "|         1.0|     239.0|  239.0|\n",
      "|         1.0|     299.0|  299.0|\n",
      "|         3.0|     299.0|  897.0|\n",
      "|         2.0|     399.0|  798.0|\n",
      "|         1.0|     399.0|  399.0|\n",
      "|         1.0|     399.0|  399.0|\n",
      "|         2.0|     399.0|  798.0|\n",
      "|         1.0|     399.0|  399.0|\n",
      "|         2.0|     399.0|  798.0|\n",
      "|         1.0|     399.0|  399.0|\n",
      "|         1.0|     399.0|  399.0|\n",
      "|         1.0|     399.0|  399.0|\n",
      "|         1.0|     399.0|  399.0|\n",
      "+------------+----------+-------+\n",
      "only showing top 20 rows\n",
      "\n"
     ]
    }
   ],
   "source": [
    "spark.sql(\"\"\"\n",
    "SELECT item_cnt_day\n",
    ",   item_price\n",
    ",   item_cnt_day * item_price AS revenue\n",
    "FROM sales\n",
    "\"\"\").show()"
   ]
  },
  {
   "cell_type": "code",
   "execution_count": 29,
   "metadata": {},
   "outputs": [
    {
     "name": "stdout",
     "output_type": "stream",
     "text": [
      "+------------+----------+-------+\n",
      "|item_cnt_day|item_price|revenue|\n",
      "+------------+----------+-------+\n",
      "|         1.0|     999.0|  999.0|\n",
      "|         1.0|     899.0|  899.0|\n",
      "|        -1.0|     899.0| -899.0|\n",
      "|         1.0|   1709.05|1709.05|\n",
      "|         1.0|    1099.0| 1099.0|\n",
      "|         1.0|     349.0|  349.0|\n",
      "|         1.0|     549.0|  549.0|\n",
      "|         1.0|     239.0|  239.0|\n",
      "|         1.0|     299.0|  299.0|\n",
      "|         3.0|     299.0|  897.0|\n",
      "|         2.0|     399.0|  798.0|\n",
      "|         1.0|     399.0|  399.0|\n",
      "|         1.0|     399.0|  399.0|\n",
      "|         2.0|     399.0|  798.0|\n",
      "|         1.0|     399.0|  399.0|\n",
      "|         2.0|     399.0|  798.0|\n",
      "|         1.0|     399.0|  399.0|\n",
      "|         1.0|     399.0|  399.0|\n",
      "|         1.0|     399.0|  399.0|\n",
      "|         1.0|     399.0|  399.0|\n",
      "+------------+----------+-------+\n",
      "only showing top 20 rows\n",
      "\n"
     ]
    }
   ],
   "source": [
    "sales_sdf\\\n",
    "    .select(\n",
    "        F.col(\"item_cnt_day\"),\n",
    "        F.col(\"item_price\"),\n",
    "        (F.col(\"item_cnt_day\") * F.col(\"item_price\")).alias(\"revenue\")\n",
    "    ).show()"
   ]
  },
  {
   "cell_type": "markdown",
   "metadata": {},
   "source": [
    "## aggregators"
   ]
  },
  {
   "cell_type": "code",
   "execution_count": 30,
   "metadata": {},
   "outputs": [
    {
     "name": "stdout",
     "output_type": "stream",
     "text": [
      "+-----------------+------------------+---------+-------+\n",
      "|        mean_sale|          sd_sales|sum_sales| nitems|\n",
      "+-----------------+------------------+---------+-------+\n",
      "|1.242640885140891|2.6188344308954035|3648206.0|2935849|\n",
      "+-----------------+------------------+---------+-------+\n",
      "\n"
     ]
    }
   ],
   "source": [
    "spark.sql(\"\"\"\n",
    "SELECT AVG(item_cnt_day) AS mean_sale\n",
    ",   STDDEV(item_cnt_day) AS sd_sales\n",
    ",   SUM(item_cnt_day) AS sum_sales\n",
    ",   COUNT(*) AS nitems\n",
    "FROM sales\n",
    "\"\"\").show()"
   ]
  },
  {
   "cell_type": "code",
   "execution_count": 31,
   "metadata": {},
   "outputs": [
    {
     "name": "stdout",
     "output_type": "stream",
     "text": [
      "+-----------------+------------------+---------+-------+\n",
      "|       mean_sales|          sd_sales|sum_sales|n_items|\n",
      "+-----------------+------------------+---------+-------+\n",
      "|1.242640885140891|2.6188344308954035|3648206.0|2935849|\n",
      "+-----------------+------------------+---------+-------+\n",
      "\n"
     ]
    }
   ],
   "source": [
    "sales_sdf\\\n",
    "    .select(\n",
    "        F.mean(F.col(\"item_cnt_day\")).alias(\"mean_sales\"),\n",
    "        F.stddev(F.col(\"item_cnt_day\")).alias(\"sd_sales\"),\n",
    "        F.sum(F.col(\"item_cnt_day\")).alias(\"sum_sales\"),\n",
    "        F.count(F.col(\"item_cnt_day\")).alias(\"n_items\")\n",
    "    ).show()"
   ]
  },
  {
   "cell_type": "markdown",
   "metadata": {},
   "source": [
    "__Exercise__ What is mean, standard deviation and median of the number of sold items?"
   ]
  },
  {
   "cell_type": "code",
   "execution_count": null,
   "metadata": {},
   "outputs": [],
   "source": []
  },
  {
   "cell_type": "markdown",
   "metadata": {},
   "source": [
    "## GROUP BY"
   ]
  },
  {
   "cell_type": "code",
   "execution_count": 10,
   "metadata": {},
   "outputs": [
    {
     "name": "stdout",
     "output_type": "stream",
     "text": [
      "+----------+----------+\n",
      "|      date|items_sold|\n",
      "+----------+----------+\n",
      "|2013-02-16|    6643.0|\n",
      "|2014-02-09|    4646.0|\n",
      "|2014-09-01|    2887.0|\n",
      "|2014-10-18|    5001.0|\n",
      "|2015-06-27|    2563.0|\n",
      "|2015-09-17|    1887.0|\n",
      "|2013-04-29|    2771.0|\n",
      "|2013-04-12|    3947.0|\n",
      "|2014-09-18|    2441.0|\n",
      "|2015-08-15|    2201.0|\n",
      "|2015-10-28|    3593.0|\n",
      "|2013-02-05|    3302.0|\n",
      "|2013-09-21|    6698.0|\n",
      "|2014-05-31|    5395.0|\n",
      "|2014-11-02|    4390.0|\n",
      "|2015-07-08|    1905.0|\n",
      "|2015-09-13|    2660.0|\n",
      "|2015-10-06|    1343.0|\n",
      "|2013-06-13|    3399.0|\n",
      "|2014-02-22|    8472.0|\n",
      "+----------+----------+\n",
      "only showing top 20 rows\n",
      "\n"
     ]
    }
   ],
   "source": [
    "spark.sql(\"\"\"\n",
    "SELECT date_format(from_unixtime(unix_timestamp(date, 'dd.MM.yyyy')), \"yyyy-MM-dd\") AS date\n",
    ",   SUM(item_cnt_day) AS items_sold\n",
    "FROM sales\n",
    "GROUP BY date\n",
    "\"\"\").show()"
   ]
  },
  {
   "cell_type": "code",
   "execution_count": 11,
   "metadata": {},
   "outputs": [],
   "source": [
    "import matplotlib.pyplot as plt\n",
    "import matplotlib\n",
    "%matplotlib inline"
   ]
  },
  {
   "cell_type": "code",
   "execution_count": 12,
   "metadata": {},
   "outputs": [],
   "source": [
    "matplotlib.rcParams['figure.figsize'] = [20, 10]\n",
    "matplotlib.rcParams['font.size'] = 20"
   ]
  },
  {
   "cell_type": "code",
   "execution_count": 13,
   "metadata": {},
   "outputs": [
    {
     "data": {
      "image/png": "[encoded data removed]",
      "text/plain": [
       "<Figure size 1440x720 with 1 Axes>"
      ]
     },
     "metadata": {
      "needs_background": "light"
     },
     "output_type": "display_data"
    }
   ],
   "source": [
    "spark.sql(\"\"\"\n",
    "SELECT date_format(from_unixtime(unix_timestamp(date, 'dd.MM.yyyy')), \"yyyy-MM-dd\") AS date\n",
    ",   SUM(item_cnt_day) AS items_sold\n",
    "FROM sales\n",
    "GROUP BY date\n",
    "\"\"\").toPandas()\\\n",
    "    .set_index(\"date\")['items_sold'].plot()\n",
    "plt.show()"
   ]
  },
  {
   "cell_type": "code",
   "execution_count": 35,
   "metadata": {},
   "outputs": [
    {
     "name": "stdout",
     "output_type": "stream",
     "text": [
      "+----------+----------+\n",
      "|      date|items_sold|\n",
      "+----------+----------+\n",
      "|1364940000|    2579.0|\n",
      "|1377986400|    5439.0|\n",
      "|1409263200|    3536.0|\n",
      "|1427583600|    3026.0|\n",
      "|1429567200|    2150.0|\n",
      "|1435615200|    1809.0|\n",
      "|1443564000|    4068.0|\n",
      "|1359327600|    2852.0|\n",
      "|1360278000|    4430.0|\n",
      "|1370210400|    3239.0|\n",
      "|1377295200|    5667.0|\n",
      "|1393628400|    5871.0|\n",
      "|1360969200|    6643.0|\n",
      "|1365544800|    2835.0|\n",
      "|1373580000|    4161.0|\n",
      "|1387666800|    7749.0|\n",
      "|1390950000|    2640.0|\n",
      "|1401400800|    4487.0|\n",
      "|1404338400|    2764.0|\n",
      "|1412028000|    2749.0|\n",
      "+----------+----------+\n",
      "only showing top 20 rows\n",
      "\n"
     ]
    }
   ],
   "source": [
    "sales_sdf\\\n",
    "    .withColumn(\"date\", F.unix_timestamp(F.col(\"date\"), 'dd.MM.yyyy'))\\\n",
    "    .groupBy(F.col(\"date\"))\\\n",
    "    .agg(F.sum(F.col(\"item_cnt_day\")).alias(\"items_sold\"))\\\n",
    "    .show()"
   ]
  },
  {
   "cell_type": "markdown",
   "metadata": {},
   "source": [
    "__Exercise__ For each day what is total daily revenue? Output table should have columns `date`, `total_revenue`."
   ]
  },
  {
   "cell_type": "code",
   "execution_count": null,
   "metadata": {},
   "outputs": [],
   "source": []
  },
  {
   "cell_type": "markdown",
   "metadata": {},
   "source": [
    "## Joins"
   ]
  },
  {
   "cell_type": "code",
   "execution_count": 18,
   "metadata": {},
   "outputs": [],
   "source": [
    "shops_sdf = spark.read.option(\"header\", \"true\").csv(\"data/shops.csv\")"
   ]
  },
  {
   "cell_type": "code",
   "execution_count": 19,
   "metadata": {},
   "outputs": [
    {
     "name": "stdout",
     "output_type": "stream",
     "text": [
      "+----------------------------------+-------+\n",
      "|shop_name                         |shop_id|\n",
      "+----------------------------------+-------+\n",
      "|!Якутск Орджоникидзе, 56 фран     |0      |\n",
      "|\"!Якутск ТЦ \"\"Центральный\"\" фран\" |1      |\n",
      "|\"Адыгея ТЦ \"\"Мега\"\"\"              |2      |\n",
      "|\"Балашиха ТРК \"\"Октябрь-Киномир\"\"\"|3      |\n",
      "|\"Волжский ТЦ \"\"Волга Молл\"\"\"      |4      |\n",
      "|\"Вологда ТРЦ \"\"Мармелад\"\"\"        |5      |\n",
      "|Воронеж (Плехановская, 13)        |6      |\n",
      "|\"Воронеж ТРЦ \"\"Максимир\"\"\"        |7      |\n",
      "|\"Воронеж ТРЦ Сити-Парк \"\"Град\"\"\"  |8      |\n",
      "|Выездная Торговля                 |9      |\n",
      "|Жуковский ул. Чкалова 39м?        |10     |\n",
      "|Жуковский ул. Чкалова 39м²        |11     |\n",
      "|Интернет-магазин ЧС               |12     |\n",
      "|\"Казань ТЦ \"\"Бехетле\"\"\"           |13     |\n",
      "|\"Казань ТЦ \"\"ПаркХаус\"\" II\"       |14     |\n",
      "|\"Калуга ТРЦ \"\"XXI век\"\"\"          |15     |\n",
      "|\"Коломна ТЦ \"\"Рио\"\"\"              |16     |\n",
      "|\"Красноярск ТЦ \"\"Взлетка Плаза\"\"\" |17     |\n",
      "|\"Красноярск ТЦ \"\"Июнь\"\"\"          |18     |\n",
      "|\"Курск ТЦ \"\"Пушкинский\"\"\"         |19     |\n",
      "+----------------------------------+-------+\n",
      "only showing top 20 rows\n",
      "\n"
     ]
    }
   ],
   "source": [
    "shops_sdf.show(truncate=False)"
   ]
  },
  {
   "cell_type": "code",
   "execution_count": 20,
   "metadata": {},
   "outputs": [],
   "source": [
    "shops_sdf.createOrReplaceTempView(\"shops\")"
   ]
  },
  {
   "cell_type": "code",
   "execution_count": 21,
   "metadata": {},
   "outputs": [
    {
     "name": "stdout",
     "output_type": "stream",
     "text": [
      "+-------+--------------------------------------+\n",
      "|shop_id|shop_name                             |\n",
      "+-------+--------------------------------------+\n",
      "|7      |\"Воронеж ТРЦ \"\"Максимир\"\"\"            |\n",
      "|51     |\"Тюмень ТЦ \"\"Зеленый Берег\"\"\"         |\n",
      "|15     |\"Калуга ТРЦ \"\"XXI век\"\"\"              |\n",
      "|54     |\"Химки ТЦ \"\"Мега\"\"\"                   |\n",
      "|11     |Жуковский ул. Чкалова 39м²            |\n",
      "|29     |\"Москва ТЦ \"\"Новый век\"\" (Новокосино)\"|\n",
      "|42     |\"СПб ТК \"\"Невский Центр\"\"\"            |\n",
      "|3      |\"Балашиха ТРК \"\"Октябрь-Киномир\"\"\"    |\n",
      "|30     |\"Москва ТЦ \"\"Перловский\"\"\"            |\n",
      "|34     |\"Н.Новгород ТРЦ \"\"РИО\"\"\"              |\n",
      "|59     |\"Ярославль ТЦ \"\"Альтаир\"\"\"            |\n",
      "|8      |\"Воронеж ТРЦ Сити-Парк \"\"Град\"\"\"      |\n",
      "|22     |Москва Магазин С21                    |\n",
      "|28     |\"Москва ТЦ \"\"МЕГА Теплый Стан\"\" II\"   |\n",
      "|16     |\"Коломна ТЦ \"\"Рио\"\"\"                  |\n",
      "|35     |\"Н.Новгород ТРЦ \"\"Фантастика\"\"\"       |\n",
      "|52     |\"Уфа ТК \"\"Центральный\"\"\"              |\n",
      "|0      |!Якутск Орджоникидзе, 56 фран         |\n",
      "|47     |\"Сургут ТРЦ \"\"Сити Молл\"\"\"            |\n",
      "|43     |\"СПб ТК \"\"Сенная\"\"\"                   |\n",
      "+-------+--------------------------------------+\n",
      "only showing top 20 rows\n",
      "\n"
     ]
    }
   ],
   "source": [
    "spark.sql(\"\"\"\n",
    "SELECT sales.shop_id\n",
    ",   shops.shop_name\n",
    "FROM (\n",
    "    SELECT DISTINCT shop_id\n",
    "    FROM sales)  sales\n",
    "LEFT JOIN shops\n",
    "ON sales.shop_id == shops.shop_id\n",
    "\"\"\").show(truncate=False)"
   ]
  },
  {
   "cell_type": "code",
   "execution_count": 22,
   "metadata": {},
   "outputs": [
    {
     "name": "stdout",
     "output_type": "stream",
     "text": [
      "+-------+--------------------------------------+\n",
      "|shop_id|shop_name                             |\n",
      "+-------+--------------------------------------+\n",
      "|7      |\"Воронеж ТРЦ \"\"Максимир\"\"\"            |\n",
      "|51     |\"Тюмень ТЦ \"\"Зеленый Берег\"\"\"         |\n",
      "|15     |\"Калуга ТРЦ \"\"XXI век\"\"\"              |\n",
      "|54     |\"Химки ТЦ \"\"Мега\"\"\"                   |\n",
      "|11     |Жуковский ул. Чкалова 39м²            |\n",
      "|29     |\"Москва ТЦ \"\"Новый век\"\" (Новокосино)\"|\n",
      "|42     |\"СПб ТК \"\"Невский Центр\"\"\"            |\n",
      "|3      |\"Балашиха ТРК \"\"Октябрь-Киномир\"\"\"    |\n",
      "|30     |\"Москва ТЦ \"\"Перловский\"\"\"            |\n",
      "|34     |\"Н.Новгород ТРЦ \"\"РИО\"\"\"              |\n",
      "|59     |\"Ярославль ТЦ \"\"Альтаир\"\"\"            |\n",
      "|8      |\"Воронеж ТРЦ Сити-Парк \"\"Град\"\"\"      |\n",
      "|22     |Москва Магазин С21                    |\n",
      "|28     |\"Москва ТЦ \"\"МЕГА Теплый Стан\"\" II\"   |\n",
      "|16     |\"Коломна ТЦ \"\"Рио\"\"\"                  |\n",
      "|35     |\"Н.Новгород ТРЦ \"\"Фантастика\"\"\"       |\n",
      "|52     |\"Уфа ТК \"\"Центральный\"\"\"              |\n",
      "|0      |!Якутск Орджоникидзе, 56 фран         |\n",
      "|47     |\"Сургут ТРЦ \"\"Сити Молл\"\"\"            |\n",
      "|43     |\"СПб ТК \"\"Сенная\"\"\"                   |\n",
      "+-------+--------------------------------------+\n",
      "only showing top 20 rows\n",
      "\n"
     ]
    }
   ],
   "source": [
    "sales_sdf\\\n",
    "    .select(\"shop_id\")\\\n",
    "    .distinct()\\\n",
    "    .join(shops_sdf, \"shop_id\", how=\"left\")\\\n",
    "    .select(\"shop_id\", \"shop_name\")\\\n",
    "    .show(truncate=False)"
   ]
  },
  {
   "cell_type": "markdown",
   "metadata": {},
   "source": [
    "__Exercise__ Find a product with highest sell. What is its name? (hint use `items.csv`)"
   ]
  },
  {
   "cell_type": "code",
   "execution_count": 23,
   "metadata": {},
   "outputs": [],
   "source": [
    "# example with cache\n",
    "# example using struct data\n",
    "# example using subqueries (explicit or as two dataframes)"
   ]
  },
  {
   "cell_type": "code",
   "execution_count": null,
   "metadata": {},
   "outputs": [],
   "source": []
  },
  {
   "cell_type": "markdown",
   "metadata": {},
   "source": [
    "__Exercise__ For each day in August 2015 find shop name with maximal sales."
   ]
  },
  {
   "cell_type": "code",
   "execution_count": null,
   "metadata": {},
   "outputs": [],
   "source": []
  },
  {
   "cell_type": "markdown",
   "metadata": {},
   "source": [
    "## Window functions\n",
    "\n",
    "First let's correct the date."
   ]
  },
  {
   "cell_type": "code",
   "execution_count": 24,
   "metadata": {},
   "outputs": [],
   "source": [
    "spark.sql(\"\"\"\n",
    "SELECT *\n",
    ",   date_format(from_unixtime(unix_timestamp(date, 'dd.MM.yyyy')), \"yyyy-MM-dd\") AS date_iso\n",
    "FROM sales\n",
    "\"\"\").createOrReplaceTempView(\"sales_iso\")"
   ]
  },
  {
   "cell_type": "code",
   "execution_count": 25,
   "metadata": {},
   "outputs": [
    {
     "name": "stdout",
     "output_type": "stream",
     "text": [
      "+----------+--------------+-------+-------+----------+------------+----------+\n",
      "|      date|date_block_num|shop_id|item_id|item_price|item_cnt_day|  date_iso|\n",
      "+----------+--------------+-------+-------+----------+------------+----------+\n",
      "|02.01.2013|             0|     59|  22154|     999.0|         1.0|1357084800|\n",
      "|03.01.2013|             0|     25|   2552|     899.0|         1.0|1357171200|\n",
      "|05.01.2013|             0|     25|   2552|     899.0|        -1.0|1357344000|\n",
      "|06.01.2013|             0|     25|   2554|   1709.05|         1.0|1357430400|\n",
      "|15.01.2013|             0|     25|   2555|    1099.0|         1.0|1358208000|\n",
      "|10.01.2013|             0|     25|   2564|     349.0|         1.0|1357776000|\n",
      "|02.01.2013|             0|     25|   2565|     549.0|         1.0|1357084800|\n",
      "|04.01.2013|             0|     25|   2572|     239.0|         1.0|1357257600|\n",
      "|11.01.2013|             0|     25|   2572|     299.0|         1.0|1357862400|\n",
      "|03.01.2013|             0|     25|   2573|     299.0|         3.0|1357171200|\n",
      "|03.01.2013|             0|     25|   2574|     399.0|         2.0|1357171200|\n",
      "|05.01.2013|             0|     25|   2574|     399.0|         1.0|1357344000|\n",
      "|07.01.2013|             0|     25|   2574|     399.0|         1.0|1357516800|\n",
      "|08.01.2013|             0|     25|   2574|     399.0|         2.0|1357603200|\n",
      "|10.01.2013|             0|     25|   2574|     399.0|         1.0|1357776000|\n",
      "|11.01.2013|             0|     25|   2574|     399.0|         2.0|1357862400|\n",
      "|13.01.2013|             0|     25|   2574|     399.0|         1.0|1358035200|\n",
      "|16.01.2013|             0|     25|   2574|     399.0|         1.0|1358294400|\n",
      "|26.01.2013|             0|     25|   2574|     399.0|         1.0|1359158400|\n",
      "|27.01.2013|             0|     25|   2574|     399.0|         1.0|1359244800|\n",
      "+----------+--------------+-------+-------+----------+------------+----------+\n",
      "only showing top 20 rows\n",
      "\n"
     ]
    }
   ],
   "source": [
    "sales_iso_sdf = sales_sdf\\\n",
    "    .withColumn(\n",
    "    \"date_iso\", \n",
    "    F.unix_timestamp(F.col(\"date\"), 'dd.MM.yyyy'))\n",
    "sales_iso_sdf.show()"
   ]
  },
  {
   "cell_type": "code",
   "execution_count": 26,
   "metadata": {},
   "outputs": [
    {
     "name": "stdout",
     "output_type": "stream",
     "text": [
      "+-------+-------+----------+------------+-----------------+\n",
      "|shop_id|item_id|  date_iso|item_cnt_day|lead_item_cnt_day|\n",
      "+-------+-------+----------+------------+-----------------+\n",
      "|      0|   1000|2013-01-03|         1.0|              1.0|\n",
      "|      0|   1000|2013-01-08|         1.0|              1.0|\n",
      "|      0|   1000|2013-01-09|         1.0|              1.0|\n",
      "|      0|   1000|2013-01-10|         1.0|              1.0|\n",
      "|      0|   1000|2013-01-20|         1.0|              1.0|\n",
      "|      0|   1000|2013-02-15|         1.0|              1.0|\n",
      "|      0|   1000|2013-02-16|         1.0|              1.0|\n",
      "|      0|   1000|2013-02-17|         1.0|              1.0|\n",
      "|      0|   1000|2013-02-27|         1.0|             null|\n",
      "|      0|  10004|2013-02-09|         1.0|             null|\n",
      "|      0|   1001|2013-01-03|         1.0|              1.0|\n",
      "|      0|   1001|2013-01-12|         1.0|             null|\n",
      "|      0|  10012|2013-01-22|         1.0|              1.0|\n",
      "|      0|  10012|2013-02-14|         1.0|              1.0|\n",
      "|      0|  10012|2013-02-19|         1.0|             null|\n",
      "|      0|   1002|2013-01-09|         1.0|              1.0|\n",
      "|      0|   1002|2013-01-28|         1.0|             null|\n",
      "|      0|   1003|2013-01-09|         1.0|              1.0|\n",
      "|      0|   1003|2013-01-17|         1.0|             null|\n",
      "|      0|  10033|2013-02-26|         1.0|             null|\n",
      "+-------+-------+----------+------------+-----------------+\n",
      "only showing top 20 rows\n",
      "\n"
     ]
    }
   ],
   "source": [
    "spark.sql(\"\"\"\n",
    "SELECT shop_id\n",
    ",   item_id\n",
    ",   date_iso\n",
    ",   item_cnt_day\n",
    ",   LEAD(item_cnt_day) OVER \n",
    "        (PARTITION BY shop_id, item_id ORDER BY date_iso) as lead_item_cnt_day\n",
    "FROM sales_iso\n",
    "ORDER BY shop_id\n",
    ",   item_id\n",
    ",   date_iso\n",
    "\"\"\").show()"
   ]
  },
  {
   "cell_type": "code",
   "execution_count": 27,
   "metadata": {},
   "outputs": [
    {
     "name": "stdout",
     "output_type": "stream",
     "text": [
      "+-------+-------+----------+------------+-----------------+\n",
      "|shop_id|item_id|  date_iso|item_cnt_day|lead_item_cnt_day|\n",
      "+-------+-------+----------+------------+-----------------+\n",
      "|      0|   1000|1357171200|         1.0|              1.0|\n",
      "|      0|   1000|1357603200|         1.0|              1.0|\n",
      "|      0|   1000|1357689600|         1.0|              1.0|\n",
      "|      0|   1000|1357776000|         1.0|              1.0|\n",
      "|      0|   1000|1358640000|         1.0|              1.0|\n",
      "|      0|   1000|1360886400|         1.0|              1.0|\n",
      "|      0|   1000|1360972800|         1.0|              1.0|\n",
      "|      0|   1000|1361059200|         1.0|              1.0|\n",
      "|      0|   1000|1361923200|         1.0|             null|\n",
      "|      0|  10004|1360368000|         1.0|             null|\n",
      "|      0|   1001|1357171200|         1.0|              1.0|\n",
      "|      0|   1001|1357948800|         1.0|             null|\n",
      "|      0|  10012|1358812800|         1.0|              1.0|\n",
      "|      0|  10012|1360800000|         1.0|              1.0|\n",
      "|      0|  10012|1361232000|         1.0|             null|\n",
      "|      0|   1002|1357689600|         1.0|              1.0|\n",
      "|      0|   1002|1359331200|         1.0|             null|\n",
      "|      0|   1003|1357689600|         1.0|              1.0|\n",
      "|      0|   1003|1358380800|         1.0|             null|\n",
      "|      0|  10033|1361836800|         1.0|             null|\n",
      "+-------+-------+----------+------------+-----------------+\n",
      "only showing top 20 rows\n",
      "\n"
     ]
    }
   ],
   "source": [
    "from pyspark.sql import Window\n",
    "\n",
    "sales_iso_sdf.select(\n",
    "    F.col(\"shop_id\"),   \n",
    "    F.col(\"item_id\"),   \n",
    "    F.col(\"date_iso\"),   \n",
    "    F.col(\"item_cnt_day\"),   \n",
    "    F.lead(F.col(\"item_cnt_day\"))\\\n",
    "        .over(Window.partitionBy(\"shop_id\", \"item_id\").orderBy('date_iso'))\\\n",
    "        .alias(\"lead_item_cnt_day\")\n",
    ").orderBy(\"shop_id\", \"item_id\", \"date_iso\").show()\n"
   ]
  },
  {
   "cell_type": "code",
   "execution_count": 28,
   "metadata": {},
   "outputs": [
    {
     "name": "stdout",
     "output_type": "stream",
     "text": [
      "+-------+-------+----------+------------+-----------------+\n",
      "|shop_id|item_id|  date_iso|item_cnt_day|lead_item_cnt_day|\n",
      "+-------+-------+----------+------------+-----------------+\n",
      "|      0|   1000|1357171200|         1.0|              1.0|\n",
      "|      0|   1000|1357603200|         1.0|              1.0|\n",
      "|      0|   1000|1357689600|         1.0|              1.0|\n",
      "|      0|   1000|1357776000|         1.0|              1.0|\n",
      "|      0|   1000|1358640000|         1.0|              1.0|\n",
      "|      0|   1000|1360886400|         1.0|              1.0|\n",
      "|      0|   1000|1360972800|         1.0|              1.0|\n",
      "|      0|   1000|1361059200|         1.0|              1.0|\n",
      "|      0|   1000|1361923200|         1.0|             null|\n",
      "|      0|  10004|1360368000|         1.0|             null|\n",
      "|      0|   1001|1357171200|         1.0|              1.0|\n",
      "|      0|   1001|1357948800|         1.0|             null|\n",
      "|      0|  10012|1358812800|         1.0|              1.0|\n",
      "|      0|  10012|1360800000|         1.0|              1.0|\n",
      "|      0|  10012|1361232000|         1.0|             null|\n",
      "|      0|   1002|1357689600|         1.0|              1.0|\n",
      "|      0|   1002|1359331200|         1.0|             null|\n",
      "|      0|   1003|1357689600|         1.0|              1.0|\n",
      "|      0|   1003|1358380800|         1.0|             null|\n",
      "|      0|  10033|1361836800|         1.0|             null|\n",
      "+-------+-------+----------+------------+-----------------+\n",
      "only showing top 20 rows\n",
      "\n"
     ]
    }
   ],
   "source": [
    "window = Window.partitionBy(\"shop_id\", \"item_id\").orderBy('date_iso')\n",
    "\n",
    "sales_iso_sdf.select(\n",
    "    F.col(\"shop_id\"),   \n",
    "    F.col(\"item_id\"),   \n",
    "    F.col(\"date_iso\"),   \n",
    "    F.col(\"item_cnt_day\"),   \n",
    "    F.lead(F.col(\"item_cnt_day\"))\\\n",
    "        .over(window)\\\n",
    "        .alias(\"lead_item_cnt_day\")\n",
    ").orderBy(\"shop_id\", \"item_id\", \"date_iso\").show()\n"
   ]
  },
  {
   "cell_type": "markdown",
   "metadata": {},
   "source": [
    "__Exercise__ What is moving average (+-3 days) of total daily revenue?"
   ]
  },
  {
   "cell_type": "code",
   "execution_count": null,
   "metadata": {},
   "outputs": [],
   "source": []
  },
  {
   "cell_type": "markdown",
   "metadata": {},
   "source": [
    "## Extra Exercises\n",
    "\n",
    "* Which shop had the highest sells in August 2015. What was his name?\n",
    "* What is the name of category of with the highest monthly sells. "
   ]
  },
  {
   "cell_type": "markdown",
   "metadata": {},
   "source": [
    "# DataFrame as an RDD of Rows"
   ]
  },
  {
   "cell_type": "code",
   "execution_count": 11,
   "metadata": {},
   "outputs": [
    {
     "data": {
      "text/plain": [
       "pyspark.sql.dataframe.DataFrame"
      ]
     },
     "execution_count": 11,
     "metadata": {},
     "output_type": "execute_result"
    }
   ],
   "source": [
    "type(sales_sdf)"
   ]
  },
  {
   "cell_type": "code",
   "execution_count": 20,
   "metadata": {},
   "outputs": [
    {
     "data": {
      "text/plain": [
       "Row(date='02.01.2013', date_block_num='0', shop_id='59', item_id='22154', item_price='999.0', item_cnt_day='1.0')"
      ]
     },
     "execution_count": 20,
     "metadata": {},
     "output_type": "execute_result"
    }
   ],
   "source": [
    "row = sales_sdf.first()\n",
    "row"
   ]
  },
  {
   "cell_type": "code",
   "execution_count": 21,
   "metadata": {},
   "outputs": [
    {
     "name": "stdout",
     "output_type": "stream",
     "text": [
      "02.01.2013\n",
      "0\n"
     ]
    },
    {
     "data": {
      "text/plain": [
       "{'date': '02.01.2013',\n",
       " 'date_block_num': '0',\n",
       " 'shop_id': '59',\n",
       " 'item_id': '22154',\n",
       " 'item_price': '999.0',\n",
       " 'item_cnt_day': '1.0'}"
      ]
     },
     "execution_count": 21,
     "metadata": {},
     "output_type": "execute_result"
    }
   ],
   "source": [
    "print(row.date)\n",
    "print(row['date_block_num'])\n",
    "row.asDict()"
   ]
  },
  {
   "cell_type": "code",
   "execution_count": 17,
   "metadata": {},
   "outputs": [
    {
     "data": {
      "text/plain": [
       "[Row(date='02.01.2013', date_block_num='0', shop_id='59', item_id='22154', item_price='999.0', item_cnt_day='1.0'),\n",
       " Row(date='03.01.2013', date_block_num='0', shop_id='25', item_id='2552', item_price='899.0', item_cnt_day='1.0'),\n",
       " Row(date='05.01.2013', date_block_num='0', shop_id='25', item_id='2552', item_price='899.0', item_cnt_day='-1.0'),\n",
       " Row(date='06.01.2013', date_block_num='0', shop_id='25', item_id='2554', item_price='1709.05', item_cnt_day='1.0'),\n",
       " Row(date='15.01.2013', date_block_num='0', shop_id='25', item_id='2555', item_price='1099.0', item_cnt_day='1.0')]"
      ]
     },
     "execution_count": 17,
     "metadata": {},
     "output_type": "execute_result"
    }
   ],
   "source": [
    "sales_sdf.rdd.take(5)"
   ]
  },
  {
   "cell_type": "code",
   "execution_count": 67,
   "metadata": {},
   "outputs": [
    {
     "name": "stdout",
     "output_type": "stream",
     "text": [
      "(1) MapPartitionsRDD[17] at javaToPython at NativeMethodAccessorImpl.java:0 []\n",
      " |  MapPartitionsRDD[16] at javaToPython at NativeMethodAccessorImpl.java:0 []\n",
      " |  SQLExecutionRDD[15] at javaToPython at NativeMethodAccessorImpl.java:0 []\n",
      " |  MapPartitionsRDD[14] at javaToPython at NativeMethodAccessorImpl.java:0 []\n",
      " |  FileScanRDD[13] at javaToPython at NativeMethodAccessorImpl.java:0 []\n"
     ]
    }
   ],
   "source": [
    "print(sales_sdf.rdd.toDebugString().decode())"
   ]
  },
  {
   "cell_type": "code",
   "execution_count": 32,
   "metadata": {},
   "outputs": [
    {
     "name": "stdout",
     "output_type": "stream",
     "text": [
      "(200) MapPartitionsRDD[128] at javaToPython at NativeMethodAccessorImpl.java:0 []\n",
      "  |   MapPartitionsRDD[127] at javaToPython at NativeMethodAccessorImpl.java:0 []\n",
      "  |   SQLExecutionRDD[126] at javaToPython at NativeMethodAccessorImpl.java:0 []\n",
      "  |   MapPartitionsRDD[125] at javaToPython at NativeMethodAccessorImpl.java:0 []\n",
      "  |   ShuffledRowRDD[124] at javaToPython at NativeMethodAccessorImpl.java:0 []\n",
      "  +-(1) MapPartitionsRDD[123] at javaToPython at NativeMethodAccessorImpl.java:0 []\n",
      "     |  MapPartitionsRDD[122] at javaToPython at NativeMethodAccessorImpl.java:0 []\n",
      "     |  MapPartitionsRDD[121] at javaToPython at NativeMethodAccessorImpl.java:0 []\n",
      "     |  FileScanRDD[120] at javaToPython at NativeMethodAccessorImpl.java:0 []\n"
     ]
    }
   ],
   "source": [
    "sales_per_day = sales_sdf\\\n",
    "    .groupBy(F.col(\"date\"))\\\n",
    "    .agg(F.sum(F.col(\"item_cnt_day\")))\n",
    "\n",
    "print(sales_per_day.rdd.toDebugString().decode())"
   ]
  },
  {
   "cell_type": "code",
   "execution_count": null,
   "metadata": {},
   "outputs": [],
   "source": []
  }
 ],
 "metadata": {
  "kernelspec": {
   "display_name": "Python 3",
   "language": "python",
   "name": "python3"
  },
  "language_info": {
   "codemirror_mode": {
    "name": "ipython",
    "version": 3
   },
   "file_extension": ".py",
   "mimetype": "text/x-python",
   "name": "python",
   "nbconvert_exporter": "python",
   "pygments_lexer": "ipython3",
   "version": "3.7.5"
  }
 },
 "nbformat": 4,
 "nbformat_minor": 2
}
