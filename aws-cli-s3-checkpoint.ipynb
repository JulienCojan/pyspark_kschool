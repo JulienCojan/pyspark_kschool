{
 "cells": [
  {
   "cell_type": "markdown",
   "metadata": {},
   "source": [
    "## Amazon S3\n",
    "\n",
    "### What it is S3\n",
    "\n",
    "__Amazon S3__ (Simple Storage Service) is a Amazon's service for storing files. It is simple in a sense that one store data using the follwing:\n",
    "* __bucket__: place to store. Its name is unique for all S3 users, which means that there cannot exist two buckets with the same name even if they are private for to different users.\n",
    "* __key__: a unique (for a bucket) name that link to the sotred object. It is common to use path like syntax to group objects. \n",
    "* __object__: any file (text or binary). It can be partitioned.\n",
    "\n",
    "### Sign up\n",
    "First go to \n",
    "<https://s3.console.aws.amazon.com/s3>\n",
    "\n",
    "and sign up for S3. You can also try to create a bucket, upload files etc. Here we will explain how to use it porogramatically. "
   ]
  },
  {
   "cell_type": "markdown",
   "metadata": {},
   "source": [
    "## Installing AWS Command Line Interface and boto\n",
    "\n",
    "In order to install boto (Python interface to Amazon Web Service) and AWS Command Line Interface (__CLI__) type:\n",
    "```\n",
    "pip install boto3\n",
    "pip install awscli\n",
    "```\n",
    "\n",
    "Then in your home directory create file `~/.aws/credentials` with the following:\n",
    "\n",
    "```\n",
    "[myaws]\n",
    "aws_access_key_id = YOUR_ACCESS_KEY\n",
    "aws_secret_access_key = YOUR_SECRET_KEY\n",
    "```\n",
    "\n",
    "If you add these configuration as `[default]`, you won't need to add `--profile myaws` in CLI commands in Section CLI Basic Commands.\n",
    "\n",
    "### Where to get credentials from\n",
    "\n",
    "1. Go to https://console.aws.amazon.com/console/home and log in\n",
    "2. Click on USER NAME (right top) and select `My Security Credentials`.\n",
    "3. Click on `+ Access keys (access key ID and secret access key)` and then on `Create New Acess Key`.\n",
    "4 Choose `Show access key`."
   ]
  },
  {
   "cell_type": "markdown",
   "metadata": {},
   "source": [
    "## CLI Basic Commands \n",
    "\n",
    "### List buckets\n",
    "```\n",
    "aws --profile myaws s3 ls\n",
    "```\n",
    "\n",
    "### List all buckets\n",
    "\n",
    "```\n",
    "aws --profile myaws s3 ls \n",
    "```\n",
    "\n",
    "### Create buckers\n",
    "```\n",
    "aws --profile myaws s3 mb s3://barteks-toxic-comments\n",
    "```\n",
    "__Warning__ The bucket namespace is shared by all users of the system so you need to change the name.\n",
    "\n",
    "### Upload and download files\n",
    "\n",
    "#### Upload\n",
    "```\n",
    "aws --profile myaws s3 cp data/train.csv s3://barteks-toxic-comments\n",
    "aws --profile myaws s3 cp data/train_sample10000.csv s3://barteks-toxic-comments/sample/\n",
    "aws --profile myaws s3 cp data/train_sample1000.csv s3://barteks-toxic-comments/sample/\n",
    "aws --profile myaws s3 cp data/train_sample100.csv s3://barteks-toxic-comments/sample/\n",
    "aws --profile myaws s3 cp data/train_sample10.csv s3://barteks-toxic-comments/sample/\n",
    "```\n",
    "\n",
    "The last 4 commands can be done in shell calling:\n",
    "```\n",
    "for f in data/train_sample1*.csv; do aws --profile myaws s3 cp $f s3://barteks-toxic-comments/sample/; done\n",
    "```\n",
    "\n",
    "#### Download\n",
    "```\n",
    "aws --profile myaws s3 cp s3://barteks-toxic-comments/sample/train_sample10.csv data/train_copy_sample10.csv\n",
    "```\n",
    "\n",
    "### List files in path\n",
    " \n",
    "```\n",
    "aws --profile myaws s3 ls s3://barteks-toxic-comments/\n",
    "aws --profile myaws s3 ls s3://barteks-toxic-comments/sample/\n",
    "```\n",
    "\n",
    "### Remove file(s)\n",
    "\n",
    "```\n",
    "aws --profile myaws s3 rm s3://barteks-toxic-comments/sample/train_sample2.csv\n",
    "aws --profile myaws s3 rm s3://barteks-toxic-comments/sample/ --recursive\n",
    "```\n",
    "\n",
    "### Delete bucket\n",
    "\n",
    "For deleting a bucket use\n",
    "```\n",
    "aws --profile myaws s3 rb  s3://barteks-toxic-comments\n",
    "```\n",
    "in order to delete non empty backet use `--force` option.\n",
    "\n",
    "In order to empty a backet use\n",
    "```\n",
    "aws --profile myaws s3 rm s3://barteks-toxic-comments/ --recursive\n",
    "```"
   ]
  },
  {
   "cell_type": "markdown",
   "metadata": {},
   "source": [
    "## What Boto is\n",
    "\n",
    "Boto is a Python package that provides interfaces to Amazon Web Services. Here we are focused on its application to S3."
   ]
  },
  {
   "cell_type": "markdown",
   "metadata": {},
   "source": [
    "### Creating S3 Resource\n",
    "\n",
    "We start using boto3 by creating S3 resorce object."
   ]
  },
  {
   "cell_type": "code",
   "execution_count": 1,
   "metadata": {},
   "outputs": [],
   "source": [
    "import boto3\n",
    "session = boto3.Session(profile_name='myaws')\n",
    "s3 = session.resource('s3')"
   ]
  },
  {
   "cell_type": "markdown",
   "metadata": {},
   "source": [
    "#### From evironment variables\n",
    "\n",
    "If your credentials are stored as evirionment variables `AWS_SECRET_KEY_ID` and `AWS_SECRET_ACCESS_KEY` then you can do the following:\n",
    "\n",
    "```\n",
    "import os\n",
    "aws_access_key_id = os.environ.get('AWS_SECRET_KEY_ID')\n",
    "aws_secret_access_key = s.environ.get('AWS_SECRET_ACCESS_KEY')\n",
    "session = boto3.Session(\n",
    "    aws_access_key_id=aws_access_key_id, \n",
    "    aws_secret_access_key=aws_secret_access_key)\n",
    "```"
   ]
  },
  {
   "cell_type": "markdown",
   "metadata": {},
   "source": [
    "### List buckets"
   ]
  },
  {
   "cell_type": "code",
   "execution_count": 2,
   "metadata": {},
   "outputs": [
    {
     "data": {
      "text/plain": [
       "[s3.Bucket(name='aws-logs-429368163154-eu-west-3'),\n",
       " s3.Bucket(name='julc-public-test'),\n",
       " s3.Bucket(name='julc-spark')]"
      ]
     },
     "execution_count": 2,
     "metadata": {},
     "output_type": "execute_result"
    }
   ],
   "source": [
    "list(s3.buckets.all())"
   ]
  },
  {
   "cell_type": "markdown",
   "metadata": {},
   "source": [
    "### Create a bucket\n",
    "\n",
    "__Warning__ As before, bucket's namespace is shared, so the following command may not poroduce a bucket if a bucket with the name exists."
   ]
  },
  {
   "cell_type": "code",
   "execution_count": null,
   "metadata": {},
   "outputs": [],
   "source": [
    "#s3.create_bucket(\n",
    "#    ACL='public-read',\n",
    "#    Bucket=\"julc-public-test\")"
   ]
  },
  {
   "cell_type": "markdown",
   "metadata": {},
   "source": [
    "And you have the followng Access Control List (ACL) options while creating it: \n",
    "* `'private', \n",
    "* 'public-read', \n",
    "* 'public-read-write', \n",
    "* 'authenticated-read'`."
   ]
  },
  {
   "cell_type": "markdown",
   "metadata": {},
   "source": [
    "### Deleting"
   ]
  },
  {
   "cell_type": "code",
   "execution_count": null,
   "metadata": {},
   "outputs": [],
   "source": [
    "#bucket = s3.Bucket('julc-public-test')\n",
    "#bucket.delete()"
   ]
  },
  {
   "cell_type": "markdown",
   "metadata": {},
   "source": [
    "### List keys in the bucket"
   ]
  },
  {
   "cell_type": "code",
   "execution_count": 5,
   "metadata": {},
   "outputs": [
    {
     "data": {
      "text/plain": [
       "[s3.ObjectSummary(bucket_name='julc-public-test', key='LICENSE_spark.txt'),\n",
       " s3.ObjectSummary(bucket_name='julc-public-test', key='ReleaseNotes/'),\n",
       " s3.ObjectSummary(bucket_name='julc-public-test', key='ReleaseNotes/ReleaseNotes_Spark2-4.txt'),\n",
       " s3.ObjectSummary(bucket_name='julc-public-test', key='ReleaseNotes/ReleaseNotes_Spark3.txt')]"
      ]
     },
     "execution_count": 5,
     "metadata": {},
     "output_type": "execute_result"
    }
   ],
   "source": [
    "bucket = s3.Bucket('julc-public-test')\n",
    "objs = [obj for obj in bucket.objects.all()]\n",
    "objs"
   ]
  },
  {
   "cell_type": "code",
   "execution_count": 6,
   "metadata": {},
   "outputs": [
    {
     "data": {
      "text/plain": [
       "['ReleaseNotes/',\n",
       " 'ReleaseNotes/ReleaseNotes_Spark2-4.txt',\n",
       " 'ReleaseNotes/ReleaseNotes_Spark3.txt']"
      ]
     },
     "execution_count": 6,
     "metadata": {},
     "output_type": "execute_result"
    }
   ],
   "source": [
    "[obj.key for obj in bucket.objects.filter(Prefix=\"ReleaseNotes/\")]"
   ]
  },
  {
   "cell_type": "markdown",
   "metadata": {},
   "source": [
    "The object of class `ObjectSummary` has to properties `Bucket` (that returns Bucket object), `bucket_name` and `key` that return strings. "
   ]
  },
  {
   "cell_type": "code",
   "execution_count": 8,
   "metadata": {},
   "outputs": [
    {
     "data": {
      "text/plain": [
       "(s3.Bucket(name='barteks-toxic-comments'),\n",
       " 'barteks-toxic-comments',\n",
       " 'sample/train_sample10.csv')"
      ]
     },
     "execution_count": 8,
     "metadata": {},
     "output_type": "execute_result"
    }
   ],
   "source": [
    "objs[0].Bucket(), objs[0].bucket_name, objs[0].key"
   ]
  },
  {
   "cell_type": "markdown",
   "metadata": {},
   "source": [
    "#### Filter keys and sort them "
   ]
  },
  {
   "cell_type": "code",
   "execution_count": 7,
   "metadata": {},
   "outputs": [
    {
     "data": {
      "text/plain": [
       "[s3.ObjectSummary(bucket_name='julc-public-test', key='ReleaseNotes/ReleaseNotes_Spark3.txt'),\n",
       " s3.ObjectSummary(bucket_name='julc-public-test', key='ReleaseNotes/ReleaseNotes_Spark2-4.txt'),\n",
       " s3.ObjectSummary(bucket_name='julc-public-test', key='ReleaseNotes/')]"
      ]
     },
     "execution_count": 7,
     "metadata": {},
     "output_type": "execute_result"
    }
   ],
   "source": [
    "objects = [obj for obj in bucket.objects.filter(Prefix=\"ReleaseNotes/\")]\n",
    "objects.sort(key=lambda obj: obj.key, reverse=True)\n",
    "objects"
   ]
  },
  {
   "cell_type": "markdown",
   "metadata": {},
   "source": [
    "### Download file"
   ]
  },
  {
   "cell_type": "code",
   "execution_count": 11,
   "metadata": {},
   "outputs": [],
   "source": [
    "bucket = s3.Bucket('julc-public-test')\n",
    "bucket.download_file('ReleaseNotes/ReleaseNotes_Spark3.txt', \"Spark3.txt\")"
   ]
  },
  {
   "cell_type": "markdown",
   "metadata": {},
   "source": [
    "### Upload file"
   ]
  },
  {
   "cell_type": "code",
   "execution_count": 14,
   "metadata": {},
   "outputs": [],
   "source": [
    "stat_bucket = s3.Bucket(\"julc-public-test\")"
   ]
  },
  {
   "cell_type": "code",
   "execution_count": 16,
   "metadata": {},
   "outputs": [],
   "source": [
    "stat_bucket.upload_file(\"data/Words.csv\", 'Words.csv')"
   ]
  },
  {
   "cell_type": "code",
   "execution_count": 17,
   "metadata": {},
   "outputs": [
    {
     "data": {
      "text/plain": [
       "[s3.ObjectSummary(bucket_name='barteks-toxic-comments', key='sample/train_sample10.csv'),\n",
       " s3.ObjectSummary(bucket_name='barteks-toxic-comments', key='sample/train_sample100.csv'),\n",
       " s3.ObjectSummary(bucket_name='barteks-toxic-comments', key='sample/train_sample1000.csv'),\n",
       " s3.ObjectSummary(bucket_name='barteks-toxic-comments', key='sample/train_sample10000.csv'),\n",
       " s3.ObjectSummary(bucket_name='barteks-toxic-comments', key='train.csv')]"
      ]
     },
     "execution_count": 17,
     "metadata": {},
     "output_type": "execute_result"
    }
   ],
   "source": [
    "list(bucket.objects.all())"
   ]
  },
  {
   "cell_type": "markdown",
   "metadata": {},
   "source": [
    "### Delete"
   ]
  },
  {
   "cell_type": "code",
   "execution_count": null,
   "metadata": {},
   "outputs": [],
   "source": [
    "obj = s3.Object('barteks-toxic-comments', 'sample/train_copy2_sample10.csv')"
   ]
  },
  {
   "cell_type": "code",
   "execution_count": null,
   "metadata": {},
   "outputs": [],
   "source": [
    "obj.delete()"
   ]
  },
  {
   "cell_type": "markdown",
   "metadata": {},
   "source": [
    "## Links:\n",
    "\n",
    "* https://github.com/boto/boto3\n",
    "* https://boto3.amazonaws.com/v1/documentation/api/latest/index.html\n",
    "* https://www.kaggle.com/c/jigsaw-toxic-comment-classification-challenge"
   ]
  }
 ],
 "metadata": {
  "kernelspec": {
   "display_name": "Python 3",
   "language": "python",
   "name": "python3"
  },
  "language_info": {
   "codemirror_mode": {
    "name": "ipython",
    "version": 3
   },
   "file_extension": ".py",
   "mimetype": "text/x-python",
   "name": "python",
   "nbconvert_exporter": "python",
   "pygments_lexer": "ipython3",
   "version": "3.7.5"
  }
 },
 "nbformat": 4,
 "nbformat_minor": 2
}
