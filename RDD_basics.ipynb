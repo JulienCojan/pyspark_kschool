{
 "cells": [
  {
   "cell_type": "code",
   "execution_count": 1,
   "metadata": {},
   "outputs": [
    {
     "data": {
      "text/html": [
       "\n",
       "            <div>\n",
       "                <p><b>SparkSession - hive</b></p>\n",
       "                \n",
       "        <div>\n",
       "            <p><b>SparkContext</b></p>\n",
       "\n",
       "            <p><a href=\"http://192.168.56.1:4040\">Spark UI</a></p>\n",
       "\n",
       "            <dl>\n",
       "              <dt>Version</dt>\n",
       "                <dd><code>v2.4.4</code></dd>\n",
       "              <dt>Master</dt>\n",
       "                <dd><code>local[*]</code></dd>\n",
       "              <dt>AppName</dt>\n",
       "                <dd><code>PySparkShell</code></dd>\n",
       "            </dl>\n",
       "        </div>\n",
       "        \n",
       "            </div>\n",
       "        "
      ],
      "text/plain": [
       "<pyspark.sql.session.SparkSession at 0x7fdc64292f10>"
      ]
     },
     "execution_count": 1,
     "metadata": {},
     "output_type": "execute_result"
    }
   ],
   "source": [
    "spark"
   ]
  },
  {
   "cell_type": "markdown",
   "metadata": {},
   "source": [
    "# RDD creation"
   ]
  },
  {
   "cell_type": "code",
   "execution_count": 2,
   "metadata": {},
   "outputs": [],
   "source": [
    "r = range(0,10)"
   ]
  },
  {
   "cell_type": "code",
   "execution_count": 3,
   "metadata": {},
   "outputs": [
    {
     "data": {
      "text/plain": [
       "PythonRDD[1] at RDD at PythonRDD.scala:53"
      ]
     },
     "execution_count": 3,
     "metadata": {},
     "output_type": "execute_result"
    }
   ],
   "source": [
    "rdd1 = sc.parallelize(r)\n",
    "rdd1"
   ]
  },
  {
   "cell_type": "code",
   "execution_count": 4,
   "metadata": {},
   "outputs": [
    {
     "data": {
      "text/plain": [
       "[0, 1, 2, 3, 4, 5, 6, 7, 8, 9]"
      ]
     },
     "execution_count": 4,
     "metadata": {},
     "output_type": "execute_result"
    }
   ],
   "source": [
    "rdd1.collect()"
   ]
  },
  {
   "cell_type": "code",
   "execution_count": 5,
   "metadata": {},
   "outputs": [
    {
     "data": {
      "text/plain": [
       "0"
      ]
     },
     "execution_count": 5,
     "metadata": {},
     "output_type": "execute_result"
    }
   ],
   "source": [
    "rdd1.first()"
   ]
  },
  {
   "cell_type": "code",
   "execution_count": 6,
   "metadata": {},
   "outputs": [
    {
     "data": {
      "text/plain": [
       "[0, 1, 2, 3, 4]"
      ]
     },
     "execution_count": 6,
     "metadata": {},
     "output_type": "execute_result"
    }
   ],
   "source": [
    "rdd1.take(5)"
   ]
  },
  {
   "cell_type": "code",
   "execution_count": 7,
   "metadata": {},
   "outputs": [
    {
     "data": {
      "text/plain": [
       "10"
      ]
     },
     "execution_count": 7,
     "metadata": {},
     "output_type": "execute_result"
    }
   ],
   "source": [
    "rdd1.count()"
   ]
  },
  {
   "cell_type": "code",
   "execution_count": 8,
   "metadata": {},
   "outputs": [],
   "source": [
    "rdd_text = sc.textFile('LICENSE_spark.txt')"
   ]
  },
  {
   "cell_type": "code",
   "execution_count": 9,
   "metadata": {
    "scrolled": true
   },
   "outputs": [
    {
     "data": {
      "text/plain": [
       "['                                 Apache License',\n",
       " '                           Version 2.0, January 2004',\n",
       " '                        http://www.apache.org/licenses/',\n",
       " '',\n",
       " '   TERMS AND CONDITIONS FOR USE, REPRODUCTION, AND DISTRIBUTION']"
      ]
     },
     "execution_count": 9,
     "metadata": {},
     "output_type": "execute_result"
    }
   ],
   "source": [
    "rdd_text.take(5)"
   ]
  },
  {
   "cell_type": "code",
   "execution_count": 57,
   "metadata": {},
   "outputs": [
    {
     "data": {
      "text/plain": [
       "['Apache', 'License']"
      ]
     },
     "execution_count": 57,
     "metadata": {},
     "output_type": "execute_result"
    }
   ],
   "source": [
    "'       Apache License'.strip().split(' ')"
   ]
  },
  {
   "cell_type": "code",
   "execution_count": 58,
   "metadata": {},
   "outputs": [
    {
     "data": {
      "text/plain": [
       "[['Apache', 'License'],\n",
       " ['Version', '2.0,', 'January', '2004'],\n",
       " ['http://www.apache.org/licenses/'],\n",
       " [''],\n",
       " ['TERMS',\n",
       "  'AND',\n",
       "  'CONDITIONS',\n",
       "  'FOR',\n",
       "  'USE,',\n",
       "  'REPRODUCTION,',\n",
       "  'AND',\n",
       "  'DISTRIBUTION']]"
      ]
     },
     "execution_count": 58,
     "metadata": {},
     "output_type": "execute_result"
    }
   ],
   "source": [
    "rdd_text.map(lambda x: x.strip().split(' ')).take(5)"
   ]
  },
  {
   "cell_type": "code",
   "execution_count": 60,
   "metadata": {
    "scrolled": true
   },
   "outputs": [
    {
     "data": {
      "text/plain": [
       "['Apache',\n",
       " 'License',\n",
       " 'Version',\n",
       " '2.0,',\n",
       " 'January',\n",
       " '2004',\n",
       " 'http://www.apache.org/licenses/',\n",
       " '',\n",
       " 'TERMS',\n",
       " 'AND',\n",
       " 'CONDITIONS',\n",
       " 'FOR',\n",
       " 'USE,',\n",
       " 'REPRODUCTION,',\n",
       " 'AND',\n",
       " 'DISTRIBUTION',\n",
       " '',\n",
       " '1.',\n",
       " 'Definitions.',\n",
       " '',\n",
       " '\"License\"',\n",
       " 'shall',\n",
       " 'mean',\n",
       " 'the',\n",
       " 'terms']"
      ]
     },
     "execution_count": 60,
     "metadata": {},
     "output_type": "execute_result"
    }
   ],
   "source": [
    "rdd_text.flatMap(lambda x: x.strip().split(' ')).take(25)"
   ]
  },
  {
   "cell_type": "code",
   "execution_count": 10,
   "metadata": {},
   "outputs": [
    {
     "data": {
      "text/plain": [
       "582"
      ]
     },
     "execution_count": 10,
     "metadata": {},
     "output_type": "execute_result"
    }
   ],
   "source": [
    "rdd_text.count()"
   ]
  },
  {
   "cell_type": "code",
   "execution_count": 14,
   "metadata": {
    "scrolled": true
   },
   "outputs": [
    {
     "data": {
      "text/plain": [
       "[[0,\n",
       "  1,\n",
       "  2,\n",
       "  3,\n",
       "  4,\n",
       "  5,\n",
       "  6,\n",
       "  7,\n",
       "  8,\n",
       "  9,\n",
       "  10,\n",
       "  11,\n",
       "  12,\n",
       "  13,\n",
       "  14,\n",
       "  15,\n",
       "  16,\n",
       "  17,\n",
       "  18,\n",
       "  19,\n",
       "  20,\n",
       "  21,\n",
       "  22,\n",
       "  23,\n",
       "  24],\n",
       " [25,\n",
       "  26,\n",
       "  27,\n",
       "  28,\n",
       "  29,\n",
       "  30,\n",
       "  31,\n",
       "  32,\n",
       "  33,\n",
       "  34,\n",
       "  35,\n",
       "  36,\n",
       "  37,\n",
       "  38,\n",
       "  39,\n",
       "  40,\n",
       "  41,\n",
       "  42,\n",
       "  43,\n",
       "  44,\n",
       "  45,\n",
       "  46,\n",
       "  47,\n",
       "  48,\n",
       "  49],\n",
       " [50,\n",
       "  51,\n",
       "  52,\n",
       "  53,\n",
       "  54,\n",
       "  55,\n",
       "  56,\n",
       "  57,\n",
       "  58,\n",
       "  59,\n",
       "  60,\n",
       "  61,\n",
       "  62,\n",
       "  63,\n",
       "  64,\n",
       "  65,\n",
       "  66,\n",
       "  67,\n",
       "  68,\n",
       "  69,\n",
       "  70,\n",
       "  71,\n",
       "  72,\n",
       "  73,\n",
       "  74],\n",
       " [75,\n",
       "  76,\n",
       "  77,\n",
       "  78,\n",
       "  79,\n",
       "  80,\n",
       "  81,\n",
       "  82,\n",
       "  83,\n",
       "  84,\n",
       "  85,\n",
       "  86,\n",
       "  87,\n",
       "  88,\n",
       "  89,\n",
       "  90,\n",
       "  91,\n",
       "  92,\n",
       "  93,\n",
       "  94,\n",
       "  95,\n",
       "  96,\n",
       "  97,\n",
       "  98,\n",
       "  99]]"
      ]
     },
     "execution_count": 14,
     "metadata": {},
     "output_type": "execute_result"
    }
   ],
   "source": [
    "rdd1.glom().collect()"
   ]
  },
  {
   "cell_type": "markdown",
   "metadata": {},
   "source": [
    "# Operations on RDD"
   ]
  },
  {
   "cell_type": "code",
   "execution_count": 16,
   "metadata": {},
   "outputs": [
    {
     "data": {
      "text/plain": [
       "PythonRDD[14] at RDD at PythonRDD.scala:53"
      ]
     },
     "execution_count": 16,
     "metadata": {},
     "output_type": "execute_result"
    }
   ],
   "source": [
    "rdd1.filter(lambda x: x%2 == 0)"
   ]
  },
  {
   "cell_type": "code",
   "execution_count": 22,
   "metadata": {},
   "outputs": [
    {
     "data": {
      "text/plain": [
       "0"
      ]
     },
     "execution_count": 22,
     "metadata": {},
     "output_type": "execute_result"
    }
   ],
   "source": [
    "20%10"
   ]
  },
  {
   "cell_type": "code",
   "execution_count": 23,
   "metadata": {
    "scrolled": true
   },
   "outputs": [
    {
     "data": {
      "text/plain": [
       "[0, 2, 4, 6, 8]"
      ]
     },
     "execution_count": 23,
     "metadata": {},
     "output_type": "execute_result"
    }
   ],
   "source": [
    "def es_par(x):\n",
    "    return x%2 == 0\n",
    "rdd1.filter(es_par).collect()"
   ]
  },
  {
   "cell_type": "code",
   "execution_count": 27,
   "metadata": {},
   "outputs": [
    {
     "data": {
      "text/plain": [
       "[0, 2, 4, 6, 8, 10, 12, 14, 16, 18]"
      ]
     },
     "execution_count": 27,
     "metadata": {},
     "output_type": "execute_result"
    }
   ],
   "source": [
    "rdd1.map(lambda x: 2*x).collect()"
   ]
  },
  {
   "cell_type": "code",
   "execution_count": 28,
   "metadata": {},
   "outputs": [
    {
     "data": {
      "text/plain": [
       "90"
      ]
     },
     "execution_count": 28,
     "metadata": {},
     "output_type": "execute_result"
    }
   ],
   "source": [
    "rdd1.map(lambda x: 2*x).sum()"
   ]
  },
  {
   "cell_type": "code",
   "execution_count": 32,
   "metadata": {},
   "outputs": [
    {
     "data": {
      "text/plain": [
       "[[1, 2], [1, 2, 3]]"
      ]
     },
     "execution_count": 32,
     "metadata": {},
     "output_type": "execute_result"
    }
   ],
   "source": [
    "def inflate(x):\n",
    "    return [y for y in  range(1,x)]\n",
    "[inflate(i) for i in[3,4]]"
   ]
  },
  {
   "cell_type": "code",
   "execution_count": 33,
   "metadata": {},
   "outputs": [
    {
     "data": {
      "text/plain": [
       "[[],\n",
       " [],\n",
       " [1],\n",
       " [1, 2],\n",
       " [1, 2, 3],\n",
       " [1, 2, 3, 4],\n",
       " [1, 2, 3, 4, 5],\n",
       " [1, 2, 3, 4, 5, 6],\n",
       " [1, 2, 3, 4, 5, 6, 7],\n",
       " [1, 2, 3, 4, 5, 6, 7, 8]]"
      ]
     },
     "execution_count": 33,
     "metadata": {},
     "output_type": "execute_result"
    }
   ],
   "source": [
    "rdd1.map(inflate).collect()"
   ]
  },
  {
   "cell_type": "code",
   "execution_count": 62,
   "metadata": {},
   "outputs": [
    {
     "data": {
      "text/plain": [
       "[[0, 1], [2, 3, 4], [5, 6], [7, 8, 9]]"
      ]
     },
     "execution_count": 62,
     "metadata": {},
     "output_type": "execute_result"
    }
   ],
   "source": [
    "rdd1.glom().collect()"
   ]
  },
  {
   "cell_type": "code",
   "execution_count": 63,
   "metadata": {},
   "outputs": [
    {
     "data": {
      "text/plain": [
       "[[[], []],\n",
       " [[1], [1, 2], [1, 2, 3]],\n",
       " [[1, 2, 3, 4], [1, 2, 3, 4, 5]],\n",
       " [[1, 2, 3, 4, 5, 6], [1, 2, 3, 4, 5, 6, 7], [1, 2, 3, 4, 5, 6, 7, 8]]]"
      ]
     },
     "execution_count": 63,
     "metadata": {},
     "output_type": "execute_result"
    }
   ],
   "source": [
    "rdd1.map(inflate).glom().collect()"
   ]
  },
  {
   "cell_type": "code",
   "execution_count": 34,
   "metadata": {
    "scrolled": true
   },
   "outputs": [
    {
     "data": {
      "text/plain": [
       "[1,\n",
       " 1,\n",
       " 2,\n",
       " 1,\n",
       " 2,\n",
       " 3,\n",
       " 1,\n",
       " 2,\n",
       " 3,\n",
       " 4,\n",
       " 1,\n",
       " 2,\n",
       " 3,\n",
       " 4,\n",
       " 5,\n",
       " 1,\n",
       " 2,\n",
       " 3,\n",
       " 4,\n",
       " 5,\n",
       " 6,\n",
       " 1,\n",
       " 2,\n",
       " 3,\n",
       " 4,\n",
       " 5,\n",
       " 6,\n",
       " 7,\n",
       " 1,\n",
       " 2,\n",
       " 3,\n",
       " 4,\n",
       " 5,\n",
       " 6,\n",
       " 7,\n",
       " 8]"
      ]
     },
     "execution_count": 34,
     "metadata": {},
     "output_type": "execute_result"
    }
   ],
   "source": [
    "rdd1.flatMap(inflate).collect()"
   ]
  },
  {
   "cell_type": "code",
   "execution_count": 64,
   "metadata": {},
   "outputs": [
    {
     "data": {
      "text/plain": [
       "[[],\n",
       " [1, 1, 2, 1, 2, 3],\n",
       " [1, 2, 3, 4, 1, 2, 3, 4, 5],\n",
       " [1, 2, 3, 4, 5, 6, 1, 2, 3, 4, 5, 6, 7, 1, 2, 3, 4, 5, 6, 7, 8]]"
      ]
     },
     "execution_count": 64,
     "metadata": {},
     "output_type": "execute_result"
    }
   ],
   "source": [
    "rdd1.flatMap(inflate).glom().collect()"
   ]
  },
  {
   "cell_type": "code",
   "execution_count": 36,
   "metadata": {},
   "outputs": [
    {
     "data": {
      "text/plain": [
       "[2]"
      ]
     },
     "execution_count": 36,
     "metadata": {},
     "output_type": "execute_result"
    }
   ],
   "source": [
    "a = sc.parallelize([2,2,3])\n",
    "b = sc.parallelize([2,4,2])\n",
    "a.intersection(b).collect()"
   ]
  },
  {
   "cell_type": "code",
   "execution_count": 52,
   "metadata": {},
   "outputs": [
    {
     "data": {
      "text/plain": [
       "[(2, 1), (2, 1), (3, 1), (2, 2), (4, 2), (2, 2)]"
      ]
     },
     "execution_count": 52,
     "metadata": {},
     "output_type": "execute_result"
    }
   ],
   "source": [
    "c = a.map(lambda x: (x,1))\n",
    "d = b.map(lambda x: (x,2))\n",
    "c.union(d).collect()"
   ]
  },
  {
   "cell_type": "code",
   "execution_count": 50,
   "metadata": {},
   "outputs": [
    {
     "ename": "Py4JJavaError",
     "evalue": "An error occurred while calling z:org.apache.spark.api.python.PythonRDD.collectAndServe.\n: org.apache.spark.SparkException: Job aborted due to stage failure: Task 3 in stage 32.0 failed 1 times, most recent failure: Lost task 3.0 in stage 32.0 (TID 185, localhost, executor driver): org.apache.spark.api.python.PythonException: Traceback (most recent call last):\n  File \"/mnt/c/Users/jcojan/App/spark/python/lib/pyspark.zip/pyspark/worker.py\", line 377, in main\n    process()\n  File \"/mnt/c/Users/jcojan/App/spark/python/lib/pyspark.zip/pyspark/worker.py\", line 372, in process\n    serializer.dump_stream(func(split_index, iterator), outfile)\n  File \"/mnt/c/Users/jcojan/App/spark/python/lib/pyspark.zip/pyspark/serializers.py\", line 393, in dump_stream\n    vs = list(itertools.islice(iterator, batch))\n  File \"/mnt/c/Users/jcojan/App/spark/python/lib/pyspark.zip/pyspark/util.py\", line 99, in wrapper\n    return f(*args, **kwargs)\nTypeError: <lambda>() missing 1 required positional argument: 'x'\n\n\tat org.apache.spark.api.python.BasePythonRunner$ReaderIterator.handlePythonException(PythonRunner.scala:456)\n\tat org.apache.spark.api.python.PythonRunner$$anon$1.read(PythonRunner.scala:592)\n\tat org.apache.spark.api.python.PythonRunner$$anon$1.read(PythonRunner.scala:575)\n\tat org.apache.spark.api.python.BasePythonRunner$ReaderIterator.hasNext(PythonRunner.scala:410)\n\tat org.apache.spark.InterruptibleIterator.hasNext(InterruptibleIterator.scala:37)\n\tat scala.collection.Iterator$class.foreach(Iterator.scala:891)\n\tat org.apache.spark.InterruptibleIterator.foreach(InterruptibleIterator.scala:28)\n\tat scala.collection.generic.Growable$class.$plus$plus$eq(Growable.scala:59)\n\tat scala.collection.mutable.ArrayBuffer.$plus$plus$eq(ArrayBuffer.scala:104)\n\tat scala.collection.mutable.ArrayBuffer.$plus$plus$eq(ArrayBuffer.scala:48)\n\tat scala.collection.TraversableOnce$class.to(TraversableOnce.scala:310)\n\tat org.apache.spark.InterruptibleIterator.to(InterruptibleIterator.scala:28)\n\tat scala.collection.TraversableOnce$class.toBuffer(TraversableOnce.scala:302)\n\tat org.apache.spark.InterruptibleIterator.toBuffer(InterruptibleIterator.scala:28)\n\tat scala.collection.TraversableOnce$class.toArray(TraversableOnce.scala:289)\n\tat org.apache.spark.InterruptibleIterator.toArray(InterruptibleIterator.scala:28)\n\tat org.apache.spark.rdd.RDD$$anonfun$collect$1$$anonfun$13.apply(RDD.scala:945)\n\tat org.apache.spark.rdd.RDD$$anonfun$collect$1$$anonfun$13.apply(RDD.scala:945)\n\tat org.apache.spark.SparkContext$$anonfun$runJob$5.apply(SparkContext.scala:2101)\n\tat org.apache.spark.SparkContext$$anonfun$runJob$5.apply(SparkContext.scala:2101)\n\tat org.apache.spark.scheduler.ResultTask.runTask(ResultTask.scala:90)\n\tat org.apache.spark.scheduler.Task.run(Task.scala:123)\n\tat org.apache.spark.executor.Executor$TaskRunner$$anonfun$10.apply(Executor.scala:408)\n\tat org.apache.spark.util.Utils$.tryWithSafeFinally(Utils.scala:1360)\n\tat org.apache.spark.executor.Executor$TaskRunner.run(Executor.scala:414)\n\tat java.util.concurrent.ThreadPoolExecutor.runWorker(ThreadPoolExecutor.java:1149)\n\tat java.util.concurrent.ThreadPoolExecutor$Worker.run(ThreadPoolExecutor.java:624)\n\tat java.lang.Thread.run(Thread.java:748)\n\nDriver stacktrace:\n\tat org.apache.spark.scheduler.DAGScheduler.org$apache$spark$scheduler$DAGScheduler$$failJobAndIndependentStages(DAGScheduler.scala:1889)\n\tat org.apache.spark.scheduler.DAGScheduler$$anonfun$abortStage$1.apply(DAGScheduler.scala:1877)\n\tat org.apache.spark.scheduler.DAGScheduler$$anonfun$abortStage$1.apply(DAGScheduler.scala:1876)\n\tat scala.collection.mutable.ResizableArray$class.foreach(ResizableArray.scala:59)\n\tat scala.collection.mutable.ArrayBuffer.foreach(ArrayBuffer.scala:48)\n\tat org.apache.spark.scheduler.DAGScheduler.abortStage(DAGScheduler.scala:1876)\n\tat org.apache.spark.scheduler.DAGScheduler$$anonfun$handleTaskSetFailed$1.apply(DAGScheduler.scala:926)\n\tat org.apache.spark.scheduler.DAGScheduler$$anonfun$handleTaskSetFailed$1.apply(DAGScheduler.scala:926)\n\tat scala.Option.foreach(Option.scala:257)\n\tat org.apache.spark.scheduler.DAGScheduler.handleTaskSetFailed(DAGScheduler.scala:926)\n\tat org.apache.spark.scheduler.DAGSchedulerEventProcessLoop.doOnReceive(DAGScheduler.scala:2110)\n\tat org.apache.spark.scheduler.DAGSchedulerEventProcessLoop.onReceive(DAGScheduler.scala:2059)\n\tat org.apache.spark.scheduler.DAGSchedulerEventProcessLoop.onReceive(DAGScheduler.scala:2048)\n\tat org.apache.spark.util.EventLoop$$anon$1.run(EventLoop.scala:49)\n\tat org.apache.spark.scheduler.DAGScheduler.runJob(DAGScheduler.scala:737)\n\tat org.apache.spark.SparkContext.runJob(SparkContext.scala:2061)\n\tat org.apache.spark.SparkContext.runJob(SparkContext.scala:2082)\n\tat org.apache.spark.SparkContext.runJob(SparkContext.scala:2101)\n\tat org.apache.spark.SparkContext.runJob(SparkContext.scala:2126)\n\tat org.apache.spark.rdd.RDD$$anonfun$collect$1.apply(RDD.scala:945)\n\tat org.apache.spark.rdd.RDDOperationScope$.withScope(RDDOperationScope.scala:151)\n\tat org.apache.spark.rdd.RDDOperationScope$.withScope(RDDOperationScope.scala:112)\n\tat org.apache.spark.rdd.RDD.withScope(RDD.scala:363)\n\tat org.apache.spark.rdd.RDD.collect(RDD.scala:944)\n\tat org.apache.spark.api.python.PythonRDD$.collectAndServe(PythonRDD.scala:166)\n\tat org.apache.spark.api.python.PythonRDD.collectAndServe(PythonRDD.scala)\n\tat sun.reflect.GeneratedMethodAccessor102.invoke(Unknown Source)\n\tat sun.reflect.DelegatingMethodAccessorImpl.invoke(DelegatingMethodAccessorImpl.java:43)\n\tat java.lang.reflect.Method.invoke(Method.java:498)\n\tat py4j.reflection.MethodInvoker.invoke(MethodInvoker.java:244)\n\tat py4j.reflection.ReflectionEngine.invoke(ReflectionEngine.java:357)\n\tat py4j.Gateway.invoke(Gateway.java:282)\n\tat py4j.commands.AbstractCommand.invokeMethod(AbstractCommand.java:132)\n\tat py4j.commands.CallCommand.execute(CallCommand.java:79)\n\tat py4j.GatewayConnection.run(GatewayConnection.java:238)\n\tat java.lang.Thread.run(Thread.java:748)\nCaused by: org.apache.spark.api.python.PythonException: Traceback (most recent call last):\n  File \"/mnt/c/Users/jcojan/App/spark/python/lib/pyspark.zip/pyspark/worker.py\", line 377, in main\n    process()\n  File \"/mnt/c/Users/jcojan/App/spark/python/lib/pyspark.zip/pyspark/worker.py\", line 372, in process\n    serializer.dump_stream(func(split_index, iterator), outfile)\n  File \"/mnt/c/Users/jcojan/App/spark/python/lib/pyspark.zip/pyspark/serializers.py\", line 393, in dump_stream\n    vs = list(itertools.islice(iterator, batch))\n  File \"/mnt/c/Users/jcojan/App/spark/python/lib/pyspark.zip/pyspark/util.py\", line 99, in wrapper\n    return f(*args, **kwargs)\nTypeError: <lambda>() missing 1 required positional argument: 'x'\n\n\tat org.apache.spark.api.python.BasePythonRunner$ReaderIterator.handlePythonException(PythonRunner.scala:456)\n\tat org.apache.spark.api.python.PythonRunner$$anon$1.read(PythonRunner.scala:592)\n\tat org.apache.spark.api.python.PythonRunner$$anon$1.read(PythonRunner.scala:575)\n\tat org.apache.spark.api.python.BasePythonRunner$ReaderIterator.hasNext(PythonRunner.scala:410)\n\tat org.apache.spark.InterruptibleIterator.hasNext(InterruptibleIterator.scala:37)\n\tat scala.collection.Iterator$class.foreach(Iterator.scala:891)\n\tat org.apache.spark.InterruptibleIterator.foreach(InterruptibleIterator.scala:28)\n\tat scala.collection.generic.Growable$class.$plus$plus$eq(Growable.scala:59)\n\tat scala.collection.mutable.ArrayBuffer.$plus$plus$eq(ArrayBuffer.scala:104)\n\tat scala.collection.mutable.ArrayBuffer.$plus$plus$eq(ArrayBuffer.scala:48)\n\tat scala.collection.TraversableOnce$class.to(TraversableOnce.scala:310)\n\tat org.apache.spark.InterruptibleIterator.to(InterruptibleIterator.scala:28)\n\tat scala.collection.TraversableOnce$class.toBuffer(TraversableOnce.scala:302)\n\tat org.apache.spark.InterruptibleIterator.toBuffer(InterruptibleIterator.scala:28)\n\tat scala.collection.TraversableOnce$class.toArray(TraversableOnce.scala:289)\n\tat org.apache.spark.InterruptibleIterator.toArray(InterruptibleIterator.scala:28)\n\tat org.apache.spark.rdd.RDD$$anonfun$collect$1$$anonfun$13.apply(RDD.scala:945)\n\tat org.apache.spark.rdd.RDD$$anonfun$collect$1$$anonfun$13.apply(RDD.scala:945)\n\tat org.apache.spark.SparkContext$$anonfun$runJob$5.apply(SparkContext.scala:2101)\n\tat org.apache.spark.SparkContext$$anonfun$runJob$5.apply(SparkContext.scala:2101)\n\tat org.apache.spark.scheduler.ResultTask.runTask(ResultTask.scala:90)\n\tat org.apache.spark.scheduler.Task.run(Task.scala:123)\n\tat org.apache.spark.executor.Executor$TaskRunner$$anonfun$10.apply(Executor.scala:408)\n\tat org.apache.spark.util.Utils$.tryWithSafeFinally(Utils.scala:1360)\n\tat org.apache.spark.executor.Executor$TaskRunner.run(Executor.scala:414)\n\tat java.util.concurrent.ThreadPoolExecutor.runWorker(ThreadPoolExecutor.java:1149)\n\tat java.util.concurrent.ThreadPoolExecutor$Worker.run(ThreadPoolExecutor.java:624)\n\t... 1 more\n",
     "output_type": "error",
     "traceback": [
      "\u001b[0;31m---------------------------------------------------------------------------\u001b[0m",
      "\u001b[0;31mPy4JJavaError\u001b[0m                             Traceback (most recent call last)",
      "\u001b[0;32m<ipython-input-50-aae68d530129>\u001b[0m in \u001b[0;36m<module>\u001b[0;34m\u001b[0m\n\u001b[1;32m      1\u001b[0m \u001b[0;31m#c.union(d).groupByKey().filter(lambda k, x: (1 in x) & (2 in x) )\u001b[0m\u001b[0;34m\u001b[0m\u001b[0;34m\u001b[0m\u001b[0;34m\u001b[0m\u001b[0m\n\u001b[0;32m----> 2\u001b[0;31m \u001b[0mc\u001b[0m\u001b[0;34m.\u001b[0m\u001b[0munion\u001b[0m\u001b[0;34m(\u001b[0m\u001b[0md\u001b[0m\u001b[0;34m)\u001b[0m\u001b[0;34m.\u001b[0m\u001b[0mgroupByKey\u001b[0m\u001b[0;34m(\u001b[0m\u001b[0;34m)\u001b[0m\u001b[0;34m.\u001b[0m\u001b[0mfilter\u001b[0m\u001b[0;34m(\u001b[0m\u001b[0;32mlambda\u001b[0m \u001b[0mk\u001b[0m\u001b[0;34m,\u001b[0m \u001b[0mx\u001b[0m\u001b[0;34m:\u001b[0m \u001b[0mx\u001b[0m\u001b[0;34m.\u001b[0m\u001b[0mnext\u001b[0m\u001b[0;34m(\u001b[0m\u001b[0;34m)\u001b[0m \u001b[0;34m)\u001b[0m\u001b[0;34m.\u001b[0m\u001b[0mcollect\u001b[0m\u001b[0;34m(\u001b[0m\u001b[0;34m)\u001b[0m\u001b[0;34m\u001b[0m\u001b[0;34m\u001b[0m\u001b[0m\n\u001b[0m",
      "\u001b[0;32m/mnt/c/Users/jcojan/App/spark/python/pyspark/rdd.py\u001b[0m in \u001b[0;36mcollect\u001b[0;34m(self)\u001b[0m\n\u001b[1;32m    814\u001b[0m         \"\"\"\n\u001b[1;32m    815\u001b[0m         \u001b[0;32mwith\u001b[0m \u001b[0mSCCallSiteSync\u001b[0m\u001b[0;34m(\u001b[0m\u001b[0mself\u001b[0m\u001b[0;34m.\u001b[0m\u001b[0mcontext\u001b[0m\u001b[0;34m)\u001b[0m \u001b[0;32mas\u001b[0m \u001b[0mcss\u001b[0m\u001b[0;34m:\u001b[0m\u001b[0;34m\u001b[0m\u001b[0;34m\u001b[0m\u001b[0m\n\u001b[0;32m--> 816\u001b[0;31m             \u001b[0msock_info\u001b[0m \u001b[0;34m=\u001b[0m \u001b[0mself\u001b[0m\u001b[0;34m.\u001b[0m\u001b[0mctx\u001b[0m\u001b[0;34m.\u001b[0m\u001b[0m_jvm\u001b[0m\u001b[0;34m.\u001b[0m\u001b[0mPythonRDD\u001b[0m\u001b[0;34m.\u001b[0m\u001b[0mcollectAndServe\u001b[0m\u001b[0;34m(\u001b[0m\u001b[0mself\u001b[0m\u001b[0;34m.\u001b[0m\u001b[0m_jrdd\u001b[0m\u001b[0;34m.\u001b[0m\u001b[0mrdd\u001b[0m\u001b[0;34m(\u001b[0m\u001b[0;34m)\u001b[0m\u001b[0;34m)\u001b[0m\u001b[0;34m\u001b[0m\u001b[0;34m\u001b[0m\u001b[0m\n\u001b[0m\u001b[1;32m    817\u001b[0m         \u001b[0;32mreturn\u001b[0m \u001b[0mlist\u001b[0m\u001b[0;34m(\u001b[0m\u001b[0m_load_from_socket\u001b[0m\u001b[0;34m(\u001b[0m\u001b[0msock_info\u001b[0m\u001b[0;34m,\u001b[0m \u001b[0mself\u001b[0m\u001b[0;34m.\u001b[0m\u001b[0m_jrdd_deserializer\u001b[0m\u001b[0;34m)\u001b[0m\u001b[0;34m)\u001b[0m\u001b[0;34m\u001b[0m\u001b[0;34m\u001b[0m\u001b[0m\n\u001b[1;32m    818\u001b[0m \u001b[0;34m\u001b[0m\u001b[0m\n",
      "\u001b[0;32m/mnt/c/Users/jcojan/App/spark/python/lib/py4j-0.10.7-src.zip/py4j/java_gateway.py\u001b[0m in \u001b[0;36m__call__\u001b[0;34m(self, *args)\u001b[0m\n\u001b[1;32m   1255\u001b[0m         \u001b[0manswer\u001b[0m \u001b[0;34m=\u001b[0m \u001b[0mself\u001b[0m\u001b[0;34m.\u001b[0m\u001b[0mgateway_client\u001b[0m\u001b[0;34m.\u001b[0m\u001b[0msend_command\u001b[0m\u001b[0;34m(\u001b[0m\u001b[0mcommand\u001b[0m\u001b[0;34m)\u001b[0m\u001b[0;34m\u001b[0m\u001b[0;34m\u001b[0m\u001b[0m\n\u001b[1;32m   1256\u001b[0m         return_value = get_return_value(\n\u001b[0;32m-> 1257\u001b[0;31m             answer, self.gateway_client, self.target_id, self.name)\n\u001b[0m\u001b[1;32m   1258\u001b[0m \u001b[0;34m\u001b[0m\u001b[0m\n\u001b[1;32m   1259\u001b[0m         \u001b[0;32mfor\u001b[0m \u001b[0mtemp_arg\u001b[0m \u001b[0;32min\u001b[0m \u001b[0mtemp_args\u001b[0m\u001b[0;34m:\u001b[0m\u001b[0;34m\u001b[0m\u001b[0;34m\u001b[0m\u001b[0m\n",
      "\u001b[0;32m/mnt/c/Users/jcojan/App/spark/python/pyspark/sql/utils.py\u001b[0m in \u001b[0;36mdeco\u001b[0;34m(*a, **kw)\u001b[0m\n\u001b[1;32m     61\u001b[0m     \u001b[0;32mdef\u001b[0m \u001b[0mdeco\u001b[0m\u001b[0;34m(\u001b[0m\u001b[0;34m*\u001b[0m\u001b[0ma\u001b[0m\u001b[0;34m,\u001b[0m \u001b[0;34m**\u001b[0m\u001b[0mkw\u001b[0m\u001b[0;34m)\u001b[0m\u001b[0;34m:\u001b[0m\u001b[0;34m\u001b[0m\u001b[0;34m\u001b[0m\u001b[0m\n\u001b[1;32m     62\u001b[0m         \u001b[0;32mtry\u001b[0m\u001b[0;34m:\u001b[0m\u001b[0;34m\u001b[0m\u001b[0;34m\u001b[0m\u001b[0m\n\u001b[0;32m---> 63\u001b[0;31m             \u001b[0;32mreturn\u001b[0m \u001b[0mf\u001b[0m\u001b[0;34m(\u001b[0m\u001b[0;34m*\u001b[0m\u001b[0ma\u001b[0m\u001b[0;34m,\u001b[0m \u001b[0;34m**\u001b[0m\u001b[0mkw\u001b[0m\u001b[0;34m)\u001b[0m\u001b[0;34m\u001b[0m\u001b[0;34m\u001b[0m\u001b[0m\n\u001b[0m\u001b[1;32m     64\u001b[0m         \u001b[0;32mexcept\u001b[0m \u001b[0mpy4j\u001b[0m\u001b[0;34m.\u001b[0m\u001b[0mprotocol\u001b[0m\u001b[0;34m.\u001b[0m\u001b[0mPy4JJavaError\u001b[0m \u001b[0;32mas\u001b[0m \u001b[0me\u001b[0m\u001b[0;34m:\u001b[0m\u001b[0;34m\u001b[0m\u001b[0;34m\u001b[0m\u001b[0m\n\u001b[1;32m     65\u001b[0m             \u001b[0ms\u001b[0m \u001b[0;34m=\u001b[0m \u001b[0me\u001b[0m\u001b[0;34m.\u001b[0m\u001b[0mjava_exception\u001b[0m\u001b[0;34m.\u001b[0m\u001b[0mtoString\u001b[0m\u001b[0;34m(\u001b[0m\u001b[0;34m)\u001b[0m\u001b[0;34m\u001b[0m\u001b[0;34m\u001b[0m\u001b[0m\n",
      "\u001b[0;32m/mnt/c/Users/jcojan/App/spark/python/lib/py4j-0.10.7-src.zip/py4j/protocol.py\u001b[0m in \u001b[0;36mget_return_value\u001b[0;34m(answer, gateway_client, target_id, name)\u001b[0m\n\u001b[1;32m    326\u001b[0m                 raise Py4JJavaError(\n\u001b[1;32m    327\u001b[0m                     \u001b[0;34m\"An error occurred while calling {0}{1}{2}.\\n\"\u001b[0m\u001b[0;34m.\u001b[0m\u001b[0;34m\u001b[0m\u001b[0;34m\u001b[0m\u001b[0m\n\u001b[0;32m--> 328\u001b[0;31m                     format(target_id, \".\", name), value)\n\u001b[0m\u001b[1;32m    329\u001b[0m             \u001b[0;32melse\u001b[0m\u001b[0;34m:\u001b[0m\u001b[0;34m\u001b[0m\u001b[0;34m\u001b[0m\u001b[0m\n\u001b[1;32m    330\u001b[0m                 raise Py4JError(\n",
      "\u001b[0;31mPy4JJavaError\u001b[0m: An error occurred while calling z:org.apache.spark.api.python.PythonRDD.collectAndServe.\n: org.apache.spark.SparkException: Job aborted due to stage failure: Task 3 in stage 32.0 failed 1 times, most recent failure: Lost task 3.0 in stage 32.0 (TID 185, localhost, executor driver): org.apache.spark.api.python.PythonException: Traceback (most recent call last):\n  File \"/mnt/c/Users/jcojan/App/spark/python/lib/pyspark.zip/pyspark/worker.py\", line 377, in main\n    process()\n  File \"/mnt/c/Users/jcojan/App/spark/python/lib/pyspark.zip/pyspark/worker.py\", line 372, in process\n    serializer.dump_stream(func(split_index, iterator), outfile)\n  File \"/mnt/c/Users/jcojan/App/spark/python/lib/pyspark.zip/pyspark/serializers.py\", line 393, in dump_stream\n    vs = list(itertools.islice(iterator, batch))\n  File \"/mnt/c/Users/jcojan/App/spark/python/lib/pyspark.zip/pyspark/util.py\", line 99, in wrapper\n    return f(*args, **kwargs)\nTypeError: <lambda>() missing 1 required positional argument: 'x'\n\n\tat org.apache.spark.api.python.BasePythonRunner$ReaderIterator.handlePythonException(PythonRunner.scala:456)\n\tat org.apache.spark.api.python.PythonRunner$$anon$1.read(PythonRunner.scala:592)\n\tat org.apache.spark.api.python.PythonRunner$$anon$1.read(PythonRunner.scala:575)\n\tat org.apache.spark.api.python.BasePythonRunner$ReaderIterator.hasNext(PythonRunner.scala:410)\n\tat org.apache.spark.InterruptibleIterator.hasNext(InterruptibleIterator.scala:37)\n\tat scala.collection.Iterator$class.foreach(Iterator.scala:891)\n\tat org.apache.spark.InterruptibleIterator.foreach(InterruptibleIterator.scala:28)\n\tat scala.collection.generic.Growable$class.$plus$plus$eq(Growable.scala:59)\n\tat scala.collection.mutable.ArrayBuffer.$plus$plus$eq(ArrayBuffer.scala:104)\n\tat scala.collection.mutable.ArrayBuffer.$plus$plus$eq(ArrayBuffer.scala:48)\n\tat scala.collection.TraversableOnce$class.to(TraversableOnce.scala:310)\n\tat org.apache.spark.InterruptibleIterator.to(InterruptibleIterator.scala:28)\n\tat scala.collection.TraversableOnce$class.toBuffer(TraversableOnce.scala:302)\n\tat org.apache.spark.InterruptibleIterator.toBuffer(InterruptibleIterator.scala:28)\n\tat scala.collection.TraversableOnce$class.toArray(TraversableOnce.scala:289)\n\tat org.apache.spark.InterruptibleIterator.toArray(InterruptibleIterator.scala:28)\n\tat org.apache.spark.rdd.RDD$$anonfun$collect$1$$anonfun$13.apply(RDD.scala:945)\n\tat org.apache.spark.rdd.RDD$$anonfun$collect$1$$anonfun$13.apply(RDD.scala:945)\n\tat org.apache.spark.SparkContext$$anonfun$runJob$5.apply(SparkContext.scala:2101)\n\tat org.apache.spark.SparkContext$$anonfun$runJob$5.apply(SparkContext.scala:2101)\n\tat org.apache.spark.scheduler.ResultTask.runTask(ResultTask.scala:90)\n\tat org.apache.spark.scheduler.Task.run(Task.scala:123)\n\tat org.apache.spark.executor.Executor$TaskRunner$$anonfun$10.apply(Executor.scala:408)\n\tat org.apache.spark.util.Utils$.tryWithSafeFinally(Utils.scala:1360)\n\tat org.apache.spark.executor.Executor$TaskRunner.run(Executor.scala:414)\n\tat java.util.concurrent.ThreadPoolExecutor.runWorker(ThreadPoolExecutor.java:1149)\n\tat java.util.concurrent.ThreadPoolExecutor$Worker.run(ThreadPoolExecutor.java:624)\n\tat java.lang.Thread.run(Thread.java:748)\n\nDriver stacktrace:\n\tat org.apache.spark.scheduler.DAGScheduler.org$apache$spark$scheduler$DAGScheduler$$failJobAndIndependentStages(DAGScheduler.scala:1889)\n\tat org.apache.spark.scheduler.DAGScheduler$$anonfun$abortStage$1.apply(DAGScheduler.scala:1877)\n\tat org.apache.spark.scheduler.DAGScheduler$$anonfun$abortStage$1.apply(DAGScheduler.scala:1876)\n\tat scala.collection.mutable.ResizableArray$class.foreach(ResizableArray.scala:59)\n\tat scala.collection.mutable.ArrayBuffer.foreach(ArrayBuffer.scala:48)\n\tat org.apache.spark.scheduler.DAGScheduler.abortStage(DAGScheduler.scala:1876)\n\tat org.apache.spark.scheduler.DAGScheduler$$anonfun$handleTaskSetFailed$1.apply(DAGScheduler.scala:926)\n\tat org.apache.spark.scheduler.DAGScheduler$$anonfun$handleTaskSetFailed$1.apply(DAGScheduler.scala:926)\n\tat scala.Option.foreach(Option.scala:257)\n\tat org.apache.spark.scheduler.DAGScheduler.handleTaskSetFailed(DAGScheduler.scala:926)\n\tat org.apache.spark.scheduler.DAGSchedulerEventProcessLoop.doOnReceive(DAGScheduler.scala:2110)\n\tat org.apache.spark.scheduler.DAGSchedulerEventProcessLoop.onReceive(DAGScheduler.scala:2059)\n\tat org.apache.spark.scheduler.DAGSchedulerEventProcessLoop.onReceive(DAGScheduler.scala:2048)\n\tat org.apache.spark.util.EventLoop$$anon$1.run(EventLoop.scala:49)\n\tat org.apache.spark.scheduler.DAGScheduler.runJob(DAGScheduler.scala:737)\n\tat org.apache.spark.SparkContext.runJob(SparkContext.scala:2061)\n\tat org.apache.spark.SparkContext.runJob(SparkContext.scala:2082)\n\tat org.apache.spark.SparkContext.runJob(SparkContext.scala:2101)\n\tat org.apache.spark.SparkContext.runJob(SparkContext.scala:2126)\n\tat org.apache.spark.rdd.RDD$$anonfun$collect$1.apply(RDD.scala:945)\n\tat org.apache.spark.rdd.RDDOperationScope$.withScope(RDDOperationScope.scala:151)\n\tat org.apache.spark.rdd.RDDOperationScope$.withScope(RDDOperationScope.scala:112)\n\tat org.apache.spark.rdd.RDD.withScope(RDD.scala:363)\n\tat org.apache.spark.rdd.RDD.collect(RDD.scala:944)\n\tat org.apache.spark.api.python.PythonRDD$.collectAndServe(PythonRDD.scala:166)\n\tat org.apache.spark.api.python.PythonRDD.collectAndServe(PythonRDD.scala)\n\tat sun.reflect.GeneratedMethodAccessor102.invoke(Unknown Source)\n\tat sun.reflect.DelegatingMethodAccessorImpl.invoke(DelegatingMethodAccessorImpl.java:43)\n\tat java.lang.reflect.Method.invoke(Method.java:498)\n\tat py4j.reflection.MethodInvoker.invoke(MethodInvoker.java:244)\n\tat py4j.reflection.ReflectionEngine.invoke(ReflectionEngine.java:357)\n\tat py4j.Gateway.invoke(Gateway.java:282)\n\tat py4j.commands.AbstractCommand.invokeMethod(AbstractCommand.java:132)\n\tat py4j.commands.CallCommand.execute(CallCommand.java:79)\n\tat py4j.GatewayConnection.run(GatewayConnection.java:238)\n\tat java.lang.Thread.run(Thread.java:748)\nCaused by: org.apache.spark.api.python.PythonException: Traceback (most recent call last):\n  File \"/mnt/c/Users/jcojan/App/spark/python/lib/pyspark.zip/pyspark/worker.py\", line 377, in main\n    process()\n  File \"/mnt/c/Users/jcojan/App/spark/python/lib/pyspark.zip/pyspark/worker.py\", line 372, in process\n    serializer.dump_stream(func(split_index, iterator), outfile)\n  File \"/mnt/c/Users/jcojan/App/spark/python/lib/pyspark.zip/pyspark/serializers.py\", line 393, in dump_stream\n    vs = list(itertools.islice(iterator, batch))\n  File \"/mnt/c/Users/jcojan/App/spark/python/lib/pyspark.zip/pyspark/util.py\", line 99, in wrapper\n    return f(*args, **kwargs)\nTypeError: <lambda>() missing 1 required positional argument: 'x'\n\n\tat org.apache.spark.api.python.BasePythonRunner$ReaderIterator.handlePythonException(PythonRunner.scala:456)\n\tat org.apache.spark.api.python.PythonRunner$$anon$1.read(PythonRunner.scala:592)\n\tat org.apache.spark.api.python.PythonRunner$$anon$1.read(PythonRunner.scala:575)\n\tat org.apache.spark.api.python.BasePythonRunner$ReaderIterator.hasNext(PythonRunner.scala:410)\n\tat org.apache.spark.InterruptibleIterator.hasNext(InterruptibleIterator.scala:37)\n\tat scala.collection.Iterator$class.foreach(Iterator.scala:891)\n\tat org.apache.spark.InterruptibleIterator.foreach(InterruptibleIterator.scala:28)\n\tat scala.collection.generic.Growable$class.$plus$plus$eq(Growable.scala:59)\n\tat scala.collection.mutable.ArrayBuffer.$plus$plus$eq(ArrayBuffer.scala:104)\n\tat scala.collection.mutable.ArrayBuffer.$plus$plus$eq(ArrayBuffer.scala:48)\n\tat scala.collection.TraversableOnce$class.to(TraversableOnce.scala:310)\n\tat org.apache.spark.InterruptibleIterator.to(InterruptibleIterator.scala:28)\n\tat scala.collection.TraversableOnce$class.toBuffer(TraversableOnce.scala:302)\n\tat org.apache.spark.InterruptibleIterator.toBuffer(InterruptibleIterator.scala:28)\n\tat scala.collection.TraversableOnce$class.toArray(TraversableOnce.scala:289)\n\tat org.apache.spark.InterruptibleIterator.toArray(InterruptibleIterator.scala:28)\n\tat org.apache.spark.rdd.RDD$$anonfun$collect$1$$anonfun$13.apply(RDD.scala:945)\n\tat org.apache.spark.rdd.RDD$$anonfun$collect$1$$anonfun$13.apply(RDD.scala:945)\n\tat org.apache.spark.SparkContext$$anonfun$runJob$5.apply(SparkContext.scala:2101)\n\tat org.apache.spark.SparkContext$$anonfun$runJob$5.apply(SparkContext.scala:2101)\n\tat org.apache.spark.scheduler.ResultTask.runTask(ResultTask.scala:90)\n\tat org.apache.spark.scheduler.Task.run(Task.scala:123)\n\tat org.apache.spark.executor.Executor$TaskRunner$$anonfun$10.apply(Executor.scala:408)\n\tat org.apache.spark.util.Utils$.tryWithSafeFinally(Utils.scala:1360)\n\tat org.apache.spark.executor.Executor$TaskRunner.run(Executor.scala:414)\n\tat java.util.concurrent.ThreadPoolExecutor.runWorker(ThreadPoolExecutor.java:1149)\n\tat java.util.concurrent.ThreadPoolExecutor$Worker.run(ThreadPoolExecutor.java:624)\n\t... 1 more\n"
     ]
    }
   ],
   "source": [
    "#c.union(d).groupByKey().filter(lambda k, x: (1 in x) & (2 in x) )\n",
    "c.union(d).groupByKey().filter(lambda k, x: x.next() ).collect()"
   ]
  },
  {
   "cell_type": "code",
   "execution_count": 47,
   "metadata": {},
   "outputs": [
    {
     "data": {
      "text/plain": [
       "True"
      ]
     },
     "execution_count": 47,
     "metadata": {},
     "output_type": "execute_result"
    }
   ],
   "source": [
    "1 in [1,2]"
   ]
  },
  {
   "cell_type": "code",
   "execution_count": 61,
   "metadata": {},
   "outputs": [
    {
     "data": {
      "text/plain": [
       "[0, 1, 2, 3, 4, 5, 6, 7, 8, 9, 8, 9, 10, 11]"
      ]
     },
     "execution_count": 61,
     "metadata": {},
     "output_type": "execute_result"
    }
   ],
   "source": [
    "rdd2 = sc.parallelize(range(8,12))\n",
    "rdd1.union(rdd2).collect()"
   ]
  },
  {
   "cell_type": "code",
   "execution_count": 65,
   "metadata": {},
   "outputs": [
    {
     "data": {
      "text/plain": [
       "[(1, 10),\n",
       " (1, 11),\n",
       " (1, 12),\n",
       " (2, 10),\n",
       " (2, 11),\n",
       " (2, 12),\n",
       " (3, 10),\n",
       " (3, 11),\n",
       " (3, 12)]"
      ]
     },
     "execution_count": 65,
     "metadata": {},
     "output_type": "execute_result"
    }
   ],
   "source": [
    "x = sc.parallelize([1,2,3])\n",
    "y = sc.parallelize([10,11,12])\n",
    "z = x.cartesian(y)\n",
    "z.collect()"
   ]
  },
  {
   "cell_type": "markdown",
   "metadata": {},
   "source": [
    "## Aggregations"
   ]
  },
  {
   "cell_type": "code",
   "execution_count": 66,
   "metadata": {},
   "outputs": [
    {
     "data": {
      "text/plain": [
       "[0, 1, 2, 3, 4, 5, 6, 7, 8, 9]"
      ]
     },
     "execution_count": 66,
     "metadata": {},
     "output_type": "execute_result"
    }
   ],
   "source": [
    "rdd1.collect()"
   ]
  },
  {
   "cell_type": "code",
   "execution_count": 67,
   "metadata": {},
   "outputs": [
    {
     "data": {
      "text/plain": [
       "45"
      ]
     },
     "execution_count": 67,
     "metadata": {},
     "output_type": "execute_result"
    }
   ],
   "source": [
    "rdd1.reduce(lambda x,y: x + y)"
   ]
  },
  {
   "cell_type": "code",
   "execution_count": 68,
   "metadata": {},
   "outputs": [
    {
     "data": {
      "text/plain": [
       "45"
      ]
     },
     "execution_count": 68,
     "metadata": {},
     "output_type": "execute_result"
    }
   ],
   "source": [
    "rdd1.sum()"
   ]
  },
  {
   "cell_type": "code",
   "execution_count": 69,
   "metadata": {},
   "outputs": [
    {
     "data": {
      "text/plain": [
       "'abcd'"
      ]
     },
     "execution_count": 69,
     "metadata": {},
     "output_type": "execute_result"
    }
   ],
   "source": [
    "rdd_string = sc.parallelize(['a','b','c','d'])\n",
    "rdd_string.reduce(lambda x,y: x + y)"
   ]
  },
  {
   "cell_type": "code",
   "execution_count": 70,
   "metadata": {},
   "outputs": [
    {
     "data": {
      "text/plain": [
       "45"
      ]
     },
     "execution_count": 70,
     "metadata": {},
     "output_type": "execute_result"
    }
   ],
   "source": [
    "rdd1.aggregate(0, lambda x,y: x + y, lambda x,y: x + y)"
   ]
  },
  {
   "cell_type": "code",
   "execution_count": 74,
   "metadata": {},
   "outputs": [
    {
     "data": {
      "text/plain": [
       "4"
      ]
     },
     "execution_count": 74,
     "metadata": {},
     "output_type": "execute_result"
    }
   ],
   "source": [
    "rdd1.getNumPartitions()"
   ]
  },
  {
   "cell_type": "code",
   "execution_count": 76,
   "metadata": {},
   "outputs": [
    {
     "data": {
      "text/plain": [
       "45"
      ]
     },
     "execution_count": 76,
     "metadata": {},
     "output_type": "execute_result"
    }
   ],
   "source": [
    "rdd1.aggregate(0, lambda x,y: x + y, lambda x,y: x + y)"
   ]
  },
  {
   "cell_type": "code",
   "execution_count": 78,
   "metadata": {},
   "outputs": [
    {
     "data": {
      "text/plain": [
       "[[0, 1], [2, 3, 4], [5, 6], [7, 8, 9]]"
      ]
     },
     "execution_count": 78,
     "metadata": {},
     "output_type": "execute_result"
    }
   ],
   "source": [
    "rdd1.glom().collect()"
   ]
  },
  {
   "cell_type": "code",
   "execution_count": 77,
   "metadata": {},
   "outputs": [
    {
     "data": {
      "text/plain": [
       "20"
      ]
     },
     "execution_count": 77,
     "metadata": {},
     "output_type": "execute_result"
    }
   ],
   "source": [
    "rdd1.aggregate(0, lambda x,y: max(x,y), lambda x,y: x + y)"
   ]
  },
  {
   "cell_type": "code",
   "execution_count": 82,
   "metadata": {},
   "outputs": [],
   "source": [
    "a = sc.parallelize([\"negro\", \"azul\", \"blanco\", \"verde\", \"gris\"], 3)"
   ]
  },
  {
   "cell_type": "code",
   "execution_count": 83,
   "metadata": {},
   "outputs": [
    {
     "data": {
      "text/plain": [
       "[['negro'], ['azul', 'blanco'], ['verde', 'gris']]"
      ]
     },
     "execution_count": 83,
     "metadata": {},
     "output_type": "execute_result"
    }
   ],
   "source": [
    "a.glom().collect()"
   ]
  },
  {
   "cell_type": "code",
   "execution_count": 84,
   "metadata": {},
   "outputs": [
    {
     "data": {
      "text/plain": [
       "24"
      ]
     },
     "execution_count": 84,
     "metadata": {},
     "output_type": "execute_result"
    }
   ],
   "source": [
    "a.aggregate(0, lambda acc,y: acc + len(y), lambda x,y: x + y)"
   ]
  },
  {
   "cell_type": "markdown",
   "metadata": {},
   "source": [
    "## With keys"
   ]
  },
  {
   "cell_type": "code",
   "execution_count": null,
   "metadata": {},
   "outputs": [],
   "source": [
    "z.keys().collect()"
   ]
  },
  {
   "cell_type": "code",
   "execution_count": 85,
   "metadata": {},
   "outputs": [
    {
     "data": {
      "text/plain": [
       "[(5, 'negro'), (4, 'azul'), (6, 'blanco'), (5, 'verde'), (4, 'gris')]"
      ]
     },
     "execution_count": 85,
     "metadata": {},
     "output_type": "execute_result"
    }
   ],
   "source": [
    "a = sc.parallelize([\"negro\", \"azul\", \"blanco\", \"verde\", \"gris\"], 2)\n",
    "b = a.map(lambda x: (len(x),x))\n",
    "b.collect()"
   ]
  },
  {
   "cell_type": "code",
   "execution_count": 92,
   "metadata": {},
   "outputs": [
    {
     "data": {
      "text/plain": [
       "[(4, <pyspark.resultiterable.ResultIterable at 0x7f8c33533f50>),\n",
       " (6, <pyspark.resultiterable.ResultIterable at 0x7f8c33533ad0>),\n",
       " (5, <pyspark.resultiterable.ResultIterable at 0x7f8c33533590>)]"
      ]
     },
     "execution_count": 92,
     "metadata": {},
     "output_type": "execute_result"
    }
   ],
   "source": [
    "b.groupByKey().collect()"
   ]
  },
  {
   "cell_type": "code",
   "execution_count": 95,
   "metadata": {},
   "outputs": [
    {
     "data": {
      "text/plain": [
       "[(4, ['azul', 'gris']), (6, ['blanco']), (5, ['negro', 'verde'])]"
      ]
     },
     "execution_count": 95,
     "metadata": {},
     "output_type": "execute_result"
    }
   ],
   "source": [
    "b.groupByKey().mapValues(lambda x: [v for v in x]).collect()"
   ]
  },
  {
   "cell_type": "code",
   "execution_count": 90,
   "metadata": {},
   "outputs": [
    {
     "data": {
      "text/plain": [
       "[(4, 'azulgris'), (6, 'blanco'), (5, 'negroverde')]"
      ]
     },
     "execution_count": 90,
     "metadata": {},
     "output_type": "execute_result"
    }
   ],
   "source": [
    "b.reduceByKey(lambda x,y: x + y).collect()"
   ]
  },
  {
   "cell_type": "code",
   "execution_count": null,
   "metadata": {},
   "outputs": [],
   "source": [
    "a = sc.parallelize([\"negro\", \"azul\", \"blanco\", \"verde\", \"gris\"], 2)\n",
    "b = a.groupBy(lambda x: len(x))\n",
    "sorted([(x,sorted(y)) for (x,y) in b.collect()])"
   ]
  },
  {
   "cell_type": "code",
   "execution_count": 91,
   "metadata": {},
   "outputs": [
    {
     "data": {
      "text/plain": [
       "defaultdict(int, {5: 2, 4: 2, 6: 1})"
      ]
     },
     "execution_count": 91,
     "metadata": {},
     "output_type": "execute_result"
    }
   ],
   "source": [
    "b.countByKey()"
   ]
  },
  {
   "cell_type": "code",
   "execution_count": 96,
   "metadata": {},
   "outputs": [
    {
     "data": {
      "text/plain": [
       "[(5, 5), (4, 4), (6, 6), (5, 5), (4, 4)]"
      ]
     },
     "execution_count": 96,
     "metadata": {},
     "output_type": "execute_result"
    }
   ],
   "source": [
    "b.mapValues(len).collect()"
   ]
  },
  {
   "cell_type": "code",
   "execution_count": 103,
   "metadata": {},
   "outputs": [
    {
     "data": {
      "text/plain": [
       "[(4, 'azul'), (5, 'verde'), (7, 'naranja'), (4, 'amar')]"
      ]
     },
     "execution_count": 103,
     "metadata": {},
     "output_type": "execute_result"
    }
   ],
   "source": [
    "a = sc.parallelize([\"azul\", \"verde\", \"naranja\", \"amar\"], 3)\n",
    "b = a.keyBy(lambda x: len(x))\n",
    "b.collect()"
   ]
  },
  {
   "cell_type": "code",
   "execution_count": 98,
   "metadata": {},
   "outputs": [
    {
     "data": {
      "text/plain": [
       "[(5, 'negro'), (6, 'blanco'), (4, 'gris')]"
      ]
     },
     "execution_count": 98,
     "metadata": {},
     "output_type": "execute_result"
    }
   ],
   "source": [
    "c = sc.parallelize([\"negro\", \"blanco\", \"gris\"], 3)\n",
    "d = c.keyBy(lambda x: len(x))\n",
    "d.collect()"
   ]
  },
  {
   "cell_type": "code",
   "execution_count": 104,
   "metadata": {},
   "outputs": [
    {
     "data": {
      "text/plain": [
       "[(4, ('azul', 'gris')), (4, ('amar', 'gris')), (5, ('verde', 'negro'))]"
      ]
     },
     "execution_count": 104,
     "metadata": {},
     "output_type": "execute_result"
    }
   ],
   "source": [
    "b.join(d).collect()"
   ]
  },
  {
   "cell_type": "code",
   "execution_count": 100,
   "metadata": {},
   "outputs": [
    {
     "data": {
      "text/plain": [
       "[(7, ('naranja', None)), (4, ('azul', 'gris')), (5, ('verde', 'negro'))]"
      ]
     },
     "execution_count": 100,
     "metadata": {},
     "output_type": "execute_result"
    }
   ],
   "source": [
    "b.leftOuterJoin(d).collect()"
   ]
  },
  {
   "cell_type": "code",
   "execution_count": 101,
   "metadata": {},
   "outputs": [
    {
     "data": {
      "text/plain": [
       "[(6, (None, 'blanco')), (4, ('azul', 'gris')), (5, ('verde', 'negro'))]"
      ]
     },
     "execution_count": 101,
     "metadata": {},
     "output_type": "execute_result"
    }
   ],
   "source": [
    "b.rightOuterJoin(d).collect()"
   ]
  },
  {
   "cell_type": "code",
   "execution_count": 102,
   "metadata": {},
   "outputs": [
    {
     "data": {
      "text/plain": [
       "[(6, (None, 'blanco')),\n",
       " (7, ('naranja', None)),\n",
       " (4, ('azul', 'gris')),\n",
       " (5, ('verde', 'negro'))]"
      ]
     },
     "execution_count": 102,
     "metadata": {},
     "output_type": "execute_result"
    }
   ],
   "source": [
    "b.fullOuterJoin(d).collect()"
   ]
  },
  {
   "cell_type": "code",
   "execution_count": 105,
   "metadata": {},
   "outputs": [
    {
     "data": {
      "text/plain": [
       "[(4, 'azulgris'), (5, 'negroblacoverde')]"
      ]
     },
     "execution_count": 105,
     "metadata": {},
     "output_type": "execute_result"
    }
   ],
   "source": [
    "a = sc.parallelize([\"negro\", \"azul\", \"blaco\", \"verde\", \"gris\"], 2)\n",
    "b = a.map(lambda x: (len(x), x))\n",
    "b.reduceByKey(lambda x,y: x + y).collect()"
   ]
  },
  {
   "cell_type": "markdown",
   "metadata": {},
   "source": [
    "## Words count"
   ]
  },
  {
   "cell_type": "code",
   "execution_count": 5,
   "metadata": {},
   "outputs": [],
   "source": [
    "import re\n",
    "pattern = re.compile('[^[^a-zA-Z ]')"
   ]
  },
  {
   "cell_type": "code",
   "execution_count": 6,
   "metadata": {},
   "outputs": [],
   "source": [
    "rdd_text = sc.textFile('LICENSE_spark.txt')"
   ]
  },
  {
   "cell_type": "code",
   "execution_count": 7,
   "metadata": {
    "scrolled": true
   },
   "outputs": [
    {
     "data": {
      "text/plain": [
       "['                                 Apache License',\n",
       " '                           Version 2.0, January 2004',\n",
       " '                        http://www.apache.org/licenses/',\n",
       " '',\n",
       " '   TERMS AND CONDITIONS FOR USE, REPRODUCTION, AND DISTRIBUTION']"
      ]
     },
     "execution_count": 7,
     "metadata": {},
     "output_type": "execute_result"
    }
   ],
   "source": [
    "rdd_text.take(5)"
   ]
  },
  {
   "cell_type": "markdown",
   "metadata": {},
   "source": [
    "**Q1:** limpiar la lista, quitar espacios y caracteres non alfabeticos"
   ]
  },
  {
   "cell_type": "code",
   "execution_count": 8,
   "metadata": {},
   "outputs": [],
   "source": [
    "def clean(x):\n",
    "    return pattern.sub('',x).strip()"
   ]
  },
  {
   "cell_type": "code",
   "execution_count": 16,
   "metadata": {},
   "outputs": [
    {
     "data": {
      "text/plain": [
       "'Version  January'"
      ]
     },
     "execution_count": 16,
     "metadata": {},
     "output_type": "execute_result"
    }
   ],
   "source": [
    "clean('                           Version 2.0, January 2004')"
   ]
  },
  {
   "cell_type": "code",
   "execution_count": 9,
   "metadata": {},
   "outputs": [
    {
     "data": {
      "text/plain": [
       "['Apache License',\n",
       " 'Version  January',\n",
       " 'httpwwwapacheorglicenses',\n",
       " '',\n",
       " 'TERMS AND CONDITIONS FOR USE REPRODUCTION AND DISTRIBUTION']"
      ]
     },
     "execution_count": 9,
     "metadata": {},
     "output_type": "execute_result"
    }
   ],
   "source": [
    "rdd_clean = rdd_text.map(clean)\n",
    "rdd_clean.take(5)"
   ]
  },
  {
   "cell_type": "markdown",
   "metadata": {},
   "source": [
    "**Q2:** separar las palabras"
   ]
  },
  {
   "cell_type": "code",
   "execution_count": 18,
   "metadata": {},
   "outputs": [
    {
     "data": {
      "text/plain": [
       "['TERMS',\n",
       " 'AND',\n",
       " 'CONDITIONS',\n",
       " 'FOR',\n",
       " 'USE',\n",
       " 'REPRODUCTION',\n",
       " 'AND',\n",
       " 'DISTRIBUTION']"
      ]
     },
     "execution_count": 18,
     "metadata": {},
     "output_type": "execute_result"
    }
   ],
   "source": [
    "'TERMS AND CONDITIONS FOR USE REPRODUCTION AND DISTRIBUTION'.split(\" \")"
   ]
  },
  {
   "cell_type": "code",
   "execution_count": 10,
   "metadata": {},
   "outputs": [
    {
     "data": {
      "text/plain": [
       "['Apache',\n",
       " 'License',\n",
       " 'Version',\n",
       " 'January',\n",
       " 'httpwwwapacheorglicenses',\n",
       " 'TERMS',\n",
       " 'AND',\n",
       " 'CONDITIONS',\n",
       " 'FOR',\n",
       " 'USE',\n",
       " 'REPRODUCTION',\n",
       " 'AND',\n",
       " 'DISTRIBUTION',\n",
       " 'Definitions',\n",
       " 'License']"
      ]
     },
     "execution_count": 10,
     "metadata": {},
     "output_type": "execute_result"
    }
   ],
   "source": [
    "rdd_words = rdd_clean\\\n",
    "    .flatMap(lambda x: x.split(\" \"))\\\n",
    "    .filter(lambda x: len(x)!=0)\n",
    "rdd_words.take(15)"
   ]
  },
  {
   "cell_type": "code",
   "execution_count": 22,
   "metadata": {},
   "outputs": [
    {
     "data": {
      "text/plain": [
       "False"
      ]
     },
     "execution_count": 22,
     "metadata": {},
     "output_type": "execute_result"
    }
   ],
   "source": [
    "len(\"as\")==0"
   ]
  },
  {
   "cell_type": "markdown",
   "metadata": {},
   "source": [
    "**Q3:** cuantas palabras differentes ?"
   ]
  },
  {
   "cell_type": "code",
   "execution_count": 11,
   "metadata": {},
   "outputs": [
    {
     "data": {
      "text/plain": [
       "[('Apache', 1),\n",
       " ('License', 1),\n",
       " ('Version', 1),\n",
       " ('January', 1),\n",
       " ('httpwwwapacheorglicenses', 1)]"
      ]
     },
     "execution_count": 11,
     "metadata": {},
     "output_type": "execute_result"
    }
   ],
   "source": [
    "rdd_couple = rdd_words.map(lambda x: (x, 1))\n",
    "rdd_couple.take(5)"
   ]
  },
  {
   "cell_type": "code",
   "execution_count": 30,
   "metadata": {},
   "outputs": [
    {
     "data": {
      "text/plain": [
       "840"
      ]
     },
     "execution_count": 30,
     "metadata": {},
     "output_type": "execute_result"
    }
   ],
   "source": [
    "rdd_couple.groupByKey().count()"
   ]
  },
  {
   "cell_type": "code",
   "execution_count": 31,
   "metadata": {},
   "outputs": [
    {
     "data": {
      "text/plain": [
       "[('Apache', [1, 1, 1, 1, 1]),\n",
       " ('January', [1]),\n",
       " ('httpwwwapacheorglicenses', [1]),\n",
       " ('CONDITIONS', [1, 1, 1, 1]),\n",
       " ('FOR', [1, 1])]"
      ]
     },
     "execution_count": 31,
     "metadata": {},
     "output_type": "execute_result"
    }
   ],
   "source": [
    "rdd_couple.groupByKey().mapValues(lambda x: [v for v in x]).take(5)"
   ]
  },
  {
   "cell_type": "code",
   "execution_count": 32,
   "metadata": {},
   "outputs": [
    {
     "data": {
      "text/plain": [
       "['Apache', 'January', 'httpwwwapacheorglicenses', 'CONDITIONS', 'FOR']"
      ]
     },
     "execution_count": 32,
     "metadata": {},
     "output_type": "execute_result"
    }
   ],
   "source": [
    "rdd_couple.groupByKey().keys().take(5)"
   ]
  },
  {
   "cell_type": "code",
   "execution_count": 33,
   "metadata": {},
   "outputs": [
    {
     "data": {
      "text/plain": [
       "840"
      ]
     },
     "execution_count": 33,
     "metadata": {},
     "output_type": "execute_result"
    }
   ],
   "source": [
    "rdd_couple.groupByKey().keys().count()"
   ]
  },
  {
   "cell_type": "code",
   "execution_count": 34,
   "metadata": {},
   "outputs": [
    {
     "data": {
      "text/plain": [
       "1998"
      ]
     },
     "execution_count": 34,
     "metadata": {},
     "output_type": "execute_result"
    }
   ],
   "source": [
    "rdd_words.count()"
   ]
  },
  {
   "cell_type": "markdown",
   "metadata": {},
   "source": [
    "**Q4:** palabras mas frequentes ?"
   ]
  },
  {
   "cell_type": "code",
   "execution_count": 12,
   "metadata": {},
   "outputs": [
    {
     "data": {
      "text/plain": [
       "[('Apache', 5),\n",
       " ('January', 1),\n",
       " ('httpwwwapacheorglicenses', 1),\n",
       " ('CONDITIONS', 4),\n",
       " ('FOR', 2)]"
      ]
     },
     "execution_count": 12,
     "metadata": {},
     "output_type": "execute_result"
    }
   ],
   "source": [
    "rdd_couple.groupByKey().mapValues(lambda x: len(x)).take(5)"
   ]
  },
  {
   "cell_type": "code",
   "execution_count": 13,
   "metadata": {},
   "outputs": [
    {
     "data": {
      "text/plain": [
       "[('Apache', 5),\n",
       " ('January', 1),\n",
       " ('httpwwwapacheorglicenses', 1),\n",
       " ('CONDITIONS', 4),\n",
       " ('FOR', 2)]"
      ]
     },
     "execution_count": 13,
     "metadata": {},
     "output_type": "execute_result"
    }
   ],
   "source": [
    "word_count = rdd_couple.reduceByKey(lambda x,y: x+y)\n",
    "word_count.take(5)"
   ]
  },
  {
   "cell_type": "code",
   "execution_count": 14,
   "metadata": {},
   "outputs": [],
   "source": [
    "def argmax(x,y):\n",
    "    if x[1]> y[1]:\n",
    "        return x\n",
    "    else:\n",
    "        return y"
   ]
  },
  {
   "cell_type": "code",
   "execution_count": 16,
   "metadata": {},
   "outputs": [
    {
     "data": {
      "text/plain": [
       "('January', 6)"
      ]
     },
     "execution_count": 16,
     "metadata": {},
     "output_type": "execute_result"
    }
   ],
   "source": [
    "argmax(('Apache', 5), ('January', 6))"
   ]
  },
  {
   "cell_type": "code",
   "execution_count": 17,
   "metadata": {},
   "outputs": [
    {
     "data": {
      "text/plain": [
       "('the', 103)"
      ]
     },
     "execution_count": 17,
     "metadata": {},
     "output_type": "execute_result"
    }
   ],
   "source": [
    "word_count.reduce(argmax)"
   ]
  },
  {
   "cell_type": "code",
   "execution_count": 22,
   "metadata": {},
   "outputs": [
    {
     "data": {
      "text/plain": [
       "[('the', 103), ('of', 66), ('or', 66), ('and', 45), ('to', 39)]"
      ]
     },
     "execution_count": 22,
     "metadata": {},
     "output_type": "execute_result"
    }
   ],
   "source": [
    "word_count.sortBy(lambda x: x[1], ascending=False).take(5)"
   ]
  },
  {
   "cell_type": "code",
   "execution_count": 40,
   "metadata": {},
   "outputs": [
    {
     "data": {
      "text/plain": [
       "defaultdict(int,\n",
       "            {'Apache': 5,\n",
       "             'License': 36,\n",
       "             'Version': 3,\n",
       "             'January': 1,\n",
       "             'httpwwwapacheorglicenses': 1,\n",
       "             'TERMS': 2,\n",
       "             'AND': 3,\n",
       "             'CONDITIONS': 4,\n",
       "             'FOR': 2,\n",
       "             'USE': 1,\n",
       "             'REPRODUCTION': 1,\n",
       "             'DISTRIBUTION': 1,\n",
       "             'Definitions': 1,\n",
       "             'shall': 15,\n",
       "             'mean': 10,\n",
       "             'the': 103,\n",
       "             'terms': 7,\n",
       "             'and': 45,\n",
       "             'conditions': 9,\n",
       "             'for': 22,\n",
       "             'use': 9,\n",
       "             'reproduction': 3,\n",
       "             'distribution': 4,\n",
       "             'as': 15,\n",
       "             'defined': 1,\n",
       "             'by': 24,\n",
       "             'Sections': 1,\n",
       "             'through': 1,\n",
       "             'of': 66,\n",
       "             'this': 16,\n",
       "             'document': 1,\n",
       "             'Licensor': 10,\n",
       "             'copyright': 11,\n",
       "             'owner': 6,\n",
       "             'or': 66,\n",
       "             'entity': 6,\n",
       "             'authorized': 2,\n",
       "             'that': 23,\n",
       "             'is': 9,\n",
       "             'granting': 1,\n",
       "             'Legal': 4,\n",
       "             'Entity': 4,\n",
       "             'union': 1,\n",
       "             'acting': 1,\n",
       "             'all': 3,\n",
       "             'other': 8,\n",
       "             'entities': 1,\n",
       "             'control': 4,\n",
       "             'are': 7,\n",
       "             'controlled': 1,\n",
       "             'under': 12,\n",
       "             'common': 1,\n",
       "             'with': 11,\n",
       "             'For': 3,\n",
       "             'purposes': 4,\n",
       "             'definition': 2,\n",
       "             'means': 2,\n",
       "             'i': 1,\n",
       "             'power': 1,\n",
       "             'direct': 3,\n",
       "             'indirect': 2,\n",
       "             'to': 39,\n",
       "             'cause': 2,\n",
       "             'direction': 1,\n",
       "             'management': 1,\n",
       "             'such': 18,\n",
       "             'whether': 4,\n",
       "             'contract': 2,\n",
       "             'otherwise': 6,\n",
       "             'ii': 1,\n",
       "             'ownership': 2,\n",
       "             'fifty': 1,\n",
       "             'percent': 1,\n",
       "             'more': 1,\n",
       "             'outstanding': 1,\n",
       "             'shares': 1,\n",
       "             'iii': 1,\n",
       "             'beneficial': 1,\n",
       "             'You': 24,\n",
       "             'Your': 9,\n",
       "             'an': 7,\n",
       "             'individual': 3,\n",
       "             'exercising': 1,\n",
       "             'permissions': 3,\n",
       "             'granted': 2,\n",
       "             'Source': 9,\n",
       "             'form': 13,\n",
       "             'preferred': 1,\n",
       "             'making': 1,\n",
       "             'modifications': 6,\n",
       "             'including': 9,\n",
       "             'but': 5,\n",
       "             'not': 11,\n",
       "             'limited': 4,\n",
       "             'software': 2,\n",
       "             'source': 4,\n",
       "             'code': 3,\n",
       "             'documentation': 4,\n",
       "             'configuration': 1,\n",
       "             'files': 3,\n",
       "             'Object': 5,\n",
       "             'any': 28,\n",
       "             'resulting': 1,\n",
       "             'from': 5,\n",
       "             'mechanical': 1,\n",
       "             'transformation': 1,\n",
       "             'translation': 1,\n",
       "             'a': 21,\n",
       "             'compiled': 1,\n",
       "             'object': 1,\n",
       "             'generated': 2,\n",
       "             'conversions': 1,\n",
       "             'media': 1,\n",
       "             'types': 1,\n",
       "             'Work': 26,\n",
       "             'work': 8,\n",
       "             'authorship': 3,\n",
       "             'in': 23,\n",
       "             'made': 2,\n",
       "             'available': 1,\n",
       "             'indicated': 1,\n",
       "             'notice': 3,\n",
       "             'included': 2,\n",
       "             'attached': 1,\n",
       "             'example': 1,\n",
       "             'provided': 5,\n",
       "             'Appendix': 1,\n",
       "             'below': 1,\n",
       "             'Derivative': 18,\n",
       "             'Works': 18,\n",
       "             'based': 1,\n",
       "             'on': 11,\n",
       "             'derived': 1,\n",
       "             'which': 2,\n",
       "             'editorial': 1,\n",
       "             'revisions': 1,\n",
       "             'annotations': 1,\n",
       "             'elaborations': 1,\n",
       "             'represent': 1,\n",
       "             'whole': 2,\n",
       "             'original': 2,\n",
       "             'include': 3,\n",
       "             'works': 1,\n",
       "             'remain': 1,\n",
       "             'separable': 1,\n",
       "             'merely': 1,\n",
       "             'link': 1,\n",
       "             'bind': 1,\n",
       "             'name': 2,\n",
       "             'interfaces': 1,\n",
       "             'thereof': 4,\n",
       "             'Contribution': 5,\n",
       "             'version': 1,\n",
       "             'additions': 1,\n",
       "             'intentionally': 2,\n",
       "             'submitted': 5,\n",
       "             'inclusion': 2,\n",
       "             'submit': 1,\n",
       "             'behalf': 5,\n",
       "             'electronic': 2,\n",
       "             'verbal': 1,\n",
       "             'written': 1,\n",
       "             'communication': 3,\n",
       "             'sent': 1,\n",
       "             'its': 3,\n",
       "             'representatives': 1,\n",
       "             'mailing': 1,\n",
       "             'lists': 1,\n",
       "             'systems': 2,\n",
       "             'issue': 1,\n",
       "             'tracking': 1,\n",
       "             'managed': 1,\n",
       "             'purpose': 2,\n",
       "             'discussing': 1,\n",
       "             'improving': 1,\n",
       "             'excluding': 3,\n",
       "             'conspicuously': 1,\n",
       "             'marked': 1,\n",
       "             'designated': 1,\n",
       "             'writing': 4,\n",
       "             'Not': 1,\n",
       "             'Contributor': 10,\n",
       "             'whom': 1,\n",
       "             'has': 2,\n",
       "             'been': 2,\n",
       "             'received': 1,\n",
       "             'subsequently': 1,\n",
       "             'incorporated': 2,\n",
       "             'within': 8,\n",
       "             'Grant': 2,\n",
       "             'Copyright': 2,\n",
       "             'Subject': 2,\n",
       "             'each': 4,\n",
       "             'hereby': 2,\n",
       "             'grants': 2,\n",
       "             'perpetual': 2,\n",
       "             'worldwide': 2,\n",
       "             'nonexclusive': 2,\n",
       "             'nocharge': 2,\n",
       "             'royaltyfree': 2,\n",
       "             'irrevocable': 2,\n",
       "             'license': 6,\n",
       "             'reproduce': 2,\n",
       "             'prepare': 1,\n",
       "             'publicly': 2,\n",
       "             'display': 2,\n",
       "             'perform': 1,\n",
       "             'sublicense': 1,\n",
       "             'distribute': 5,\n",
       "             'Patent': 1,\n",
       "             'except': 3,\n",
       "             'stated': 2,\n",
       "             'section': 2,\n",
       "             'patent': 6,\n",
       "             'make': 1,\n",
       "             'have': 2,\n",
       "             'offer': 2,\n",
       "             'sell': 2,\n",
       "             'import': 1,\n",
       "             'transfer': 1,\n",
       "             'where': 1,\n",
       "             'applies': 1,\n",
       "             'only': 4,\n",
       "             'those': 4,\n",
       "             'claims': 2,\n",
       "             'licensable': 1,\n",
       "             'necessarily': 1,\n",
       "             'infringed': 1,\n",
       "             'their': 3,\n",
       "             'Contributions': 6,\n",
       "             'alone': 1,\n",
       "             'combination': 1,\n",
       "             'was': 2,\n",
       "             'If': 2,\n",
       "             'institute': 1,\n",
       "             'litigation': 2,\n",
       "             'against': 2,\n",
       "             'crossclaim': 1,\n",
       "             'counterclaim': 1,\n",
       "             'lawsuit': 1,\n",
       "             'alleging': 1,\n",
       "             'constitutes': 1,\n",
       "             'contributory': 1,\n",
       "             'infringement': 1,\n",
       "             'then': 2,\n",
       "             'licenses': 4,\n",
       "             'terminate': 1,\n",
       "             'date': 1,\n",
       "             'filed': 1,\n",
       "             'Redistribution': 1,\n",
       "             'may': 9,\n",
       "             'copies': 1,\n",
       "             'medium': 1,\n",
       "             'without': 3,\n",
       "             'meet': 1,\n",
       "             'following': 3,\n",
       "             'must': 4,\n",
       "             'give': 1,\n",
       "             'recipients': 1,\n",
       "             'copy': 3,\n",
       "             'b': 1,\n",
       "             'modified': 1,\n",
       "             'carry': 1,\n",
       "             'prominent': 1,\n",
       "             'notices': 8,\n",
       "             'stating': 1,\n",
       "             'changed': 1,\n",
       "             'c': 1,\n",
       "             'retain': 1,\n",
       "             'trademark': 1,\n",
       "             'attribution': 4,\n",
       "             'do': 3,\n",
       "             'pertain': 2,\n",
       "             'part': 4,\n",
       "             'd': 1,\n",
       "             'includes': 1,\n",
       "             'NOTICE': 6,\n",
       "             'text': 5,\n",
       "             'file': 8,\n",
       "             'readable': 1,\n",
       "             'contained': 1,\n",
       "             'at': 2,\n",
       "             'least': 1,\n",
       "             'one': 1,\n",
       "             'places': 1,\n",
       "             'distributed': 4,\n",
       "             'if': 4,\n",
       "             'along': 1,\n",
       "             'wherever': 1,\n",
       "             'thirdparty': 3,\n",
       "             'normally': 1,\n",
       "             'appear': 1,\n",
       "             'The': 4,\n",
       "             'contents': 1,\n",
       "             'informational': 1,\n",
       "             'modify': 2,\n",
       "             'add': 2,\n",
       "             'own': 4,\n",
       "             'alongside': 1,\n",
       "             'addendum': 1,\n",
       "             'additional': 4,\n",
       "             'cannot': 1,\n",
       "             'be': 5,\n",
       "             'construed': 1,\n",
       "             'modifying': 1,\n",
       "             'statement': 1,\n",
       "             'provide': 1,\n",
       "             'different': 1,\n",
       "             'complies': 1,\n",
       "             'Submission': 1,\n",
       "             'Unless': 3,\n",
       "             'explicitly': 1,\n",
       "             'state': 1,\n",
       "             'Notwithstanding': 1,\n",
       "             'above': 1,\n",
       "             'nothing': 1,\n",
       "             'herein': 1,\n",
       "             'supersede': 1,\n",
       "             'separate': 1,\n",
       "             'agreement': 1,\n",
       "             'you': 2,\n",
       "             'executed': 1,\n",
       "             'regarding': 1,\n",
       "             'Trademarks': 1,\n",
       "             'This': 4,\n",
       "             'does': 1,\n",
       "             'grant': 1,\n",
       "             'permission': 1,\n",
       "             'trade': 1,\n",
       "             'names': 2,\n",
       "             'trademarks': 1,\n",
       "             'service': 1,\n",
       "             'marks': 1,\n",
       "             'product': 2,\n",
       "             'required': 4,\n",
       "             'reasonable': 1,\n",
       "             'customary': 1,\n",
       "             'describing': 1,\n",
       "             'origin': 1,\n",
       "             'reproducing': 1,\n",
       "             'content': 1,\n",
       "             'Disclaimer': 1,\n",
       "             'Warranty': 2,\n",
       "             'applicable': 3,\n",
       "             'law': 3,\n",
       "             'agreed': 3,\n",
       "             'provides': 2,\n",
       "             'AS': 2,\n",
       "             'IS': 2,\n",
       "             'BASIS': 2,\n",
       "             'WITHOUT': 2,\n",
       "             'WARRANTIES': 2,\n",
       "             'OR': 2,\n",
       "             'OF': 3,\n",
       "             'ANY': 2,\n",
       "             'KIND': 2,\n",
       "             'either': 2,\n",
       "             'express': 2,\n",
       "             'implied': 2,\n",
       "             'limitation': 1,\n",
       "             'warranties': 1,\n",
       "             'TITLE': 1,\n",
       "             'NONINFRINGEMENT': 1,\n",
       "             'MERCHANTABILITY': 1,\n",
       "             'FITNESS': 1,\n",
       "             'A': 1,\n",
       "             'PARTICULAR': 1,\n",
       "             'PURPOSE': 1,\n",
       "             'solely': 1,\n",
       "             'responsible': 1,\n",
       "             'determining': 1,\n",
       "             'appropriateness': 1,\n",
       "             'using': 1,\n",
       "             'redistributing': 2,\n",
       "             'assume': 1,\n",
       "             'risks': 1,\n",
       "             'associated': 1,\n",
       "             'exercise': 1,\n",
       "             'Limitation': 1,\n",
       "             'Liability': 2,\n",
       "             'In': 1,\n",
       "             'no': 2,\n",
       "             'event': 1,\n",
       "             'legal': 1,\n",
       "             'theory': 1,\n",
       "             'tort': 1,\n",
       "             'negligence': 1,\n",
       "             'unless': 1,\n",
       "             'deliberate': 1,\n",
       "             'grossly': 1,\n",
       "             'negligent': 1,\n",
       "             'acts': 1,\n",
       "             'liable': 1,\n",
       "             'damages': 5,\n",
       "             'special': 1,\n",
       "             'incidental': 1,\n",
       "             'consequential': 1,\n",
       "             'character': 1,\n",
       "             'arising': 1,\n",
       "             'result': 1,\n",
       "             'out': 1,\n",
       "             'inability': 1,\n",
       "             'loss': 1,\n",
       "             'goodwill': 1,\n",
       "             'stoppage': 1,\n",
       "             'computer': 1,\n",
       "             'failure': 1,\n",
       "             'malfunction': 1,\n",
       "             'commercial': 1,\n",
       "             'losses': 1,\n",
       "             'even': 1,\n",
       "             'advised': 1,\n",
       "             'possibility': 1,\n",
       "             'Accepting': 1,\n",
       "             'Additional': 1,\n",
       "             'While': 1,\n",
       "             'choose': 1,\n",
       "             'charge': 1,\n",
       "             'fee': 1,\n",
       "             'acceptance': 1,\n",
       "             'support': 1,\n",
       "             'warranty': 2,\n",
       "             'indemnity': 1,\n",
       "             'liability': 3,\n",
       "             'obligations': 2,\n",
       "             'andor': 1,\n",
       "             'rights': 1,\n",
       "             'consistent': 1,\n",
       "             'However': 1,\n",
       "             'accepting': 2,\n",
       "             'act': 1,\n",
       "             'sole': 1,\n",
       "             'responsibility': 1,\n",
       "             'agree': 1,\n",
       "             'indemnify': 1,\n",
       "             'defend': 1,\n",
       "             'hold': 1,\n",
       "             'harmless': 1,\n",
       "             'incurred': 1,\n",
       "             'asserted': 1,\n",
       "             'reason': 1,\n",
       "             'your': 4,\n",
       "             'END': 1,\n",
       "             'APPENDIX': 1,\n",
       "             'How': 1,\n",
       "             'apply': 2,\n",
       "             'To': 1,\n",
       "             'attach': 1,\n",
       "             'boilerplate': 1,\n",
       "             'fields': 1,\n",
       "             'enclosed': 2,\n",
       "             'brackets': 2,\n",
       "             '[': 1,\n",
       "             'replaced': 1,\n",
       "             'identifying': 1,\n",
       "             'information': 1,\n",
       "             'Dont': 1,\n",
       "             'should': 1,\n",
       "             'appropriate': 1,\n",
       "             'comment': 1,\n",
       "             'syntax': 1,\n",
       "             'format': 1,\n",
       "             'We': 1,\n",
       "             'also': 2,\n",
       "             'recommend': 1,\n",
       "             'class': 1,\n",
       "             'description': 1,\n",
       "             'same': 2,\n",
       "             'printed': 1,\n",
       "             'page': 1,\n",
       "             'easier': 1,\n",
       "             'identification': 1,\n",
       "             'archives': 1,\n",
       "             '[yyyy': 1,\n",
       "             '[name': 1,\n",
       "             'Licensed': 1,\n",
       "             'compliance': 1,\n",
       "             'obtain': 1,\n",
       "             'httpwwwapacheorglicensesLICENSE': 1,\n",
       "             'See': 2,\n",
       "             'specific': 1,\n",
       "             'language': 1,\n",
       "             'governing': 1,\n",
       "             'limitations': 1,\n",
       "             'project': 3,\n",
       "             'bundles': 2,\n",
       "             'some': 1,\n",
       "             'components': 3,\n",
       "             'licensed': 1,\n",
       "             'commonsbeanutilscommonsbeanutils': 1,\n",
       "             'orgapachezookeeperzookeeper': 1,\n",
       "             'orooro': 1,\n",
       "             'commonsconfigurationcommonsconfiguration': 1,\n",
       "             'commonsdigestercommonsdigester': 1,\n",
       "             'comchuusaishapeless': 1,\n",
       "             'comgooglecodejavaewahJavaEWAH': 1,\n",
       "             'comtwitterchilljava': 1,\n",
       "             'comtwitterchill': 1,\n",
       "             'comunivocityunivocityparsers': 1,\n",
       "             'javaxjdojdoapi': 1,\n",
       "             'jodatimejodatime': 1,\n",
       "             'netsfopencsvopencsv': 1,\n",
       "             'orgapachederbyderby': 1,\n",
       "             'orgehcacheehcache': 1,\n",
       "             'orgobjenesisobjenesis': 1,\n",
       "             'orgroaringbitmapRoaringBitmap': 1,\n",
       "             'orgscalanlpbreezemacros': 1,\n",
       "             'orgscalanlpbreeze': 1,\n",
       "             'orgtypelevelmacrocompat': 1,\n",
       "             'orgyamlsnakeyaml': 1,\n",
       "             'orgapachexbeanxbeanasmshaded': 1,\n",
       "             'comsquareupokhttplogginginterceptor': 1,\n",
       "             'comsquareupokhttpokhttp': 1,\n",
       "             'comsquareupokiookio': 1,\n",
       "             'orgapachesparksparkcatalyst': 1,\n",
       "             'orgapachesparksparkkvstore': 1,\n",
       "             'orgapachesparksparklauncher': 1,\n",
       "             'orgapachesparksparkmlliblocal': 1,\n",
       "             'orgapachesparksparknetworkcommon': 1,\n",
       "             'orgapachesparksparknetworkshuffle': 1,\n",
       "             'orgapachesparksparksketch': 1,\n",
       "             'orgapachesparksparktags': 1,\n",
       "             'orgapachesparksparkunsafe': 1,\n",
       "             'commonshttpclientcommonshttpclient': 1,\n",
       "             'comvlkanflatbuffers': 1,\n",
       "             'comningcompresslzf': 1,\n",
       "             'ioairliftaircompressor': 1,\n",
       "             'iodropwizardmetricsmetricscore': 1,\n",
       "             'iodropwizardmetricsmetricsgraphite': 1,\n",
       "             'iodropwizardmetricsmetricsjson': 1,\n",
       "             'iodropwizardmetricsmetricsjvm': 1,\n",
       "             'iodropwizardmetricsmetricsjmx': 1,\n",
       "             'orgiqsnappysnappy': 1,\n",
       "             'comclearspringanalyticsstream': 1,\n",
       "             'comjamesmurtyutilsjavaxmlbuilder': 1,\n",
       "             'commonscodeccommonscodec': 1,\n",
       "             'commonscollectionscommonscollections': 1,\n",
       "             'iofabrickubernetesclient': 1,\n",
       "             'iofabrickubernetesmodel': 1,\n",
       "             'iofabrickubernetesmodelcommon': 1,\n",
       "             'ionettynettyall': 1,\n",
       "             'nethydromaticeigenbaseproperties': 1,\n",
       "             'netsfsupercsvsupercsv': 1,\n",
       "             'orgapachearrowarrowformat': 1,\n",
       "             'orgapachearrowarrowmemory': 1,\n",
       "             'orgapachearrowarrowvector': 1,\n",
       "             'orgapachecommonscommonsconfiguration': 1,\n",
       "             'orgapachecommonscommonscrypto': 1,\n",
       "             'orgapachecommonscommonslang': 1,\n",
       "             'orgapachehadoophadoopannotations': 1,\n",
       "             'orgapachehadoophadoopauth': 1,\n",
       "             'orgapachehadoophadoopclient': 1,\n",
       "             'orgapachehadoophadoopcommon': 1,\n",
       "             'orgapachehadoophadoophdfs': 1,\n",
       "             'orgapachehadoophadoophdfsclient': 1,\n",
       "             'orgapachehadoophadoopmapreduceclientapp': 1,\n",
       "             'orgapachehadoophadoopmapreduceclientcommon': 1,\n",
       "             'orgapachehadoophadoopmapreduceclientcore': 1,\n",
       "             'orgapachehadoophadoopmapreduceclientjobclient': 1,\n",
       "             'orgapachehadoophadoopmapreduceclientshuffle': 1,\n",
       "             'orgapachehadoophadoopyarnapi': 1,\n",
       "             'orgapachehadoophadoopyarnclient': 1,\n",
       "             'orgapachehadoophadoopyarncommon': 1,\n",
       "             'orgapachehadoophadoopyarnservercommon': 1,\n",
       "             'orgapachehadoophadoopyarnserverwebproxy': 1,\n",
       "             'orgapachehttpcomponentshttpclient': 1,\n",
       "             'orgapachehttpcomponentshttpcore': 1,\n",
       "             'orgapachekerbykerbadmin': 1,\n",
       "             'orgapachekerbykerbclient': 1,\n",
       "             'orgapachekerbykerbcommon': 1,\n",
       "             'orgapachekerbykerbcore': 1,\n",
       "             'orgapachekerbykerbcrypto': 1,\n",
       "             'orgapachekerbykerbidentity': 1,\n",
       "             'orgapachekerbykerbserver': 1,\n",
       "             'orgapachekerbykerbsimplekdc': 1,\n",
       "             'orgapachekerbykerbutil': 1,\n",
       "             'orgapachekerbykerbyasn': 1,\n",
       "             'orgapachekerbykerbyconfig': 1,\n",
       "             'orgapachekerbykerbypkix': 1,\n",
       "             'orgapachekerbykerbyutil': 1,\n",
       "             'orgapachekerbykerbyxdr': 1,\n",
       "             'orgapachekerbytokenprovider': 1,\n",
       "             'orgapacheorcorccore': 1,\n",
       "             'orgapacheorcorcmapreduce': 1,\n",
       "             'orgmortbayjettyjetty': 1,\n",
       "             'orgmortbayjettyjettyutil': 1,\n",
       "             'comjolboxbonecp': 1,\n",
       "             'orgjsonsjsonsast': 1,\n",
       "             'orgjsonsjsonscore': 1,\n",
       "             'orgjsonsjsonsjackson': 1,\n",
       "             'orgjsonsjsonsscalap': 1,\n",
       "             'comcarrotsearchhppc': 1,\n",
       "             'comfasterxmljacksoncorejacksonannotations': 1,\n",
       "             'comfasterxmljacksoncorejacksoncore': 1,\n",
       "             'comfasterxmljacksoncorejacksondatabind': 1,\n",
       "             'comfasterxmljacksondataformatjacksondataformatyaml': 1,\n",
       "             'comfasterxmljacksonjaxrsjacksonjaxrsbase': 1,\n",
       "             'comfasterxmljacksonjaxrsjacksonjaxrsjsonprovider': 1,\n",
       "             'comfasterxmljacksonmodulejacksonmodulejaxbannotations': 1,\n",
       "             'comfasterxmljacksonmodulejacksonmoduleparanamer': 1,\n",
       "             'comfasterxmljacksonmodulejacksonmodulescala': 1,\n",
       "             'comfasterxmlwoodstoxwoodstoxcore': 1,\n",
       "             'comgithubmifmifgenerex': 1,\n",
       "             'comgithubstephencjcipjcipannotations': 1,\n",
       "             'comgooglecodefindbugsjsr': 1,\n",
       "             'comgooglecodegsongson': 1,\n",
       "             'comgoogleflatbuffersflatbuffersjava': 1,\n",
       "             'comgoogleguavaguava': 1,\n",
       "             'comgoogleinjectguice': 1,\n",
       "             'comgoogleinjectextensionsguiceservlet': 1,\n",
       "             'comnimbusdsnimbusjosejwt': 1,\n",
       "             'comtwitterparquethadoopbundle': 1,\n",
       "             'commonsclicommonscli': 1,\n",
       "             'commonsdaemoncommonsdaemon': 1,\n",
       "             'commonsdbcpcommonsdbcp': 1,\n",
       "             'commonsiocommonsio': 1,\n",
       "             'commonslangcommonslang': 1,\n",
       "             'commonsloggingcommonslogging': 1,\n",
       "             'commonsnetcommonsnet': 1,\n",
       "             'commonspoolcommonspool': 1,\n",
       "             'iofabriczjsonpatch': 1,\n",
       "             'javaxinjectjavaxinject': 1,\n",
       "             'javaxvalidationvalidationapi': 1,\n",
       "             'logjapachelogjextras': 1,\n",
       "             'logjlogj': 1,\n",
       "             'netminidevaccessorssmart': 1,\n",
       "             'netminidevjsonsmart': 1,\n",
       "             'netsfjpamjpam': 1,\n",
       "             'orgapacheavroavro': 1,\n",
       "             'orgapacheavroavroipc': 1,\n",
       "             'orgapacheavroavromapred': 1,\n",
       "             'orgapachecommonscommonscompress': 1,\n",
       "             'orgapachecommonscommonsmath': 1,\n",
       "             'orgapachecuratorcuratorclient': 1,\n",
       "             'orgapachecuratorcuratorframework': 1,\n",
       "             'orgapachecuratorcuratorrecipes': 1,\n",
       "             'orgapachedirectoryapiapiasnapi': 1,\n",
       "             'orgapachedirectoryapiapiutil': 1,\n",
       "             'orgapachedirectoryserverapachedsin': 1,\n",
       "             'orgapachedirectoryserverapachedskerberoscodec': 1,\n",
       "             'orgapachehtracehtracecore': 1,\n",
       "             'orgapacheivyivy': 1,\n",
       "             'orgapachegeronimospecsgeronimojcachespec': 1,\n",
       "             'orgapachemesosmesos': 1,\n",
       "             'orgapacheparquetparquetcolumn': 1,\n",
       "             'orgapacheparquetparquetcommon': 1,\n",
       "             'orgapacheparquetparquetencoding': 1,\n",
       "             'orgapacheparquetparquetformat': 1,\n",
       "             'orgapacheparquetparquethadoop': 1,\n",
       "             'orgapacheparquetparquetjackson': 1,\n",
       "             'orgapachethriftlibfb': 1,\n",
       "             'orgapachethriftlibthrift': 1,\n",
       "             'orgcodehausjacksonjacksoncoreasl': 1,\n",
       "             'orgcodehausjacksonjacksonmapperasl': 1,\n",
       "             'orgdatanucleusdatanucleusapijdo': 1,\n",
       "             'orgdatanucleusdatanucleuscore': 1,\n",
       "             'orgdatanucleusdatanucleusrdbms': 1,\n",
       "             'orglzlzjava': 1,\n",
       "             'orgxerialsnappysnappyjava': 1,\n",
       "             'staxstaxapi': 1,\n",
       "             'xercesxercesImpl': 1,\n",
       "             'orgcodehausjacksonjacksonjaxrs': 1,\n",
       "             'orgcodehausjacksonjacksonxc': 1,\n",
       "             'orgeclipsejettyjettyclient': 1,\n",
       "             'orgeclipsejettyjettycontinuation': 1,\n",
       "             'orgeclipsejettyjettyhttp': 1,\n",
       "             'orgeclipsejettyjettyio': 1,\n",
       "             'orgeclipsejettyjettyjndi': 1,\n",
       "             'orgeclipsejettyjettyplus': 1,\n",
       "             'orgeclipsejettyjettyproxy': 1,\n",
       "             'orgeclipsejettyjettysecurity': 1,\n",
       "             'orgeclipsejettyjettyserver': 1,\n",
       "             'orgeclipsejettyjettyservlet': 1,\n",
       "             'orgeclipsejettyjettyservlets': 1,\n",
       "             'orgeclipsejettyjettyutil': 1,\n",
       "             'orgeclipsejettyjettywebapp': 1,\n",
       "             'orgeclipsejettyjettyxml': 1,\n",
       "             'orgscalalangmodulesscalaxml': 1,\n",
       "             'comgithubjoshelserdropwizardmetricshadoopmetricsreporter': 1,\n",
       "             'comzaxxerHikariCP': 1,\n",
       "             'orgapachehivehivebeeline': 1,\n",
       "             'orgapachehivehivecli': 1,\n",
       "             'orgapachehivehivecommon': 2,\n",
       "             'orgapachehivehiveexec': 1,\n",
       "             'orgapachehivehivejdbc': 1,\n",
       "             'orgapachehivehivellapcommon': 1,\n",
       "             'orgapachehivehivemetastore': 1,\n",
       "             'orgapachehivehiveserde': 1,\n",
       "             'orgapachehivehiveservicerpc': 1,\n",
       "             'orgapachehivehiveshims': 2,\n",
       "             'orgapachehivehiveshimsscheduler': 1,\n",
       "             'orgapachehivehivestorageapi': 1,\n",
       "             'orgapachehivehivevectorcodegen': 1,\n",
       "             'orgdatanucleusjavaxjdo': 1,\n",
       "             'comtdunningjson': 1,\n",
       "             'orgapachevelocityvelocity': 1,\n",
       "             'orgapacheyetusaudienceannotations': 1,\n",
       "             'coresrcmainjavaorgapachesparkutilcollectionTimSortjava': 1,\n",
       "             'coresrcmainresourcesorgapachesparkuistaticbootstrap': 1,\n",
       "             'coresrcmainresourcesorgapachesparkuistaticjsonFormatter': 1,\n",
       "             'coresrcmainresourcesorgapachesparkuistaticvis': 1,\n",
       "             'docsjsvendorbootstrapjs': 1,\n",
       "             'various': 1,\n",
       "             'open': 1,\n",
       "             'summarizes': 1,\n",
       "             'licensesbinary': 1,\n",
       "             'these': 1,\n",
       "             'BSD': 3,\n",
       "             'Clause': 3,\n",
       "             'comgithublubenzstdjni': 1,\n",
       "             'dnsjavadnsjava': 1,\n",
       "             'javolutionjavolution': 1,\n",
       "             'comesotericsoftwarekryoshaded': 1,\n",
       "             'comesotericsoftwareminlog': 1,\n",
       "             'comesotericsoftwarereflectasm': 1,\n",
       "             'comgoogleprotobufprotobufjava': 1,\n",
       "             'orgcodehausjaninocommonscompiler': 1,\n",
       "             'orgcodehausjaninojanino': 1,\n",
       "             'orgcodehauswoodstoxstaxapi': 1,\n",
       "             'jlinejline': 1,\n",
       "             'orgjoddjoddcore': 1,\n",
       "             'comgithubwendykierpJTransforms': 1,\n",
       "             'pleduicmJLargeArrays': 1,\n",
       "             'dkbricsautomatonautomaton': 1,\n",
       "             'organtlrantlrruntime': 2,\n",
       "             'organtlrST': 1,\n",
       "             'organtlrstringtemplate': 1,\n",
       "             'antlrantlr': 1,\n",
       "             'comgithubfommilnetlibcore': 1,\n",
       "             'comgooglerejrej': 1,\n",
       "             'comthoughtworksparanamerparanamer': 1,\n",
       "             'orgscalalangscalacompiler': 1,\n",
       "             'orgscalalangscalalibrary': 1,\n",
       "             'orgscalalangscalareflect': 1,\n",
       "             'orgscalalangmodulesscalaparsercombinators': 1,\n",
       "             'orgfusesourceleveldbjnileveldbjniall': 1,\n",
       "             'netsourceforgefjarpackcombinedall': 1,\n",
       "             'xmlencxmlenc': 1,\n",
       "             'netsfpyjpyj': 1,\n",
       "             'orgjpmmlpmmlmodel': 1,\n",
       "             'orgjpmmlpmmlschema': 1,\n",
       "             'orgthreetenthreetenextra': 1,\n",
       "             'pythonlibpyjsrczip': 1,\n",
       "             'pythonpysparkcloudpicklepy': 1,\n",
       "             'pythonpysparkjoinpy': 1,\n",
       "             'coresrcmainresourcesorgapachesparkuistaticdminjs': 1,\n",
       "             'CSS': 1,\n",
       "             'style': 1,\n",
       "             'navigation': 1,\n",
       "             'sidebar': 1,\n",
       "             'originally': 1,\n",
       "             'scar': 1,\n",
       "             'Njera': 1,\n",
       "             'scikitlearn': 2,\n",
       "             'MIT': 1,\n",
       "             'commicrosoftsqlservermssqljdbc': 1,\n",
       "             'orgtypelevelspire': 1,\n",
       "             'orgtypelevelspiremacros': 1,\n",
       "             'orgtypelevelspireplatform': 1,\n",
       "             'orgtypelevelspireutil': 1,\n",
       "             'orgtypelevelalgebrajar': 1,\n",
       "             'orgtypelevelcatskernel': 1,\n",
       "             'orgtypelevelmachinist': 1,\n",
       "             'netrazorvinepyrolite': 1,\n",
       "             'orgslfjjcloverslfj': 1,\n",
       "             'orgslfjjultoslfj': 1,\n",
       "             'orgslfjslfjapi': 1,\n",
       "             'orgslfjslfjlogj': 1,\n",
       "             'comgithubscoptscopt': 1,\n",
       "             'coresrcmainresourcesorgapachesparkuistaticdagredminjs': 1,\n",
       "             'coresrcmainresourcesorgapachesparkuistaticdataTables': 1,\n",
       "             'coresrcmainresourcesorgapachesparkuistaticgraphlibdotminjs': 1,\n",
       "             'coresrcmainresourcesorgapachesparkuistaticjquery': 1,\n",
       "             'coresrcmainresourcesorgapachesparkuistaticsorttablejs': 1,\n",
       "             'docsjsvendoranchorminjs': 1,\n",
       "             'docsjsvendorjquery': 1,\n",
       "             'docsjsvendormodernizer': 1,\n",
       "             'Common': 2,\n",
       "             'Development': 2,\n",
       "             'Distribution': 3,\n",
       "             'CDDL': 2,\n",
       "             'javaxactivationactivation': 1,\n",
       "             'httpwwworaclecomtechnetworkjavajavasetechindexjsphtml': 1,\n",
       "             'javaxxmlstreamstaxapi': 1,\n",
       "             'httpsjcporgenjsrdetailid': 1,\n",
       "             'javaxtransactionjavaxtransactionapi': 1,\n",
       "             'javaxeljavaxelapihttpsjavaeegithubiouelri': 1,\n",
       "             'javaxservletjavaxservletapi': 1,\n",
       "             'httpsjavaeegithubioservletspec': 1,\n",
       "             'javaxservletjspjspapi': 1,\n",
       "             'javaxtransactionjta': 1,\n",
       "             'httpwwworaclecomtechnetworkjavaindexhtml': 1,\n",
       "             'javaxxmlbindjaxbapi': 1,\n",
       "             'httpsgithubcomjavaeejaxbv': 1,\n",
       "             'orgglassfishhkhkapi': 1,\n",
       "             'httpsgithubcomjavaeeglassfish': 1,\n",
       "             'orgglassfishhkhklocator': 1,\n",
       "             'orgglassfishhkhkutils': 1,\n",
       "             'orgglassfishhkosgiresourcelocator': 1,\n",
       "             'orgglassfishhkexternalaopalliancerepackaged': 1,\n",
       "             'orgglassfishhkexternaljavaxinject': 1,\n",
       "             'orgglassfishjerseybundlesrepackagedjerseyguava': 1,\n",
       "             'orgglassfishjerseycontainersjerseycontainerservlet': 1,\n",
       "             'orgglassfishjerseycontainersjerseycontainerservletcore': 1,\n",
       "             'orgglassfishjerseycorejerseyclient': 1,\n",
       "             'orgglassfishjerseycorejerseycommon': 1,\n",
       "             'orgglassfishjerseycorejerseyserver': 1,\n",
       "             'orgglassfishjerseymediajerseymediajaxb': 1,\n",
       "             'Eclipse': 2,\n",
       "             'EDL': 1,\n",
       "             'orgglassfishjaxbjaxbruntime': 1,\n",
       "             'jakartaactivationjakartaactivationapi': 1,\n",
       "             'jakartaxmlbindjakartaxmlbindapi': 1,\n",
       "             'comsunistackistackcommonsruntime': 1,\n",
       "             'Public': 3,\n",
       "             'EPL': 1,\n",
       "             'jakartaannotationjakartaannotationapi': 1,\n",
       "             'httpsprojectseclipseorgprojectseejca': 1,\n",
       "             'jakartawsrsjakartawsrsapi': 1,\n",
       "             'httpsgithubcomeclipseeejjaxrsapi': 1,\n",
       "             'orgglassfishhkexternaljakartainject': 1,\n",
       "             'Python': 1,\n",
       "             'Software': 1,\n",
       "             'Foundation': 1,\n",
       "             'pysparkheapqpy': 1,\n",
       "             'Domain': 2,\n",
       "             'aopallianceaopalliance': 1,\n",
       "             'netiharderbase': 1,\n",
       "             'orgtukaanixz': 1,\n",
       "             'Creative': 1,\n",
       "             'Commons': 1,\n",
       "             'CC': 1,\n",
       "             'Universal': 1,\n",
       "             'Dedication': 1,\n",
       "             'see': 1,\n",
       "             'LICENSECCtxt': 1,\n",
       "             'datamllibimageskittensabEGDPjpg': 1,\n",
       "             'datamllibimageskittensjpg': 1,\n",
       "             'datamllibimageskittensDPjpg': 2,\n",
       "             'datamllibimagesmultichannelchrjpg': 1})"
      ]
     },
     "execution_count": 40,
     "metadata": {},
     "output_type": "execute_result"
    }
   ],
   "source": [
    "rdd_couple.countByKey()"
   ]
  },
  {
   "cell_type": "markdown",
   "metadata": {},
   "source": [
    "# Accumulator"
   ]
  },
  {
   "cell_type": "code",
   "execution_count": 33,
   "metadata": {},
   "outputs": [],
   "source": [
    "acc = sc.accumulator(0)"
   ]
  },
  {
   "cell_type": "code",
   "execution_count": 25,
   "metadata": {},
   "outputs": [],
   "source": [
    "def initiate(x):\n",
    "    acc.add(1)\n",
    "    return (x,1)"
   ]
  },
  {
   "cell_type": "code",
   "execution_count": 31,
   "metadata": {},
   "outputs": [
    {
     "data": {
      "text/plain": [
       "[('Apache', 1),\n",
       " ('License', 1),\n",
       " ('Version', 1),\n",
       " ('January', 1),\n",
       " ('httpwwwapacheorglicenses', 1),\n",
       " ('TERMS', 1),\n",
       " ('AND', 1),\n",
       " ('CONDITIONS', 1),\n",
       " ('FOR', 1),\n",
       " ('USE', 1),\n",
       " ('REPRODUCTION', 1),\n",
       " ('AND', 1),\n",
       " ('DISTRIBUTION', 1),\n",
       " ('Definitions', 1),\n",
       " ('License', 1),\n",
       " ('shall', 1),\n",
       " ('mean', 1),\n",
       " ('the', 1),\n",
       " ('terms', 1),\n",
       " ('and', 1),\n",
       " ('conditions', 1),\n",
       " ('for', 1),\n",
       " ('use', 1),\n",
       " ('reproduction', 1),\n",
       " ('and', 1),\n",
       " ('distribution', 1),\n",
       " ('as', 1),\n",
       " ('defined', 1),\n",
       " ('by', 1),\n",
       " ('Sections', 1),\n",
       " ('through', 1),\n",
       " ('of', 1),\n",
       " ('this', 1),\n",
       " ('document', 1),\n",
       " ('Licensor', 1),\n",
       " ('shall', 1),\n",
       " ('mean', 1),\n",
       " ('the', 1),\n",
       " ('copyright', 1),\n",
       " ('owner', 1),\n",
       " ('or', 1),\n",
       " ('entity', 1),\n",
       " ('authorized', 1),\n",
       " ('by', 1),\n",
       " ('the', 1),\n",
       " ('copyright', 1),\n",
       " ('owner', 1),\n",
       " ('that', 1),\n",
       " ('is', 1),\n",
       " ('granting', 1),\n",
       " ('the', 1),\n",
       " ('License', 1),\n",
       " ('Legal', 1),\n",
       " ('Entity', 1),\n",
       " ('shall', 1),\n",
       " ('mean', 1),\n",
       " ('the', 1),\n",
       " ('union', 1),\n",
       " ('of', 1),\n",
       " ('the', 1),\n",
       " ('acting', 1),\n",
       " ('entity', 1),\n",
       " ('and', 1),\n",
       " ('all', 1),\n",
       " ('other', 1),\n",
       " ('entities', 1),\n",
       " ('that', 1),\n",
       " ('control', 1),\n",
       " ('are', 1),\n",
       " ('controlled', 1),\n",
       " ('by', 1),\n",
       " ('or', 1),\n",
       " ('are', 1),\n",
       " ('under', 1),\n",
       " ('common', 1),\n",
       " ('control', 1),\n",
       " ('with', 1),\n",
       " ('that', 1),\n",
       " ('entity', 1),\n",
       " ('For', 1),\n",
       " ('the', 1),\n",
       " ('purposes', 1),\n",
       " ('of', 1),\n",
       " ('this', 1),\n",
       " ('definition', 1),\n",
       " ('control', 1),\n",
       " ('means', 1),\n",
       " ('i', 1),\n",
       " ('the', 1),\n",
       " ('power', 1),\n",
       " ('direct', 1),\n",
       " ('or', 1),\n",
       " ('indirect', 1),\n",
       " ('to', 1),\n",
       " ('cause', 1),\n",
       " ('the', 1),\n",
       " ('direction', 1),\n",
       " ('or', 1),\n",
       " ('management', 1),\n",
       " ('of', 1),\n",
       " ('such', 1),\n",
       " ('entity', 1),\n",
       " ('whether', 1),\n",
       " ('by', 1),\n",
       " ('contract', 1),\n",
       " ('or', 1),\n",
       " ('otherwise', 1),\n",
       " ('or', 1),\n",
       " ('ii', 1),\n",
       " ('ownership', 1),\n",
       " ('of', 1),\n",
       " ('fifty', 1),\n",
       " ('percent', 1),\n",
       " ('or', 1),\n",
       " ('more', 1),\n",
       " ('of', 1),\n",
       " ('the', 1),\n",
       " ('outstanding', 1),\n",
       " ('shares', 1),\n",
       " ('or', 1),\n",
       " ('iii', 1),\n",
       " ('beneficial', 1),\n",
       " ('ownership', 1),\n",
       " ('of', 1),\n",
       " ('such', 1),\n",
       " ('entity', 1),\n",
       " ('You', 1),\n",
       " ('or', 1),\n",
       " ('Your', 1),\n",
       " ('shall', 1),\n",
       " ('mean', 1),\n",
       " ('an', 1),\n",
       " ('individual', 1),\n",
       " ('or', 1),\n",
       " ('Legal', 1),\n",
       " ('Entity', 1),\n",
       " ('exercising', 1),\n",
       " ('permissions', 1),\n",
       " ('granted', 1),\n",
       " ('by', 1),\n",
       " ('this', 1),\n",
       " ('License', 1),\n",
       " ('Source', 1),\n",
       " ('form', 1),\n",
       " ('shall', 1),\n",
       " ('mean', 1),\n",
       " ('the', 1),\n",
       " ('preferred', 1),\n",
       " ('form', 1),\n",
       " ('for', 1),\n",
       " ('making', 1),\n",
       " ('modifications', 1),\n",
       " ('including', 1),\n",
       " ('but', 1),\n",
       " ('not', 1),\n",
       " ('limited', 1),\n",
       " ('to', 1),\n",
       " ('software', 1),\n",
       " ('source', 1),\n",
       " ('code', 1),\n",
       " ('documentation', 1),\n",
       " ('source', 1),\n",
       " ('and', 1),\n",
       " ('configuration', 1),\n",
       " ('files', 1),\n",
       " ('Object', 1),\n",
       " ('form', 1),\n",
       " ('shall', 1),\n",
       " ('mean', 1),\n",
       " ('any', 1),\n",
       " ('form', 1),\n",
       " ('resulting', 1),\n",
       " ('from', 1),\n",
       " ('mechanical', 1),\n",
       " ('transformation', 1),\n",
       " ('or', 1),\n",
       " ('translation', 1),\n",
       " ('of', 1),\n",
       " ('a', 1),\n",
       " ('Source', 1),\n",
       " ('form', 1),\n",
       " ('including', 1),\n",
       " ('but', 1),\n",
       " ('not', 1),\n",
       " ('limited', 1),\n",
       " ('to', 1),\n",
       " ('compiled', 1),\n",
       " ('object', 1),\n",
       " ('code', 1),\n",
       " ('generated', 1),\n",
       " ('documentation', 1),\n",
       " ('and', 1),\n",
       " ('conversions', 1),\n",
       " ('to', 1),\n",
       " ('other', 1),\n",
       " ('media', 1),\n",
       " ('types', 1),\n",
       " ('Work', 1),\n",
       " ('shall', 1),\n",
       " ('mean', 1),\n",
       " ('the', 1),\n",
       " ('work', 1),\n",
       " ('of', 1),\n",
       " ('authorship', 1),\n",
       " ('whether', 1),\n",
       " ('in', 1),\n",
       " ('Source', 1),\n",
       " ('or', 1),\n",
       " ('Object', 1),\n",
       " ('form', 1),\n",
       " ('made', 1),\n",
       " ('available', 1),\n",
       " ('under', 1),\n",
       " ('the', 1),\n",
       " ('License', 1),\n",
       " ('as', 1),\n",
       " ('indicated', 1),\n",
       " ('by', 1),\n",
       " ('a', 1),\n",
       " ('copyright', 1),\n",
       " ('notice', 1),\n",
       " ('that', 1),\n",
       " ('is', 1),\n",
       " ('included', 1),\n",
       " ('in', 1),\n",
       " ('or', 1),\n",
       " ('attached', 1),\n",
       " ('to', 1),\n",
       " ('the', 1),\n",
       " ('work', 1),\n",
       " ('an', 1),\n",
       " ('example', 1),\n",
       " ('is', 1),\n",
       " ('provided', 1),\n",
       " ('in', 1),\n",
       " ('the', 1),\n",
       " ('Appendix', 1),\n",
       " ('below', 1),\n",
       " ('Derivative', 1),\n",
       " ('Works', 1),\n",
       " ('shall', 1),\n",
       " ('mean', 1),\n",
       " ('any', 1),\n",
       " ('work', 1),\n",
       " ('whether', 1),\n",
       " ('in', 1),\n",
       " ('Source', 1),\n",
       " ('or', 1),\n",
       " ('Object', 1),\n",
       " ('form', 1),\n",
       " ('that', 1),\n",
       " ('is', 1),\n",
       " ('based', 1),\n",
       " ('on', 1),\n",
       " ('or', 1),\n",
       " ('derived', 1),\n",
       " ('from', 1),\n",
       " ('the', 1),\n",
       " ('Work', 1),\n",
       " ('and', 1),\n",
       " ('for', 1),\n",
       " ('which', 1),\n",
       " ('the', 1),\n",
       " ('editorial', 1),\n",
       " ('revisions', 1),\n",
       " ('annotations', 1),\n",
       " ('elaborations', 1),\n",
       " ('or', 1),\n",
       " ('other', 1),\n",
       " ('modifications', 1),\n",
       " ('represent', 1),\n",
       " ('as', 1),\n",
       " ('a', 1),\n",
       " ('whole', 1),\n",
       " ('an', 1),\n",
       " ('original', 1),\n",
       " ('work', 1),\n",
       " ('of', 1),\n",
       " ('authorship', 1),\n",
       " ('For', 1),\n",
       " ('the', 1),\n",
       " ('purposes', 1),\n",
       " ('of', 1),\n",
       " ('this', 1),\n",
       " ('License', 1),\n",
       " ('Derivative', 1),\n",
       " ('Works', 1),\n",
       " ('shall', 1),\n",
       " ('not', 1),\n",
       " ('include', 1),\n",
       " ('works', 1),\n",
       " ('that', 1),\n",
       " ('remain', 1),\n",
       " ('separable', 1),\n",
       " ('from', 1),\n",
       " ('or', 1),\n",
       " ('merely', 1),\n",
       " ('link', 1),\n",
       " ('or', 1),\n",
       " ('bind', 1),\n",
       " ('by', 1),\n",
       " ('name', 1),\n",
       " ('to', 1),\n",
       " ('the', 1),\n",
       " ('interfaces', 1),\n",
       " ('of', 1),\n",
       " ('the', 1),\n",
       " ('Work', 1),\n",
       " ('and', 1),\n",
       " ('Derivative', 1),\n",
       " ('Works', 1),\n",
       " ('thereof', 1),\n",
       " ('Contribution', 1),\n",
       " ('shall', 1),\n",
       " ('mean', 1),\n",
       " ('any', 1),\n",
       " ('work', 1),\n",
       " ('of', 1),\n",
       " ('authorship', 1),\n",
       " ('including', 1),\n",
       " ('the', 1),\n",
       " ('original', 1),\n",
       " ('version', 1),\n",
       " ('of', 1),\n",
       " ('the', 1),\n",
       " ('Work', 1),\n",
       " ('and', 1),\n",
       " ('any', 1),\n",
       " ('modifications', 1),\n",
       " ('or', 1),\n",
       " ('additions', 1),\n",
       " ('to', 1),\n",
       " ('that', 1),\n",
       " ('Work', 1),\n",
       " ('or', 1),\n",
       " ('Derivative', 1),\n",
       " ('Works', 1),\n",
       " ('thereof', 1),\n",
       " ('that', 1),\n",
       " ('is', 1),\n",
       " ('intentionally', 1),\n",
       " ('submitted', 1),\n",
       " ('to', 1),\n",
       " ('Licensor', 1),\n",
       " ('for', 1),\n",
       " ('inclusion', 1),\n",
       " ('in', 1),\n",
       " ('the', 1),\n",
       " ('Work', 1),\n",
       " ('by', 1),\n",
       " ('the', 1),\n",
       " ('copyright', 1),\n",
       " ('owner', 1),\n",
       " ('or', 1),\n",
       " ('by', 1),\n",
       " ('an', 1),\n",
       " ('individual', 1),\n",
       " ('or', 1),\n",
       " ('Legal', 1),\n",
       " ('Entity', 1),\n",
       " ('authorized', 1),\n",
       " ('to', 1),\n",
       " ('submit', 1),\n",
       " ('on', 1),\n",
       " ('behalf', 1),\n",
       " ('of', 1),\n",
       " ('the', 1),\n",
       " ('copyright', 1),\n",
       " ('owner', 1),\n",
       " ('For', 1),\n",
       " ('the', 1),\n",
       " ('purposes', 1),\n",
       " ('of', 1),\n",
       " ('this', 1),\n",
       " ('definition', 1),\n",
       " ('submitted', 1),\n",
       " ('means', 1),\n",
       " ('any', 1),\n",
       " ('form', 1),\n",
       " ('of', 1),\n",
       " ('electronic', 1),\n",
       " ('verbal', 1),\n",
       " ('or', 1),\n",
       " ('written', 1),\n",
       " ('communication', 1),\n",
       " ('sent', 1),\n",
       " ('to', 1),\n",
       " ('the', 1),\n",
       " ('Licensor', 1),\n",
       " ('or', 1),\n",
       " ('its', 1),\n",
       " ('representatives', 1),\n",
       " ('including', 1),\n",
       " ('but', 1),\n",
       " ('not', 1),\n",
       " ('limited', 1),\n",
       " ('to', 1),\n",
       " ('communication', 1),\n",
       " ('on', 1),\n",
       " ('electronic', 1),\n",
       " ('mailing', 1),\n",
       " ('lists', 1),\n",
       " ('source', 1),\n",
       " ('code', 1),\n",
       " ('control', 1),\n",
       " ('systems', 1),\n",
       " ('and', 1),\n",
       " ('issue', 1),\n",
       " ('tracking', 1),\n",
       " ('systems', 1),\n",
       " ('that', 1),\n",
       " ('are', 1),\n",
       " ('managed', 1),\n",
       " ('by', 1),\n",
       " ('or', 1),\n",
       " ('on', 1),\n",
       " ('behalf', 1),\n",
       " ('of', 1),\n",
       " ('the', 1),\n",
       " ('Licensor', 1),\n",
       " ('for', 1),\n",
       " ('the', 1),\n",
       " ('purpose', 1),\n",
       " ('of', 1),\n",
       " ('discussing', 1),\n",
       " ('and', 1),\n",
       " ('improving', 1),\n",
       " ('the', 1),\n",
       " ('Work', 1),\n",
       " ('but', 1),\n",
       " ('excluding', 1),\n",
       " ('communication', 1),\n",
       " ('that', 1),\n",
       " ('is', 1),\n",
       " ('conspicuously', 1),\n",
       " ('marked', 1),\n",
       " ('or', 1),\n",
       " ('otherwise', 1),\n",
       " ('designated', 1),\n",
       " ('in', 1),\n",
       " ('writing', 1),\n",
       " ('by', 1),\n",
       " ('the', 1),\n",
       " ('copyright', 1),\n",
       " ('owner', 1),\n",
       " ('as', 1),\n",
       " ('Not', 1),\n",
       " ('a', 1),\n",
       " ('Contribution', 1),\n",
       " ('Contributor', 1),\n",
       " ('shall', 1),\n",
       " ('mean', 1),\n",
       " ('Licensor', 1),\n",
       " ('and', 1),\n",
       " ('any', 1),\n",
       " ('individual', 1),\n",
       " ('or', 1),\n",
       " ('Legal', 1),\n",
       " ('Entity', 1),\n",
       " ('on', 1),\n",
       " ('behalf', 1),\n",
       " ('of', 1),\n",
       " ('whom', 1),\n",
       " ('a', 1),\n",
       " ('Contribution', 1),\n",
       " ('has', 1),\n",
       " ('been', 1),\n",
       " ('received', 1),\n",
       " ('by', 1),\n",
       " ('Licensor', 1),\n",
       " ('and', 1),\n",
       " ('subsequently', 1),\n",
       " ('incorporated', 1),\n",
       " ('within', 1),\n",
       " ('the', 1),\n",
       " ('Work', 1),\n",
       " ('Grant', 1),\n",
       " ('of', 1),\n",
       " ('Copyright', 1),\n",
       " ('License', 1),\n",
       " ('Subject', 1),\n",
       " ('to', 1),\n",
       " ('the', 1),\n",
       " ('terms', 1),\n",
       " ('and', 1),\n",
       " ('conditions', 1),\n",
       " ('of', 1),\n",
       " ('this', 1),\n",
       " ('License', 1),\n",
       " ('each', 1),\n",
       " ('Contributor', 1),\n",
       " ('hereby', 1),\n",
       " ('grants', 1),\n",
       " ('to', 1),\n",
       " ('You', 1),\n",
       " ('a', 1),\n",
       " ('perpetual', 1),\n",
       " ('worldwide', 1),\n",
       " ('nonexclusive', 1),\n",
       " ('nocharge', 1),\n",
       " ('royaltyfree', 1),\n",
       " ('irrevocable', 1),\n",
       " ('copyright', 1),\n",
       " ('license', 1),\n",
       " ('to', 1),\n",
       " ('reproduce', 1),\n",
       " ('prepare', 1),\n",
       " ('Derivative', 1),\n",
       " ('Works', 1),\n",
       " ('of', 1),\n",
       " ('publicly', 1),\n",
       " ('display', 1),\n",
       " ('publicly', 1),\n",
       " ('perform', 1),\n",
       " ('sublicense', 1),\n",
       " ('and', 1),\n",
       " ('distribute', 1),\n",
       " ('the', 1),\n",
       " ('Work', 1),\n",
       " ('and', 1),\n",
       " ('such', 1),\n",
       " ('Derivative', 1),\n",
       " ('Works', 1),\n",
       " ('in', 1),\n",
       " ('Source', 1),\n",
       " ('or', 1),\n",
       " ('Object', 1),\n",
       " ('form', 1),\n",
       " ('Grant', 1),\n",
       " ('of', 1),\n",
       " ('Patent', 1),\n",
       " ('License', 1),\n",
       " ('Subject', 1),\n",
       " ('to', 1),\n",
       " ('the', 1),\n",
       " ('terms', 1),\n",
       " ('and', 1),\n",
       " ('conditions', 1),\n",
       " ('of', 1),\n",
       " ('this', 1),\n",
       " ('License', 1),\n",
       " ('each', 1),\n",
       " ('Contributor', 1),\n",
       " ('hereby', 1),\n",
       " ('grants', 1),\n",
       " ('to', 1),\n",
       " ('You', 1),\n",
       " ('a', 1),\n",
       " ('perpetual', 1),\n",
       " ('worldwide', 1),\n",
       " ('nonexclusive', 1),\n",
       " ('nocharge', 1),\n",
       " ('royaltyfree', 1),\n",
       " ('irrevocable', 1),\n",
       " ('except', 1),\n",
       " ('as', 1),\n",
       " ('stated', 1),\n",
       " ('in', 1),\n",
       " ('this', 1),\n",
       " ('section', 1),\n",
       " ('patent', 1),\n",
       " ('license', 1),\n",
       " ('to', 1),\n",
       " ('make', 1),\n",
       " ('have', 1),\n",
       " ('made', 1),\n",
       " ('use', 1),\n",
       " ('offer', 1),\n",
       " ('to', 1),\n",
       " ('sell', 1),\n",
       " ('sell', 1),\n",
       " ('import', 1),\n",
       " ('and', 1),\n",
       " ('otherwise', 1),\n",
       " ('transfer', 1),\n",
       " ('the', 1),\n",
       " ('Work', 1),\n",
       " ('where', 1),\n",
       " ('such', 1),\n",
       " ('license', 1),\n",
       " ('applies', 1),\n",
       " ('only', 1),\n",
       " ('to', 1),\n",
       " ('those', 1),\n",
       " ('patent', 1),\n",
       " ('claims', 1),\n",
       " ('licensable', 1),\n",
       " ('by', 1),\n",
       " ('such', 1),\n",
       " ('Contributor', 1),\n",
       " ('that', 1),\n",
       " ('are', 1),\n",
       " ('necessarily', 1),\n",
       " ('infringed', 1),\n",
       " ('by', 1),\n",
       " ('their', 1),\n",
       " ('Contributions', 1),\n",
       " ('alone', 1),\n",
       " ('or', 1),\n",
       " ('by', 1),\n",
       " ('combination', 1),\n",
       " ('of', 1),\n",
       " ('their', 1),\n",
       " ('Contributions', 1),\n",
       " ('with', 1),\n",
       " ('the', 1),\n",
       " ('Work', 1),\n",
       " ('to', 1),\n",
       " ('which', 1),\n",
       " ('such', 1),\n",
       " ('Contributions', 1),\n",
       " ('was', 1),\n",
       " ('submitted', 1),\n",
       " ('If', 1),\n",
       " ('You', 1),\n",
       " ('institute', 1),\n",
       " ('patent', 1),\n",
       " ('litigation', 1),\n",
       " ('against', 1),\n",
       " ('any', 1),\n",
       " ('entity', 1),\n",
       " ('including', 1),\n",
       " ('a', 1),\n",
       " ('crossclaim', 1),\n",
       " ('or', 1),\n",
       " ('counterclaim', 1),\n",
       " ('in', 1),\n",
       " ('a', 1),\n",
       " ('lawsuit', 1),\n",
       " ('alleging', 1),\n",
       " ('that', 1),\n",
       " ('the', 1),\n",
       " ('Work', 1),\n",
       " ('or', 1),\n",
       " ('a', 1),\n",
       " ('Contribution', 1),\n",
       " ('incorporated', 1),\n",
       " ('within', 1),\n",
       " ('the', 1),\n",
       " ('Work', 1),\n",
       " ('constitutes', 1),\n",
       " ('direct', 1),\n",
       " ('or', 1),\n",
       " ('contributory', 1),\n",
       " ('patent', 1),\n",
       " ('infringement', 1),\n",
       " ('then', 1),\n",
       " ('any', 1),\n",
       " ('patent', 1),\n",
       " ('licenses', 1),\n",
       " ('granted', 1),\n",
       " ('to', 1),\n",
       " ('You', 1),\n",
       " ('under', 1),\n",
       " ('this', 1),\n",
       " ('License', 1),\n",
       " ('for', 1),\n",
       " ('that', 1),\n",
       " ('Work', 1),\n",
       " ('shall', 1),\n",
       " ('terminate', 1),\n",
       " ('as', 1),\n",
       " ('of', 1),\n",
       " ('the', 1),\n",
       " ('date', 1),\n",
       " ('such', 1),\n",
       " ('litigation', 1),\n",
       " ('is', 1),\n",
       " ('filed', 1),\n",
       " ('Redistribution', 1),\n",
       " ('You', 1),\n",
       " ('may', 1),\n",
       " ('reproduce', 1),\n",
       " ('and', 1),\n",
       " ('distribute', 1),\n",
       " ('copies', 1),\n",
       " ('of', 1),\n",
       " ('the', 1),\n",
       " ('Work', 1),\n",
       " ('or', 1),\n",
       " ('Derivative', 1),\n",
       " ('Works', 1),\n",
       " ('thereof', 1),\n",
       " ('in', 1),\n",
       " ('any', 1),\n",
       " ('medium', 1),\n",
       " ('with', 1),\n",
       " ('or', 1),\n",
       " ('without', 1),\n",
       " ('modifications', 1),\n",
       " ('and', 1),\n",
       " ('in', 1),\n",
       " ('Source', 1),\n",
       " ('or', 1),\n",
       " ('Object', 1),\n",
       " ('form', 1),\n",
       " ('provided', 1),\n",
       " ('that', 1),\n",
       " ('You', 1),\n",
       " ('meet', 1),\n",
       " ('the', 1),\n",
       " ('following', 1),\n",
       " ('conditions', 1),\n",
       " ('a', 1),\n",
       " ('You', 1),\n",
       " ('must', 1),\n",
       " ('give', 1),\n",
       " ('any', 1),\n",
       " ('other', 1),\n",
       " ('recipients', 1),\n",
       " ('of', 1),\n",
       " ('the', 1),\n",
       " ('Work', 1),\n",
       " ('or', 1),\n",
       " ('Derivative', 1),\n",
       " ('Works', 1),\n",
       " ('a', 1),\n",
       " ('copy', 1),\n",
       " ('of', 1),\n",
       " ('this', 1),\n",
       " ('License', 1),\n",
       " ('and', 1),\n",
       " ('b', 1),\n",
       " ('You', 1),\n",
       " ('must', 1),\n",
       " ('cause', 1),\n",
       " ('any', 1),\n",
       " ('modified', 1),\n",
       " ('files', 1),\n",
       " ('to', 1),\n",
       " ('carry', 1),\n",
       " ('prominent', 1),\n",
       " ('notices', 1),\n",
       " ('stating', 1),\n",
       " ('that', 1),\n",
       " ('You', 1),\n",
       " ('changed', 1),\n",
       " ('the', 1),\n",
       " ('files', 1),\n",
       " ('and', 1),\n",
       " ('c', 1),\n",
       " ('You', 1),\n",
       " ('must', 1),\n",
       " ('retain', 1),\n",
       " ('in', 1),\n",
       " ('the', 1),\n",
       " ('Source', 1),\n",
       " ('form', 1),\n",
       " ('of', 1),\n",
       " ('any', 1),\n",
       " ('Derivative', 1),\n",
       " ('Works', 1),\n",
       " ('that', 1),\n",
       " ('You', 1),\n",
       " ('distribute', 1),\n",
       " ('all', 1),\n",
       " ('copyright', 1),\n",
       " ('patent', 1),\n",
       " ('trademark', 1),\n",
       " ('and', 1),\n",
       " ('attribution', 1),\n",
       " ('notices', 1),\n",
       " ('from', 1),\n",
       " ('the', 1),\n",
       " ('Source', 1),\n",
       " ('form', 1),\n",
       " ('of', 1),\n",
       " ('the', 1),\n",
       " ('Work', 1),\n",
       " ('excluding', 1),\n",
       " ('those', 1),\n",
       " ('notices', 1),\n",
       " ('that', 1),\n",
       " ('do', 1),\n",
       " ('not', 1),\n",
       " ('pertain', 1),\n",
       " ('to', 1),\n",
       " ('any', 1),\n",
       " ('part', 1),\n",
       " ('of', 1),\n",
       " ('the', 1),\n",
       " ('Derivative', 1),\n",
       " ('Works', 1),\n",
       " ('and', 1),\n",
       " ('d', 1),\n",
       " ('If', 1),\n",
       " ('the', 1),\n",
       " ('Work', 1),\n",
       " ('includes', 1),\n",
       " ('a', 1),\n",
       " ('NOTICE', 1),\n",
       " ('text', 1),\n",
       " ('file', 1),\n",
       " ('as', 1),\n",
       " ('part', 1),\n",
       " ('of', 1),\n",
       " ('its', 1),\n",
       " ('distribution', 1),\n",
       " ('then', 1),\n",
       " ('any', 1),\n",
       " ('Derivative', 1),\n",
       " ('Works', 1),\n",
       " ('that', 1),\n",
       " ('You', 1),\n",
       " ('distribute', 1),\n",
       " ('must', 1),\n",
       " ('include', 1),\n",
       " ('a', 1),\n",
       " ('readable', 1),\n",
       " ('copy', 1),\n",
       " ('of', 1),\n",
       " ('the', 1),\n",
       " ('attribution', 1),\n",
       " ('notices', 1),\n",
       " ('contained', 1),\n",
       " ('within', 1),\n",
       " ('such', 1),\n",
       " ('NOTICE', 1),\n",
       " ('file', 1),\n",
       " ('excluding', 1),\n",
       " ('those', 1),\n",
       " ('notices', 1),\n",
       " ('that', 1),\n",
       " ('do', 1),\n",
       " ('not', 1),\n",
       " ('pertain', 1),\n",
       " ('to', 1),\n",
       " ('any', 1),\n",
       " ('part', 1),\n",
       " ('of', 1),\n",
       " ('the', 1),\n",
       " ('Derivative', 1),\n",
       " ('Works', 1),\n",
       " ('in', 1),\n",
       " ('at', 1),\n",
       " ('least', 1),\n",
       " ('one', 1),\n",
       " ('of', 1),\n",
       " ('the', 1),\n",
       " ('following', 1),\n",
       " ('places', 1),\n",
       " ('within', 1),\n",
       " ('a', 1),\n",
       " ('NOTICE', 1),\n",
       " ('text', 1),\n",
       " ('file', 1),\n",
       " ('distributed', 1),\n",
       " ('as', 1),\n",
       " ('part', 1),\n",
       " ('of', 1),\n",
       " ('the', 1),\n",
       " ('Derivative', 1),\n",
       " ('Works', 1),\n",
       " ('within', 1),\n",
       " ('the', 1),\n",
       " ('Source', 1),\n",
       " ('form', 1),\n",
       " ('or', 1),\n",
       " ('documentation', 1),\n",
       " ('if', 1),\n",
       " ('provided', 1),\n",
       " ('along', 1),\n",
       " ('with', 1),\n",
       " ('the', 1),\n",
       " ('Derivative', 1),\n",
       " ('Works', 1),\n",
       " ('or', 1),\n",
       " ('within', 1),\n",
       " ('a', 1),\n",
       " ('display', 1),\n",
       " ('generated', 1),\n",
       " ('by', 1),\n",
       " ('the', 1),\n",
       " ('Derivative', 1),\n",
       " ('Works', 1),\n",
       " ('if', 1),\n",
       " ('and', 1),\n",
       " ('wherever', 1),\n",
       " ('such', 1),\n",
       " ('thirdparty', 1),\n",
       " ('notices', 1),\n",
       " ('normally', 1),\n",
       " ('appear', 1),\n",
       " ('The', 1),\n",
       " ('contents', 1),\n",
       " ('of', 1),\n",
       " ('the', 1),\n",
       " ('NOTICE', 1),\n",
       " ('file', 1),\n",
       " ('are', 1),\n",
       " ('for', 1),\n",
       " ('informational', 1),\n",
       " ('purposes', 1),\n",
       " ('only', 1),\n",
       " ('and', 1),\n",
       " ('do', 1),\n",
       " ('not', 1),\n",
       " ('modify', 1),\n",
       " ('the', 1),\n",
       " ('License', 1),\n",
       " ('You', 1),\n",
       " ('may', 1),\n",
       " ('add', 1),\n",
       " ('Your', 1),\n",
       " ('own', 1),\n",
       " ('attribution', 1),\n",
       " ('notices', 1),\n",
       " ('within', 1),\n",
       " ('Derivative', 1),\n",
       " ('Works', 1),\n",
       " ('that', 1),\n",
       " ('You', 1),\n",
       " ('distribute', 1),\n",
       " ('alongside', 1),\n",
       " ('or', 1),\n",
       " ('as', 1),\n",
       " ('an', 1),\n",
       " ('addendum', 1),\n",
       " ('to', 1),\n",
       " ('the', 1),\n",
       " ('NOTICE', 1),\n",
       " ('text', 1),\n",
       " ('from', 1),\n",
       " ('the', 1),\n",
       " ('Work', 1),\n",
       " ('provided', 1),\n",
       " ('that', 1),\n",
       " ('such', 1),\n",
       " ('additional', 1),\n",
       " ('attribution', 1),\n",
       " ('notices', 1),\n",
       " ('cannot', 1),\n",
       " ('be', 1),\n",
       " ('construed', 1),\n",
       " ('as', 1),\n",
       " ('modifying', 1),\n",
       " ('the', 1),\n",
       " ('License', 1),\n",
       " ('You', 1),\n",
       " ('may', 1),\n",
       " ('add', 1),\n",
       " ('Your', 1),\n",
       " ('own', 1),\n",
       " ('copyright', 1),\n",
       " ('statement', 1),\n",
       " ('to', 1),\n",
       " ('Your', 1),\n",
       " ('modifications', 1),\n",
       " ('and', 1),\n",
       " ('may', 1),\n",
       " ('provide', 1),\n",
       " ('additional', 1),\n",
       " ('or', 1),\n",
       " ('different', 1),\n",
       " ('license', 1),\n",
       " ('terms', 1),\n",
       " ('and', 1),\n",
       " ('conditions', 1),\n",
       " ('for', 1),\n",
       " ('use', 1),\n",
       " ('reproduction', 1),\n",
       " ('or', 1),\n",
       " ('distribution', 1),\n",
       " ('of', 1),\n",
       " ('Your', 1),\n",
       " ('modifications', 1),\n",
       " ('or', 1),\n",
       " ('for', 1),\n",
       " ('any', 1),\n",
       " ('such', 1),\n",
       " ('Derivative', 1),\n",
       " ('Works', 1),\n",
       " ('as', 1),\n",
       " ('a', 1),\n",
       " ('whole', 1),\n",
       " ('provided', 1),\n",
       " ('Your', 1),\n",
       " ('use', 1),\n",
       " ('reproduction', 1),\n",
       " ('and', 1),\n",
       " ('distribution', 1),\n",
       " ('of', 1),\n",
       " ('the', 1),\n",
       " ('Work', 1),\n",
       " ('otherwise', 1),\n",
       " ('complies', 1),\n",
       " ('with', 1),\n",
       " ('the', 1),\n",
       " ('conditions', 1),\n",
       " ('stated', 1),\n",
       " ('in', 1),\n",
       " ('this', 1),\n",
       " ('License', 1),\n",
       " ('Submission', 1),\n",
       " ('of', 1),\n",
       " ('Contributions', 1),\n",
       " ('Unless', 1),\n",
       " ('You', 1),\n",
       " ('explicitly', 1),\n",
       " ('state', 1),\n",
       " ...]"
      ]
     },
     "execution_count": 31,
     "metadata": {},
     "output_type": "execute_result"
    }
   ],
   "source": [
    "rdd_couple = rdd_words.map(initiate)\n",
    "rdd_couple.collect()"
   ]
  },
  {
   "cell_type": "code",
   "execution_count": 35,
   "metadata": {},
   "outputs": [
    {
     "data": {
      "text/plain": [
       "defaultdict(int,\n",
       "            {'Apache': 5,\n",
       "             'License': 36,\n",
       "             'Version': 3,\n",
       "             'January': 1,\n",
       "             'httpwwwapacheorglicenses': 1,\n",
       "             'TERMS': 2,\n",
       "             'AND': 3,\n",
       "             'CONDITIONS': 4,\n",
       "             'FOR': 2,\n",
       "             'USE': 1,\n",
       "             'REPRODUCTION': 1,\n",
       "             'DISTRIBUTION': 1,\n",
       "             'Definitions': 1,\n",
       "             'shall': 15,\n",
       "             'mean': 10,\n",
       "             'the': 103,\n",
       "             'terms': 7,\n",
       "             'and': 45,\n",
       "             'conditions': 9,\n",
       "             'for': 22,\n",
       "             'use': 9,\n",
       "             'reproduction': 3,\n",
       "             'distribution': 4,\n",
       "             'as': 15,\n",
       "             'defined': 1,\n",
       "             'by': 24,\n",
       "             'Sections': 1,\n",
       "             'through': 1,\n",
       "             'of': 66,\n",
       "             'this': 16,\n",
       "             'document': 1,\n",
       "             'Licensor': 10,\n",
       "             'copyright': 11,\n",
       "             'owner': 6,\n",
       "             'or': 66,\n",
       "             'entity': 6,\n",
       "             'authorized': 2,\n",
       "             'that': 23,\n",
       "             'is': 9,\n",
       "             'granting': 1,\n",
       "             'Legal': 4,\n",
       "             'Entity': 4,\n",
       "             'union': 1,\n",
       "             'acting': 1,\n",
       "             'all': 3,\n",
       "             'other': 8,\n",
       "             'entities': 1,\n",
       "             'control': 4,\n",
       "             'are': 7,\n",
       "             'controlled': 1,\n",
       "             'under': 12,\n",
       "             'common': 1,\n",
       "             'with': 11,\n",
       "             'For': 3,\n",
       "             'purposes': 4,\n",
       "             'definition': 2,\n",
       "             'means': 2,\n",
       "             'i': 1,\n",
       "             'power': 1,\n",
       "             'direct': 3,\n",
       "             'indirect': 2,\n",
       "             'to': 39,\n",
       "             'cause': 2,\n",
       "             'direction': 1,\n",
       "             'management': 1,\n",
       "             'such': 18,\n",
       "             'whether': 4,\n",
       "             'contract': 2,\n",
       "             'otherwise': 6,\n",
       "             'ii': 1,\n",
       "             'ownership': 2,\n",
       "             'fifty': 1,\n",
       "             'percent': 1,\n",
       "             'more': 1,\n",
       "             'outstanding': 1,\n",
       "             'shares': 1,\n",
       "             'iii': 1,\n",
       "             'beneficial': 1,\n",
       "             'You': 24,\n",
       "             'Your': 9,\n",
       "             'an': 7,\n",
       "             'individual': 3,\n",
       "             'exercising': 1,\n",
       "             'permissions': 3,\n",
       "             'granted': 2,\n",
       "             'Source': 9,\n",
       "             'form': 13,\n",
       "             'preferred': 1,\n",
       "             'making': 1,\n",
       "             'modifications': 6,\n",
       "             'including': 9,\n",
       "             'but': 5,\n",
       "             'not': 11,\n",
       "             'limited': 4,\n",
       "             'software': 2,\n",
       "             'source': 4,\n",
       "             'code': 3,\n",
       "             'documentation': 4,\n",
       "             'configuration': 1,\n",
       "             'files': 3,\n",
       "             'Object': 5,\n",
       "             'any': 28,\n",
       "             'resulting': 1,\n",
       "             'from': 5,\n",
       "             'mechanical': 1,\n",
       "             'transformation': 1,\n",
       "             'translation': 1,\n",
       "             'a': 21,\n",
       "             'compiled': 1,\n",
       "             'object': 1,\n",
       "             'generated': 2,\n",
       "             'conversions': 1,\n",
       "             'media': 1,\n",
       "             'types': 1,\n",
       "             'Work': 26,\n",
       "             'work': 8,\n",
       "             'authorship': 3,\n",
       "             'in': 23,\n",
       "             'made': 2,\n",
       "             'available': 1,\n",
       "             'indicated': 1,\n",
       "             'notice': 3,\n",
       "             'included': 2,\n",
       "             'attached': 1,\n",
       "             'example': 1,\n",
       "             'provided': 5,\n",
       "             'Appendix': 1,\n",
       "             'below': 1,\n",
       "             'Derivative': 18,\n",
       "             'Works': 18,\n",
       "             'based': 1,\n",
       "             'on': 11,\n",
       "             'derived': 1,\n",
       "             'which': 2,\n",
       "             'editorial': 1,\n",
       "             'revisions': 1,\n",
       "             'annotations': 1,\n",
       "             'elaborations': 1,\n",
       "             'represent': 1,\n",
       "             'whole': 2,\n",
       "             'original': 2,\n",
       "             'include': 3,\n",
       "             'works': 1,\n",
       "             'remain': 1,\n",
       "             'separable': 1,\n",
       "             'merely': 1,\n",
       "             'link': 1,\n",
       "             'bind': 1,\n",
       "             'name': 2,\n",
       "             'interfaces': 1,\n",
       "             'thereof': 4,\n",
       "             'Contribution': 5,\n",
       "             'version': 1,\n",
       "             'additions': 1,\n",
       "             'intentionally': 2,\n",
       "             'submitted': 5,\n",
       "             'inclusion': 2,\n",
       "             'submit': 1,\n",
       "             'behalf': 5,\n",
       "             'electronic': 2,\n",
       "             'verbal': 1,\n",
       "             'written': 1,\n",
       "             'communication': 3,\n",
       "             'sent': 1,\n",
       "             'its': 3,\n",
       "             'representatives': 1,\n",
       "             'mailing': 1,\n",
       "             'lists': 1,\n",
       "             'systems': 2,\n",
       "             'issue': 1,\n",
       "             'tracking': 1,\n",
       "             'managed': 1,\n",
       "             'purpose': 2,\n",
       "             'discussing': 1,\n",
       "             'improving': 1,\n",
       "             'excluding': 3,\n",
       "             'conspicuously': 1,\n",
       "             'marked': 1,\n",
       "             'designated': 1,\n",
       "             'writing': 4,\n",
       "             'Not': 1,\n",
       "             'Contributor': 10,\n",
       "             'whom': 1,\n",
       "             'has': 2,\n",
       "             'been': 2,\n",
       "             'received': 1,\n",
       "             'subsequently': 1,\n",
       "             'incorporated': 2,\n",
       "             'within': 8,\n",
       "             'Grant': 2,\n",
       "             'Copyright': 2,\n",
       "             'Subject': 2,\n",
       "             'each': 4,\n",
       "             'hereby': 2,\n",
       "             'grants': 2,\n",
       "             'perpetual': 2,\n",
       "             'worldwide': 2,\n",
       "             'nonexclusive': 2,\n",
       "             'nocharge': 2,\n",
       "             'royaltyfree': 2,\n",
       "             'irrevocable': 2,\n",
       "             'license': 6,\n",
       "             'reproduce': 2,\n",
       "             'prepare': 1,\n",
       "             'publicly': 2,\n",
       "             'display': 2,\n",
       "             'perform': 1,\n",
       "             'sublicense': 1,\n",
       "             'distribute': 5,\n",
       "             'Patent': 1,\n",
       "             'except': 3,\n",
       "             'stated': 2,\n",
       "             'section': 2,\n",
       "             'patent': 6,\n",
       "             'make': 1,\n",
       "             'have': 2,\n",
       "             'offer': 2,\n",
       "             'sell': 2,\n",
       "             'import': 1,\n",
       "             'transfer': 1,\n",
       "             'where': 1,\n",
       "             'applies': 1,\n",
       "             'only': 4,\n",
       "             'those': 4,\n",
       "             'claims': 2,\n",
       "             'licensable': 1,\n",
       "             'necessarily': 1,\n",
       "             'infringed': 1,\n",
       "             'their': 3,\n",
       "             'Contributions': 6,\n",
       "             'alone': 1,\n",
       "             'combination': 1,\n",
       "             'was': 2,\n",
       "             'If': 2,\n",
       "             'institute': 1,\n",
       "             'litigation': 2,\n",
       "             'against': 2,\n",
       "             'crossclaim': 1,\n",
       "             'counterclaim': 1,\n",
       "             'lawsuit': 1,\n",
       "             'alleging': 1,\n",
       "             'constitutes': 1,\n",
       "             'contributory': 1,\n",
       "             'infringement': 1,\n",
       "             'then': 2,\n",
       "             'licenses': 4,\n",
       "             'terminate': 1,\n",
       "             'date': 1,\n",
       "             'filed': 1,\n",
       "             'Redistribution': 1,\n",
       "             'may': 9,\n",
       "             'copies': 1,\n",
       "             'medium': 1,\n",
       "             'without': 3,\n",
       "             'meet': 1,\n",
       "             'following': 3,\n",
       "             'must': 4,\n",
       "             'give': 1,\n",
       "             'recipients': 1,\n",
       "             'copy': 3,\n",
       "             'b': 1,\n",
       "             'modified': 1,\n",
       "             'carry': 1,\n",
       "             'prominent': 1,\n",
       "             'notices': 8,\n",
       "             'stating': 1,\n",
       "             'changed': 1,\n",
       "             'c': 1,\n",
       "             'retain': 1,\n",
       "             'trademark': 1,\n",
       "             'attribution': 4,\n",
       "             'do': 3,\n",
       "             'pertain': 2,\n",
       "             'part': 4,\n",
       "             'd': 1,\n",
       "             'includes': 1,\n",
       "             'NOTICE': 6,\n",
       "             'text': 5,\n",
       "             'file': 8,\n",
       "             'readable': 1,\n",
       "             'contained': 1,\n",
       "             'at': 2,\n",
       "             'least': 1,\n",
       "             'one': 1,\n",
       "             'places': 1,\n",
       "             'distributed': 4,\n",
       "             'if': 4,\n",
       "             'along': 1,\n",
       "             'wherever': 1,\n",
       "             'thirdparty': 3,\n",
       "             'normally': 1,\n",
       "             'appear': 1,\n",
       "             'The': 4,\n",
       "             'contents': 1,\n",
       "             'informational': 1,\n",
       "             'modify': 2,\n",
       "             'add': 2,\n",
       "             'own': 4,\n",
       "             'alongside': 1,\n",
       "             'addendum': 1,\n",
       "             'additional': 4,\n",
       "             'cannot': 1,\n",
       "             'be': 5,\n",
       "             'construed': 1,\n",
       "             'modifying': 1,\n",
       "             'statement': 1,\n",
       "             'provide': 1,\n",
       "             'different': 1,\n",
       "             'complies': 1,\n",
       "             'Submission': 1,\n",
       "             'Unless': 3,\n",
       "             'explicitly': 1,\n",
       "             'state': 1,\n",
       "             'Notwithstanding': 1,\n",
       "             'above': 1,\n",
       "             'nothing': 1,\n",
       "             'herein': 1,\n",
       "             'supersede': 1,\n",
       "             'separate': 1,\n",
       "             'agreement': 1,\n",
       "             'you': 2,\n",
       "             'executed': 1,\n",
       "             'regarding': 1,\n",
       "             'Trademarks': 1,\n",
       "             'This': 4,\n",
       "             'does': 1,\n",
       "             'grant': 1,\n",
       "             'permission': 1,\n",
       "             'trade': 1,\n",
       "             'names': 2,\n",
       "             'trademarks': 1,\n",
       "             'service': 1,\n",
       "             'marks': 1,\n",
       "             'product': 2,\n",
       "             'required': 4,\n",
       "             'reasonable': 1,\n",
       "             'customary': 1,\n",
       "             'describing': 1,\n",
       "             'origin': 1,\n",
       "             'reproducing': 1,\n",
       "             'content': 1,\n",
       "             'Disclaimer': 1,\n",
       "             'Warranty': 2,\n",
       "             'applicable': 3,\n",
       "             'law': 3,\n",
       "             'agreed': 3,\n",
       "             'provides': 2,\n",
       "             'AS': 2,\n",
       "             'IS': 2,\n",
       "             'BASIS': 2,\n",
       "             'WITHOUT': 2,\n",
       "             'WARRANTIES': 2,\n",
       "             'OR': 2,\n",
       "             'OF': 3,\n",
       "             'ANY': 2,\n",
       "             'KIND': 2,\n",
       "             'either': 2,\n",
       "             'express': 2,\n",
       "             'implied': 2,\n",
       "             'limitation': 1,\n",
       "             'warranties': 1,\n",
       "             'TITLE': 1,\n",
       "             'NONINFRINGEMENT': 1,\n",
       "             'MERCHANTABILITY': 1,\n",
       "             'FITNESS': 1,\n",
       "             'A': 1,\n",
       "             'PARTICULAR': 1,\n",
       "             'PURPOSE': 1,\n",
       "             'solely': 1,\n",
       "             'responsible': 1,\n",
       "             'determining': 1,\n",
       "             'appropriateness': 1,\n",
       "             'using': 1,\n",
       "             'redistributing': 2,\n",
       "             'assume': 1,\n",
       "             'risks': 1,\n",
       "             'associated': 1,\n",
       "             'exercise': 1,\n",
       "             'Limitation': 1,\n",
       "             'Liability': 2,\n",
       "             'In': 1,\n",
       "             'no': 2,\n",
       "             'event': 1,\n",
       "             'legal': 1,\n",
       "             'theory': 1,\n",
       "             'tort': 1,\n",
       "             'negligence': 1,\n",
       "             'unless': 1,\n",
       "             'deliberate': 1,\n",
       "             'grossly': 1,\n",
       "             'negligent': 1,\n",
       "             'acts': 1,\n",
       "             'liable': 1,\n",
       "             'damages': 5,\n",
       "             'special': 1,\n",
       "             'incidental': 1,\n",
       "             'consequential': 1,\n",
       "             'character': 1,\n",
       "             'arising': 1,\n",
       "             'result': 1,\n",
       "             'out': 1,\n",
       "             'inability': 1,\n",
       "             'loss': 1,\n",
       "             'goodwill': 1,\n",
       "             'stoppage': 1,\n",
       "             'computer': 1,\n",
       "             'failure': 1,\n",
       "             'malfunction': 1,\n",
       "             'commercial': 1,\n",
       "             'losses': 1,\n",
       "             'even': 1,\n",
       "             'advised': 1,\n",
       "             'possibility': 1,\n",
       "             'Accepting': 1,\n",
       "             'Additional': 1,\n",
       "             'While': 1,\n",
       "             'choose': 1,\n",
       "             'charge': 1,\n",
       "             'fee': 1,\n",
       "             'acceptance': 1,\n",
       "             'support': 1,\n",
       "             'warranty': 2,\n",
       "             'indemnity': 1,\n",
       "             'liability': 3,\n",
       "             'obligations': 2,\n",
       "             'andor': 1,\n",
       "             'rights': 1,\n",
       "             'consistent': 1,\n",
       "             'However': 1,\n",
       "             'accepting': 2,\n",
       "             'act': 1,\n",
       "             'sole': 1,\n",
       "             'responsibility': 1,\n",
       "             'agree': 1,\n",
       "             'indemnify': 1,\n",
       "             'defend': 1,\n",
       "             'hold': 1,\n",
       "             'harmless': 1,\n",
       "             'incurred': 1,\n",
       "             'asserted': 1,\n",
       "             'reason': 1,\n",
       "             'your': 4,\n",
       "             'END': 1,\n",
       "             'APPENDIX': 1,\n",
       "             'How': 1,\n",
       "             'apply': 2,\n",
       "             'To': 1,\n",
       "             'attach': 1,\n",
       "             'boilerplate': 1,\n",
       "             'fields': 1,\n",
       "             'enclosed': 2,\n",
       "             'brackets': 2,\n",
       "             '[': 1,\n",
       "             'replaced': 1,\n",
       "             'identifying': 1,\n",
       "             'information': 1,\n",
       "             'Dont': 1,\n",
       "             'should': 1,\n",
       "             'appropriate': 1,\n",
       "             'comment': 1,\n",
       "             'syntax': 1,\n",
       "             'format': 1,\n",
       "             'We': 1,\n",
       "             'also': 2,\n",
       "             'recommend': 1,\n",
       "             'class': 1,\n",
       "             'description': 1,\n",
       "             'same': 2,\n",
       "             'printed': 1,\n",
       "             'page': 1,\n",
       "             'easier': 1,\n",
       "             'identification': 1,\n",
       "             'archives': 1,\n",
       "             '[yyyy': 1,\n",
       "             '[name': 1,\n",
       "             'Licensed': 1,\n",
       "             'compliance': 1,\n",
       "             'obtain': 1,\n",
       "             'httpwwwapacheorglicensesLICENSE': 1,\n",
       "             'See': 2,\n",
       "             'specific': 1,\n",
       "             'language': 1,\n",
       "             'governing': 1,\n",
       "             'limitations': 1,\n",
       "             'project': 3,\n",
       "             'bundles': 2,\n",
       "             'some': 1,\n",
       "             'components': 3,\n",
       "             'licensed': 1,\n",
       "             'commonsbeanutilscommonsbeanutils': 1,\n",
       "             'orgapachezookeeperzookeeper': 1,\n",
       "             'orooro': 1,\n",
       "             'commonsconfigurationcommonsconfiguration': 1,\n",
       "             'commonsdigestercommonsdigester': 1,\n",
       "             'comchuusaishapeless': 1,\n",
       "             'comgooglecodejavaewahJavaEWAH': 1,\n",
       "             'comtwitterchilljava': 1,\n",
       "             'comtwitterchill': 1,\n",
       "             'comunivocityunivocityparsers': 1,\n",
       "             'javaxjdojdoapi': 1,\n",
       "             'jodatimejodatime': 1,\n",
       "             'netsfopencsvopencsv': 1,\n",
       "             'orgapachederbyderby': 1,\n",
       "             'orgehcacheehcache': 1,\n",
       "             'orgobjenesisobjenesis': 1,\n",
       "             'orgroaringbitmapRoaringBitmap': 1,\n",
       "             'orgscalanlpbreezemacros': 1,\n",
       "             'orgscalanlpbreeze': 1,\n",
       "             'orgtypelevelmacrocompat': 1,\n",
       "             'orgyamlsnakeyaml': 1,\n",
       "             'orgapachexbeanxbeanasmshaded': 1,\n",
       "             'comsquareupokhttplogginginterceptor': 1,\n",
       "             'comsquareupokhttpokhttp': 1,\n",
       "             'comsquareupokiookio': 1,\n",
       "             'orgapachesparksparkcatalyst': 1,\n",
       "             'orgapachesparksparkkvstore': 1,\n",
       "             'orgapachesparksparklauncher': 1,\n",
       "             'orgapachesparksparkmlliblocal': 1,\n",
       "             'orgapachesparksparknetworkcommon': 1,\n",
       "             'orgapachesparksparknetworkshuffle': 1,\n",
       "             'orgapachesparksparksketch': 1,\n",
       "             'orgapachesparksparktags': 1,\n",
       "             'orgapachesparksparkunsafe': 1,\n",
       "             'commonshttpclientcommonshttpclient': 1,\n",
       "             'comvlkanflatbuffers': 1,\n",
       "             'comningcompresslzf': 1,\n",
       "             'ioairliftaircompressor': 1,\n",
       "             'iodropwizardmetricsmetricscore': 1,\n",
       "             'iodropwizardmetricsmetricsgraphite': 1,\n",
       "             'iodropwizardmetricsmetricsjson': 1,\n",
       "             'iodropwizardmetricsmetricsjvm': 1,\n",
       "             'iodropwizardmetricsmetricsjmx': 1,\n",
       "             'orgiqsnappysnappy': 1,\n",
       "             'comclearspringanalyticsstream': 1,\n",
       "             'comjamesmurtyutilsjavaxmlbuilder': 1,\n",
       "             'commonscodeccommonscodec': 1,\n",
       "             'commonscollectionscommonscollections': 1,\n",
       "             'iofabrickubernetesclient': 1,\n",
       "             'iofabrickubernetesmodel': 1,\n",
       "             'iofabrickubernetesmodelcommon': 1,\n",
       "             'ionettynettyall': 1,\n",
       "             'nethydromaticeigenbaseproperties': 1,\n",
       "             'netsfsupercsvsupercsv': 1,\n",
       "             'orgapachearrowarrowformat': 1,\n",
       "             'orgapachearrowarrowmemory': 1,\n",
       "             'orgapachearrowarrowvector': 1,\n",
       "             'orgapachecommonscommonsconfiguration': 1,\n",
       "             'orgapachecommonscommonscrypto': 1,\n",
       "             'orgapachecommonscommonslang': 1,\n",
       "             'orgapachehadoophadoopannotations': 1,\n",
       "             'orgapachehadoophadoopauth': 1,\n",
       "             'orgapachehadoophadoopclient': 1,\n",
       "             'orgapachehadoophadoopcommon': 1,\n",
       "             'orgapachehadoophadoophdfs': 1,\n",
       "             'orgapachehadoophadoophdfsclient': 1,\n",
       "             'orgapachehadoophadoopmapreduceclientapp': 1,\n",
       "             'orgapachehadoophadoopmapreduceclientcommon': 1,\n",
       "             'orgapachehadoophadoopmapreduceclientcore': 1,\n",
       "             'orgapachehadoophadoopmapreduceclientjobclient': 1,\n",
       "             'orgapachehadoophadoopmapreduceclientshuffle': 1,\n",
       "             'orgapachehadoophadoopyarnapi': 1,\n",
       "             'orgapachehadoophadoopyarnclient': 1,\n",
       "             'orgapachehadoophadoopyarncommon': 1,\n",
       "             'orgapachehadoophadoopyarnservercommon': 1,\n",
       "             'orgapachehadoophadoopyarnserverwebproxy': 1,\n",
       "             'orgapachehttpcomponentshttpclient': 1,\n",
       "             'orgapachehttpcomponentshttpcore': 1,\n",
       "             'orgapachekerbykerbadmin': 1,\n",
       "             'orgapachekerbykerbclient': 1,\n",
       "             'orgapachekerbykerbcommon': 1,\n",
       "             'orgapachekerbykerbcore': 1,\n",
       "             'orgapachekerbykerbcrypto': 1,\n",
       "             'orgapachekerbykerbidentity': 1,\n",
       "             'orgapachekerbykerbserver': 1,\n",
       "             'orgapachekerbykerbsimplekdc': 1,\n",
       "             'orgapachekerbykerbutil': 1,\n",
       "             'orgapachekerbykerbyasn': 1,\n",
       "             'orgapachekerbykerbyconfig': 1,\n",
       "             'orgapachekerbykerbypkix': 1,\n",
       "             'orgapachekerbykerbyutil': 1,\n",
       "             'orgapachekerbykerbyxdr': 1,\n",
       "             'orgapachekerbytokenprovider': 1,\n",
       "             'orgapacheorcorccore': 1,\n",
       "             'orgapacheorcorcmapreduce': 1,\n",
       "             'orgmortbayjettyjetty': 1,\n",
       "             'orgmortbayjettyjettyutil': 1,\n",
       "             'comjolboxbonecp': 1,\n",
       "             'orgjsonsjsonsast': 1,\n",
       "             'orgjsonsjsonscore': 1,\n",
       "             'orgjsonsjsonsjackson': 1,\n",
       "             'orgjsonsjsonsscalap': 1,\n",
       "             'comcarrotsearchhppc': 1,\n",
       "             'comfasterxmljacksoncorejacksonannotations': 1,\n",
       "             'comfasterxmljacksoncorejacksoncore': 1,\n",
       "             'comfasterxmljacksoncorejacksondatabind': 1,\n",
       "             'comfasterxmljacksondataformatjacksondataformatyaml': 1,\n",
       "             'comfasterxmljacksonjaxrsjacksonjaxrsbase': 1,\n",
       "             'comfasterxmljacksonjaxrsjacksonjaxrsjsonprovider': 1,\n",
       "             'comfasterxmljacksonmodulejacksonmodulejaxbannotations': 1,\n",
       "             'comfasterxmljacksonmodulejacksonmoduleparanamer': 1,\n",
       "             'comfasterxmljacksonmodulejacksonmodulescala': 1,\n",
       "             'comfasterxmlwoodstoxwoodstoxcore': 1,\n",
       "             'comgithubmifmifgenerex': 1,\n",
       "             'comgithubstephencjcipjcipannotations': 1,\n",
       "             'comgooglecodefindbugsjsr': 1,\n",
       "             'comgooglecodegsongson': 1,\n",
       "             'comgoogleflatbuffersflatbuffersjava': 1,\n",
       "             'comgoogleguavaguava': 1,\n",
       "             'comgoogleinjectguice': 1,\n",
       "             'comgoogleinjectextensionsguiceservlet': 1,\n",
       "             'comnimbusdsnimbusjosejwt': 1,\n",
       "             'comtwitterparquethadoopbundle': 1,\n",
       "             'commonsclicommonscli': 1,\n",
       "             'commonsdaemoncommonsdaemon': 1,\n",
       "             'commonsdbcpcommonsdbcp': 1,\n",
       "             'commonsiocommonsio': 1,\n",
       "             'commonslangcommonslang': 1,\n",
       "             'commonsloggingcommonslogging': 1,\n",
       "             'commonsnetcommonsnet': 1,\n",
       "             'commonspoolcommonspool': 1,\n",
       "             'iofabriczjsonpatch': 1,\n",
       "             'javaxinjectjavaxinject': 1,\n",
       "             'javaxvalidationvalidationapi': 1,\n",
       "             'logjapachelogjextras': 1,\n",
       "             'logjlogj': 1,\n",
       "             'netminidevaccessorssmart': 1,\n",
       "             'netminidevjsonsmart': 1,\n",
       "             'netsfjpamjpam': 1,\n",
       "             'orgapacheavroavro': 1,\n",
       "             'orgapacheavroavroipc': 1,\n",
       "             'orgapacheavroavromapred': 1,\n",
       "             'orgapachecommonscommonscompress': 1,\n",
       "             'orgapachecommonscommonsmath': 1,\n",
       "             'orgapachecuratorcuratorclient': 1,\n",
       "             'orgapachecuratorcuratorframework': 1,\n",
       "             'orgapachecuratorcuratorrecipes': 1,\n",
       "             'orgapachedirectoryapiapiasnapi': 1,\n",
       "             'orgapachedirectoryapiapiutil': 1,\n",
       "             'orgapachedirectoryserverapachedsin': 1,\n",
       "             'orgapachedirectoryserverapachedskerberoscodec': 1,\n",
       "             'orgapachehtracehtracecore': 1,\n",
       "             'orgapacheivyivy': 1,\n",
       "             'orgapachegeronimospecsgeronimojcachespec': 1,\n",
       "             'orgapachemesosmesos': 1,\n",
       "             'orgapacheparquetparquetcolumn': 1,\n",
       "             'orgapacheparquetparquetcommon': 1,\n",
       "             'orgapacheparquetparquetencoding': 1,\n",
       "             'orgapacheparquetparquetformat': 1,\n",
       "             'orgapacheparquetparquethadoop': 1,\n",
       "             'orgapacheparquetparquetjackson': 1,\n",
       "             'orgapachethriftlibfb': 1,\n",
       "             'orgapachethriftlibthrift': 1,\n",
       "             'orgcodehausjacksonjacksoncoreasl': 1,\n",
       "             'orgcodehausjacksonjacksonmapperasl': 1,\n",
       "             'orgdatanucleusdatanucleusapijdo': 1,\n",
       "             'orgdatanucleusdatanucleuscore': 1,\n",
       "             'orgdatanucleusdatanucleusrdbms': 1,\n",
       "             'orglzlzjava': 1,\n",
       "             'orgxerialsnappysnappyjava': 1,\n",
       "             'staxstaxapi': 1,\n",
       "             'xercesxercesImpl': 1,\n",
       "             'orgcodehausjacksonjacksonjaxrs': 1,\n",
       "             'orgcodehausjacksonjacksonxc': 1,\n",
       "             'orgeclipsejettyjettyclient': 1,\n",
       "             'orgeclipsejettyjettycontinuation': 1,\n",
       "             'orgeclipsejettyjettyhttp': 1,\n",
       "             'orgeclipsejettyjettyio': 1,\n",
       "             'orgeclipsejettyjettyjndi': 1,\n",
       "             'orgeclipsejettyjettyplus': 1,\n",
       "             'orgeclipsejettyjettyproxy': 1,\n",
       "             'orgeclipsejettyjettysecurity': 1,\n",
       "             'orgeclipsejettyjettyserver': 1,\n",
       "             'orgeclipsejettyjettyservlet': 1,\n",
       "             'orgeclipsejettyjettyservlets': 1,\n",
       "             'orgeclipsejettyjettyutil': 1,\n",
       "             'orgeclipsejettyjettywebapp': 1,\n",
       "             'orgeclipsejettyjettyxml': 1,\n",
       "             'orgscalalangmodulesscalaxml': 1,\n",
       "             'comgithubjoshelserdropwizardmetricshadoopmetricsreporter': 1,\n",
       "             'comzaxxerHikariCP': 1,\n",
       "             'orgapachehivehivebeeline': 1,\n",
       "             'orgapachehivehivecli': 1,\n",
       "             'orgapachehivehivecommon': 2,\n",
       "             'orgapachehivehiveexec': 1,\n",
       "             'orgapachehivehivejdbc': 1,\n",
       "             'orgapachehivehivellapcommon': 1,\n",
       "             'orgapachehivehivemetastore': 1,\n",
       "             'orgapachehivehiveserde': 1,\n",
       "             'orgapachehivehiveservicerpc': 1,\n",
       "             'orgapachehivehiveshims': 2,\n",
       "             'orgapachehivehiveshimsscheduler': 1,\n",
       "             'orgapachehivehivestorageapi': 1,\n",
       "             'orgapachehivehivevectorcodegen': 1,\n",
       "             'orgdatanucleusjavaxjdo': 1,\n",
       "             'comtdunningjson': 1,\n",
       "             'orgapachevelocityvelocity': 1,\n",
       "             'orgapacheyetusaudienceannotations': 1,\n",
       "             'coresrcmainjavaorgapachesparkutilcollectionTimSortjava': 1,\n",
       "             'coresrcmainresourcesorgapachesparkuistaticbootstrap': 1,\n",
       "             'coresrcmainresourcesorgapachesparkuistaticjsonFormatter': 1,\n",
       "             'coresrcmainresourcesorgapachesparkuistaticvis': 1,\n",
       "             'docsjsvendorbootstrapjs': 1,\n",
       "             'various': 1,\n",
       "             'open': 1,\n",
       "             'summarizes': 1,\n",
       "             'licensesbinary': 1,\n",
       "             'these': 1,\n",
       "             'BSD': 3,\n",
       "             'Clause': 3,\n",
       "             'comgithublubenzstdjni': 1,\n",
       "             'dnsjavadnsjava': 1,\n",
       "             'javolutionjavolution': 1,\n",
       "             'comesotericsoftwarekryoshaded': 1,\n",
       "             'comesotericsoftwareminlog': 1,\n",
       "             'comesotericsoftwarereflectasm': 1,\n",
       "             'comgoogleprotobufprotobufjava': 1,\n",
       "             'orgcodehausjaninocommonscompiler': 1,\n",
       "             'orgcodehausjaninojanino': 1,\n",
       "             'orgcodehauswoodstoxstaxapi': 1,\n",
       "             'jlinejline': 1,\n",
       "             'orgjoddjoddcore': 1,\n",
       "             'comgithubwendykierpJTransforms': 1,\n",
       "             'pleduicmJLargeArrays': 1,\n",
       "             'dkbricsautomatonautomaton': 1,\n",
       "             'organtlrantlrruntime': 2,\n",
       "             'organtlrST': 1,\n",
       "             'organtlrstringtemplate': 1,\n",
       "             'antlrantlr': 1,\n",
       "             'comgithubfommilnetlibcore': 1,\n",
       "             'comgooglerejrej': 1,\n",
       "             'comthoughtworksparanamerparanamer': 1,\n",
       "             'orgscalalangscalacompiler': 1,\n",
       "             'orgscalalangscalalibrary': 1,\n",
       "             'orgscalalangscalareflect': 1,\n",
       "             'orgscalalangmodulesscalaparsercombinators': 1,\n",
       "             'orgfusesourceleveldbjnileveldbjniall': 1,\n",
       "             'netsourceforgefjarpackcombinedall': 1,\n",
       "             'xmlencxmlenc': 1,\n",
       "             'netsfpyjpyj': 1,\n",
       "             'orgjpmmlpmmlmodel': 1,\n",
       "             'orgjpmmlpmmlschema': 1,\n",
       "             'orgthreetenthreetenextra': 1,\n",
       "             'pythonlibpyjsrczip': 1,\n",
       "             'pythonpysparkcloudpicklepy': 1,\n",
       "             'pythonpysparkjoinpy': 1,\n",
       "             'coresrcmainresourcesorgapachesparkuistaticdminjs': 1,\n",
       "             'CSS': 1,\n",
       "             'style': 1,\n",
       "             'navigation': 1,\n",
       "             'sidebar': 1,\n",
       "             'originally': 1,\n",
       "             'scar': 1,\n",
       "             'Njera': 1,\n",
       "             'scikitlearn': 2,\n",
       "             'MIT': 1,\n",
       "             'commicrosoftsqlservermssqljdbc': 1,\n",
       "             'orgtypelevelspire': 1,\n",
       "             'orgtypelevelspiremacros': 1,\n",
       "             'orgtypelevelspireplatform': 1,\n",
       "             'orgtypelevelspireutil': 1,\n",
       "             'orgtypelevelalgebrajar': 1,\n",
       "             'orgtypelevelcatskernel': 1,\n",
       "             'orgtypelevelmachinist': 1,\n",
       "             'netrazorvinepyrolite': 1,\n",
       "             'orgslfjjcloverslfj': 1,\n",
       "             'orgslfjjultoslfj': 1,\n",
       "             'orgslfjslfjapi': 1,\n",
       "             'orgslfjslfjlogj': 1,\n",
       "             'comgithubscoptscopt': 1,\n",
       "             'coresrcmainresourcesorgapachesparkuistaticdagredminjs': 1,\n",
       "             'coresrcmainresourcesorgapachesparkuistaticdataTables': 1,\n",
       "             'coresrcmainresourcesorgapachesparkuistaticgraphlibdotminjs': 1,\n",
       "             'coresrcmainresourcesorgapachesparkuistaticjquery': 1,\n",
       "             'coresrcmainresourcesorgapachesparkuistaticsorttablejs': 1,\n",
       "             'docsjsvendoranchorminjs': 1,\n",
       "             'docsjsvendorjquery': 1,\n",
       "             'docsjsvendormodernizer': 1,\n",
       "             'Common': 2,\n",
       "             'Development': 2,\n",
       "             'Distribution': 3,\n",
       "             'CDDL': 2,\n",
       "             'javaxactivationactivation': 1,\n",
       "             'httpwwworaclecomtechnetworkjavajavasetechindexjsphtml': 1,\n",
       "             'javaxxmlstreamstaxapi': 1,\n",
       "             'httpsjcporgenjsrdetailid': 1,\n",
       "             'javaxtransactionjavaxtransactionapi': 1,\n",
       "             'javaxeljavaxelapihttpsjavaeegithubiouelri': 1,\n",
       "             'javaxservletjavaxservletapi': 1,\n",
       "             'httpsjavaeegithubioservletspec': 1,\n",
       "             'javaxservletjspjspapi': 1,\n",
       "             'javaxtransactionjta': 1,\n",
       "             'httpwwworaclecomtechnetworkjavaindexhtml': 1,\n",
       "             'javaxxmlbindjaxbapi': 1,\n",
       "             'httpsgithubcomjavaeejaxbv': 1,\n",
       "             'orgglassfishhkhkapi': 1,\n",
       "             'httpsgithubcomjavaeeglassfish': 1,\n",
       "             'orgglassfishhkhklocator': 1,\n",
       "             'orgglassfishhkhkutils': 1,\n",
       "             'orgglassfishhkosgiresourcelocator': 1,\n",
       "             'orgglassfishhkexternalaopalliancerepackaged': 1,\n",
       "             'orgglassfishhkexternaljavaxinject': 1,\n",
       "             'orgglassfishjerseybundlesrepackagedjerseyguava': 1,\n",
       "             'orgglassfishjerseycontainersjerseycontainerservlet': 1,\n",
       "             'orgglassfishjerseycontainersjerseycontainerservletcore': 1,\n",
       "             'orgglassfishjerseycorejerseyclient': 1,\n",
       "             'orgglassfishjerseycorejerseycommon': 1,\n",
       "             'orgglassfishjerseycorejerseyserver': 1,\n",
       "             'orgglassfishjerseymediajerseymediajaxb': 1,\n",
       "             'Eclipse': 2,\n",
       "             'EDL': 1,\n",
       "             'orgglassfishjaxbjaxbruntime': 1,\n",
       "             'jakartaactivationjakartaactivationapi': 1,\n",
       "             'jakartaxmlbindjakartaxmlbindapi': 1,\n",
       "             'comsunistackistackcommonsruntime': 1,\n",
       "             'Public': 3,\n",
       "             'EPL': 1,\n",
       "             'jakartaannotationjakartaannotationapi': 1,\n",
       "             'httpsprojectseclipseorgprojectseejca': 1,\n",
       "             'jakartawsrsjakartawsrsapi': 1,\n",
       "             'httpsgithubcomeclipseeejjaxrsapi': 1,\n",
       "             'orgglassfishhkexternaljakartainject': 1,\n",
       "             'Python': 1,\n",
       "             'Software': 1,\n",
       "             'Foundation': 1,\n",
       "             'pysparkheapqpy': 1,\n",
       "             'Domain': 2,\n",
       "             'aopallianceaopalliance': 1,\n",
       "             'netiharderbase': 1,\n",
       "             'orgtukaanixz': 1,\n",
       "             'Creative': 1,\n",
       "             'Commons': 1,\n",
       "             'CC': 1,\n",
       "             'Universal': 1,\n",
       "             'Dedication': 1,\n",
       "             'see': 1,\n",
       "             'LICENSECCtxt': 1,\n",
       "             'datamllibimageskittensabEGDPjpg': 1,\n",
       "             'datamllibimageskittensjpg': 1,\n",
       "             'datamllibimageskittensDPjpg': 2,\n",
       "             'datamllibimagesmultichannelchrjpg': 1})"
      ]
     },
     "execution_count": 35,
     "metadata": {},
     "output_type": "execute_result"
    }
   ],
   "source": [
    "rdd_couple.countByKey()"
   ]
  },
  {
   "cell_type": "code",
   "execution_count": 36,
   "metadata": {},
   "outputs": [
    {
     "data": {
      "text/plain": [
       "1998"
      ]
     },
     "execution_count": 36,
     "metadata": {},
     "output_type": "execute_result"
    }
   ],
   "source": [
    "acc.value"
   ]
  },
  {
   "cell_type": "code",
   "execution_count": 37,
   "metadata": {},
   "outputs": [
    {
     "ename": "Py4JJavaError",
     "evalue": "An error occurred while calling z:org.apache.spark.api.python.PythonRDD.collectAndServe.\n: org.apache.spark.SparkException: Job aborted due to stage failure: Task 0 in stage 44.0 failed 1 times, most recent failure: Lost task 0.0 in stage 44.0 (TID 52, localhost, executor driver): org.apache.spark.api.python.PythonException: Traceback (most recent call last):\n  File \"/mnt/c/Users/jcojan/App/spark/python/lib/pyspark.zip/pyspark/worker.py\", line 377, in main\n    process()\n  File \"/mnt/c/Users/jcojan/App/spark/python/lib/pyspark.zip/pyspark/worker.py\", line 372, in process\n    serializer.dump_stream(func(split_index, iterator), outfile)\n  File \"/mnt/c/Users/jcojan/App/spark/python/pyspark/rdd.py\", line 2499, in pipeline_func\n    return func(split, prev_func(split, iterator))\n  File \"/mnt/c/Users/jcojan/App/spark/python/pyspark/rdd.py\", line 2499, in pipeline_func\n    return func(split, prev_func(split, iterator))\n  File \"/mnt/c/Users/jcojan/App/spark/python/pyspark/rdd.py\", line 2499, in pipeline_func\n    return func(split, prev_func(split, iterator))\n  [Previous line repeated 1 more time]\n  File \"/mnt/c/Users/jcojan/App/spark/python/pyspark/rdd.py\", line 352, in func\n    return f(iterator)\n  File \"/mnt/c/Users/jcojan/App/spark/python/pyspark/rdd.py\", line 787, in processPartition\n    f(x)\n  File \"/mnt/c/Users/jcojan/App/spark/python/pyspark/util.py\", line 99, in wrapper\n    return f(*args, **kwargs)\n  File \"<ipython-input-37-535477e17bdb>\", line 1, in <lambda>\n  File \"/mnt/c/Users/jcojan/App/spark/python/lib/pyspark.zip/pyspark/accumulators.py\", line 153, in value\n    raise Exception(\"Accumulator.value cannot be accessed inside tasks\")\nException: Accumulator.value cannot be accessed inside tasks\n\n\tat org.apache.spark.api.python.BasePythonRunner$ReaderIterator.handlePythonException(PythonRunner.scala:456)\n\tat org.apache.spark.api.python.PythonRunner$$anon$1.read(PythonRunner.scala:592)\n\tat org.apache.spark.api.python.PythonRunner$$anon$1.read(PythonRunner.scala:575)\n\tat org.apache.spark.api.python.BasePythonRunner$ReaderIterator.hasNext(PythonRunner.scala:410)\n\tat org.apache.spark.InterruptibleIterator.hasNext(InterruptibleIterator.scala:37)\n\tat scala.collection.Iterator$class.foreach(Iterator.scala:891)\n\tat org.apache.spark.InterruptibleIterator.foreach(InterruptibleIterator.scala:28)\n\tat scala.collection.generic.Growable$class.$plus$plus$eq(Growable.scala:59)\n\tat scala.collection.mutable.ArrayBuffer.$plus$plus$eq(ArrayBuffer.scala:104)\n\tat scala.collection.mutable.ArrayBuffer.$plus$plus$eq(ArrayBuffer.scala:48)\n\tat scala.collection.TraversableOnce$class.to(TraversableOnce.scala:310)\n\tat org.apache.spark.InterruptibleIterator.to(InterruptibleIterator.scala:28)\n\tat scala.collection.TraversableOnce$class.toBuffer(TraversableOnce.scala:302)\n\tat org.apache.spark.InterruptibleIterator.toBuffer(InterruptibleIterator.scala:28)\n\tat scala.collection.TraversableOnce$class.toArray(TraversableOnce.scala:289)\n\tat org.apache.spark.InterruptibleIterator.toArray(InterruptibleIterator.scala:28)\n\tat org.apache.spark.rdd.RDD$$anonfun$collect$1$$anonfun$13.apply(RDD.scala:945)\n\tat org.apache.spark.rdd.RDD$$anonfun$collect$1$$anonfun$13.apply(RDD.scala:945)\n\tat org.apache.spark.SparkContext$$anonfun$runJob$5.apply(SparkContext.scala:2101)\n\tat org.apache.spark.SparkContext$$anonfun$runJob$5.apply(SparkContext.scala:2101)\n\tat org.apache.spark.scheduler.ResultTask.runTask(ResultTask.scala:90)\n\tat org.apache.spark.scheduler.Task.run(Task.scala:123)\n\tat org.apache.spark.executor.Executor$TaskRunner$$anonfun$10.apply(Executor.scala:408)\n\tat org.apache.spark.util.Utils$.tryWithSafeFinally(Utils.scala:1360)\n\tat org.apache.spark.executor.Executor$TaskRunner.run(Executor.scala:414)\n\tat java.util.concurrent.ThreadPoolExecutor.runWorker(ThreadPoolExecutor.java:1149)\n\tat java.util.concurrent.ThreadPoolExecutor$Worker.run(ThreadPoolExecutor.java:624)\n\tat java.lang.Thread.run(Thread.java:748)\n\nDriver stacktrace:\n\tat org.apache.spark.scheduler.DAGScheduler.org$apache$spark$scheduler$DAGScheduler$$failJobAndIndependentStages(DAGScheduler.scala:1889)\n\tat org.apache.spark.scheduler.DAGScheduler$$anonfun$abortStage$1.apply(DAGScheduler.scala:1877)\n\tat org.apache.spark.scheduler.DAGScheduler$$anonfun$abortStage$1.apply(DAGScheduler.scala:1876)\n\tat scala.collection.mutable.ResizableArray$class.foreach(ResizableArray.scala:59)\n\tat scala.collection.mutable.ArrayBuffer.foreach(ArrayBuffer.scala:48)\n\tat org.apache.spark.scheduler.DAGScheduler.abortStage(DAGScheduler.scala:1876)\n\tat org.apache.spark.scheduler.DAGScheduler$$anonfun$handleTaskSetFailed$1.apply(DAGScheduler.scala:926)\n\tat org.apache.spark.scheduler.DAGScheduler$$anonfun$handleTaskSetFailed$1.apply(DAGScheduler.scala:926)\n\tat scala.Option.foreach(Option.scala:257)\n\tat org.apache.spark.scheduler.DAGScheduler.handleTaskSetFailed(DAGScheduler.scala:926)\n\tat org.apache.spark.scheduler.DAGSchedulerEventProcessLoop.doOnReceive(DAGScheduler.scala:2110)\n\tat org.apache.spark.scheduler.DAGSchedulerEventProcessLoop.onReceive(DAGScheduler.scala:2059)\n\tat org.apache.spark.scheduler.DAGSchedulerEventProcessLoop.onReceive(DAGScheduler.scala:2048)\n\tat org.apache.spark.util.EventLoop$$anon$1.run(EventLoop.scala:49)\n\tat org.apache.spark.scheduler.DAGScheduler.runJob(DAGScheduler.scala:737)\n\tat org.apache.spark.SparkContext.runJob(SparkContext.scala:2061)\n\tat org.apache.spark.SparkContext.runJob(SparkContext.scala:2082)\n\tat org.apache.spark.SparkContext.runJob(SparkContext.scala:2101)\n\tat org.apache.spark.SparkContext.runJob(SparkContext.scala:2126)\n\tat org.apache.spark.rdd.RDD$$anonfun$collect$1.apply(RDD.scala:945)\n\tat org.apache.spark.rdd.RDDOperationScope$.withScope(RDDOperationScope.scala:151)\n\tat org.apache.spark.rdd.RDDOperationScope$.withScope(RDDOperationScope.scala:112)\n\tat org.apache.spark.rdd.RDD.withScope(RDD.scala:363)\n\tat org.apache.spark.rdd.RDD.collect(RDD.scala:944)\n\tat org.apache.spark.api.python.PythonRDD$.collectAndServe(PythonRDD.scala:166)\n\tat org.apache.spark.api.python.PythonRDD.collectAndServe(PythonRDD.scala)\n\tat sun.reflect.NativeMethodAccessorImpl.invoke0(Native Method)\n\tat sun.reflect.NativeMethodAccessorImpl.invoke(NativeMethodAccessorImpl.java:62)\n\tat sun.reflect.DelegatingMethodAccessorImpl.invoke(DelegatingMethodAccessorImpl.java:43)\n\tat java.lang.reflect.Method.invoke(Method.java:498)\n\tat py4j.reflection.MethodInvoker.invoke(MethodInvoker.java:244)\n\tat py4j.reflection.ReflectionEngine.invoke(ReflectionEngine.java:357)\n\tat py4j.Gateway.invoke(Gateway.java:282)\n\tat py4j.commands.AbstractCommand.invokeMethod(AbstractCommand.java:132)\n\tat py4j.commands.CallCommand.execute(CallCommand.java:79)\n\tat py4j.GatewayConnection.run(GatewayConnection.java:238)\n\tat java.lang.Thread.run(Thread.java:748)\nCaused by: org.apache.spark.api.python.PythonException: Traceback (most recent call last):\n  File \"/mnt/c/Users/jcojan/App/spark/python/lib/pyspark.zip/pyspark/worker.py\", line 377, in main\n    process()\n  File \"/mnt/c/Users/jcojan/App/spark/python/lib/pyspark.zip/pyspark/worker.py\", line 372, in process\n    serializer.dump_stream(func(split_index, iterator), outfile)\n  File \"/mnt/c/Users/jcojan/App/spark/python/pyspark/rdd.py\", line 2499, in pipeline_func\n    return func(split, prev_func(split, iterator))\n  File \"/mnt/c/Users/jcojan/App/spark/python/pyspark/rdd.py\", line 2499, in pipeline_func\n    return func(split, prev_func(split, iterator))\n  File \"/mnt/c/Users/jcojan/App/spark/python/pyspark/rdd.py\", line 2499, in pipeline_func\n    return func(split, prev_func(split, iterator))\n  [Previous line repeated 1 more time]\n  File \"/mnt/c/Users/jcojan/App/spark/python/pyspark/rdd.py\", line 352, in func\n    return f(iterator)\n  File \"/mnt/c/Users/jcojan/App/spark/python/pyspark/rdd.py\", line 787, in processPartition\n    f(x)\n  File \"/mnt/c/Users/jcojan/App/spark/python/pyspark/util.py\", line 99, in wrapper\n    return f(*args, **kwargs)\n  File \"<ipython-input-37-535477e17bdb>\", line 1, in <lambda>\n  File \"/mnt/c/Users/jcojan/App/spark/python/lib/pyspark.zip/pyspark/accumulators.py\", line 153, in value\n    raise Exception(\"Accumulator.value cannot be accessed inside tasks\")\nException: Accumulator.value cannot be accessed inside tasks\n\n\tat org.apache.spark.api.python.BasePythonRunner$ReaderIterator.handlePythonException(PythonRunner.scala:456)\n\tat org.apache.spark.api.python.PythonRunner$$anon$1.read(PythonRunner.scala:592)\n\tat org.apache.spark.api.python.PythonRunner$$anon$1.read(PythonRunner.scala:575)\n\tat org.apache.spark.api.python.BasePythonRunner$ReaderIterator.hasNext(PythonRunner.scala:410)\n\tat org.apache.spark.InterruptibleIterator.hasNext(InterruptibleIterator.scala:37)\n\tat scala.collection.Iterator$class.foreach(Iterator.scala:891)\n\tat org.apache.spark.InterruptibleIterator.foreach(InterruptibleIterator.scala:28)\n\tat scala.collection.generic.Growable$class.$plus$plus$eq(Growable.scala:59)\n\tat scala.collection.mutable.ArrayBuffer.$plus$plus$eq(ArrayBuffer.scala:104)\n\tat scala.collection.mutable.ArrayBuffer.$plus$plus$eq(ArrayBuffer.scala:48)\n\tat scala.collection.TraversableOnce$class.to(TraversableOnce.scala:310)\n\tat org.apache.spark.InterruptibleIterator.to(InterruptibleIterator.scala:28)\n\tat scala.collection.TraversableOnce$class.toBuffer(TraversableOnce.scala:302)\n\tat org.apache.spark.InterruptibleIterator.toBuffer(InterruptibleIterator.scala:28)\n\tat scala.collection.TraversableOnce$class.toArray(TraversableOnce.scala:289)\n\tat org.apache.spark.InterruptibleIterator.toArray(InterruptibleIterator.scala:28)\n\tat org.apache.spark.rdd.RDD$$anonfun$collect$1$$anonfun$13.apply(RDD.scala:945)\n\tat org.apache.spark.rdd.RDD$$anonfun$collect$1$$anonfun$13.apply(RDD.scala:945)\n\tat org.apache.spark.SparkContext$$anonfun$runJob$5.apply(SparkContext.scala:2101)\n\tat org.apache.spark.SparkContext$$anonfun$runJob$5.apply(SparkContext.scala:2101)\n\tat org.apache.spark.scheduler.ResultTask.runTask(ResultTask.scala:90)\n\tat org.apache.spark.scheduler.Task.run(Task.scala:123)\n\tat org.apache.spark.executor.Executor$TaskRunner$$anonfun$10.apply(Executor.scala:408)\n\tat org.apache.spark.util.Utils$.tryWithSafeFinally(Utils.scala:1360)\n\tat org.apache.spark.executor.Executor$TaskRunner.run(Executor.scala:414)\n\tat java.util.concurrent.ThreadPoolExecutor.runWorker(ThreadPoolExecutor.java:1149)\n\tat java.util.concurrent.ThreadPoolExecutor$Worker.run(ThreadPoolExecutor.java:624)\n\t... 1 more\n",
     "output_type": "error",
     "traceback": [
      "\u001b[0;31m---------------------------------------------------------------------------\u001b[0m",
      "\u001b[0;31mPy4JJavaError\u001b[0m                             Traceback (most recent call last)",
      "\u001b[0;32m<ipython-input-37-535477e17bdb>\u001b[0m in \u001b[0;36m<module>\u001b[0;34m\u001b[0m\n\u001b[0;32m----> 1\u001b[0;31m \u001b[0mrdd_couple\u001b[0m\u001b[0;34m.\u001b[0m\u001b[0mforeach\u001b[0m\u001b[0;34m(\u001b[0m\u001b[0;32mlambda\u001b[0m \u001b[0mx\u001b[0m\u001b[0;34m:\u001b[0m \u001b[0macc\u001b[0m\u001b[0;34m.\u001b[0m\u001b[0mvalue\u001b[0m\u001b[0;34m)\u001b[0m\u001b[0;34m\u001b[0m\u001b[0;34m\u001b[0m\u001b[0m\n\u001b[0m",
      "\u001b[0;32m/mnt/c/Users/jcojan/App/spark/python/pyspark/rdd.py\u001b[0m in \u001b[0;36mforeach\u001b[0;34m(self, f)\u001b[0m\n\u001b[1;32m    787\u001b[0m                 \u001b[0mf\u001b[0m\u001b[0;34m(\u001b[0m\u001b[0mx\u001b[0m\u001b[0;34m)\u001b[0m\u001b[0;34m\u001b[0m\u001b[0;34m\u001b[0m\u001b[0m\n\u001b[1;32m    788\u001b[0m             \u001b[0;32mreturn\u001b[0m \u001b[0miter\u001b[0m\u001b[0;34m(\u001b[0m\u001b[0;34m[\u001b[0m\u001b[0;34m]\u001b[0m\u001b[0;34m)\u001b[0m\u001b[0;34m\u001b[0m\u001b[0;34m\u001b[0m\u001b[0m\n\u001b[0;32m--> 789\u001b[0;31m         \u001b[0mself\u001b[0m\u001b[0;34m.\u001b[0m\u001b[0mmapPartitions\u001b[0m\u001b[0;34m(\u001b[0m\u001b[0mprocessPartition\u001b[0m\u001b[0;34m)\u001b[0m\u001b[0;34m.\u001b[0m\u001b[0mcount\u001b[0m\u001b[0;34m(\u001b[0m\u001b[0;34m)\u001b[0m  \u001b[0;31m# Force evaluation\u001b[0m\u001b[0;34m\u001b[0m\u001b[0;34m\u001b[0m\u001b[0m\n\u001b[0m\u001b[1;32m    790\u001b[0m \u001b[0;34m\u001b[0m\u001b[0m\n\u001b[1;32m    791\u001b[0m     \u001b[0;32mdef\u001b[0m \u001b[0mforeachPartition\u001b[0m\u001b[0;34m(\u001b[0m\u001b[0mself\u001b[0m\u001b[0;34m,\u001b[0m \u001b[0mf\u001b[0m\u001b[0;34m)\u001b[0m\u001b[0;34m:\u001b[0m\u001b[0;34m\u001b[0m\u001b[0;34m\u001b[0m\u001b[0m\n",
      "\u001b[0;32m/mnt/c/Users/jcojan/App/spark/python/pyspark/rdd.py\u001b[0m in \u001b[0;36mcount\u001b[0;34m(self)\u001b[0m\n\u001b[1;32m   1053\u001b[0m         \u001b[0;36m3\u001b[0m\u001b[0;34m\u001b[0m\u001b[0;34m\u001b[0m\u001b[0m\n\u001b[1;32m   1054\u001b[0m         \"\"\"\n\u001b[0;32m-> 1055\u001b[0;31m         \u001b[0;32mreturn\u001b[0m \u001b[0mself\u001b[0m\u001b[0;34m.\u001b[0m\u001b[0mmapPartitions\u001b[0m\u001b[0;34m(\u001b[0m\u001b[0;32mlambda\u001b[0m \u001b[0mi\u001b[0m\u001b[0;34m:\u001b[0m \u001b[0;34m[\u001b[0m\u001b[0msum\u001b[0m\u001b[0;34m(\u001b[0m\u001b[0;36m1\u001b[0m \u001b[0;32mfor\u001b[0m \u001b[0m_\u001b[0m \u001b[0;32min\u001b[0m \u001b[0mi\u001b[0m\u001b[0;34m)\u001b[0m\u001b[0;34m]\u001b[0m\u001b[0;34m)\u001b[0m\u001b[0;34m.\u001b[0m\u001b[0msum\u001b[0m\u001b[0;34m(\u001b[0m\u001b[0;34m)\u001b[0m\u001b[0;34m\u001b[0m\u001b[0;34m\u001b[0m\u001b[0m\n\u001b[0m\u001b[1;32m   1056\u001b[0m \u001b[0;34m\u001b[0m\u001b[0m\n\u001b[1;32m   1057\u001b[0m     \u001b[0;32mdef\u001b[0m \u001b[0mstats\u001b[0m\u001b[0;34m(\u001b[0m\u001b[0mself\u001b[0m\u001b[0;34m)\u001b[0m\u001b[0;34m:\u001b[0m\u001b[0;34m\u001b[0m\u001b[0;34m\u001b[0m\u001b[0m\n",
      "\u001b[0;32m/mnt/c/Users/jcojan/App/spark/python/pyspark/rdd.py\u001b[0m in \u001b[0;36msum\u001b[0;34m(self)\u001b[0m\n\u001b[1;32m   1044\u001b[0m         \u001b[0;36m6.0\u001b[0m\u001b[0;34m\u001b[0m\u001b[0;34m\u001b[0m\u001b[0m\n\u001b[1;32m   1045\u001b[0m         \"\"\"\n\u001b[0;32m-> 1046\u001b[0;31m         \u001b[0;32mreturn\u001b[0m \u001b[0mself\u001b[0m\u001b[0;34m.\u001b[0m\u001b[0mmapPartitions\u001b[0m\u001b[0;34m(\u001b[0m\u001b[0;32mlambda\u001b[0m \u001b[0mx\u001b[0m\u001b[0;34m:\u001b[0m \u001b[0;34m[\u001b[0m\u001b[0msum\u001b[0m\u001b[0;34m(\u001b[0m\u001b[0mx\u001b[0m\u001b[0;34m)\u001b[0m\u001b[0;34m]\u001b[0m\u001b[0;34m)\u001b[0m\u001b[0;34m.\u001b[0m\u001b[0mfold\u001b[0m\u001b[0;34m(\u001b[0m\u001b[0;36m0\u001b[0m\u001b[0;34m,\u001b[0m \u001b[0moperator\u001b[0m\u001b[0;34m.\u001b[0m\u001b[0madd\u001b[0m\u001b[0;34m)\u001b[0m\u001b[0;34m\u001b[0m\u001b[0;34m\u001b[0m\u001b[0m\n\u001b[0m\u001b[1;32m   1047\u001b[0m \u001b[0;34m\u001b[0m\u001b[0m\n\u001b[1;32m   1048\u001b[0m     \u001b[0;32mdef\u001b[0m \u001b[0mcount\u001b[0m\u001b[0;34m(\u001b[0m\u001b[0mself\u001b[0m\u001b[0;34m)\u001b[0m\u001b[0;34m:\u001b[0m\u001b[0;34m\u001b[0m\u001b[0;34m\u001b[0m\u001b[0m\n",
      "\u001b[0;32m/mnt/c/Users/jcojan/App/spark/python/pyspark/rdd.py\u001b[0m in \u001b[0;36mfold\u001b[0;34m(self, zeroValue, op)\u001b[0m\n\u001b[1;32m    915\u001b[0m         \u001b[0;31m# zeroValue provided to each partition is unique from the one provided\u001b[0m\u001b[0;34m\u001b[0m\u001b[0;34m\u001b[0m\u001b[0;34m\u001b[0m\u001b[0m\n\u001b[1;32m    916\u001b[0m         \u001b[0;31m# to the final reduce call\u001b[0m\u001b[0;34m\u001b[0m\u001b[0;34m\u001b[0m\u001b[0;34m\u001b[0m\u001b[0m\n\u001b[0;32m--> 917\u001b[0;31m         \u001b[0mvals\u001b[0m \u001b[0;34m=\u001b[0m \u001b[0mself\u001b[0m\u001b[0;34m.\u001b[0m\u001b[0mmapPartitions\u001b[0m\u001b[0;34m(\u001b[0m\u001b[0mfunc\u001b[0m\u001b[0;34m)\u001b[0m\u001b[0;34m.\u001b[0m\u001b[0mcollect\u001b[0m\u001b[0;34m(\u001b[0m\u001b[0;34m)\u001b[0m\u001b[0;34m\u001b[0m\u001b[0;34m\u001b[0m\u001b[0m\n\u001b[0m\u001b[1;32m    918\u001b[0m         \u001b[0;32mreturn\u001b[0m \u001b[0mreduce\u001b[0m\u001b[0;34m(\u001b[0m\u001b[0mop\u001b[0m\u001b[0;34m,\u001b[0m \u001b[0mvals\u001b[0m\u001b[0;34m,\u001b[0m \u001b[0mzeroValue\u001b[0m\u001b[0;34m)\u001b[0m\u001b[0;34m\u001b[0m\u001b[0;34m\u001b[0m\u001b[0m\n\u001b[1;32m    919\u001b[0m \u001b[0;34m\u001b[0m\u001b[0m\n",
      "\u001b[0;32m/mnt/c/Users/jcojan/App/spark/python/pyspark/rdd.py\u001b[0m in \u001b[0;36mcollect\u001b[0;34m(self)\u001b[0m\n\u001b[1;32m    814\u001b[0m         \"\"\"\n\u001b[1;32m    815\u001b[0m         \u001b[0;32mwith\u001b[0m \u001b[0mSCCallSiteSync\u001b[0m\u001b[0;34m(\u001b[0m\u001b[0mself\u001b[0m\u001b[0;34m.\u001b[0m\u001b[0mcontext\u001b[0m\u001b[0;34m)\u001b[0m \u001b[0;32mas\u001b[0m \u001b[0mcss\u001b[0m\u001b[0;34m:\u001b[0m\u001b[0;34m\u001b[0m\u001b[0;34m\u001b[0m\u001b[0m\n\u001b[0;32m--> 816\u001b[0;31m             \u001b[0msock_info\u001b[0m \u001b[0;34m=\u001b[0m \u001b[0mself\u001b[0m\u001b[0;34m.\u001b[0m\u001b[0mctx\u001b[0m\u001b[0;34m.\u001b[0m\u001b[0m_jvm\u001b[0m\u001b[0;34m.\u001b[0m\u001b[0mPythonRDD\u001b[0m\u001b[0;34m.\u001b[0m\u001b[0mcollectAndServe\u001b[0m\u001b[0;34m(\u001b[0m\u001b[0mself\u001b[0m\u001b[0;34m.\u001b[0m\u001b[0m_jrdd\u001b[0m\u001b[0;34m.\u001b[0m\u001b[0mrdd\u001b[0m\u001b[0;34m(\u001b[0m\u001b[0;34m)\u001b[0m\u001b[0;34m)\u001b[0m\u001b[0;34m\u001b[0m\u001b[0;34m\u001b[0m\u001b[0m\n\u001b[0m\u001b[1;32m    817\u001b[0m         \u001b[0;32mreturn\u001b[0m \u001b[0mlist\u001b[0m\u001b[0;34m(\u001b[0m\u001b[0m_load_from_socket\u001b[0m\u001b[0;34m(\u001b[0m\u001b[0msock_info\u001b[0m\u001b[0;34m,\u001b[0m \u001b[0mself\u001b[0m\u001b[0;34m.\u001b[0m\u001b[0m_jrdd_deserializer\u001b[0m\u001b[0;34m)\u001b[0m\u001b[0;34m)\u001b[0m\u001b[0;34m\u001b[0m\u001b[0;34m\u001b[0m\u001b[0m\n\u001b[1;32m    818\u001b[0m \u001b[0;34m\u001b[0m\u001b[0m\n",
      "\u001b[0;32m/mnt/c/Users/jcojan/App/spark/python/lib/py4j-0.10.7-src.zip/py4j/java_gateway.py\u001b[0m in \u001b[0;36m__call__\u001b[0;34m(self, *args)\u001b[0m\n\u001b[1;32m   1255\u001b[0m         \u001b[0manswer\u001b[0m \u001b[0;34m=\u001b[0m \u001b[0mself\u001b[0m\u001b[0;34m.\u001b[0m\u001b[0mgateway_client\u001b[0m\u001b[0;34m.\u001b[0m\u001b[0msend_command\u001b[0m\u001b[0;34m(\u001b[0m\u001b[0mcommand\u001b[0m\u001b[0;34m)\u001b[0m\u001b[0;34m\u001b[0m\u001b[0;34m\u001b[0m\u001b[0m\n\u001b[1;32m   1256\u001b[0m         return_value = get_return_value(\n\u001b[0;32m-> 1257\u001b[0;31m             answer, self.gateway_client, self.target_id, self.name)\n\u001b[0m\u001b[1;32m   1258\u001b[0m \u001b[0;34m\u001b[0m\u001b[0m\n\u001b[1;32m   1259\u001b[0m         \u001b[0;32mfor\u001b[0m \u001b[0mtemp_arg\u001b[0m \u001b[0;32min\u001b[0m \u001b[0mtemp_args\u001b[0m\u001b[0;34m:\u001b[0m\u001b[0;34m\u001b[0m\u001b[0;34m\u001b[0m\u001b[0m\n",
      "\u001b[0;32m/mnt/c/Users/jcojan/App/spark/python/pyspark/sql/utils.py\u001b[0m in \u001b[0;36mdeco\u001b[0;34m(*a, **kw)\u001b[0m\n\u001b[1;32m     61\u001b[0m     \u001b[0;32mdef\u001b[0m \u001b[0mdeco\u001b[0m\u001b[0;34m(\u001b[0m\u001b[0;34m*\u001b[0m\u001b[0ma\u001b[0m\u001b[0;34m,\u001b[0m \u001b[0;34m**\u001b[0m\u001b[0mkw\u001b[0m\u001b[0;34m)\u001b[0m\u001b[0;34m:\u001b[0m\u001b[0;34m\u001b[0m\u001b[0;34m\u001b[0m\u001b[0m\n\u001b[1;32m     62\u001b[0m         \u001b[0;32mtry\u001b[0m\u001b[0;34m:\u001b[0m\u001b[0;34m\u001b[0m\u001b[0;34m\u001b[0m\u001b[0m\n\u001b[0;32m---> 63\u001b[0;31m             \u001b[0;32mreturn\u001b[0m \u001b[0mf\u001b[0m\u001b[0;34m(\u001b[0m\u001b[0;34m*\u001b[0m\u001b[0ma\u001b[0m\u001b[0;34m,\u001b[0m \u001b[0;34m**\u001b[0m\u001b[0mkw\u001b[0m\u001b[0;34m)\u001b[0m\u001b[0;34m\u001b[0m\u001b[0;34m\u001b[0m\u001b[0m\n\u001b[0m\u001b[1;32m     64\u001b[0m         \u001b[0;32mexcept\u001b[0m \u001b[0mpy4j\u001b[0m\u001b[0;34m.\u001b[0m\u001b[0mprotocol\u001b[0m\u001b[0;34m.\u001b[0m\u001b[0mPy4JJavaError\u001b[0m \u001b[0;32mas\u001b[0m \u001b[0me\u001b[0m\u001b[0;34m:\u001b[0m\u001b[0;34m\u001b[0m\u001b[0;34m\u001b[0m\u001b[0m\n\u001b[1;32m     65\u001b[0m             \u001b[0ms\u001b[0m \u001b[0;34m=\u001b[0m \u001b[0me\u001b[0m\u001b[0;34m.\u001b[0m\u001b[0mjava_exception\u001b[0m\u001b[0;34m.\u001b[0m\u001b[0mtoString\u001b[0m\u001b[0;34m(\u001b[0m\u001b[0;34m)\u001b[0m\u001b[0;34m\u001b[0m\u001b[0;34m\u001b[0m\u001b[0m\n",
      "\u001b[0;32m/mnt/c/Users/jcojan/App/spark/python/lib/py4j-0.10.7-src.zip/py4j/protocol.py\u001b[0m in \u001b[0;36mget_return_value\u001b[0;34m(answer, gateway_client, target_id, name)\u001b[0m\n\u001b[1;32m    326\u001b[0m                 raise Py4JJavaError(\n\u001b[1;32m    327\u001b[0m                     \u001b[0;34m\"An error occurred while calling {0}{1}{2}.\\n\"\u001b[0m\u001b[0;34m.\u001b[0m\u001b[0;34m\u001b[0m\u001b[0;34m\u001b[0m\u001b[0m\n\u001b[0;32m--> 328\u001b[0;31m                     format(target_id, \".\", name), value)\n\u001b[0m\u001b[1;32m    329\u001b[0m             \u001b[0;32melse\u001b[0m\u001b[0;34m:\u001b[0m\u001b[0;34m\u001b[0m\u001b[0;34m\u001b[0m\u001b[0m\n\u001b[1;32m    330\u001b[0m                 raise Py4JError(\n",
      "\u001b[0;31mPy4JJavaError\u001b[0m: An error occurred while calling z:org.apache.spark.api.python.PythonRDD.collectAndServe.\n: org.apache.spark.SparkException: Job aborted due to stage failure: Task 0 in stage 44.0 failed 1 times, most recent failure: Lost task 0.0 in stage 44.0 (TID 52, localhost, executor driver): org.apache.spark.api.python.PythonException: Traceback (most recent call last):\n  File \"/mnt/c/Users/jcojan/App/spark/python/lib/pyspark.zip/pyspark/worker.py\", line 377, in main\n    process()\n  File \"/mnt/c/Users/jcojan/App/spark/python/lib/pyspark.zip/pyspark/worker.py\", line 372, in process\n    serializer.dump_stream(func(split_index, iterator), outfile)\n  File \"/mnt/c/Users/jcojan/App/spark/python/pyspark/rdd.py\", line 2499, in pipeline_func\n    return func(split, prev_func(split, iterator))\n  File \"/mnt/c/Users/jcojan/App/spark/python/pyspark/rdd.py\", line 2499, in pipeline_func\n    return func(split, prev_func(split, iterator))\n  File \"/mnt/c/Users/jcojan/App/spark/python/pyspark/rdd.py\", line 2499, in pipeline_func\n    return func(split, prev_func(split, iterator))\n  [Previous line repeated 1 more time]\n  File \"/mnt/c/Users/jcojan/App/spark/python/pyspark/rdd.py\", line 352, in func\n    return f(iterator)\n  File \"/mnt/c/Users/jcojan/App/spark/python/pyspark/rdd.py\", line 787, in processPartition\n    f(x)\n  File \"/mnt/c/Users/jcojan/App/spark/python/pyspark/util.py\", line 99, in wrapper\n    return f(*args, **kwargs)\n  File \"<ipython-input-37-535477e17bdb>\", line 1, in <lambda>\n  File \"/mnt/c/Users/jcojan/App/spark/python/lib/pyspark.zip/pyspark/accumulators.py\", line 153, in value\n    raise Exception(\"Accumulator.value cannot be accessed inside tasks\")\nException: Accumulator.value cannot be accessed inside tasks\n\n\tat org.apache.spark.api.python.BasePythonRunner$ReaderIterator.handlePythonException(PythonRunner.scala:456)\n\tat org.apache.spark.api.python.PythonRunner$$anon$1.read(PythonRunner.scala:592)\n\tat org.apache.spark.api.python.PythonRunner$$anon$1.read(PythonRunner.scala:575)\n\tat org.apache.spark.api.python.BasePythonRunner$ReaderIterator.hasNext(PythonRunner.scala:410)\n\tat org.apache.spark.InterruptibleIterator.hasNext(InterruptibleIterator.scala:37)\n\tat scala.collection.Iterator$class.foreach(Iterator.scala:891)\n\tat org.apache.spark.InterruptibleIterator.foreach(InterruptibleIterator.scala:28)\n\tat scala.collection.generic.Growable$class.$plus$plus$eq(Growable.scala:59)\n\tat scala.collection.mutable.ArrayBuffer.$plus$plus$eq(ArrayBuffer.scala:104)\n\tat scala.collection.mutable.ArrayBuffer.$plus$plus$eq(ArrayBuffer.scala:48)\n\tat scala.collection.TraversableOnce$class.to(TraversableOnce.scala:310)\n\tat org.apache.spark.InterruptibleIterator.to(InterruptibleIterator.scala:28)\n\tat scala.collection.TraversableOnce$class.toBuffer(TraversableOnce.scala:302)\n\tat org.apache.spark.InterruptibleIterator.toBuffer(InterruptibleIterator.scala:28)\n\tat scala.collection.TraversableOnce$class.toArray(TraversableOnce.scala:289)\n\tat org.apache.spark.InterruptibleIterator.toArray(InterruptibleIterator.scala:28)\n\tat org.apache.spark.rdd.RDD$$anonfun$collect$1$$anonfun$13.apply(RDD.scala:945)\n\tat org.apache.spark.rdd.RDD$$anonfun$collect$1$$anonfun$13.apply(RDD.scala:945)\n\tat org.apache.spark.SparkContext$$anonfun$runJob$5.apply(SparkContext.scala:2101)\n\tat org.apache.spark.SparkContext$$anonfun$runJob$5.apply(SparkContext.scala:2101)\n\tat org.apache.spark.scheduler.ResultTask.runTask(ResultTask.scala:90)\n\tat org.apache.spark.scheduler.Task.run(Task.scala:123)\n\tat org.apache.spark.executor.Executor$TaskRunner$$anonfun$10.apply(Executor.scala:408)\n\tat org.apache.spark.util.Utils$.tryWithSafeFinally(Utils.scala:1360)\n\tat org.apache.spark.executor.Executor$TaskRunner.run(Executor.scala:414)\n\tat java.util.concurrent.ThreadPoolExecutor.runWorker(ThreadPoolExecutor.java:1149)\n\tat java.util.concurrent.ThreadPoolExecutor$Worker.run(ThreadPoolExecutor.java:624)\n\tat java.lang.Thread.run(Thread.java:748)\n\nDriver stacktrace:\n\tat org.apache.spark.scheduler.DAGScheduler.org$apache$spark$scheduler$DAGScheduler$$failJobAndIndependentStages(DAGScheduler.scala:1889)\n\tat org.apache.spark.scheduler.DAGScheduler$$anonfun$abortStage$1.apply(DAGScheduler.scala:1877)\n\tat org.apache.spark.scheduler.DAGScheduler$$anonfun$abortStage$1.apply(DAGScheduler.scala:1876)\n\tat scala.collection.mutable.ResizableArray$class.foreach(ResizableArray.scala:59)\n\tat scala.collection.mutable.ArrayBuffer.foreach(ArrayBuffer.scala:48)\n\tat org.apache.spark.scheduler.DAGScheduler.abortStage(DAGScheduler.scala:1876)\n\tat org.apache.spark.scheduler.DAGScheduler$$anonfun$handleTaskSetFailed$1.apply(DAGScheduler.scala:926)\n\tat org.apache.spark.scheduler.DAGScheduler$$anonfun$handleTaskSetFailed$1.apply(DAGScheduler.scala:926)\n\tat scala.Option.foreach(Option.scala:257)\n\tat org.apache.spark.scheduler.DAGScheduler.handleTaskSetFailed(DAGScheduler.scala:926)\n\tat org.apache.spark.scheduler.DAGSchedulerEventProcessLoop.doOnReceive(DAGScheduler.scala:2110)\n\tat org.apache.spark.scheduler.DAGSchedulerEventProcessLoop.onReceive(DAGScheduler.scala:2059)\n\tat org.apache.spark.scheduler.DAGSchedulerEventProcessLoop.onReceive(DAGScheduler.scala:2048)\n\tat org.apache.spark.util.EventLoop$$anon$1.run(EventLoop.scala:49)\n\tat org.apache.spark.scheduler.DAGScheduler.runJob(DAGScheduler.scala:737)\n\tat org.apache.spark.SparkContext.runJob(SparkContext.scala:2061)\n\tat org.apache.spark.SparkContext.runJob(SparkContext.scala:2082)\n\tat org.apache.spark.SparkContext.runJob(SparkContext.scala:2101)\n\tat org.apache.spark.SparkContext.runJob(SparkContext.scala:2126)\n\tat org.apache.spark.rdd.RDD$$anonfun$collect$1.apply(RDD.scala:945)\n\tat org.apache.spark.rdd.RDDOperationScope$.withScope(RDDOperationScope.scala:151)\n\tat org.apache.spark.rdd.RDDOperationScope$.withScope(RDDOperationScope.scala:112)\n\tat org.apache.spark.rdd.RDD.withScope(RDD.scala:363)\n\tat org.apache.spark.rdd.RDD.collect(RDD.scala:944)\n\tat org.apache.spark.api.python.PythonRDD$.collectAndServe(PythonRDD.scala:166)\n\tat org.apache.spark.api.python.PythonRDD.collectAndServe(PythonRDD.scala)\n\tat sun.reflect.NativeMethodAccessorImpl.invoke0(Native Method)\n\tat sun.reflect.NativeMethodAccessorImpl.invoke(NativeMethodAccessorImpl.java:62)\n\tat sun.reflect.DelegatingMethodAccessorImpl.invoke(DelegatingMethodAccessorImpl.java:43)\n\tat java.lang.reflect.Method.invoke(Method.java:498)\n\tat py4j.reflection.MethodInvoker.invoke(MethodInvoker.java:244)\n\tat py4j.reflection.ReflectionEngine.invoke(ReflectionEngine.java:357)\n\tat py4j.Gateway.invoke(Gateway.java:282)\n\tat py4j.commands.AbstractCommand.invokeMethod(AbstractCommand.java:132)\n\tat py4j.commands.CallCommand.execute(CallCommand.java:79)\n\tat py4j.GatewayConnection.run(GatewayConnection.java:238)\n\tat java.lang.Thread.run(Thread.java:748)\nCaused by: org.apache.spark.api.python.PythonException: Traceback (most recent call last):\n  File \"/mnt/c/Users/jcojan/App/spark/python/lib/pyspark.zip/pyspark/worker.py\", line 377, in main\n    process()\n  File \"/mnt/c/Users/jcojan/App/spark/python/lib/pyspark.zip/pyspark/worker.py\", line 372, in process\n    serializer.dump_stream(func(split_index, iterator), outfile)\n  File \"/mnt/c/Users/jcojan/App/spark/python/pyspark/rdd.py\", line 2499, in pipeline_func\n    return func(split, prev_func(split, iterator))\n  File \"/mnt/c/Users/jcojan/App/spark/python/pyspark/rdd.py\", line 2499, in pipeline_func\n    return func(split, prev_func(split, iterator))\n  File \"/mnt/c/Users/jcojan/App/spark/python/pyspark/rdd.py\", line 2499, in pipeline_func\n    return func(split, prev_func(split, iterator))\n  [Previous line repeated 1 more time]\n  File \"/mnt/c/Users/jcojan/App/spark/python/pyspark/rdd.py\", line 352, in func\n    return f(iterator)\n  File \"/mnt/c/Users/jcojan/App/spark/python/pyspark/rdd.py\", line 787, in processPartition\n    f(x)\n  File \"/mnt/c/Users/jcojan/App/spark/python/pyspark/util.py\", line 99, in wrapper\n    return f(*args, **kwargs)\n  File \"<ipython-input-37-535477e17bdb>\", line 1, in <lambda>\n  File \"/mnt/c/Users/jcojan/App/spark/python/lib/pyspark.zip/pyspark/accumulators.py\", line 153, in value\n    raise Exception(\"Accumulator.value cannot be accessed inside tasks\")\nException: Accumulator.value cannot be accessed inside tasks\n\n\tat org.apache.spark.api.python.BasePythonRunner$ReaderIterator.handlePythonException(PythonRunner.scala:456)\n\tat org.apache.spark.api.python.PythonRunner$$anon$1.read(PythonRunner.scala:592)\n\tat org.apache.spark.api.python.PythonRunner$$anon$1.read(PythonRunner.scala:575)\n\tat org.apache.spark.api.python.BasePythonRunner$ReaderIterator.hasNext(PythonRunner.scala:410)\n\tat org.apache.spark.InterruptibleIterator.hasNext(InterruptibleIterator.scala:37)\n\tat scala.collection.Iterator$class.foreach(Iterator.scala:891)\n\tat org.apache.spark.InterruptibleIterator.foreach(InterruptibleIterator.scala:28)\n\tat scala.collection.generic.Growable$class.$plus$plus$eq(Growable.scala:59)\n\tat scala.collection.mutable.ArrayBuffer.$plus$plus$eq(ArrayBuffer.scala:104)\n\tat scala.collection.mutable.ArrayBuffer.$plus$plus$eq(ArrayBuffer.scala:48)\n\tat scala.collection.TraversableOnce$class.to(TraversableOnce.scala:310)\n\tat org.apache.spark.InterruptibleIterator.to(InterruptibleIterator.scala:28)\n\tat scala.collection.TraversableOnce$class.toBuffer(TraversableOnce.scala:302)\n\tat org.apache.spark.InterruptibleIterator.toBuffer(InterruptibleIterator.scala:28)\n\tat scala.collection.TraversableOnce$class.toArray(TraversableOnce.scala:289)\n\tat org.apache.spark.InterruptibleIterator.toArray(InterruptibleIterator.scala:28)\n\tat org.apache.spark.rdd.RDD$$anonfun$collect$1$$anonfun$13.apply(RDD.scala:945)\n\tat org.apache.spark.rdd.RDD$$anonfun$collect$1$$anonfun$13.apply(RDD.scala:945)\n\tat org.apache.spark.SparkContext$$anonfun$runJob$5.apply(SparkContext.scala:2101)\n\tat org.apache.spark.SparkContext$$anonfun$runJob$5.apply(SparkContext.scala:2101)\n\tat org.apache.spark.scheduler.ResultTask.runTask(ResultTask.scala:90)\n\tat org.apache.spark.scheduler.Task.run(Task.scala:123)\n\tat org.apache.spark.executor.Executor$TaskRunner$$anonfun$10.apply(Executor.scala:408)\n\tat org.apache.spark.util.Utils$.tryWithSafeFinally(Utils.scala:1360)\n\tat org.apache.spark.executor.Executor$TaskRunner.run(Executor.scala:414)\n\tat java.util.concurrent.ThreadPoolExecutor.runWorker(ThreadPoolExecutor.java:1149)\n\tat java.util.concurrent.ThreadPoolExecutor$Worker.run(ThreadPoolExecutor.java:624)\n\t... 1 more\n"
     ]
    }
   ],
   "source": [
    "rdd_couple.foreach(lambda x: acc.value)"
   ]
  },
  {
   "cell_type": "code",
   "execution_count": null,
   "metadata": {},
   "outputs": [],
   "source": [
    "list_nt = sc.parallelize(range(1,100))"
   ]
  },
  {
   "cell_type": "code",
   "execution_count": null,
   "metadata": {},
   "outputs": [],
   "source": [
    "list_nt.foreach(lambda x: acc.add(1))"
   ]
  },
  {
   "cell_type": "code",
   "execution_count": null,
   "metadata": {},
   "outputs": [],
   "source": [
    "acc.value"
   ]
  },
  {
   "cell_type": "markdown",
   "metadata": {},
   "source": [
    "# Broadcast"
   ]
  },
  {
   "cell_type": "code",
   "execution_count": 46,
   "metadata": {},
   "outputs": [],
   "source": [
    "otra_lista = [\"the\",\"system\"]"
   ]
  },
  {
   "cell_type": "code",
   "execution_count": 43,
   "metadata": {},
   "outputs": [],
   "source": [
    "brands = sc.broadcast([\"Apache\", \"Spark\", \"License\", \"AWS\"])"
   ]
  },
  {
   "cell_type": "code",
   "execution_count": 47,
   "metadata": {},
   "outputs": [],
   "source": [
    "words_pairs3 = rdd_words\\\n",
    "    .filter(lambda x: x in otra_lista)\\\n",
    "    .map(initiate)"
   ]
  },
  {
   "cell_type": "code",
   "execution_count": 48,
   "metadata": {},
   "outputs": [
    {
     "data": {
      "text/plain": [
       "defaultdict(int, {'the': 103})"
      ]
     },
     "execution_count": 48,
     "metadata": {},
     "output_type": "execute_result"
    }
   ],
   "source": [
    "words_pairs3.countByKey()"
   ]
  },
  {
   "cell_type": "code",
   "execution_count": null,
   "metadata": {},
   "outputs": [],
   "source": [
    "br_ints = sc.broadcast([3,5])"
   ]
  },
  {
   "cell_type": "code",
   "execution_count": null,
   "metadata": {},
   "outputs": [],
   "source": [
    "list_nt.filter(lambda x: all([x % i == 0 for i in br_ints.value])).collect()"
   ]
  },
  {
   "cell_type": "markdown",
   "metadata": {},
   "source": [
    "# Analysis on numerical RDDs"
   ]
  },
  {
   "cell_type": "code",
   "execution_count": null,
   "metadata": {},
   "outputs": [],
   "source": [
    "import random"
   ]
  },
  {
   "cell_type": "code",
   "execution_count": null,
   "metadata": {},
   "outputs": [],
   "source": [
    "rdd2 = sc.parallelize([random.randint(0,10) for _ in range(25)])"
   ]
  },
  {
   "cell_type": "code",
   "execution_count": null,
   "metadata": {},
   "outputs": [],
   "source": [
    "rdd2.stats()"
   ]
  },
  {
   "cell_type": "code",
   "execution_count": null,
   "metadata": {},
   "outputs": [],
   "source": [
    "rdd2.histogram(5)"
   ]
  },
  {
   "cell_type": "markdown",
   "metadata": {},
   "source": [
    "# Partitions"
   ]
  },
  {
   "cell_type": "code",
   "execution_count": null,
   "metadata": {},
   "outputs": [],
   "source": [
    "rdd2.getNumPartitions()"
   ]
  },
  {
   "cell_type": "code",
   "execution_count": null,
   "metadata": {},
   "outputs": [],
   "source": [
    "def printList(l): print('['+ ','.join([str(i) for i in l]) + ']')\n",
    "rdd.foreachPartition(printList) # actually printing on stout of the "
   ]
  },
  {
   "cell_type": "code",
   "execution_count": null,
   "metadata": {},
   "outputs": [],
   "source": [
    "#def collectList(iterator): return list(iterator)\n",
    "def collectList(iterator): yield list(iterator)\n",
    "#rdd.mapPartitions(lambda i: list(i)).take(3)\n",
    "rdd2.mapPartitions(collectList).collect()"
   ]
  },
  {
   "cell_type": "code",
   "execution_count": null,
   "metadata": {
    "scrolled": true
   },
   "outputs": [],
   "source": [
    "# there is a predefined function to do that: glom()\n",
    "rdd2.glom().collect()"
   ]
  },
  {
   "cell_type": "code",
   "execution_count": null,
   "metadata": {},
   "outputs": [],
   "source": [
    "def lenIter(iterator): yield sum(1 for x in iterator)\n",
    "#def lenIter(iterator): return sum(1 for x in iterator)\n",
    "rdd2.mapPartitions(lenIter).collect()"
   ]
  },
  {
   "cell_type": "code",
   "execution_count": null,
   "metadata": {},
   "outputs": [],
   "source": [
    "print(str(rdd2.coalesce(2).glom().toDebugString()).replace('\\\\n','\\n'))\n",
    "rdd2.coalesce(2).glom().collect()"
   ]
  },
  {
   "cell_type": "code",
   "execution_count": null,
   "metadata": {},
   "outputs": [],
   "source": [
    "rdd2.coalesce(6).glom().collect()"
   ]
  },
  {
   "cell_type": "code",
   "execution_count": null,
   "metadata": {},
   "outputs": [],
   "source": [
    "print(str(rdd2.repartition(2).glom().toDebugString()).replace('\\\\n','\\n'))\n",
    "rdd2.repartition(2).glom().collect()"
   ]
  },
  {
   "cell_type": "code",
   "execution_count": null,
   "metadata": {},
   "outputs": [],
   "source": [
    "rdd2.repartition(6).glom().collect()"
   ]
  },
  {
   "cell_type": "code",
   "execution_count": null,
   "metadata": {
    "scrolled": true
   },
   "outputs": [],
   "source": [
    "rdd2.map(lambda x: (x%6, x)).partitionBy(6).glom().collect()\n",
    "# idem as rdd.map(lambda x: (x,x)).partitionBy(6, partitionFunc=(lambda x: x%6)).glom().collect()"
   ]
  },
  {
   "cell_type": "markdown",
   "metadata": {},
   "source": [
    "# Persistance"
   ]
  },
  {
   "cell_type": "code",
   "execution_count": null,
   "metadata": {},
   "outputs": [],
   "source": [
    "rdd3 = sc.parallelize([random.randint(0,10) for _ in range(50)])\\\n",
    "    .map(lambda x: (x%5, x)).cache() #.checkpoint()"
   ]
  },
  {
   "cell_type": "code",
   "execution_count": null,
   "metadata": {},
   "outputs": [],
   "source": [
    "grps = rdd3.groupByKey()"
   ]
  },
  {
   "cell_type": "code",
   "execution_count": null,
   "metadata": {},
   "outputs": [],
   "source": [
    "grps.count()"
   ]
  },
  {
   "cell_type": "code",
   "execution_count": null,
   "metadata": {},
   "outputs": [],
   "source": [
    "grps.mapValues(lambda l: [x for x in l]).collect()"
   ]
  },
  {
   "cell_type": "code",
   "execution_count": 2,
   "metadata": {},
   "outputs": [],
   "source": [
    "import random"
   ]
  },
  {
   "cell_type": "code",
   "execution_count": 3,
   "metadata": {},
   "outputs": [],
   "source": [
    "list = random.sample(range(1, 100), 50)\n",
    "listrdd = sc.parallelize(list, 5)\n",
    "\n"
   ]
  },
  {
   "cell_type": "code",
   "execution_count": 4,
   "metadata": {
    "scrolled": true
   },
   "outputs": [
    {
     "data": {
      "text/plain": [
       "[72,\n",
       " 62,\n",
       " 88,\n",
       " 46,\n",
       " 84,\n",
       " 93,\n",
       " 76,\n",
       " 97,\n",
       " 43,\n",
       " 81,\n",
       " 40,\n",
       " 8,\n",
       " 95,\n",
       " 29,\n",
       " 86,\n",
       " 83,\n",
       " 75,\n",
       " 19,\n",
       " 28,\n",
       " 10,\n",
       " 45,\n",
       " 9,\n",
       " 4,\n",
       " 61,\n",
       " 37,\n",
       " 89,\n",
       " 57,\n",
       " 23,\n",
       " 53,\n",
       " 15,\n",
       " 17,\n",
       " 34,\n",
       " 68,\n",
       " 31,\n",
       " 52,\n",
       " 30,\n",
       " 55,\n",
       " 36,\n",
       " 13,\n",
       " 11,\n",
       " 20,\n",
       " 2,\n",
       " 77,\n",
       " 21,\n",
       " 99,\n",
       " 90,\n",
       " 58,\n",
       " 1,\n",
       " 50,\n",
       " 25]"
      ]
     },
     "execution_count": 4,
     "metadata": {},
     "output_type": "execute_result"
    }
   ],
   "source": [
    "listrdd.collect()"
   ]
  },
  {
   "cell_type": "code",
   "execution_count": 5,
   "metadata": {
    "scrolled": true
   },
   "outputs": [
    {
     "data": {
      "text/plain": [
       "[(72, 5184),\n",
       " (62, 3844),\n",
       " (88, 7744),\n",
       " (46, 2116),\n",
       " (84, 7056),\n",
       " (93, 8649),\n",
       " (76, 5776),\n",
       " (97, 9409),\n",
       " (43, 1849),\n",
       " (81, 6561),\n",
       " (40, 1600),\n",
       " (8, 64),\n",
       " (95, 9025),\n",
       " (29, 841),\n",
       " (86, 7396),\n",
       " (83, 6889),\n",
       " (75, 5625),\n",
       " (19, 361),\n",
       " (28, 784),\n",
       " (10, 100),\n",
       " (45, 2025),\n",
       " (9, 81),\n",
       " (4, 16),\n",
       " (61, 3721),\n",
       " (37, 1369),\n",
       " (89, 7921),\n",
       " (57, 3249),\n",
       " (23, 529),\n",
       " (53, 2809),\n",
       " (15, 225),\n",
       " (17, 289),\n",
       " (34, 1156),\n",
       " (68, 4624),\n",
       " (31, 961),\n",
       " (52, 2704),\n",
       " (30, 900),\n",
       " (55, 3025),\n",
       " (36, 1296),\n",
       " (13, 169),\n",
       " (11, 121),\n",
       " (20, 400),\n",
       " (2, 4),\n",
       " (77, 5929),\n",
       " (21, 441),\n",
       " (99, 9801),\n",
       " (90, 8100),\n",
       " (58, 3364),\n",
       " (1, 1),\n",
       " (50, 2500),\n",
       " (25, 625)]"
      ]
     },
     "execution_count": 5,
     "metadata": {},
     "output_type": "execute_result"
    }
   ],
   "source": [
    "pairs = listrdd.map(lambda x: (x, x*x))\n",
    "pairs.collect()"
   ]
  },
  {
   "cell_type": "code",
   "execution_count": 7,
   "metadata": {},
   "outputs": [
    {
     "data": {
      "text/plain": [
       "[(72, 5184),\n",
       " (88, 7744),\n",
       " (84, 7056),\n",
       " (76, 5776),\n",
       " (40, 1600),\n",
       " (8, 64),\n",
       " (28, 784),\n",
       " (4, 16),\n",
       " (68, 4624),\n",
       " (52, 2704),\n",
       " (36, 1296),\n",
       " (20, 400),\n",
       " (93, 8649),\n",
       " (97, 9409),\n",
       " (81, 6561),\n",
       " (29, 841),\n",
       " (45, 2025),\n",
       " (9, 81),\n",
       " (61, 3721),\n",
       " (37, 1369),\n",
       " (89, 7921),\n",
       " (57, 3249),\n",
       " (53, 2809),\n",
       " (17, 289),\n",
       " (13, 169),\n",
       " (77, 5929),\n",
       " (21, 441),\n",
       " (1, 1),\n",
       " (25, 625),\n",
       " (62, 3844),\n",
       " (46, 2116),\n",
       " (86, 7396),\n",
       " (10, 100),\n",
       " (34, 1156),\n",
       " (30, 900),\n",
       " (2, 4),\n",
       " (90, 8100),\n",
       " (58, 3364),\n",
       " (50, 2500),\n",
       " (43, 1849),\n",
       " (95, 9025),\n",
       " (83, 6889),\n",
       " (75, 5625),\n",
       " (19, 361),\n",
       " (23, 529),\n",
       " (15, 225),\n",
       " (31, 961),\n",
       " (55, 3025),\n",
       " (11, 121),\n",
       " (99, 9801)]"
      ]
     },
     "execution_count": 7,
     "metadata": {},
     "output_type": "execute_result"
    }
   ],
   "source": [
    "reduced = pairs.reduceByKey(lambda v1, v2: v1+v2, 4)\n",
    "reduced.collect()"
   ]
  },
  {
   "cell_type": "code",
   "execution_count": 8,
   "metadata": {
    "scrolled": true
   },
   "outputs": [
    {
     "data": {
      "text/plain": [
       "['K=72,V=5184',\n",
       " 'K=88,V=7744',\n",
       " 'K=84,V=7056',\n",
       " 'K=76,V=5776',\n",
       " 'K=40,V=1600',\n",
       " 'K=8,V=64',\n",
       " 'K=28,V=784',\n",
       " 'K=4,V=16',\n",
       " 'K=68,V=4624',\n",
       " 'K=52,V=2704',\n",
       " 'K=36,V=1296',\n",
       " 'K=20,V=400',\n",
       " 'K=93,V=8649',\n",
       " 'K=97,V=9409',\n",
       " 'K=81,V=6561',\n",
       " 'K=29,V=841',\n",
       " 'K=45,V=2025',\n",
       " 'K=9,V=81',\n",
       " 'K=61,V=3721',\n",
       " 'K=37,V=1369',\n",
       " 'K=89,V=7921',\n",
       " 'K=57,V=3249',\n",
       " 'K=53,V=2809',\n",
       " 'K=17,V=289',\n",
       " 'K=13,V=169',\n",
       " 'K=77,V=5929',\n",
       " 'K=21,V=441',\n",
       " 'K=1,V=1',\n",
       " 'K=25,V=625',\n",
       " 'K=62,V=3844',\n",
       " 'K=46,V=2116',\n",
       " 'K=86,V=7396',\n",
       " 'K=10,V=100',\n",
       " 'K=34,V=1156',\n",
       " 'K=30,V=900',\n",
       " 'K=2,V=4',\n",
       " 'K=90,V=8100',\n",
       " 'K=58,V=3364',\n",
       " 'K=50,V=2500',\n",
       " 'K=43,V=1849',\n",
       " 'K=95,V=9025',\n",
       " 'K=83,V=6889',\n",
       " 'K=75,V=5625',\n",
       " 'K=19,V=361',\n",
       " 'K=23,V=529',\n",
       " 'K=15,V=225',\n",
       " 'K=31,V=961',\n",
       " 'K=55,V=3025',\n",
       " 'K=11,V=121',\n",
       " 'K=99,V=9801']"
      ]
     },
     "execution_count": 8,
     "metadata": {},
     "output_type": "execute_result"
    }
   ],
   "source": [
    "finalrdd = reduced.map(lambda v:\"K={},V={}\".format(v[0],v[1]))\n",
    "finalrdd.collect()"
   ]
  },
  {
   "cell_type": "code",
   "execution_count": null,
   "metadata": {},
   "outputs": [],
   "source": []
  }
 ],
 "metadata": {
  "kernelspec": {
   "display_name": "Python 3",
   "language": "python",
   "name": "python3"
  },
  "language_info": {
   "codemirror_mode": {
    "name": "ipython",
    "version": 3
   },
   "file_extension": ".py",
   "mimetype": "text/x-python",
   "name": "python",
   "nbconvert_exporter": "python",
   "pygments_lexer": "ipython3",
   "version": "3.7.5"
  }
 },
 "nbformat": 4,
 "nbformat_minor": 2
}
