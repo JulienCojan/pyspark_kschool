{
 "cells": [
  {
   "cell_type": "markdown",
   "metadata": {},
   "source": [
    "# Ejemplo de K-means en Spark\n",
    "Adaptado de https://www.bmc.com/blogs/python-spark-k-means-example/"
   ]
  },
  {
   "cell_type": "markdown",
   "metadata": {},
   "source": [
    "## Preparación de datos"
   ]
  },
  {
   "cell_type": "code",
   "execution_count": null,
   "metadata": {},
   "outputs": [],
   "source": [
    "!wget https://archive.ics.uci.edu/ml/machine-learning-databases/statlog/heart/heart.dat -P data/UCI_heart/"
   ]
  },
  {
   "cell_type": "markdown",
   "metadata": {},
   "source": [
    "Documentación (pequeña) de la fuente: https://archive.ics.uci.edu/ml/machine-learning-databases/statlog/heart/heart.doc"
   ]
  },
  {
   "cell_type": "code",
   "execution_count": 1,
   "metadata": {},
   "outputs": [],
   "source": [
    "import pyspark.sql.functions as F\n",
    "from pyspark.sql.types import StructType, StructField, StringType, FloatType"
   ]
  },
  {
   "cell_type": "code",
   "execution_count": 2,
   "metadata": {},
   "outputs": [],
   "source": [
    "cols = ('age',\n",
    "        'sex',\n",
    "        'chest_pain',\n",
    "        'rest_blood_pressure',\n",
    "        'serum_cholestoral',\n",
    "        'fast_blood_sugar',\n",
    "        'rest_ecg_results',\n",
    "        'max_heart_rate',\n",
    "        'exercise_induced_angina',\n",
    "        'exercise_ST_depression',\n",
    "        'slope_peak_exercise_ST_segment',\n",
    "        'nb_major_vessels',\n",
    "        'thal',\n",
    "        'last')\n",
    "# ecg:electrocardiographic"
   ]
  },
  {
   "cell_type": "code",
   "execution_count": 3,
   "metadata": {},
   "outputs": [],
   "source": [
    "schema = StructType([StructField(name, FloatType(), True) for name in cols])"
   ]
  },
  {
   "cell_type": "code",
   "execution_count": 4,
   "metadata": {},
   "outputs": [],
   "source": [
    "df = spark.read.\\\n",
    "    option(\"header\",\"false\").\\\n",
    "    option(\"sep\",\" \").\\\n",
    "    csv(\"data/UCI_heart/heart.dat\", schema=schema) # , sep=\" \""
   ]
  },
  {
   "cell_type": "code",
   "execution_count": 5,
   "metadata": {},
   "outputs": [
    {
     "name": "stdout",
     "output_type": "stream",
     "text": [
      "root\n",
      " |-- age: float (nullable = true)\n",
      " |-- sex: float (nullable = true)\n",
      " |-- chest_pain: float (nullable = true)\n",
      " |-- rest_blood_pressure: float (nullable = true)\n",
      " |-- serum_cholestoral: float (nullable = true)\n",
      " |-- fast_blood_sugar: float (nullable = true)\n",
      " |-- rest_ecg_results: float (nullable = true)\n",
      " |-- max_heart_rate: float (nullable = true)\n",
      " |-- exercise_induced_angina: float (nullable = true)\n",
      " |-- exercise_ST_depression: float (nullable = true)\n",
      " |-- slope_peak_exercise_ST_segment: float (nullable = true)\n",
      " |-- nb_major_vessels: float (nullable = true)\n",
      " |-- thal: float (nullable = true)\n",
      " |-- last: float (nullable = true)\n",
      "\n"
     ]
    }
   ],
   "source": [
    "df.printSchema()"
   ]
  },
  {
   "cell_type": "code",
   "execution_count": 6,
   "metadata": {
    "scrolled": true
   },
   "outputs": [
    {
     "name": "stdout",
     "output_type": "stream",
     "text": [
      "+----+---+----------+-------------------+-----------------+----------------+----------------+--------------+-----------------------+----------------------+------------------------------+----------------+----+----+\n",
      "| age|sex|chest_pain|rest_blood_pressure|serum_cholestoral|fast_blood_sugar|rest_ecg_results|max_heart_rate|exercise_induced_angina|exercise_ST_depression|slope_peak_exercise_ST_segment|nb_major_vessels|thal|last|\n",
      "+----+---+----------+-------------------+-----------------+----------------+----------------+--------------+-----------------------+----------------------+------------------------------+----------------+----+----+\n",
      "|70.0|1.0|       4.0|              130.0|            322.0|             0.0|             2.0|         109.0|                    0.0|                   2.4|                           2.0|             3.0| 3.0| 2.0|\n",
      "|67.0|0.0|       3.0|              115.0|            564.0|             0.0|             2.0|         160.0|                    0.0|                   1.6|                           2.0|             0.0| 7.0| 1.0|\n",
      "|57.0|1.0|       2.0|              124.0|            261.0|             0.0|             0.0|         141.0|                    0.0|                   0.3|                           1.0|             0.0| 7.0| 2.0|\n",
      "|64.0|1.0|       4.0|              128.0|            263.0|             0.0|             0.0|         105.0|                    1.0|                   0.2|                           2.0|             1.0| 7.0| 1.0|\n",
      "|74.0|0.0|       2.0|              120.0|            269.0|             0.0|             2.0|         121.0|                    1.0|                   0.2|                           1.0|             1.0| 3.0| 1.0|\n",
      "|65.0|1.0|       4.0|              120.0|            177.0|             0.0|             0.0|         140.0|                    0.0|                   0.4|                           1.0|             0.0| 7.0| 1.0|\n",
      "|56.0|1.0|       3.0|              130.0|            256.0|             1.0|             2.0|         142.0|                    1.0|                   0.6|                           2.0|             1.0| 6.0| 2.0|\n",
      "|59.0|1.0|       4.0|              110.0|            239.0|             0.0|             2.0|         142.0|                    1.0|                   1.2|                           2.0|             1.0| 7.0| 2.0|\n",
      "|60.0|1.0|       4.0|              140.0|            293.0|             0.0|             2.0|         170.0|                    0.0|                   1.2|                           2.0|             2.0| 7.0| 2.0|\n",
      "|63.0|0.0|       4.0|              150.0|            407.0|             0.0|             2.0|         154.0|                    0.0|                   4.0|                           2.0|             3.0| 7.0| 2.0|\n",
      "|59.0|1.0|       4.0|              135.0|            234.0|             0.0|             0.0|         161.0|                    0.0|                   0.5|                           2.0|             0.0| 7.0| 1.0|\n",
      "|53.0|1.0|       4.0|              142.0|            226.0|             0.0|             2.0|         111.0|                    1.0|                   0.0|                           1.0|             0.0| 7.0| 1.0|\n",
      "|44.0|1.0|       3.0|              140.0|            235.0|             0.0|             2.0|         180.0|                    0.0|                   0.0|                           1.0|             0.0| 3.0| 1.0|\n",
      "|61.0|1.0|       1.0|              134.0|            234.0|             0.0|             0.0|         145.0|                    0.0|                   2.6|                           2.0|             2.0| 3.0| 2.0|\n",
      "|57.0|0.0|       4.0|              128.0|            303.0|             0.0|             2.0|         159.0|                    0.0|                   0.0|                           1.0|             1.0| 3.0| 1.0|\n",
      "|71.0|0.0|       4.0|              112.0|            149.0|             0.0|             0.0|         125.0|                    0.0|                   1.6|                           2.0|             0.0| 3.0| 1.0|\n",
      "|46.0|1.0|       4.0|              140.0|            311.0|             0.0|             0.0|         120.0|                    1.0|                   1.8|                           2.0|             2.0| 7.0| 2.0|\n",
      "|53.0|1.0|       4.0|              140.0|            203.0|             1.0|             2.0|         155.0|                    1.0|                   3.1|                           3.0|             0.0| 7.0| 2.0|\n",
      "|64.0|1.0|       1.0|              110.0|            211.0|             0.0|             2.0|         144.0|                    1.0|                   1.8|                           2.0|             0.0| 3.0| 1.0|\n",
      "|40.0|1.0|       1.0|              140.0|            199.0|             0.0|             0.0|         178.0|                    1.0|                   1.4|                           1.0|             0.0| 7.0| 1.0|\n",
      "+----+---+----------+-------------------+-----------------+----------------+----------------+--------------+-----------------------+----------------------+------------------------------+----------------+----+----+\n",
      "only showing top 20 rows\n",
      "\n"
     ]
    }
   ],
   "source": [
    "df.show()"
   ]
  },
  {
   "cell_type": "code",
   "execution_count": 7,
   "metadata": {},
   "outputs": [],
   "source": [
    "features = ('age',\n",
    "            'sex',\n",
    "            'chest_pain',\n",
    "            'rest_blood_pressure',\n",
    "            'serum_cholestoral',\n",
    "            'fast_blood_sugar',\n",
    "            'rest_ecg_results',\n",
    "            'max_heart_rate',\n",
    "            'exercise_induced_angina',\n",
    "            'exercise_ST_depression',\n",
    "            'slope_peak_exercise_ST_segment',\n",
    "            'nb_major_vessels')"
   ]
  },
  {
   "cell_type": "code",
   "execution_count": 8,
   "metadata": {},
   "outputs": [],
   "source": [
    "from pyspark.ml.feature import VectorAssembler"
   ]
  },
  {
   "cell_type": "code",
   "execution_count": 9,
   "metadata": {},
   "outputs": [],
   "source": [
    "assembler = VectorAssembler(inputCols=features,outputCol=\"features\")"
   ]
  },
  {
   "cell_type": "code",
   "execution_count": 10,
   "metadata": {},
   "outputs": [],
   "source": [
    "dataset=assembler.transform(df)"
   ]
  },
  {
   "cell_type": "code",
   "execution_count": 11,
   "metadata": {},
   "outputs": [
    {
     "name": "stdout",
     "output_type": "stream",
     "text": [
      "+------------------------------------------------------------------------+\n",
      "|features                                                                |\n",
      "+------------------------------------------------------------------------+\n",
      "|[70.0,1.0,4.0,130.0,322.0,0.0,2.0,109.0,0.0,2.4000000953674316,2.0,3.0] |\n",
      "|[67.0,0.0,3.0,115.0,564.0,0.0,2.0,160.0,0.0,1.600000023841858,2.0,0.0]  |\n",
      "|[57.0,1.0,2.0,124.0,261.0,0.0,0.0,141.0,0.0,0.30000001192092896,1.0,0.0]|\n",
      "|[64.0,1.0,4.0,128.0,263.0,0.0,0.0,105.0,1.0,0.20000000298023224,2.0,1.0]|\n",
      "|[74.0,0.0,2.0,120.0,269.0,0.0,2.0,121.0,1.0,0.20000000298023224,1.0,1.0]|\n",
      "|[65.0,1.0,4.0,120.0,177.0,0.0,0.0,140.0,0.0,0.4000000059604645,1.0,0.0] |\n",
      "|[56.0,1.0,3.0,130.0,256.0,1.0,2.0,142.0,1.0,0.6000000238418579,2.0,1.0] |\n",
      "|[59.0,1.0,4.0,110.0,239.0,0.0,2.0,142.0,1.0,1.2000000476837158,2.0,1.0] |\n",
      "|[60.0,1.0,4.0,140.0,293.0,0.0,2.0,170.0,0.0,1.2000000476837158,2.0,2.0] |\n",
      "|[63.0,0.0,4.0,150.0,407.0,0.0,2.0,154.0,0.0,4.0,2.0,3.0]                |\n",
      "|[59.0,1.0,4.0,135.0,234.0,0.0,0.0,161.0,0.0,0.5,2.0,0.0]                |\n",
      "|[53.0,1.0,4.0,142.0,226.0,0.0,2.0,111.0,1.0,0.0,1.0,0.0]                |\n",
      "|[44.0,1.0,3.0,140.0,235.0,0.0,2.0,180.0,0.0,0.0,1.0,0.0]                |\n",
      "|[61.0,1.0,1.0,134.0,234.0,0.0,0.0,145.0,0.0,2.5999999046325684,2.0,2.0] |\n",
      "|[57.0,0.0,4.0,128.0,303.0,0.0,2.0,159.0,0.0,0.0,1.0,1.0]                |\n",
      "|[71.0,0.0,4.0,112.0,149.0,0.0,0.0,125.0,0.0,1.600000023841858,2.0,0.0]  |\n",
      "|[46.0,1.0,4.0,140.0,311.0,0.0,0.0,120.0,1.0,1.7999999523162842,2.0,2.0] |\n",
      "|[53.0,1.0,4.0,140.0,203.0,1.0,2.0,155.0,1.0,3.0999999046325684,3.0,0.0] |\n",
      "|[64.0,1.0,1.0,110.0,211.0,0.0,2.0,144.0,1.0,1.7999999523162842,2.0,0.0] |\n",
      "|[40.0,1.0,1.0,140.0,199.0,0.0,0.0,178.0,1.0,1.399999976158142,1.0,0.0]  |\n",
      "+------------------------------------------------------------------------+\n",
      "only showing top 20 rows\n",
      "\n"
     ]
    }
   ],
   "source": [
    "dataset.select(\"features\").show(truncate=False)"
   ]
  },
  {
   "cell_type": "markdown",
   "metadata": {},
   "source": [
    "## KMeans con k=2"
   ]
  },
  {
   "cell_type": "code",
   "execution_count": 12,
   "metadata": {},
   "outputs": [],
   "source": [
    "from pyspark.ml.evaluation import ClusteringEvaluator\n",
    "from pyspark.ml.clustering import KMeans"
   ]
  },
  {
   "cell_type": "code",
   "execution_count": 13,
   "metadata": {},
   "outputs": [],
   "source": [
    "kmeans = KMeans().setK(2).setSeed(1)\n",
    "model = kmeans.fit(dataset.select(\"features\"))"
   ]
  },
  {
   "cell_type": "code",
   "execution_count": 14,
   "metadata": {},
   "outputs": [],
   "source": [
    "predictions = model.transform(dataset)"
   ]
  },
  {
   "cell_type": "code",
   "execution_count": 15,
   "metadata": {
    "scrolled": true
   },
   "outputs": [
    {
     "name": "stdout",
     "output_type": "stream",
     "text": [
      "+----+---+----------+-------------------+-----------------+----------------+----------------+--------------+-----------------------+----------------------+------------------------------+----------------+----+----+--------------------+----------+\n",
      "| age|sex|chest_pain|rest_blood_pressure|serum_cholestoral|fast_blood_sugar|rest_ecg_results|max_heart_rate|exercise_induced_angina|exercise_ST_depression|slope_peak_exercise_ST_segment|nb_major_vessels|thal|last|            features|prediction|\n",
      "+----+---+----------+-------------------+-----------------+----------------+----------------+--------------+-----------------------+----------------------+------------------------------+----------------+----+----+--------------------+----------+\n",
      "|70.0|1.0|       4.0|              130.0|            322.0|             0.0|             2.0|         109.0|                    0.0|                   2.4|                           2.0|             3.0| 3.0| 2.0|[70.0,1.0,4.0,130...|         1|\n",
      "|67.0|0.0|       3.0|              115.0|            564.0|             0.0|             2.0|         160.0|                    0.0|                   1.6|                           2.0|             0.0| 7.0| 1.0|[67.0,0.0,3.0,115...|         1|\n",
      "|57.0|1.0|       2.0|              124.0|            261.0|             0.0|             0.0|         141.0|                    0.0|                   0.3|                           1.0|             0.0| 7.0| 2.0|[57.0,1.0,2.0,124...|         1|\n",
      "|64.0|1.0|       4.0|              128.0|            263.0|             0.0|             0.0|         105.0|                    1.0|                   0.2|                           2.0|             1.0| 7.0| 1.0|[64.0,1.0,4.0,128...|         1|\n",
      "|74.0|0.0|       2.0|              120.0|            269.0|             0.0|             2.0|         121.0|                    1.0|                   0.2|                           1.0|             1.0| 3.0| 1.0|[74.0,0.0,2.0,120...|         1|\n",
      "|65.0|1.0|       4.0|              120.0|            177.0|             0.0|             0.0|         140.0|                    0.0|                   0.4|                           1.0|             0.0| 7.0| 1.0|[65.0,1.0,4.0,120...|         0|\n",
      "|56.0|1.0|       3.0|              130.0|            256.0|             1.0|             2.0|         142.0|                    1.0|                   0.6|                           2.0|             1.0| 6.0| 2.0|[56.0,1.0,3.0,130...|         0|\n",
      "|59.0|1.0|       4.0|              110.0|            239.0|             0.0|             2.0|         142.0|                    1.0|                   1.2|                           2.0|             1.0| 7.0| 2.0|[59.0,1.0,4.0,110...|         0|\n",
      "|60.0|1.0|       4.0|              140.0|            293.0|             0.0|             2.0|         170.0|                    0.0|                   1.2|                           2.0|             2.0| 7.0| 2.0|[60.0,1.0,4.0,140...|         1|\n",
      "|63.0|0.0|       4.0|              150.0|            407.0|             0.0|             2.0|         154.0|                    0.0|                   4.0|                           2.0|             3.0| 7.0| 2.0|[63.0,0.0,4.0,150...|         1|\n",
      "|59.0|1.0|       4.0|              135.0|            234.0|             0.0|             0.0|         161.0|                    0.0|                   0.5|                           2.0|             0.0| 7.0| 1.0|[59.0,1.0,4.0,135...|         0|\n",
      "|53.0|1.0|       4.0|              142.0|            226.0|             0.0|             2.0|         111.0|                    1.0|                   0.0|                           1.0|             0.0| 7.0| 1.0|[53.0,1.0,4.0,142...|         0|\n",
      "|44.0|1.0|       3.0|              140.0|            235.0|             0.0|             2.0|         180.0|                    0.0|                   0.0|                           1.0|             0.0| 3.0| 1.0|[44.0,1.0,3.0,140...|         0|\n",
      "|61.0|1.0|       1.0|              134.0|            234.0|             0.0|             0.0|         145.0|                    0.0|                   2.6|                           2.0|             2.0| 3.0| 2.0|[61.0,1.0,1.0,134...|         0|\n",
      "|57.0|0.0|       4.0|              128.0|            303.0|             0.0|             2.0|         159.0|                    0.0|                   0.0|                           1.0|             1.0| 3.0| 1.0|[57.0,0.0,4.0,128...|         1|\n",
      "|71.0|0.0|       4.0|              112.0|            149.0|             0.0|             0.0|         125.0|                    0.0|                   1.6|                           2.0|             0.0| 3.0| 1.0|[71.0,0.0,4.0,112...|         0|\n",
      "|46.0|1.0|       4.0|              140.0|            311.0|             0.0|             0.0|         120.0|                    1.0|                   1.8|                           2.0|             2.0| 7.0| 2.0|[46.0,1.0,4.0,140...|         1|\n",
      "|53.0|1.0|       4.0|              140.0|            203.0|             1.0|             2.0|         155.0|                    1.0|                   3.1|                           3.0|             0.0| 7.0| 2.0|[53.0,1.0,4.0,140...|         0|\n",
      "|64.0|1.0|       1.0|              110.0|            211.0|             0.0|             2.0|         144.0|                    1.0|                   1.8|                           2.0|             0.0| 3.0| 1.0|[64.0,1.0,1.0,110...|         0|\n",
      "|40.0|1.0|       1.0|              140.0|            199.0|             0.0|             0.0|         178.0|                    1.0|                   1.4|                           1.0|             0.0| 7.0| 1.0|[40.0,1.0,1.0,140...|         0|\n",
      "+----+---+----------+-------------------+-----------------+----------------+----------------+--------------+-----------------------+----------------------+------------------------------+----------------+----+----+--------------------+----------+\n",
      "only showing top 20 rows\n",
      "\n"
     ]
    }
   ],
   "source": [
    "predictions.show()"
   ]
  },
  {
   "cell_type": "code",
   "execution_count": 16,
   "metadata": {},
   "outputs": [],
   "source": [
    "evaluator = ClusteringEvaluator()"
   ]
  },
  {
   "cell_type": "code",
   "execution_count": 17,
   "metadata": {},
   "outputs": [
    {
     "name": "stdout",
     "output_type": "stream",
     "text": [
      "Silhouette con la distancia euclidiana = 0.570206512687668\n"
     ]
    }
   ],
   "source": [
    "silhouette = evaluator.evaluate(predictions.select(\"features\",\"prediction\"))\n",
    "print(\"Silhouette con la distancia euclidiana = \" + str(silhouette))"
   ]
  },
  {
   "cell_type": "code",
   "execution_count": 18,
   "metadata": {},
   "outputs": [
    {
     "name": "stdout",
     "output_type": "stream",
     "text": [
      "Within Set Sum of Squared Errors = 548301.9823859194\n"
     ]
    }
   ],
   "source": [
    "cost = model.computeCost(dataset) # deprecated (not in Spark 3.0, use model.summary.trainingCost instead)\n",
    "print(\"Within Set Sum of Squared Errors = \" + str(cost)) # suma de distancia^2 entre puntos de cada cluster y su centro"
   ]
  },
  {
   "cell_type": "code",
   "execution_count": 19,
   "metadata": {},
   "outputs": [
    {
     "data": {
      "text/plain": [
       "548301.9823859194"
      ]
     },
     "execution_count": 19,
     "metadata": {},
     "output_type": "execute_result"
    }
   ],
   "source": [
    "model.summary.trainingCost"
   ]
  },
  {
   "cell_type": "code",
   "execution_count": 20,
   "metadata": {},
   "outputs": [
    {
     "data": {
      "text/plain": [
       "[168, 102]"
      ]
     },
     "execution_count": 20,
     "metadata": {},
     "output_type": "execute_result"
    }
   ],
   "source": [
    "model.summary.clusterSizes"
   ]
  },
  {
   "cell_type": "code",
   "execution_count": 21,
   "metadata": {},
   "outputs": [
    {
     "name": "stdout",
     "output_type": "stream",
     "text": [
      "Cluster Centers: \n",
      "[5.29821429e+01 7.44047619e-01 3.12500000e+00 1.28636905e+02\n",
      " 2.19047619e+02 1.48809524e-01 9.22619048e-01 1.52380952e+02\n",
      " 2.85714286e-01 1.02142857e+00 1.57738095e+00 5.77380952e-01]\n",
      "[5.68235294e+01 5.68627451e-01 3.25490196e+00 1.35803922e+02\n",
      " 3.00078431e+02 1.47058824e-01 1.18627451e+00 1.45225490e+02\n",
      " 4.01960784e-01 1.09705882e+00 1.59803922e+00 8.23529412e-01]\n"
     ]
    }
   ],
   "source": [
    "print(\"Cluster Centers: \")\n",
    "ctr=[]\n",
    "centers = model.clusterCenters()\n",
    "for center in centers:\n",
    "    ctr.append(center)\n",
    "    print(center)"
   ]
  },
  {
   "cell_type": "markdown",
   "metadata": {},
   "source": [
    "## Probando varios valores de k"
   ]
  },
  {
   "cell_type": "markdown",
   "metadata": {},
   "source": [
    "### Con la metrica de Silhouette"
   ]
  },
  {
   "cell_type": "code",
   "execution_count": 22,
   "metadata": {},
   "outputs": [],
   "source": [
    "silhouettes = []"
   ]
  },
  {
   "cell_type": "code",
   "execution_count": 23,
   "metadata": {},
   "outputs": [],
   "source": [
    "for k in range(2, 6):\n",
    "    kmeans = KMeans().setK(k).setSeed(1)\n",
    "    model = kmeans.fit(dataset.select(\"features\"))\n",
    "    predictions = model.transform(dataset)\n",
    "    silhouettes.append(evaluator.evaluate(predictions))"
   ]
  },
  {
   "cell_type": "code",
   "execution_count": 24,
   "metadata": {},
   "outputs": [
    {
     "data": {
      "text/plain": [
       "[0.570206512687668,\n",
       " 0.41944597424332125,\n",
       " 0.4317036542843157,\n",
       " 0.3833739721073585]"
      ]
     },
     "execution_count": 24,
     "metadata": {},
     "output_type": "execute_result"
    }
   ],
   "source": [
    "silhouettes"
   ]
  },
  {
   "cell_type": "code",
   "execution_count": 25,
   "metadata": {},
   "outputs": [],
   "source": [
    "import matplotlib.pyplot as plt"
   ]
  },
  {
   "cell_type": "code",
   "execution_count": 37,
   "metadata": {},
   "outputs": [
    {
     "data": {
      "image/png": "[encoded data removed]",
      "text/plain": [
       "<Figure size 432x288 with 1 Axes>"
      ]
     },
     "metadata": {
      "needs_background": "light"
     },
     "output_type": "display_data"
    }
   ],
   "source": [
    "plt.plot(range(2, 6), silhouettes)\n",
    "plt.title('Valores de Silhouette')\n",
    "plt.xlabel('k')\n",
    "plt.ylabel('Silhouette')\n",
    "plt.show()"
   ]
  },
  {
   "cell_type": "markdown",
   "metadata": {},
   "source": [
    "k=2 tiene el valor de silhouette mas alto, es un buen candidato."
   ]
  },
  {
   "cell_type": "markdown",
   "metadata": {},
   "source": [
    "### \"Elbow method\" con la metrica wcss (within-cluster sum of squares)\n",
    "Para visualizar el cambio de curba en k=2 necesitamos el valor para k=1 pero KMeans().setK(k) no accepta k=1.\n",
    "Lo calculamos a mano."
   ]
  },
  {
   "cell_type": "code",
   "execution_count": 27,
   "metadata": {},
   "outputs": [],
   "source": [
    "costs = []"
   ]
  },
  {
   "cell_type": "code",
   "execution_count": 28,
   "metadata": {},
   "outputs": [],
   "source": [
    "aggExpr = []\n",
    "for column in features:\n",
    "    aggExpr.append(F.mean(df[column]).alias(column))\n",
    "averages = df.agg(*aggExpr).collect()[0]"
   ]
  },
  {
   "cell_type": "code",
   "execution_count": 29,
   "metadata": {},
   "outputs": [],
   "source": [
    "selectExpr = []\n",
    "for column in features:\n",
    "    selectExpr.append((dataset[column] - averages[column]).alias(column))\n",
    "#selectExpr"
   ]
  },
  {
   "cell_type": "code",
   "execution_count": 30,
   "metadata": {},
   "outputs": [],
   "source": [
    "centroid_df = df.select(selectExpr)"
   ]
  },
  {
   "cell_type": "code",
   "execution_count": 31,
   "metadata": {
    "scrolled": true
   },
   "outputs": [],
   "source": [
    "centroid_df = assembler.transform(centroid_df).select(\"features\")"
   ]
  },
  {
   "cell_type": "code",
   "execution_count": 32,
   "metadata": {},
   "outputs": [
    {
     "data": {
      "text/plain": [
       "[972482.2727687869]"
      ]
     },
     "execution_count": 32,
     "metadata": {},
     "output_type": "execute_result"
    }
   ],
   "source": [
    "costs.append(centroid_df.rdd.map(lambda x: x.features.norm(2)**2).sum())\n",
    "costs"
   ]
  },
  {
   "cell_type": "markdown",
   "metadata": {},
   "source": [
    "Ahora los otros valores de k"
   ]
  },
  {
   "cell_type": "code",
   "execution_count": 33,
   "metadata": {},
   "outputs": [],
   "source": [
    "for k in range(2, 6):\n",
    "    kmeans = KMeans().setK(k).setSeed(1)\n",
    "    model = kmeans.fit(dataset.select(\"features\"))\n",
    "    costs.append(model.summary.trainingCost)"
   ]
  },
  {
   "cell_type": "code",
   "execution_count": 36,
   "metadata": {},
   "outputs": [
    {
     "data": {
      "image/png": "[encoded data removed]",
      "text/plain": [
       "<Figure size 432x288 with 1 Axes>"
      ]
     },
     "metadata": {
      "needs_background": "light"
     },
     "output_type": "display_data"
    }
   ],
   "source": [
    "plt.plot(range(1, 6), costs)\n",
    "plt.title('Metodo \"Elbow\"')\n",
    "plt.xlabel('k')\n",
    "plt.ylabel('WCSS')\n",
    "plt.show()"
   ]
  },
  {
   "cell_type": "markdown",
   "metadata": {},
   "source": [
    "Aqui tambien la inflexión mas fuerte està en k=2."
   ]
  },
  {
   "cell_type": "code",
   "execution_count": null,
   "metadata": {},
   "outputs": [],
   "source": []
  }
 ],
 "metadata": {
  "kernelspec": {
   "display_name": "Python 3",
   "language": "python",
   "name": "python3"
  },
  "language_info": {
   "codemirror_mode": {
    "name": "ipython",
    "version": 3
   },
   "file_extension": ".py",
   "mimetype": "text/x-python",
   "name": "python",
   "nbconvert_exporter": "python",
   "pygments_lexer": "ipython3",
   "version": "3.7.5"
  }
 },
 "nbformat": 4,
 "nbformat_minor": 2
}
