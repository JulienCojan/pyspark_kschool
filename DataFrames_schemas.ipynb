{
 "cells": [
  {
   "cell_type": "markdown",
   "metadata": {},
   "source": [
    "## Schemas\n",
    "\n",
    "<https://www.kaggle.com/c/tmdb-box-office-prediction/data>"
   ]
  },
  {
   "cell_type": "code",
   "execution_count": null,
   "metadata": {},
   "outputs": [],
   "source": [
    "import pandas as pd\n",
    "import pyspark.sql.functions as F \n",
    "\n",
    "from pyspark.sql import SparkSession\n",
    "\n",
    "spark = SparkSession \\\n",
    "    .builder \\\n",
    "    .appName(\"PySparkShell\") \\\n",
    "    .getOrCreate()"
   ]
  },
  {
   "cell_type": "code",
   "execution_count": 4,
   "metadata": {},
   "outputs": [
    {
     "data": {
      "text/html": [
       "\n",
       "            <div>\n",
       "                <p><b>SparkSession - hive</b></p>\n",
       "                \n",
       "        <div>\n",
       "            <p><b>SparkContext</b></p>\n",
       "\n",
       "            <p><a href=\"http://192.168.56.1:4040\">Spark UI</a></p>\n",
       "\n",
       "            <dl>\n",
       "              <dt>Version</dt>\n",
       "                <dd><code>v2.4.4</code></dd>\n",
       "              <dt>Master</dt>\n",
       "                <dd><code>local[*]</code></dd>\n",
       "              <dt>AppName</dt>\n",
       "                <dd><code>PySparkShell</code></dd>\n",
       "            </dl>\n",
       "        </div>\n",
       "        \n",
       "            </div>\n",
       "        "
      ],
      "text/plain": [
       "<pyspark.sql.session.SparkSession at 0x7f8d6c287090>"
      ]
     },
     "execution_count": 4,
     "metadata": {},
     "output_type": "execute_result"
    }
   ],
   "source": [
    "spark"
   ]
  },
  {
   "cell_type": "markdown",
   "metadata": {},
   "source": [
    "## Create Dataframes from RDD"
   ]
  },
  {
   "cell_type": "code",
   "execution_count": null,
   "metadata": {},
   "outputs": [],
   "source": [
    "cities_rdd = sc.parallelize([\n",
    "    (\"MAD\", \"Madrid\", \"ES\", 40.4165, -3.70256),\n",
    "    (\"BCN\", \"Barcelona\", \"ES\", 41.297078, 2.078464),\n",
    "    (\"PAR\", \"Paris\", \"FR\", 48.85341, 2.3488),\n",
    "    (\"ROM\", \"Rome\", \"IT\", 41.89193, 12.51133)])\n",
    "\n",
    "cities_df = cities_rdd.toDF([\n",
    "    \"city_code\",\"city_name\",\"country_code\",\"latitude\",\"longitude\"])\n",
    "\n",
    "cities_df.show()"
   ]
  },
  {
   "cell_type": "code",
   "execution_count": null,
   "metadata": {},
   "outputs": [],
   "source": [
    "cities_df = spark.createDataFrame([\n",
    "    (\"MAD\", \"Madrid\", \"ES\", 40.4165, -3.70256),\n",
    "    (\"BCN\", \"Barcelona\", \"ES\", 41.297078, 2.078464),\n",
    "    (\"PAR\", \"Paris\", \"FR\", 48.85341, 2.3488),\n",
    "    (\"ROM\", \"Rome\", \"IT\", 41.89193, 12.51133)],\n",
    "    [\"city_code\",\"city_name\",\"country_code\",\"latitude\",\"longitude\"])\n",
    "\n",
    "cities_df.show()"
   ]
  },
  {
   "cell_type": "code",
   "execution_count": null,
   "metadata": {},
   "outputs": [],
   "source": [
    "cities_df.printSchema()"
   ]
  },
  {
   "cell_type": "code",
   "execution_count": null,
   "metadata": {},
   "outputs": [],
   "source": [
    "cities_df.filter(cities_df.country_code==\"ES\").show()"
   ]
  },
  {
   "cell_type": "code",
   "execution_count": null,
   "metadata": {},
   "outputs": [],
   "source": [
    "cities_df.select('city_code','country_code').show()"
   ]
  },
  {
   "cell_type": "code",
   "execution_count": null,
   "metadata": {},
   "outputs": [],
   "source": [
    "import pyspark.sql.functions as F \n",
    "agg_df = cities_df\\\n",
    "    .groupBy('country_code')\\\n",
    "    .agg(F.count(F.col('city_code')))\\\n",
    "    .orderBy(F.col('country_code'))\n",
    "agg_df.show()"
   ]
  },
  {
   "cell_type": "code",
   "execution_count": null,
   "metadata": {
    "scrolled": true
   },
   "outputs": [],
   "source": [
    "agg_df.explain()"
   ]
  },
  {
   "cell_type": "code",
   "execution_count": null,
   "metadata": {},
   "outputs": [],
   "source": [
    "print(agg_df.rdd.toDebugString().decode())"
   ]
  },
  {
   "cell_type": "code",
   "execution_count": null,
   "metadata": {
    "scrolled": true
   },
   "outputs": [],
   "source": [
    "cities_df.describe().show()"
   ]
  },
  {
   "cell_type": "markdown",
   "metadata": {},
   "source": [
    "### Array and Struct types"
   ]
  },
  {
   "cell_type": "code",
   "execution_count": null,
   "metadata": {},
   "outputs": [],
   "source": [
    "countries = sc.parallelize([\n",
    "    (\"ES\", [\"Spanish\",\"Catalan\",\"Basque\"], (\"MAD\", \"Madrid\")),\n",
    "    (\"FR\", [\"French\",\"Alsacien\",\"Breton\"], (\"PAR\", \"Paris\")),\n",
    "    (\"IT\", [\"Italian\",\"French\"], (\"ROM\", \"Rome\")),\n",
    "    (\"US\", [\"English\", \"Spanish\"], (\"WAS\", \"Washington\"))]).toDF([\"country_code\", \"languages\", \"capital\"])\\\n",
    "    .withColumn('capital', F.struct(F.col(\"capital._1\").alias(\"code\"), F.col(\"capital._2\").alias(\"name\")))\n",
    "countries.show(truncate=False)"
   ]
  },
  {
   "cell_type": "code",
   "execution_count": null,
   "metadata": {},
   "outputs": [],
   "source": [
    "countries.printSchema()"
   ]
  },
  {
   "cell_type": "code",
   "execution_count": null,
   "metadata": {},
   "outputs": [],
   "source": [
    "countries.select('country_code',F.col('languages').getItem(0),'capital.name').show()"
   ]
  },
  {
   "cell_type": "markdown",
   "metadata": {},
   "source": [
    "## Read csv data"
   ]
  },
  {
   "cell_type": "code",
   "execution_count": null,
   "metadata": {},
   "outputs": [],
   "source": [
    "#!wget https://raw.githubusercontent.com/JulienCojan/pyspark_kschool/master/data/tmdb-box-office-prediction/train.csv -P data/tmdb-box-office-prediction"
   ]
  },
  {
   "cell_type": "code",
   "execution_count": 1,
   "metadata": {},
   "outputs": [],
   "source": [
    "films_sdf = spark\\\n",
    "    .read\\\n",
    "    .csv(\"data/tmdb-box-office-prediction/train.csv\", header=True)"
   ]
  },
  {
   "cell_type": "code",
   "execution_count": 2,
   "metadata": {},
   "outputs": [
    {
     "name": "stdout",
     "output_type": "stream",
     "text": [
      "root\n",
      " |-- id: string (nullable = true)\n",
      " |-- belongs_to_collection: string (nullable = true)\n",
      " |-- budget: string (nullable = true)\n",
      " |-- genres: string (nullable = true)\n",
      " |-- homepage: string (nullable = true)\n",
      " |-- imdb_id: string (nullable = true)\n",
      " |-- original_language: string (nullable = true)\n",
      " |-- original_title: string (nullable = true)\n",
      " |-- overview: string (nullable = true)\n",
      " |-- popularity: string (nullable = true)\n",
      " |-- poster_path: string (nullable = true)\n",
      " |-- production_companies: string (nullable = true)\n",
      " |-- production_countries: string (nullable = true)\n",
      " |-- release_date: string (nullable = true)\n",
      " |-- runtime: string (nullable = true)\n",
      " |-- spoken_languages: string (nullable = true)\n",
      " |-- status: string (nullable = true)\n",
      " |-- tagline: string (nullable = true)\n",
      " |-- title: string (nullable = true)\n",
      " |-- Keywords: string (nullable = true)\n",
      " |-- cast: string (nullable = true)\n",
      " |-- crew: string (nullable = true)\n",
      " |-- revenue: string (nullable = true)\n",
      "\n"
     ]
    }
   ],
   "source": [
    "films_sdf.printSchema()"
   ]
  },
  {
   "cell_type": "code",
   "execution_count": 3,
   "metadata": {
    "scrolled": true
   },
   "outputs": [
    {
     "name": "stdout",
     "output_type": "stream",
     "text": [
      "+---+---------------------+---------+--------------------+--------------------+---------+-----------------+--------------------+--------------------+--------------------+--------------------+--------------------+--------------------+--------------------+--------------------+--------------------+--------+--------------------+--------------------+--------------------+--------------------+--------------------+--------------------+\n",
      "| id|belongs_to_collection|   budget|              genres|            homepage|  imdb_id|original_language|      original_title|            overview|          popularity|         poster_path|production_companies|production_countries|        release_date|             runtime|    spoken_languages|  status|             tagline|               title|            Keywords|                cast|                crew|             revenue|\n",
      "+---+---------------------+---------+--------------------+--------------------+---------+-----------------+--------------------+--------------------+--------------------+--------------------+--------------------+--------------------+--------------------+--------------------+--------------------+--------+--------------------+--------------------+--------------------+--------------------+--------------------+--------------------+\n",
      "|  1| [{'id': 313576, '...| 14000000|[{'id': 35, 'name...|                null|tt2637294|               en|Hot Tub Time Mach...|\"When Lou, who ha...|\"\" is shot by an ...| Jacob and Nick f...|            6.575393|/tQtWuwvMf0hCc2QR...|[{'name': 'Paramo...|[{'iso_3166_1': '...|             2/20/15|      93|[{'iso_639_1': 'e...|            Released|The Laws of Space...|Hot Tub Time Mach...|[{'id': 4379, 'na...|[{'cast_id': 4, '...|\n",
      "|  2| [{'id': 107674, '...| 40000000|[{'id': 35, 'name...|                null|tt0368933|               en|The Princess Diar...|Mia Thermopolis i...|            8.248895|/w9Z7A0GHEhIp7etp...|[{'name': 'Walt D...|[{'iso_3166_1': '...|              8/6/04|                 113|[{'iso_639_1': 'e...|Released|It can take a lif...|The Princess Diar...|[{'id': 2505, 'na...|\"[{'cast_id': 1, ...| 'credit_id': '56...|         'gender': 1|\n",
      "|  3|                 null|  3300000|[{'id': 18, 'name...|http://sonyclassi...|tt2582802|               en|            Whiplash|Under the directi...|            64.29999|/lIv1QinFqz4dlp5U...|[{'name': 'Bold F...|[{'iso_3166_1': '...|            10/10/14|                 105|[{'iso_639_1': 'e...|Released|The road to great...|            Whiplash|[{'id': 1416, 'na...|\"[{'cast_id': 5, ...|         'order': 27| 'profile_path': ...|\n",
      "|  4|                 null|  1200000|[{'id': 53, 'name...|http://kahaanithe...|tt1821480|               hi|             Kahaani|Vidya Bagchi (Vid...|            3.174936|/aTXRaPrWSinhcmCr...|                null|[{'iso_3166_1': '...|              3/9/12|                 122|[{'iso_639_1': 'e...|Released|                null|             Kahaani|[{'id': 10092, 'n...|[{'cast_id': 1, '...|[{'credit_id': '5...|            16000000|\n",
      "|  5|                 null|        0|[{'id': 28, 'name...|                null|tt1380152|               ko|            마린보이|Marine Boy is the...|             1.14807|/m22s7zvkVFDU9ir5...|                null|[{'iso_3166_1': '...|              2/5/09|                 118|[{'iso_639_1': 'k...|Released|                null|          Marine Boy|                null|[{'cast_id': 3, '...|[{'credit_id': '5...|             3923970|\n",
      "|  6|                 null|  8000000|[{'id': 16, 'name...|                null|tt0093743|               en|Pinocchio and the...|Pinocchio and his...|            0.743274|/6IDqA1D2NBIVhzEE...|                null|                null|              8/6/87|                  83|[{'iso_639_1': 'e...|Released|                null|Pinocchio and the...|                null|[{'cast_id': 6, '...|\"[{'credit_id': '...| 'profile_path': ...|\n",
      "|  7|                 null| 14000000|[{'id': 27, 'name...|http://www.thepos...|tt0431021|               en|      The Possession|A young girl buys...|            7.286477|/4QjzFuaZmB4btGnL...|[{'name': 'Ghost ...|[{'iso_3166_1': '...|             8/30/12|                  92|[{'iso_639_1': 'e...|Released|Fear The Demon Th...|      The Possession|                null|\"[{'cast_id': 23,...| 'credit_id': '52...|         'gender': 2|\n",
      "|  8|                 null|        0|[{'id': 99, 'name...|                null|tt0391024|               en|        Control Room|A chronicle which...|            1.949044|/83BV8fGy5p9i8RwE...|                null|                null|             1/15/04|                  84|[{'iso_639_1': 'a...|Released|Different channel...|        Control Room|[{'id': 917, 'nam...|[{'cast_id': 2, '...|[{'credit_id': '5...|             2586511|\n",
      "|  9| [{'id': 256377, '...|        0|[{'id': 28, 'name...|                null|tt0117110|               en|Muppet Treasure I...|After telling the...|            6.902423|/5A8gKzOrF9Z7tSUX...|[{'name': 'Walt D...|[{'iso_3166_1': '...|             2/16/96|                 100|[{'iso_639_1': 'e...|Released|Set sail for Mupp...|Muppet Treasure I...|[{'id': 2041, 'na...|\"[{'cast_id': 1, ...| 'credit_id': '59...|         'gender': 0|\n",
      "| 10|                 null|  6000000|[{'id': 35, 'name...|                null|tt0310281|               en|       A Mighty Wind|\"In \"\"A Mighty Wi...| director Christo...| who inspired by ...| get back on the ...|            4.672036|/xwD4EsPOGLuKP50Q...|[{'name': 'Castle...|[{'iso_3166_1': '...| 4/16/03|                  91|[{'iso_639_1': 'e...|            Released|Back together for...|       A Mighty Wind|[{'id': 11800, 'n...|\n",
      "| 11| [{'id': 1575, 'na...|  1000000|[{'id': 18, 'name...|                null|tt0075148|               en|               Rocky|When world heavyw...|           14.774066|/i5xiwdSsrecBvO7m...|[{'name': 'United...|[{'iso_3166_1': '...|            11/21/76|                 119|[{'iso_639_1': 'e...|Released|His whole life wa...|               Rocky|\"[{'id': 240, 'na...|         {'id': 2416| 'name': 'publici...|         {'id': 2792|\n",
      "| 12| [{'id': 48190, 'n...|        0|[{'id': 35, 'name...|                null|tt0093857|               en|Revenge of the Ne...|The members of th...|            10.54375|/1KTi0wJQfyi8YnAj...|[{'name': 'Twenti...|[{'iso_3166_1': '...|             7/10/87|                  98|[{'iso_639_1': 'e...|Released|       They're Back!|Revenge of the Ne...|[{'id': 5801, 'na...|[{'cast_id': 2, '...|[{'credit_id': '5...|            22642033|\n",
      "| 13|                 null| 15000000|[{'id': 18, 'name...|http://www.dreamw...|tt0169547|               en|     American Beauty|Lester Burnham, a...|           20.726578|/or1MP8BZIAjqWYxP...|[{'name': 'DreamW...|[{'iso_3166_1': '...|             9/15/99|                 122|[{'iso_639_1': 'e...|Released|        Look closer.|     American Beauty|[{'id': 255, 'nam...|\"[{'cast_id': 6, ...| 'credit_id': '55...|         'gender': 1|\n",
      "| 14| [{'id': 91698, 'n...| 53000000|[{'id': 35, 'name...|                null|tt0377471|               en|             Be Cool|Disenchanted with...|           13.314233|/ekKCH7Zkb5ZTr1f1...|[{'name': 'Double...|[{'iso_3166_1': '...|              3/4/05|                 118|[{'iso_639_1': 'e...|Released|Everyone is looki...|             Be Cool|[{'id': 3605, 'na...|\"[{'cast_id': 4, ...| 'credit_id': '57...|         'gender': 1|\n",
      "| 15|                 null|102000000|[{'id': 28, 'name...|                null|tt0181689|               en|     Minority Report|John Anderton is ...|           20.666063|/h3lpltSn7Rj1eYTP...|[{'name': 'DreamW...|[{'iso_3166_1': '...|             6/20/02|                 145|[{'iso_639_1': 'e...|Released|The system is per...|     Minority Report|[{'id': 476, 'nam...|[{'cast_id': 5, '...|\"[{'credit_id': '...| 'profile_path': ...|\n",
      "| 16|                 null|   500000|[{'id': 28, 'name...|http://skinningmo...|tt1129437|               sr|             Šišanje|Novica is a mathe...|            1.018477|/88l8VBanH0lS5Wvz...|[{'name': 'Hypnop...|[{'iso_3166_1': '...|             10/6/10|                  97|[{'iso_639_1': 's...|Released|Life is sometimes...|            Skinning|[{'id': 379, 'nam...|\"[{'cast_id': 100...|          'order': 8| 'profile_path': ...|\n",
      "| 17|                 null| 26000000|[{'id': 27, 'name...|                null|tt0421239|               en|             Red Eye|After attending t...|            6.336927|/rTDa8Ald7iiES01z...|[{'name': 'DreamW...|[{'iso_3166_1': '...|              8/4/05|                  85|[{'iso_639_1': 'e...|Released|  Fear takes flight.|             Red Eye|[{'id': 1562, 'na...|\"[{'cast_id': 1, ...| 'credit_id': '58...|         'gender': 0|\n",
      "| 18|                 null|        0|[{'id': 18, 'name...|                null|tt1700845|               en| The Invisible Woman|In 1857, at the h...|            4.183558|/cIMdqerF4DuVEYnk...|[{'name': 'BBC Fi...|[{'iso_3166_1': '...|            12/25/13|                 111|[{'iso_639_1': 'e...|Released|His greatest stor...| The Invisible Woman|[{'id': 5565, 'na...|[{'cast_id': 7, '...|\"[{'credit_id': '...| 'profile_path': ...|\n",
      "| 19|                 null|  8000000|[{'id': 35, 'name...|                null|tt1487118|               en|         Chalet Girl|While working a j...|            6.496259|/64AQrBEKJVSIRaoc...|[{'name': 'UK Fil...|[{'iso_3166_1': '...|              2/2/11|                  96|[{'iso_639_1': 'd...|Released|How to marry a bi...|         Chalet Girl|[{'id': 271, 'nam...|[{'cast_id': 2, '...|[{'credit_id': '5...|             1749457|\n",
      "| 20| [{'id': 9518, 'na...| 32000000|[{'id': 28, 'name...|                null|tt0388482|               en|       Transporter 2|Professional driv...|           11.359659|/bZKkwfQf4mHYlNbm...|[{'name': 'Twenti...|[{'iso_3166_1': '...|              8/2/05|                  87|[{'iso_639_1': 'e...|Released|The Best In The B...|       Transporter 2|[{'id': 779, 'nam...|[{'cast_id': 1, '...|[{'credit_id': '5...|            85167639|\n",
      "+---+---------------------+---------+--------------------+--------------------+---------+-----------------+--------------------+--------------------+--------------------+--------------------+--------------------+--------------------+--------------------+--------------------+--------------------+--------+--------------------+--------------------+--------------------+--------------------+--------------------+--------------------+\n",
      "only showing top 20 rows\n",
      "\n"
     ]
    }
   ],
   "source": [
    "films_sdf.show()"
   ]
  },
  {
   "cell_type": "code",
   "execution_count": 4,
   "metadata": {},
   "outputs": [
    {
     "name": "stdout",
     "output_type": "stream",
     "text": [
      "\"[{'cast_id': 1, 'character': 'Mia Thermopolis', 'credit_id': '52fe43fe9251416c7502561f', 'gender': 1, 'id': 1813, 'name': 'Anne Hathaway', 'order': 0, 'profile_path': '/jUMOKwSUBnTcMeN1HfhutiY49Ad.jpg'}, {'cast_id': 2, 'character': 'Queen Clarisse Renaldi', 'credit_id': '52fe43fe9251416c75025623', 'gender': 1, 'id': 5823, 'name': 'Julie Andrews', 'order': 1, 'profile_path': '/6t61jkmfSA6nbYRCKR9s97CgUN6.jpg'}, {'cast_id': 3, 'character': 'Joe', 'credit_id': '52fe43fe9251416c75025627', 'gender': 2, 'id': 1210, 'name': 'H√©ctor Elizondo', 'order': 2, 'profile_path': '/48UNfVFZVr0jyMIlLPhzm8IIM7f.jpg'}, {'cast_id': 4, 'character': 'Viscount Mabrey', 'credit_id': '52fe43fe9251416c7502562b', 'gender': 2, 'id': 655, 'name': 'John Rhys-Davies', 'order': 3, 'profile_path': '/zZ67PuoFfik9QlZyfaEsFBC1yVJ.jpg'}, {'cast_id': 5, 'character': 'Lilly Moscovitz', 'credit_id': '52fe43fe9251416c7502562f', 'gender': 1, 'id': 33656, 'name': 'Heather Matarazzo', 'order': 4, 'profile_path': '/xcwR8aPuSkUCDPIyKU049M1CXph.jpg'}, {'cast_id': 6, 'character': 'Nicholas Devereaux', 'credit_id': '52fe43fe9251416c75025633', 'gender': 2, 'id': 62064, 'name': 'Chris Pine', 'order': 5, 'profile_path': '/vSe6sIsdtcoqBhuWRXynahFg8Vf.jpg'}, {'cast_id': 7, 'character': 'Andrew Jacoby', 'credit_id': '52fe43fe9251416c75025637', 'gender': 2, 'id': 68287, 'name': 'Callum Blue', 'order': 6, 'profile_path': '/3qf8rLoWmXOcCA8Rs9RPIEQ9yLB.jpg'}, {'cast_id': 17, 'character': 'Paolo', 'credit_id': '52fe43fe9251416c75025671', 'gender': 2, 'id': 1211, 'name': 'Larry Miller', 'order': 7, 'profile_path': '/xA8zCxNrwtamLaLWNBkLyX5tGtU.jpg'}, {'cast_id': 18, 'character': 'Asana', 'credit_id': '52fe43fe9251416c75025675', 'gender': 1, 'id': 66896, 'name': 'Raven-Symon√©', 'order': 8, 'profile_path': '/nzklI9bgqsUKVWlnQcT5lSrCyaM.jpg'}, {'cast_id': 19, 'character': 'Charlotte Kutaway', 'credit_id': '52fe43fe9251416c75025679', 'gender': 1, 'id': 303542, 'name': 'Kathleen Marshall', 'order': 9, 'profile_path': '/4ANxOHPa81aqLyP8BQxkwmZrWgK.jpg'}, {'cast_id': 21, 'character': \"\"Mia's Mom Helen\"\"\n"
     ]
    }
   ],
   "source": [
    "print(films_sdf.select(\"cast\").limit(10).toPandas().iloc[1][\"cast\"])"
   ]
  },
  {
   "cell_type": "code",
   "execution_count": 5,
   "metadata": {},
   "outputs": [
    {
     "name": "stdout",
     "output_type": "stream",
     "text": [
      "root\n",
      " |-- id: integer (nullable = true)\n",
      " |-- belongs_to_collection: string (nullable = true)\n",
      " |-- budget: string (nullable = true)\n",
      " |-- genres: string (nullable = true)\n",
      " |-- homepage: string (nullable = true)\n",
      " |-- imdb_id: string (nullable = true)\n",
      " |-- original_language: string (nullable = true)\n",
      " |-- original_title: string (nullable = true)\n",
      " |-- overview: string (nullable = true)\n",
      " |-- popularity: string (nullable = true)\n",
      " |-- poster_path: string (nullable = true)\n",
      " |-- production_companies: string (nullable = true)\n",
      " |-- production_countries: string (nullable = true)\n",
      " |-- release_date: string (nullable = true)\n",
      " |-- runtime: string (nullable = true)\n",
      " |-- spoken_languages: string (nullable = true)\n",
      " |-- status: string (nullable = true)\n",
      " |-- tagline: string (nullable = true)\n",
      " |-- title: string (nullable = true)\n",
      " |-- Keywords: string (nullable = true)\n",
      " |-- cast: string (nullable = true)\n",
      " |-- crew: string (nullable = true)\n",
      " |-- revenue: string (nullable = true)\n",
      "\n"
     ]
    }
   ],
   "source": [
    "from pyspark.sql.types import IntegerType\n",
    "import pyspark.sql.functions as F\n",
    "\n",
    "films_sdf = films_sdf\\\n",
    "    .withColumn(\"id\", films_sdf.id.cast(IntegerType()))\n",
    "    \n",
    "    \n",
    "films_sdf.printSchema()"
   ]
  },
  {
   "cell_type": "code",
   "execution_count": 6,
   "metadata": {},
   "outputs": [
    {
     "name": "stdout",
     "output_type": "stream",
     "text": [
      "+------------------------------------------------------------------------------------------------------------------------------+\n",
      "|genres                                                                                                                        |\n",
      "+------------------------------------------------------------------------------------------------------------------------------+\n",
      "|[{'id': 35, 'name': 'Comedy'}]                                                                                                |\n",
      "|[{'id': 35, 'name': 'Comedy'}, {'id': 18, 'name': 'Drama'}, {'id': 10751, 'name': 'Family'}, {'id': 10749, 'name': 'Romance'}]|\n",
      "|[{'id': 18, 'name': 'Drama'}]                                                                                                 |\n",
      "|[{'id': 53, 'name': 'Thriller'}, {'id': 18, 'name': 'Drama'}]                                                                 |\n",
      "|[{'id': 28, 'name': 'Action'}, {'id': 53, 'name': 'Thriller'}]                                                                |\n",
      "+------------------------------------------------------------------------------------------------------------------------------+\n",
      "only showing top 5 rows\n",
      "\n"
     ]
    }
   ],
   "source": [
    "films_sdf.select(\"genres\").show(5, truncate=False)"
   ]
  },
  {
   "cell_type": "code",
   "execution_count": 7,
   "metadata": {},
   "outputs": [],
   "source": [
    "from pyspark.sql.types import StructType, StructField, IntegerType, StringType, ArrayType\n",
    "\n",
    "schema = ArrayType(\n",
    "    StructType([\n",
    "        StructField(\"id\", IntegerType()),\n",
    "        StructField(\"name\", StringType())\n",
    "    ])\n",
    ")\n",
    "\n",
    "films_sdf = films_sdf\\\n",
    "    .withColumn(\"genres\", F.from_json(F.col(\"genres\"), schema))"
   ]
  },
  {
   "cell_type": "code",
   "execution_count": 8,
   "metadata": {},
   "outputs": [
    {
     "name": "stdout",
     "output_type": "stream",
     "text": [
      "root\n",
      " |-- id: integer (nullable = true)\n",
      " |-- belongs_to_collection: string (nullable = true)\n",
      " |-- budget: string (nullable = true)\n",
      " |-- genres: array (nullable = true)\n",
      " |    |-- element: struct (containsNull = true)\n",
      " |    |    |-- id: integer (nullable = true)\n",
      " |    |    |-- name: string (nullable = true)\n",
      " |-- homepage: string (nullable = true)\n",
      " |-- imdb_id: string (nullable = true)\n",
      " |-- original_language: string (nullable = true)\n",
      " |-- original_title: string (nullable = true)\n",
      " |-- overview: string (nullable = true)\n",
      " |-- popularity: string (nullable = true)\n",
      " |-- poster_path: string (nullable = true)\n",
      " |-- production_companies: string (nullable = true)\n",
      " |-- production_countries: string (nullable = true)\n",
      " |-- release_date: string (nullable = true)\n",
      " |-- runtime: string (nullable = true)\n",
      " |-- spoken_languages: string (nullable = true)\n",
      " |-- status: string (nullable = true)\n",
      " |-- tagline: string (nullable = true)\n",
      " |-- title: string (nullable = true)\n",
      " |-- Keywords: string (nullable = true)\n",
      " |-- cast: string (nullable = true)\n",
      " |-- crew: string (nullable = true)\n",
      " |-- revenue: string (nullable = true)\n",
      "\n"
     ]
    }
   ],
   "source": [
    "films_sdf.printSchema()"
   ]
  },
  {
   "cell_type": "code",
   "execution_count": 9,
   "metadata": {},
   "outputs": [
    {
     "name": "stdout",
     "output_type": "stream",
     "text": [
      "+--------------------------------------------------------------+\n",
      "|genres                                                        |\n",
      "+--------------------------------------------------------------+\n",
      "|[[35, Comedy]]                                                |\n",
      "|[[35, Comedy], [18, Drama], [10751, Family], [10749, Romance]]|\n",
      "|[[18, Drama]]                                                 |\n",
      "|[[53, Thriller], [18, Drama]]                                 |\n",
      "|[[28, Action], [53, Thriller]]                                |\n",
      "+--------------------------------------------------------------+\n",
      "only showing top 5 rows\n",
      "\n"
     ]
    }
   ],
   "source": [
    "films_sdf.select(\"genres\").show(5, truncate=False)"
   ]
  },
  {
   "cell_type": "code",
   "execution_count": 10,
   "metadata": {},
   "outputs": [
    {
     "name": "stdout",
     "output_type": "stream",
     "text": [
      "+--------------------------------+\n",
      "|name                            |\n",
      "+--------------------------------+\n",
      "|[Comedy]                        |\n",
      "|[Comedy, Drama, Family, Romance]|\n",
      "|[Drama]                         |\n",
      "|[Thriller, Drama]               |\n",
      "|[Action, Thriller]              |\n",
      "+--------------------------------+\n",
      "only showing top 5 rows\n",
      "\n"
     ]
    }
   ],
   "source": [
    "films_sdf.select(\"genres.name\").show(5, truncate=False)"
   ]
  },
  {
   "cell_type": "code",
   "execution_count": null,
   "metadata": {},
   "outputs": [],
   "source": [
    "films_sdf.select(\"genres.name\").printSchema()"
   ]
  },
  {
   "cell_type": "markdown",
   "metadata": {},
   "source": [
    "## String manipulation"
   ]
  },
  {
   "cell_type": "code",
   "execution_count": null,
   "metadata": {},
   "outputs": [],
   "source": [
    "films_sdf2 = spark.read.csv(\"data/tmdb-box-office-prediction/train.csv\", header=True)"
   ]
  },
  {
   "cell_type": "code",
   "execution_count": null,
   "metadata": {},
   "outputs": [],
   "source": [
    "films_sdf2.select(\"genres\").show(truncate=False)"
   ]
  },
  {
   "cell_type": "code",
   "execution_count": null,
   "metadata": {},
   "outputs": [],
   "source": [
    "genres_col = films_sdf2\\\n",
    "    .select(\n",
    "    \"id\", \n",
    "    F.col(\"genres\").substr(F.lit(2), F.length(F.col(\"genres\"))-2).alias(\"genres\"))\n",
    "\n",
    "genres_col.show(3, truncate=False)"
   ]
  },
  {
   "cell_type": "code",
   "execution_count": null,
   "metadata": {},
   "outputs": [],
   "source": [
    "genres_col\\\n",
    "     .withColumn(\"genres_array\", F.split(F.col(\"genres\"), '(?<=}), '))\\\n",
    "     .head(2)"
   ]
  },
  {
   "cell_type": "code",
   "execution_count": null,
   "metadata": {},
   "outputs": [],
   "source": [
    "genre_sdf = genres_col\\\n",
    "    .select(\"id\", F.explode(F.split(F.col(\"genres\"), '(?<=}), ')).alias(\"genre\"))\n",
    "\n",
    "genre_sdf.show(truncate=False)"
   ]
  },
  {
   "cell_type": "code",
   "execution_count": null,
   "metadata": {},
   "outputs": [],
   "source": [
    "genre_sdf.select(\n",
    "    F.col('id'),\n",
    "    F.regexp_extract(F.col(\"genre\"), \"(?<='name':\\ ')[A-Z][a-z]+\", 0).alias(\"genre_name\")\n",
    "    ).groupBy(\"genre_name\")\\\n",
    "    .count().orderBy(F.desc(\"count\")).show()"
   ]
  },
  {
   "cell_type": "markdown",
   "metadata": {},
   "source": [
    "## Saving data"
   ]
  },
  {
   "cell_type": "code",
   "execution_count": 11,
   "metadata": {},
   "outputs": [
    {
     "name": "stdout",
     "output_type": "stream",
     "text": [
      "root\n",
      " |-- id: integer (nullable = true)\n",
      " |-- belongs_to_collection: string (nullable = true)\n",
      " |-- budget: string (nullable = true)\n",
      " |-- genres: array (nullable = true)\n",
      " |    |-- element: struct (containsNull = true)\n",
      " |    |    |-- id: integer (nullable = true)\n",
      " |    |    |-- name: string (nullable = true)\n",
      " |-- homepage: string (nullable = true)\n",
      " |-- imdb_id: string (nullable = true)\n",
      " |-- original_language: string (nullable = true)\n",
      " |-- original_title: string (nullable = true)\n",
      " |-- overview: string (nullable = true)\n",
      " |-- popularity: string (nullable = true)\n",
      " |-- poster_path: string (nullable = true)\n",
      " |-- production_companies: string (nullable = true)\n",
      " |-- production_countries: string (nullable = true)\n",
      " |-- release_date: string (nullable = true)\n",
      " |-- runtime: string (nullable = true)\n",
      " |-- spoken_languages: string (nullable = true)\n",
      " |-- status: string (nullable = true)\n",
      " |-- tagline: string (nullable = true)\n",
      " |-- title: string (nullable = true)\n",
      " |-- Keywords: string (nullable = true)\n",
      " |-- cast: string (nullable = true)\n",
      " |-- crew: string (nullable = true)\n",
      " |-- revenue: string (nullable = true)\n",
      "\n"
     ]
    }
   ],
   "source": [
    "films_sdf.printSchema()"
   ]
  },
  {
   "cell_type": "code",
   "execution_count": 17,
   "metadata": {},
   "outputs": [],
   "source": [
    "films_sdf.repartition(1).write.mode('overwrite').parquet(\"data/tmdb1\")\n",
    "#films_sdf.write.mode('overwrite').parquet(\"data/tmdb1\")"
   ]
  },
  {
   "cell_type": "code",
   "execution_count": 18,
   "metadata": {},
   "outputs": [
    {
     "name": "stdout",
     "output_type": "stream",
     "text": [
      "_SUCCESS  part-00000-4e153c39-0824-4688-a72b-c9fdd2162008-c000.snappy.parquet\r\n"
     ]
    }
   ],
   "source": [
    "!ls data/tmdb1"
   ]
  },
  {
   "cell_type": "code",
   "execution_count": 15,
   "metadata": {},
   "outputs": [],
   "source": [
    "new_films_sdf = spark.read.parquet(\"data/tmdb1\")"
   ]
  },
  {
   "cell_type": "code",
   "execution_count": 16,
   "metadata": {},
   "outputs": [
    {
     "name": "stdout",
     "output_type": "stream",
     "text": [
      "root\n",
      " |-- id: integer (nullable = true)\n",
      " |-- belongs_to_collection: string (nullable = true)\n",
      " |-- budget: string (nullable = true)\n",
      " |-- genres: array (nullable = true)\n",
      " |    |-- element: struct (containsNull = true)\n",
      " |    |    |-- id: integer (nullable = true)\n",
      " |    |    |-- name: string (nullable = true)\n",
      " |-- homepage: string (nullable = true)\n",
      " |-- imdb_id: string (nullable = true)\n",
      " |-- original_language: string (nullable = true)\n",
      " |-- original_title: string (nullable = true)\n",
      " |-- overview: string (nullable = true)\n",
      " |-- popularity: string (nullable = true)\n",
      " |-- poster_path: string (nullable = true)\n",
      " |-- production_companies: string (nullable = true)\n",
      " |-- production_countries: string (nullable = true)\n",
      " |-- release_date: string (nullable = true)\n",
      " |-- runtime: string (nullable = true)\n",
      " |-- spoken_languages: string (nullable = true)\n",
      " |-- status: string (nullable = true)\n",
      " |-- tagline: string (nullable = true)\n",
      " |-- title: string (nullable = true)\n",
      " |-- Keywords: string (nullable = true)\n",
      " |-- cast: string (nullable = true)\n",
      " |-- crew: string (nullable = true)\n",
      " |-- revenue: string (nullable = true)\n",
      "\n"
     ]
    }
   ],
   "source": [
    "new_films_sdf.printSchema()"
   ]
  },
  {
   "cell_type": "markdown",
   "metadata": {},
   "source": [
    "## Schema"
   ]
  },
  {
   "cell_type": "code",
   "execution_count": null,
   "metadata": {},
   "outputs": [],
   "source": [
    "from pyspark.sql.types import StructField, StructType, IntegerType, LongType\n",
    "\n",
    "schema = \\\n",
    "StructType([\n",
    "    StructField(\"id\", IntegerType(), False),\n",
    "    StructField(\"genres\", ArrayType(\n",
    "        StructType([\n",
    "            StructField(\"id\", IntegerType()),\n",
    "            StructField(\"name\", StringType())\n",
    "        ])))\n",
    "    ])"
   ]
  },
  {
   "cell_type": "code",
   "execution_count": null,
   "metadata": {},
   "outputs": [],
   "source": [
    "new_films_sdf = spark.read.schema(schema=schema).parquet(\"data/tmdb1\")"
   ]
  },
  {
   "cell_type": "code",
   "execution_count": null,
   "metadata": {},
   "outputs": [],
   "source": [
    "new_films_sdf.printSchema()"
   ]
  },
  {
   "cell_type": "markdown",
   "metadata": {},
   "source": [
    "## Partition"
   ]
  },
  {
   "cell_type": "code",
   "execution_count": null,
   "metadata": {},
   "outputs": [],
   "source": [
    "#!wget https://raw.githubusercontent.com/JulienCojan/pyspark_kschool/master/data/competitive-data-science-predict-future-sales/sales_train.csv.gz -P data/competitive-data-science-predict-future-sales/"
   ]
  },
  {
   "cell_type": "code",
   "execution_count": 15,
   "metadata": {},
   "outputs": [],
   "source": [
    "#sales_sdf = spark.read.option(\"header\", \"true\").csv(\"data/competitive-data-science-predict-future-sales/sales_train.csv.gz\")\n",
    "sales_sdf = spark.read.option(\"header\", \"true\").csv(\"data/competitive-data-science-predict-future-sales/sample.csv\")"
   ]
  },
  {
   "cell_type": "code",
   "execution_count": 16,
   "metadata": {},
   "outputs": [],
   "source": [
    "import pyspark.sql.functions as F\n",
    "sales_with_iso_dates = sales_sdf\\\n",
    "    .withColumn(\"date\", F.from_unixtime(F.unix_timestamp(F.col(\"date\"), 'dd.MM.yyyy')))\\\n",
    "    .withColumn(\"year\", F.year(\"date\"))\\\n",
    "    .withColumn(\"month\", F.month(\"date\"))\\\n",
    "    .withColumn(\"day\", F.dayofmonth(\"date\"))"
   ]
  },
  {
   "cell_type": "code",
   "execution_count": 17,
   "metadata": {
    "scrolled": true
   },
   "outputs": [
    {
     "name": "stdout",
     "output_type": "stream",
     "text": [
      "+-------------------+--------------+-------+-------+----------+------------+----+-----+---+\n",
      "|               date|date_block_num|shop_id|item_id|item_price|item_cnt_day|year|month|day|\n",
      "+-------------------+--------------+-------+-------+----------+------------+----+-----+---+\n",
      "|2013-01-02 00:00:00|             0|     59|  22154|     999.0|         1.0|2013|    1|  2|\n",
      "|2013-01-03 00:00:00|             0|     25|   2552|     899.0|         1.0|2013|    1|  3|\n",
      "|2013-01-05 00:00:00|             0|     25|   2552|     899.0|        -1.0|2013|    1|  5|\n",
      "|2013-01-06 00:00:00|             0|     25|   2554|   1709.05|         1.0|2013|    1|  6|\n",
      "|2013-01-15 00:00:00|             0|     25|   2555|    1099.0|         1.0|2013|    1| 15|\n",
      "|2013-01-10 00:00:00|             0|     25|   2564|     349.0|         1.0|2013|    1| 10|\n",
      "|2013-01-02 00:00:00|             0|     25|   2565|     549.0|         1.0|2013|    1|  2|\n",
      "|2013-01-04 00:00:00|             0|     25|   2572|     239.0|         1.0|2013|    1|  4|\n",
      "|2013-01-11 00:00:00|             0|     25|   2572|     299.0|         1.0|2013|    1| 11|\n",
      "|2013-01-03 00:00:00|             0|     25|   2573|     299.0|         3.0|2013|    1|  3|\n",
      "|2013-01-03 00:00:00|             0|     25|   2574|     399.0|         2.0|2013|    1|  3|\n",
      "|2013-01-05 00:00:00|             0|     25|   2574|     399.0|         1.0|2013|    1|  5|\n",
      "|2013-01-07 00:00:00|             0|     25|   2574|     399.0|         1.0|2013|    1|  7|\n",
      "|2013-01-08 00:00:00|             0|     25|   2574|     399.0|         2.0|2013|    1|  8|\n",
      "|2013-01-10 00:00:00|             0|     25|   2574|     399.0|         1.0|2013|    1| 10|\n",
      "|2013-01-11 00:00:00|             0|     25|   2574|     399.0|         2.0|2013|    1| 11|\n",
      "|2013-01-13 00:00:00|             0|     25|   2574|     399.0|         1.0|2013|    1| 13|\n",
      "|2013-01-16 00:00:00|             0|     25|   2574|     399.0|         1.0|2013|    1| 16|\n",
      "|2013-01-26 00:00:00|             0|     25|   2574|     399.0|         1.0|2013|    1| 26|\n",
      "|2013-01-27 00:00:00|             0|     25|   2574|     399.0|         1.0|2013|    1| 27|\n",
      "+-------------------+--------------+-------+-------+----------+------------+----+-----+---+\n",
      "only showing top 20 rows\n",
      "\n"
     ]
    }
   ],
   "source": [
    "sales_with_iso_dates.show()"
   ]
  },
  {
   "cell_type": "code",
   "execution_count": 18,
   "metadata": {},
   "outputs": [],
   "source": [
    "#sales_with_iso_dates.write.partitionBy(\"year\", \"month\", \"day\").mode('overwrite').parquet(\"data/tmdb2\")\n",
    "sales_with_iso_dates.write.partitionBy(\"year\", \"month\", \"day\").mode('overwrite').csv(\"data/sales\")"
   ]
  },
  {
   "cell_type": "code",
   "execution_count": null,
   "metadata": {},
   "outputs": [],
   "source": [
    "!ls data/tmdb2"
   ]
  },
  {
   "cell_type": "code",
   "execution_count": null,
   "metadata": {},
   "outputs": [],
   "source": [
    "!ls data/tmdb2/year=2013/month=3/day=19"
   ]
  },
  {
   "cell_type": "code",
   "execution_count": 20,
   "metadata": {},
   "outputs": [],
   "source": [
    "#films_sdf2 = spark.read.parquet(\"data/tmdb2/year=2013\")\n",
    "films_sdf2 = spark.read.csv(\"data/sales/year=2013\")"
   ]
  },
  {
   "cell_type": "code",
   "execution_count": 21,
   "metadata": {},
   "outputs": [
    {
     "name": "stdout",
     "output_type": "stream",
     "text": [
      "+-------------------+---+---+-----+------+---+-----+---+\n",
      "|                _c0|_c1|_c2|  _c3|   _c4|_c5|month|day|\n",
      "+-------------------+---+---+-----+------+---+-----+---+\n",
      "|2013-01-02 00:00:00|  0| 59|22154| 999.0|1.0|    1|  2|\n",
      "|2013-01-02 00:00:00|  0| 25| 2565| 549.0|1.0|    1|  2|\n",
      "|2013-01-02 00:00:00|  0| 25| 2546| 299.0|1.0|    1|  2|\n",
      "|2013-01-02 00:00:00|  0| 25| 2715| 899.0|1.0|    1|  2|\n",
      "|2013-01-02 00:00:00|  0| 25| 2716| 149.0|1.0|    1|  2|\n",
      "|2013-01-02 00:00:00|  0| 25| 2719|2699.0|1.0|    1|  2|\n",
      "|2013-01-02 00:00:00|  0| 25| 2480|  58.0|1.0|    1|  2|\n",
      "|2013-01-02 00:00:00|  0| 25| 2731| 599.0|1.0|    1|  2|\n",
      "|2013-01-02 00:00:00|  0| 25| 2833| 599.0|1.0|    1|  2|\n",
      "|2013-01-02 00:00:00|  0| 25| 2808| 999.0|2.0|    1|  2|\n",
      "|2013-01-02 00:00:00|  0| 25| 2090| 449.0|1.0|    1|  2|\n",
      "|2013-01-02 00:00:00|  0| 25| 2389| 999.0|1.0|    1|  2|\n",
      "|2013-01-02 00:00:00|  0| 25| 2441|1199.0|1.0|    1|  2|\n",
      "|2013-01-02 00:00:00|  0| 25| 2678| 999.0|1.0|    1|  2|\n",
      "|2013-01-02 00:00:00|  0| 25| 2682|1499.0|1.0|    1|  2|\n",
      "|2013-01-02 00:00:00|  0| 25| 2439| 299.0|1.0|    1|  2|\n",
      "|2013-01-02 00:00:00|  0| 25| 2412|5490.0|1.0|    1|  2|\n",
      "|2013-01-02 00:00:00|  0| 25| 2415| 299.0|1.0|    1|  2|\n",
      "|2013-01-02 00:00:00|  0| 25| 2416| 449.0|1.0|    1|  2|\n",
      "|2013-01-02 00:00:00|  0| 25| 3172| 148.0|1.0|    1|  2|\n",
      "+-------------------+---+---+-----+------+---+-----+---+\n",
      "only showing top 20 rows\n",
      "\n"
     ]
    }
   ],
   "source": [
    "films_sdf2.show()"
   ]
  },
  {
   "cell_type": "code",
   "execution_count": 8,
   "metadata": {},
   "outputs": [],
   "source": [
    "films_sdf3 = spark\\\n",
    "    .read\\\n",
    "    .option(\"basePath\", \"data/tmdb2\")\\\n",
    "    .parquet(\n",
    "        \"data/tmdb2/year=2014/month=3\",\n",
    "        \"data/tmdb2/year=2014/month=4\"\n",
    "    )"
   ]
  },
  {
   "cell_type": "code",
   "execution_count": 13,
   "metadata": {},
   "outputs": [],
   "source": [
    "films_sdf3 = spark\\\n",
    "    .read\\\n",
    "    .option(\"basePath\", \"data/tmdb2\")\\\n",
    "    .parquet(\n",
    "        \"data/tmdb2/year=2014/month=3\"\n",
    "    )"
   ]
  },
  {
   "cell_type": "code",
   "execution_count": 14,
   "metadata": {},
   "outputs": [
    {
     "name": "stdout",
     "output_type": "stream",
     "text": [
      "+----+-----+-----+\n",
      "|year|month|count|\n",
      "+----+-----+-----+\n",
      "|2014|    3|92733|\n",
      "+----+-----+-----+\n",
      "\n"
     ]
    }
   ],
   "source": [
    "films_sdf3.groupBy(\"year\", \"month\").count().show()"
   ]
  },
  {
   "cell_type": "markdown",
   "metadata": {},
   "source": [
    "## Handling NA"
   ]
  },
  {
   "cell_type": "code",
   "execution_count": null,
   "metadata": {},
   "outputs": [],
   "source": [
    "from pyspark.sql import Row"
   ]
  },
  {
   "cell_type": "code",
   "execution_count": null,
   "metadata": {},
   "outputs": [],
   "source": [
    "df1 = spark.createDataFrame([\n",
    "    Row(id=1, value=15.0),\n",
    "    Row(id=2, value=None),\n",
    "    Row(id=3, value=float('NaN')),\n",
    "])\n",
    "df1.show()"
   ]
  },
  {
   "cell_type": "code",
   "execution_count": null,
   "metadata": {},
   "outputs": [],
   "source": [
    "df2 = spark.createDataFrame([\n",
    "    Row(id=1, value=float('NaN')),\n",
    "    Row(id=2, value=42.0),\n",
    "    Row(id=3, value=None)\n",
    "])\n",
    "df2.show()"
   ]
  },
  {
   "cell_type": "code",
   "execution_count": null,
   "metadata": {},
   "outputs": [],
   "source": [
    "df1.join(df2, df1[\"value\"] == df2[\"value\"]).show()"
   ]
  },
  {
   "cell_type": "code",
   "execution_count": null,
   "metadata": {},
   "outputs": [],
   "source": [
    "df1.join(df2, df1[\"value\"].eqNullSafe(df2[\"value\"])).show()"
   ]
  },
  {
   "cell_type": "code",
   "execution_count": null,
   "metadata": {},
   "outputs": [],
   "source": [
    "df2.select(\n",
    "    df2['value'].eqNullSafe(None),\n",
    "    df2['value'].eqNullSafe(float('NaN')),\n",
    "    df2['value'].eqNullSafe(42.0)\n",
    ").show()"
   ]
  },
  {
   "cell_type": "code",
   "execution_count": null,
   "metadata": {},
   "outputs": [],
   "source": [
    "pdf1 = df1.toPandas()\n",
    "pdf2 = df2.toPandas()"
   ]
  },
  {
   "cell_type": "code",
   "execution_count": null,
   "metadata": {},
   "outputs": [],
   "source": [
    "pdf2.dtypes"
   ]
  },
  {
   "cell_type": "code",
   "execution_count": null,
   "metadata": {},
   "outputs": [],
   "source": [
    "pdf1.join(pdf2, on=\"value\", lsuffix=\"_1\", how='inner')"
   ]
  },
  {
   "cell_type": "code",
   "execution_count": null,
   "metadata": {},
   "outputs": [],
   "source": []
  }
 ],
 "metadata": {
  "kernelspec": {
   "display_name": "Python 3",
   "language": "python",
   "name": "python3"
  },
  "language_info": {
   "codemirror_mode": {
    "name": "ipython",
    "version": 3
   },
   "file_extension": ".py",
   "mimetype": "text/x-python",
   "name": "python",
   "nbconvert_exporter": "python",
   "pygments_lexer": "ipython3",
   "version": "3.7.5"
  }
 },
 "nbformat": 4,
 "nbformat_minor": 2
}
